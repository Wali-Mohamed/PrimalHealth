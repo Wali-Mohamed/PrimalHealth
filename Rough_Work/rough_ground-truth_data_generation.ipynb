{
 "cells": [
  {
   "cell_type": "code",
   "execution_count": 1,
   "id": "b450a265-d113-4780-aba7-05c31ef6e43a",
   "metadata": {},
   "outputs": [],
   "source": [
    "import pandas as pd\n",
    "import json\n",
    "import time\n"
   ]
  },
  {
   "cell_type": "code",
   "execution_count": 2,
   "id": "775a08e7-c22b-4143-aec9-9b3d57b07930",
   "metadata": {},
   "outputs": [],
   "source": [
    "from openai import OpenAI\n",
    "\n",
    "\n",
    "client = OpenAI()\n",
    "#from error import APIConnectionError"
   ]
  },
  {
   "cell_type": "code",
   "execution_count": 3,
   "id": "5bfde6da-e847-4214-881d-2c461712f24c",
   "metadata": {},
   "outputs": [],
   "source": [
    "df=pd.read_csv('../data/clean_data/final_data_with_IDs_new.csv')\n"
   ]
  },
  {
   "cell_type": "code",
   "execution_count": 4,
   "id": "e97dcb3e-f104-4707-9fba-47f4d156231c",
   "metadata": {},
   "outputs": [
    {
     "data": {
      "text/html": [
       "<div>\n",
       "<style scoped>\n",
       "    .dataframe tbody tr th:only-of-type {\n",
       "        vertical-align: middle;\n",
       "    }\n",
       "\n",
       "    .dataframe tbody tr th {\n",
       "        vertical-align: top;\n",
       "    }\n",
       "\n",
       "    .dataframe thead th {\n",
       "        text-align: right;\n",
       "    }\n",
       "</style>\n",
       "<table border=\"1\" class=\"dataframe\">\n",
       "  <thead>\n",
       "    <tr style=\"text-align: right;\">\n",
       "      <th></th>\n",
       "      <th>id</th>\n",
       "      <th>content</th>\n",
       "      <th>number of sentences</th>\n",
       "      <th>number of words</th>\n",
       "    </tr>\n",
       "  </thead>\n",
       "  <tbody>\n",
       "    <tr>\n",
       "      <th>0</th>\n",
       "      <td>0</td>\n",
       "      <td>Hello!. when you eat it alone?. Good idea to e...</td>\n",
       "      <td>20</td>\n",
       "      <td>296</td>\n",
       "    </tr>\n",
       "    <tr>\n",
       "      <th>1</th>\n",
       "      <td>1</td>\n",
       "      <td>its crazy how well im currently at reading my ...</td>\n",
       "      <td>20</td>\n",
       "      <td>382</td>\n",
       "    </tr>\n",
       "    <tr>\n",
       "      <th>2</th>\n",
       "      <td>2</td>\n",
       "      <td>My minimum is 4 Personally* Well, nothing for ...</td>\n",
       "      <td>20</td>\n",
       "      <td>317</td>\n",
       "    </tr>\n",
       "    <tr>\n",
       "      <th>3</th>\n",
       "      <td>3</td>\n",
       "      <td>Use a spiritual board 👍 I will do it too.. Lov...</td>\n",
       "      <td>20</td>\n",
       "      <td>621</td>\n",
       "    </tr>\n",
       "    <tr>\n",
       "      <th>4</th>\n",
       "      <td>4</td>\n",
       "      <td>So it is not super surprising.. I was cold at ...</td>\n",
       "      <td>20</td>\n",
       "      <td>472</td>\n",
       "    </tr>\n",
       "  </tbody>\n",
       "</table>\n",
       "</div>"
      ],
      "text/plain": [
       "   id                                            content  number of sentences  \\\n",
       "0   0  Hello!. when you eat it alone?. Good idea to e...                   20   \n",
       "1   1  its crazy how well im currently at reading my ...                   20   \n",
       "2   2  My minimum is 4 Personally* Well, nothing for ...                   20   \n",
       "3   3  Use a spiritual board 👍 I will do it too.. Lov...                   20   \n",
       "4   4  So it is not super surprising.. I was cold at ...                   20   \n",
       "\n",
       "   number of words  \n",
       "0              296  \n",
       "1              382  \n",
       "2              317  \n",
       "3              621  \n",
       "4              472  "
      ]
     },
     "execution_count": 4,
     "metadata": {},
     "output_type": "execute_result"
    }
   ],
   "source": [
    "df.head()"
   ]
  },
  {
   "cell_type": "code",
   "execution_count": 5,
   "id": "b83ae0e0-9903-46aa-a514-c973c801f7d6",
   "metadata": {},
   "outputs": [],
   "source": []
  },
  {
   "cell_type": "code",
   "execution_count": 9,
   "id": "f2dd324d-7612-4497-b495-fb553f7e82cb",
   "metadata": {},
   "outputs": [],
   "source": []
  },
  {
   "cell_type": "code",
   "execution_count": 7,
   "id": "d5deaa24-798f-4b17-9211-c317283a4de5",
   "metadata": {},
   "outputs": [
    {
     "data": {
      "text/plain": [
       "[{'id': 0,\n",
       "  'Chunked_Content': \"when you eat it alone?. Good idea to eat it once wuth honey and once alone My kids eat it with the meal.They aren't at home btw meals I will do it during week end Yesterday I had nausea after several hours passed from second meal.Today I had zero hunger until 20h+ passed after previous that meal Today I made only one typical meal enhanced with 4 egg yolks\",\n",
       "  'number of sentences': 2,\n",
       "  'number of words': 69},\n",
       " {'id': 1,\n",
       "  'Chunked_Content': 'So they ate clay?. Act Charcoal will do the job?. 4,5 h passed I feel neutral, zero hunger and body warmed itself to confort temperature.. Before meal I felt colder than normal.. Thx Ring',\n",
       "  'number of sentences': 5,\n",
       "  'number of words': 34}]"
      ]
     },
     "execution_count": 7,
     "metadata": {},
     "output_type": "execute_result"
    }
   ],
   "source": [
    "documents = df.to_dict(orient='records')\n",
    "documents[0:2]"
   ]
  },
  {
   "cell_type": "code",
   "execution_count": 10,
   "id": "06d69ea9-22fd-476c-bd6a-d04f4af439f7",
   "metadata": {},
   "outputs": [],
   "source": [
    "prompt_template = \"\"\"\n",
    "You emulate a user of our primal health adviser application.\n",
    "Formulate 5 questions this user might ask based on chunked content of conversation.\n",
    "Make the questions specific to that chunk.\n",
    "The record should contain the answer to the questions, and the questions should\n",
    "be complete and not too short. Use as fewer words as possible from the record. \n",
    "\n",
    "The record:\n",
    "\n",
    "Chunked_Content: {Chunked_Content}\n",
    "\n",
    "\n",
    "Provide the output in parsable JSON without using code blocks:\n",
    "\n",
    "{{\"questions\": [\"question1\", \"question2\", ..., \"question5\"]}}\n",
    "\"\"\".strip()"
   ]
  },
  {
   "cell_type": "code",
   "execution_count": 11,
   "id": "64b33a94-2a4d-4bf9-9f7d-fe4426a2a19b",
   "metadata": {},
   "outputs": [],
   "source": [
    "prompt = prompt_template.format(**documents[0])"
   ]
  },
  {
   "cell_type": "code",
   "execution_count": 12,
   "id": "d9e8676f-785d-47fb-b512-757cb5970243",
   "metadata": {},
   "outputs": [
    {
     "data": {
      "text/plain": [
       "'You emulate a user of our primal health adviser application.\\nFormulate 5 questions this user might ask based on chunked content of conversation.\\nMake the questions specific to that chunk.\\nThe record should contain the answer to the questions, and the questions should\\nbe complete and not too short. Use as fewer words as possible from the record. \\n\\nThe record:\\n\\nChunked_Content: when you eat it alone?. Good idea to eat it once wuth honey and once alone My kids eat it with the meal.They aren\\'t at home btw meals I will do it during week end Yesterday I had nausea after several hours passed from second meal.Today I had zero hunger until 20h+ passed after previous that meal Today I made only one typical meal enhanced with 4 egg yolks\\n\\n\\nProvide the output in parsable JSON without using code blocks:\\n\\n{\"questions\": [\"question1\", \"question2\", ..., \"question5\"]}'"
      ]
     },
     "execution_count": 12,
     "metadata": {},
     "output_type": "execute_result"
    }
   ],
   "source": [
    "prompt"
   ]
  },
  {
   "cell_type": "code",
   "execution_count": 13,
   "id": "f3a53ca3-7820-4f08-9b43-04ea05b6ce5c",
   "metadata": {},
   "outputs": [
    {
     "name": "stdout",
     "output_type": "stream",
     "text": [
      "You emulate a user of our primal health adviser application.\n",
      "Formulate 5 questions this user might ask based on chunked content of conversation.\n",
      "Make the questions specific to that chunk.\n",
      "The record should contain the answer to the questions, and the questions should\n",
      "be complete and not too short. Use as fewer words as possible from the record. \n",
      "\n",
      "The record:\n",
      "\n",
      "Chunked_Content: when you eat it alone?. Good idea to eat it once wuth honey and once alone My kids eat it with the meal.They aren't at home btw meals I will do it during week end Yesterday I had nausea after several hours passed from second meal.Today I had zero hunger until 20h+ passed after previous that meal Today I made only one typical meal enhanced with 4 egg yolks\n",
      "\n",
      "\n",
      "Provide the output in parsable JSON without using code blocks:\n",
      "\n",
      "{\"questions\": [\"question1\", \"question2\", ..., \"question5\"]}\n"
     ]
    }
   ],
   "source": [
    "print(_)"
   ]
  },
  {
   "cell_type": "code",
   "execution_count": 14,
   "id": "80c374b6-cff5-4d5f-ba52-eab1cc799df5",
   "metadata": {},
   "outputs": [],
   "source": [
    "def llm(prompt):\n",
    "    response = client.chat.completions.create(\n",
    "        model='gpt-4o-mini',\n",
    "        messages=[{\"role\": \"user\", \"content\": prompt}]\n",
    "    )\n",
    "    \n",
    "    return response.choices[0].message.content"
   ]
  },
  {
   "cell_type": "code",
   "execution_count": 15,
   "id": "6be02253-a6cd-4296-a5aa-40dafdf031d0",
   "metadata": {},
   "outputs": [
    {
     "data": {
      "text/plain": [
       "'{\"questions\": [\"Is it beneficial to eat the food with honey or alone?\",\"When do your kids typically eat their meals?\",\"What meal preparation are you planning for the weekend?\",\"What did you experience after your second meal yesterday?\",\"How did your hunger levels change today compared to yesterday?\"]}'"
      ]
     },
     "execution_count": 15,
     "metadata": {},
     "output_type": "execute_result"
    }
   ],
   "source": [
    "questions = llm(prompt)\n",
    "questions"
   ]
  },
  {
   "cell_type": "code",
   "execution_count": 16,
   "id": "0f3cfb51-9c14-4bfc-8c1d-5b08d121e2fc",
   "metadata": {},
   "outputs": [],
   "source": [
    "import json"
   ]
  },
  {
   "cell_type": "code",
   "execution_count": 17,
   "id": "d908738d-8d5f-4759-b5c5-3e18f0f9c334",
   "metadata": {},
   "outputs": [
    {
     "data": {
      "text/plain": [
       "{'questions': ['Is it beneficial to eat the food with honey or alone?',\n",
       "  'When do your kids typically eat their meals?',\n",
       "  'What meal preparation are you planning for the weekend?',\n",
       "  'What did you experience after your second meal yesterday?',\n",
       "  'How did your hunger levels change today compared to yesterday?']}"
      ]
     },
     "execution_count": 17,
     "metadata": {},
     "output_type": "execute_result"
    }
   ],
   "source": [
    "json.loads(questions)"
   ]
  },
  {
   "cell_type": "code",
   "execution_count": 18,
   "id": "8d57160a-2d90-40cf-98eb-3ff23b951a81",
   "metadata": {},
   "outputs": [],
   "source": [
    "def generate_questions(doc):\n",
    "    prompt = prompt_template.format(**doc)\n",
    "\n",
    "    response = client.chat.completions.create(\n",
    "        model='gpt-4o-mini',\n",
    "        messages=[{\"role\": \"user\", \"content\": prompt}]\n",
    "    )\n",
    "\n",
    "    json_response = response.choices[0].message.content\n",
    "    return json_response"
   ]
  },
  {
   "cell_type": "code",
   "execution_count": 19,
   "id": "a7f8f6ca-9ff4-4967-9af2-56e98ade8121",
   "metadata": {},
   "outputs": [],
   "source": [
    "from tqdm.auto import tqdm"
   ]
  },
  {
   "cell_type": "code",
   "execution_count": 20,
   "id": "8f94a553-c893-429b-ad06-20345506b065",
   "metadata": {},
   "outputs": [],
   "source": [
    "results = {}\n"
   ]
  },
  {
   "cell_type": "code",
   "execution_count": 21,
   "id": "e9d351fd-95f9-48bb-842a-7f78aa735e4d",
   "metadata": {},
   "outputs": [
    {
     "data": {
      "text/plain": [
       "5650"
      ]
     },
     "execution_count": 21,
     "metadata": {},
     "output_type": "execute_result"
    }
   ],
   "source": [
    "len(documents)"
   ]
  },
  {
   "cell_type": "code",
   "execution_count": 20,
   "id": "5ae042e4-ec32-4e97-828a-55d0e107ca1e",
   "metadata": {},
   "outputs": [],
   "source": [
    "# Generationg questions for 49k documents was taking too long"
   ]
  },
  {
   "cell_type": "code",
   "execution_count": 22,
   "id": "4571a207-8254-466f-93ce-f6064ad7dfe0",
   "metadata": {},
   "outputs": [
    {
     "data": {
      "text/plain": [
       "300"
      ]
     },
     "execution_count": 22,
     "metadata": {},
     "output_type": "execute_result"
    }
   ],
   "source": [
    "# get 300 random documents out of 49006 documents for evaluation\n",
    "import random\n",
    "number =300                           # set the number to select here.\n",
    "random_docs = random.sample(documents,number)\n",
    "len(random_docs)\n"
   ]
  },
  {
   "cell_type": "markdown",
   "id": "f47311be-c6a9-45cf-899f-b7793189b8f5",
   "metadata": {},
   "source": [
    "## Parallelarization\n",
    "it did not work"
   ]
  },
  {
   "cell_type": "code",
   "execution_count": null,
   "id": "f4b9b32a-cf34-491f-8b8e-d25084bf8d35",
   "metadata": {},
   "outputs": [],
   "source": []
  },
  {
   "cell_type": "code",
   "execution_count": 23,
   "id": "62817207-ebd0-46d5-a1b2-e404b4881dbb",
   "metadata": {},
   "outputs": [
    {
     "data": {
      "application/vnd.jupyter.widget-view+json": {
       "model_id": "09b31981677f4ec6b5ce344056a0a86d",
       "version_major": 2,
       "version_minor": 0
      },
      "text/plain": [
       "  0%|          | 0/300 [00:00<?, ?it/s]"
      ]
     },
     "metadata": {},
     "output_type": "display_data"
    },
    {
     "data": {
      "application/vnd.jupyter.widget-view+json": {
       "model_id": "64e231abac1d49c8ae9fccc89be8faba",
       "version_major": 2,
       "version_minor": 0
      },
      "text/plain": [
       "0it [00:00, ?it/s]"
      ]
     },
     "metadata": {},
     "output_type": "display_data"
    },
    {
     "name": "stdout",
     "output_type": "stream",
     "text": [
      "Time taken: 0.8857945680618287 minutes\n"
     ]
    }
   ],
   "source": [
    "from concurrent.futures import ThreadPoolExecutor, as_completed\n",
    "def process_document(doc):\n",
    "    doc_id = doc['id']\n",
    "    if doc_id in results:\n",
    "        return None  # Skip this document if already processed\n",
    "    try:\n",
    "        questions_raw = generate_questions(doc)\n",
    "        questions = json.loads(questions_raw)\n",
    "        return (doc_id, questions['questions'])\n",
    "    except (json.JSONDecodeError, KeyError) as e:\n",
    "        print(f\"Error processing doc_id {doc_id}: {e}\")\n",
    "        return None\n",
    "\n",
    "# Track time\n",
    "t0 = time.time()\n",
    "\n",
    "# Create a ThreadPoolExecutor with a suitable number of workers\n",
    "with ThreadPoolExecutor(max_workers=10) as executor:\n",
    "    # Submit all tasks\n",
    "    \n",
    "    futures = {executor.submit(process_document, doc): doc for doc in tqdm(random_docs)}\n",
    "\n",
    "    total_tasks = len(futures)\n",
    "    # Collect results as they complete\n",
    "    for future in tqdm(as_completed(futures)):\n",
    "        result = future.result()\n",
    "        if result is not None:\n",
    "            doc_id, questions = result\n",
    "            results[doc_id] = questions\n",
    "\n",
    "# End time\n",
    "t1 = time.time()\n",
    "# Print time taken\n",
    "print(f\"Time taken: {(t1 - t0)/60} minutes\")\n"
   ]
  },
  {
   "cell_type": "code",
   "execution_count": 24,
   "id": "5d68ef80-8a02-44fd-813e-4fd74e4d5592",
   "metadata": {},
   "outputs": [
    {
     "data": {
      "text/plain": [
       "300"
      ]
     },
     "execution_count": 24,
     "metadata": {},
     "output_type": "execute_result"
    }
   ],
   "source": [
    "len(results)\n"
   ]
  },
  {
   "cell_type": "code",
   "execution_count": 25,
   "id": "1ab29daf-de00-4413-8a66-aea33a3d7389",
   "metadata": {},
   "outputs": [],
   "source": [
    "# no need to use the following code"
   ]
  },
  {
   "cell_type": "code",
   "execution_count": 26,
   "id": "ea6ca478-12c8-41f4-ba9a-dbf53b3375b9",
   "metadata": {},
   "outputs": [],
   "source": [
    "# import time\n",
    "# t0=time.time()\n",
    "# for doc in tqdm(random_docs[:1000]): \n",
    "#     doc_id = doc['id']\n",
    "#     if doc_id in results:\n",
    "#         continue\n",
    "#     try:\n",
    "#         questions_raw = generate_questions(doc)\n",
    "#         questions = json.loads(questions_raw)  # If an error happens here, the next line will not run\n",
    "#         results[doc_id] = questions['questions']  # This line will be skipped if there's an error in json.loads()\n",
    "#     except (json.JSONDecodeError, KeyError) as e:\n",
    "#         print(f\"Error processing doc_id {doc_id}: {e}\")\n",
    "    \n",
    "# t1=time.time()\n",
    "# print((t0-t1)/60)"
   ]
  },
  {
   "cell_type": "code",
   "execution_count": 27,
   "id": "72a258ab-c0fe-4a64-ae24-1be0944a685e",
   "metadata": {},
   "outputs": [
    {
     "data": {
      "text/plain": [
       "dict"
      ]
     },
     "execution_count": 27,
     "metadata": {},
     "output_type": "execute_result"
    }
   ],
   "source": [
    "len(results)\n",
    "type(results)"
   ]
  },
  {
   "cell_type": "code",
   "execution_count": 28,
   "id": "095fe029-21cf-4ee3-96d4-08487e5731ef",
   "metadata": {},
   "outputs": [],
   "source": [
    "final_results = []\n",
    "\n",
    "for doc_id, questions in results.items():\n",
    "    for q in questions:\n",
    "        final_results.append((doc_id, q))"
   ]
  },
  {
   "cell_type": "code",
   "execution_count": 31,
   "id": "17ddc4fe-4e3e-4634-bb4d-098802f20ae7",
   "metadata": {},
   "outputs": [
    {
     "data": {
      "text/plain": [
       "[(3392, 'Why does cutting hair hurt so much?'),\n",
       " (3392, 'How can egg whites help in hairstyling?'),\n",
       " (3392, 'What are some alternatives to egg whites for hair styling?'),\n",
       " (3392, 'Is it common to avoid washing meat?'),\n",
       " (3392, 'What are the potential risks of not washing meat?'),\n",
       " (2766, 'What benefits does rotten kidney have for kidney health?'),\n",
       " (2766, 'How does fresh kidney contribute to kidney function?'),\n",
       " (2766, 'What is the purpose of making high meat?'),\n",
       " (2766, 'Can you explain how rotten kidney helps dissolve kidney toxicity?'),\n",
       " (2766,\n",
       "  'Is there a specific way to prepare high meat for it to be effective?')]"
      ]
     },
     "execution_count": 31,
     "metadata": {},
     "output_type": "execute_result"
    }
   ],
   "source": [
    "final_results[0:10]"
   ]
  },
  {
   "cell_type": "code",
   "execution_count": 33,
   "id": "019f252e-0e39-4ce8-8f0b-24eee8ab303d",
   "metadata": {},
   "outputs": [
    {
     "data": {
      "text/html": [
       "<div>\n",
       "<style scoped>\n",
       "    .dataframe tbody tr th:only-of-type {\n",
       "        vertical-align: middle;\n",
       "    }\n",
       "\n",
       "    .dataframe tbody tr th {\n",
       "        vertical-align: top;\n",
       "    }\n",
       "\n",
       "    .dataframe thead th {\n",
       "        text-align: right;\n",
       "    }\n",
       "</style>\n",
       "<table border=\"1\" class=\"dataframe\">\n",
       "  <thead>\n",
       "    <tr style=\"text-align: right;\">\n",
       "      <th></th>\n",
       "      <th>id</th>\n",
       "      <th>question</th>\n",
       "    </tr>\n",
       "  </thead>\n",
       "  <tbody>\n",
       "    <tr>\n",
       "      <th>0</th>\n",
       "      <td>3392</td>\n",
       "      <td>Why does cutting hair hurt so much?</td>\n",
       "    </tr>\n",
       "    <tr>\n",
       "      <th>1</th>\n",
       "      <td>3392</td>\n",
       "      <td>How can egg whites help in hairstyling?</td>\n",
       "    </tr>\n",
       "    <tr>\n",
       "      <th>2</th>\n",
       "      <td>3392</td>\n",
       "      <td>What are some alternatives to egg whites for h...</td>\n",
       "    </tr>\n",
       "    <tr>\n",
       "      <th>3</th>\n",
       "      <td>3392</td>\n",
       "      <td>Is it common to avoid washing meat?</td>\n",
       "    </tr>\n",
       "    <tr>\n",
       "      <th>4</th>\n",
       "      <td>3392</td>\n",
       "      <td>What are the potential risks of not washing meat?</td>\n",
       "    </tr>\n",
       "  </tbody>\n",
       "</table>\n",
       "</div>"
      ],
      "text/plain": [
       "     id                                           question\n",
       "0  3392                Why does cutting hair hurt so much?\n",
       "1  3392            How can egg whites help in hairstyling?\n",
       "2  3392  What are some alternatives to egg whites for h...\n",
       "3  3392                Is it common to avoid washing meat?\n",
       "4  3392  What are the potential risks of not washing meat?"
      ]
     },
     "execution_count": 33,
     "metadata": {},
     "output_type": "execute_result"
    }
   ],
   "source": [
    "df = pd.DataFrame(final_results, columns=['id', 'question'])\n",
    "df.head()"
   ]
  },
  {
   "cell_type": "code",
   "execution_count": null,
   "id": "459d45f1-93f0-46a9-aaf5-e657fd30a343",
   "metadata": {},
   "outputs": [],
   "source": []
  },
  {
   "cell_type": "code",
   "execution_count": 34,
   "id": "bc8b56cd-b916-41a1-a3ba-71026e8cefbf",
   "metadata": {},
   "outputs": [],
   "source": [
    "df.to_csv('../data/clean_data/ground-truth-data.csv', index=False)"
   ]
  },
  {
   "cell_type": "code",
   "execution_count": 35,
   "id": "55735c93-4334-4e79-8388-274c98905dc0",
   "metadata": {},
   "outputs": [
    {
     "name": "stdout",
     "output_type": "stream",
     "text": [
      "id,question\n",
      "3392,Why does cutting hair hurt so much?\n",
      "3392,How can egg whites help in hairstyling?\n",
      "3392,What are some alternatives to egg whites for hair styling?\n",
      "3392,Is it common to avoid washing meat?\n",
      "3392,What are the potential risks of not washing meat?\n",
      "2766,What benefits does rotten kidney have for kidney health?\n",
      "2766,How does fresh kidney contribute to kidney function?\n",
      "2766,What is the purpose of making high meat?\n",
      "2766,Can you explain how rotten kidney helps dissolve kidney toxicity?\n"
     ]
    }
   ],
   "source": [
    "!head '../data/clean_data/ground-truth-data.csv'"
   ]
  },
  {
   "cell_type": "code",
   "execution_count": null,
   "id": "0b59f4b5-c318-4d62-ae3a-cf390df17160",
   "metadata": {},
   "outputs": [],
   "source": []
  }
 ],
 "metadata": {
  "kernelspec": {
   "display_name": "Python 3 (ipykernel)",
   "language": "python",
   "name": "python3"
  },
  "language_info": {
   "codemirror_mode": {
    "name": "ipython",
    "version": 3
   },
   "file_extension": ".py",
   "mimetype": "text/x-python",
   "name": "python",
   "nbconvert_exporter": "python",
   "pygments_lexer": "ipython3",
   "version": "3.12.4"
  }
 },
 "nbformat": 4,
 "nbformat_minor": 5
}
