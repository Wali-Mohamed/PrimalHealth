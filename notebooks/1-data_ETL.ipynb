{
 "cells": [
  {
   "cell_type": "code",
   "execution_count": 91,
   "metadata": {},
   "outputs": [],
   "source": [
    "#!curl https://raw.githubusercontent.com/alexeygrigorev/minsearch/main/minsearch.py"
   ]
  },
  {
   "cell_type": "code",
   "execution_count": 32,
   "metadata": {},
   "outputs": [],
   "source": [
    "#!pipenv install seaborn "
   ]
  },
  {
   "cell_type": "code",
   "execution_count": 265,
   "metadata": {},
   "outputs": [],
   "source": [
    "#!pipenv install spacy"
   ]
  },
  {
   "cell_type": "code",
   "execution_count": 269,
   "metadata": {},
   "outputs": [],
   "source": [
    "#!python -m spacy download en_core_web_sm\n"
   ]
  },
  {
   "cell_type": "code",
   "execution_count": 61,
   "metadata": {},
   "outputs": [],
   "source": [
    "from bs4 import BeautifulSoup\n",
    "import glob\n",
    "import pandas as pd\n",
    "import numpy as np\n",
    "import re\n",
    "import time\n",
    "import seaborn as sns\n",
    "# import tqdm\n",
    "from tqdm.auto import tqdm\n",
    "#pd.set_option('display.max_colwidth', None)\n",
    "\n",
    "\n"
   ]
  },
  {
   "cell_type": "markdown",
   "metadata": {},
   "source": [
    "## Step 1: Prepare documents (Extracting and Transforming)"
   ]
  },
  {
   "cell_type": "markdown",
   "metadata": {},
   "source": [
    "## Ingestion\n",
    "This was extracted from telegram channel conversation (from 14-2-2019 to 14-9-2024) on diet and the data was in form of many html documents."
   ]
  },
  {
   "cell_type": "code",
   "execution_count": null,
   "metadata": {},
   "outputs": [],
   "source": []
  },
  {
   "cell_type": "code",
   "execution_count": 106,
   "metadata": {},
   "outputs": [],
   "source": [
    "# Load HTML files\n",
    "def wrangle(paths):\n",
    "    dfs=[]\n",
    "    # forward fill after removed text from date column\n",
    "    def clean_date(date):\n",
    "                # Regular expression pattern for valid dates (e.g., '13 March 2019')\n",
    "                pattern = r'^\\d{1,2}\\s\\w+\\s\\d{4}$'  # Matches 'DD Month YYYY'\n",
    "                if re.match(pattern, date):\n",
    "                    return date\n",
    "                else:\n",
    "                    return None  # Replace invalid dates with None\n",
    "    \n",
    "    for html in paths:\n",
    "        \n",
    "        with open( html, 'r', encoding='utf-8') as file:\n",
    "            soup = BeautifulSoup(file, 'html.parser')\n",
    "    \n",
    "            # Extract messages\n",
    "            messages = []\n",
    "            for message in soup.find_all('div', class_='message'):\n",
    "                date = message.find('div', class_='body details').text.strip() if message.find('div', class_='body details') else None\n",
    "                time = message.find('div', class_='date').text.strip() if message.find('div', class_='date') else None\n",
    "                user = message.find('div', class_='from_name').text.strip() if message.find('div', class_='from_name') else None\n",
    "                content = message.find('div', class_='text').text.strip() if message.find('div', class_='text') else None\n",
    "                messages.append({\"Date\":date, \"Time\":time, \"User\": user,\"Content\": content})\n",
    "            \n",
    "            # Convert to DataFrame\n",
    "            df = pd.DataFrame(messages)\n",
    "            # fill in the na values by forward fill for dates\n",
    "            df['Date']=df['Date'].ffill()\n",
    "            # transform the date column by replacing any message about 'someone invited someone' in the group or removed someone with none\n",
    "            df['Date']=df['Date'].apply(clean_date)\n",
    "            df['Date']=df['Date'].ffill()\n",
    "            # drop rows that have three nans. It is the date heading\n",
    "            df=df.dropna(thresh=2)\n",
    "            # forward fill user where nan\n",
    "            df['User']=df['User'].ffill()\n",
    "            # drop empty content it is usually pics\n",
    "            df=df.dropna(subset='Content')\n",
    "            dfs.append(df)\n",
    "            print(df.head(1))\n",
    "            \n",
    "    return dfs"
   ]
  },
  {
   "cell_type": "code",
   "execution_count": 107,
   "metadata": {},
   "outputs": [],
   "source": [
    "# file pattern\n",
    "file_pattern=r'C:\\Users\\user\\Documents\\LLM Zoomcamp\\Project\\data\\raw_data\\messages*.html'"
   ]
  },
  {
   "cell_type": "code",
   "execution_count": 118,
   "metadata": {},
   "outputs": [
    {
     "data": {
      "text/plain": [
       "438"
      ]
     },
     "execution_count": 118,
     "metadata": {},
     "output_type": "execute_result"
    }
   ],
   "source": [
    "# Get a list of all matching files\n",
    "files = glob.glob(file_pattern)  # we matched 438 files\n",
    "len(files)\n",
    "# for f in files:\n",
    "#     print(f)"
   ]
  },
  {
   "cell_type": "code",
   "execution_count": 147,
   "metadata": {},
   "outputs": [],
   "source": [
    "import time\n",
    "\n",
    "t0 = time.time()\n",
    "# Import html files using wrangle function, transform and combine them\n",
    "#dfs=wrangle(files)\n",
    "t1 = time.time()\n",
    "total = t1-t0\n",
    "# concat dataframes\n",
    "#df=pd.concat(dfs, ignore_index=True)\n",
    "\n",
    "df=df.dropna()\n",
    "# Save to CSV\n",
    "# df.to_csv('../data/clean_data/combo_conversations_latest.csv', index=False)\n",
    "# df.isnull().sum()"
   ]
  },
  {
   "cell_type": "code",
   "execution_count": 148,
   "metadata": {},
   "outputs": [
    {
     "name": "stdout",
     "output_type": "stream",
     "text": [
      "0.0\n"
     ]
    }
   ],
   "source": [
    "print(total/60)"
   ]
  },
  {
   "cell_type": "code",
   "execution_count": 185,
   "metadata": {},
   "outputs": [
    {
     "data": {
      "text/plain": [
       "0        2019-02-14\n",
       "1        2019-02-14\n",
       "2        2019-02-14\n",
       "3        2019-02-14\n",
       "4        2019-02-14\n",
       "            ...    \n",
       "414123   2021-04-28\n",
       "414124   2021-04-28\n",
       "414125   2021-04-28\n",
       "414126   2021-04-28\n",
       "414127   2021-04-28\n",
       "Name: Date, Length: 414128, dtype: datetime64[ns]"
      ]
     },
     "execution_count": 185,
     "metadata": {},
     "output_type": "execute_result"
    }
   ],
   "source": [
    "# import csv file\n",
    "df = pd.read_csv('../data/clean_data/combo_conversations_latest.csv', parse_dates=['Date'])\n",
    "#df.info()\n",
    "df['Date']"
   ]
  },
  {
   "cell_type": "code",
   "execution_count": 186,
   "metadata": {},
   "outputs": [
    {
     "data": {
      "text/html": [
       "<div>\n",
       "<style scoped>\n",
       "    .dataframe tbody tr th:only-of-type {\n",
       "        vertical-align: middle;\n",
       "    }\n",
       "\n",
       "    .dataframe tbody tr th {\n",
       "        vertical-align: top;\n",
       "    }\n",
       "\n",
       "    .dataframe thead th {\n",
       "        text-align: right;\n",
       "    }\n",
       "</style>\n",
       "<table border=\"1\" class=\"dataframe\">\n",
       "  <thead>\n",
       "    <tr style=\"text-align: right;\">\n",
       "      <th></th>\n",
       "      <th>Date</th>\n",
       "      <th>Time</th>\n",
       "      <th>User</th>\n",
       "      <th>Content</th>\n",
       "    </tr>\n",
       "  </thead>\n",
       "  <tbody>\n",
       "    <tr>\n",
       "      <th>0</th>\n",
       "      <td>2019-02-14</td>\n",
       "      <td>08:02</td>\n",
       "      <td>Silmavi</td>\n",
       "      <td>Hello!</td>\n",
       "    </tr>\n",
       "    <tr>\n",
       "      <th>1</th>\n",
       "      <td>2019-02-14</td>\n",
       "      <td>08:05</td>\n",
       "      <td>Deleted Account</td>\n",
       "      <td>sooo, detox finished when? 😄</td>\n",
       "    </tr>\n",
       "    <tr>\n",
       "      <th>2</th>\n",
       "      <td>2019-02-14</td>\n",
       "      <td>08:05</td>\n",
       "      <td>Silmavi</td>\n",
       "      <td>Here we can talk about Aajonus?</td>\n",
       "    </tr>\n",
       "    <tr>\n",
       "      <th>3</th>\n",
       "      <td>2019-02-14</td>\n",
       "      <td>08:07</td>\n",
       "      <td>Deleted Account</td>\n",
       "      <td>Detox! Hell yeah Aajonus</td>\n",
       "    </tr>\n",
       "    <tr>\n",
       "      <th>4</th>\n",
       "      <td>2019-02-14</td>\n",
       "      <td>08:08</td>\n",
       "      <td>Silmavi</td>\n",
       "      <td>😂😂😂😂</td>\n",
       "    </tr>\n",
       "  </tbody>\n",
       "</table>\n",
       "</div>"
      ],
      "text/plain": [
       "        Date   Time             User                          Content\n",
       "0 2019-02-14  08:02          Silmavi                           Hello!\n",
       "1 2019-02-14  08:05  Deleted Account     sooo, detox finished when? 😄\n",
       "2 2019-02-14  08:05          Silmavi  Here we can talk about Aajonus?\n",
       "3 2019-02-14  08:07  Deleted Account         Detox! Hell yeah Aajonus\n",
       "4 2019-02-14  08:08          Silmavi                             😂😂😂😂"
      ]
     },
     "execution_count": 186,
     "metadata": {},
     "output_type": "execute_result"
    }
   ],
   "source": [
    "df.head()"
   ]
  },
  {
   "cell_type": "code",
   "execution_count": null,
   "metadata": {},
   "outputs": [],
   "source": []
  },
  {
   "cell_type": "code",
   "execution_count": 187,
   "metadata": {
    "scrolled": true
   },
   "outputs": [
    {
     "data": {
      "text/html": [
       "<div>\n",
       "<style scoped>\n",
       "    .dataframe tbody tr th:only-of-type {\n",
       "        vertical-align: middle;\n",
       "    }\n",
       "\n",
       "    .dataframe tbody tr th {\n",
       "        vertical-align: top;\n",
       "    }\n",
       "\n",
       "    .dataframe thead th {\n",
       "        text-align: right;\n",
       "    }\n",
       "</style>\n",
       "<table border=\"1\" class=\"dataframe\">\n",
       "  <thead>\n",
       "    <tr style=\"text-align: right;\">\n",
       "      <th></th>\n",
       "      <th>Time</th>\n",
       "      <th>User</th>\n",
       "      <th>Content</th>\n",
       "    </tr>\n",
       "    <tr>\n",
       "      <th>Date</th>\n",
       "      <th></th>\n",
       "      <th></th>\n",
       "      <th></th>\n",
       "    </tr>\n",
       "  </thead>\n",
       "  <tbody>\n",
       "    <tr>\n",
       "      <th>2019-02-14</th>\n",
       "      <td>08:02</td>\n",
       "      <td>Silmavi</td>\n",
       "      <td>Hello!</td>\n",
       "    </tr>\n",
       "    <tr>\n",
       "      <th>2019-02-14</th>\n",
       "      <td>15:40</td>\n",
       "      <td>Silmavi</td>\n",
       "      <td>when you eat it alone?</td>\n",
       "    </tr>\n",
       "    <tr>\n",
       "      <th>2019-02-14</th>\n",
       "      <td>15:42</td>\n",
       "      <td>Silmavi</td>\n",
       "      <td>Good idea to eat it once wuth honey and once a...</td>\n",
       "    </tr>\n",
       "    <tr>\n",
       "      <th>2019-02-14</th>\n",
       "      <td>15:43</td>\n",
       "      <td>Silmavi</td>\n",
       "      <td>My kids eat it with the meal.They aren't at ho...</td>\n",
       "    </tr>\n",
       "    <tr>\n",
       "      <th>2019-02-14</th>\n",
       "      <td>15:43</td>\n",
       "      <td>Silmavi</td>\n",
       "      <td>I will do it during week end</td>\n",
       "    </tr>\n",
       "  </tbody>\n",
       "</table>\n",
       "</div>"
      ],
      "text/plain": [
       "             Time     User                                            Content\n",
       "Date                                                                         \n",
       "2019-02-14  08:02  Silmavi                                             Hello!\n",
       "2019-02-14  15:40  Silmavi                             when you eat it alone?\n",
       "2019-02-14  15:42  Silmavi  Good idea to eat it once wuth honey and once a...\n",
       "2019-02-14  15:43  Silmavi  My kids eat it with the meal.They aren't at ho...\n",
       "2019-02-14  15:43  Silmavi                       I will do it during week end"
      ]
     },
     "execution_count": 187,
     "metadata": {},
     "output_type": "execute_result"
    }
   ],
   "source": [
    "# Set the 'Date' column as the index of the DataFrame\n",
    "df.set_index('Date', inplace=True)\n",
    "# Sort the DataFrame by the index (Date) so that there is good flow in a chronological order.\n",
    "df.sort_index(inplace=True)\n",
    "df.head()"
   ]
  },
  {
   "cell_type": "code",
   "execution_count": 191,
   "metadata": {},
   "outputs": [
    {
     "data": {
      "text/plain": [
       "Date\n",
       "2024-01-01    this is the first I see an egg in bath ingredi...\n",
       "2024-01-01                                             and egg?\n",
       "2024-01-01    The plastic might even be better (especially i...\n",
       "2024-01-01                                            Your love\n",
       "2024-01-01    Better anything non processed.Sea water, an eg...\n",
       "                                    ...                        \n",
       "2024-09-14                    are wild animals safe to eat raw?\n",
       "2024-09-14    I saw this on eat raw meat channel. I wouldn’t...\n",
       "2024-09-14    You got vaxxed even after listening to aajonus...\n",
       "2024-09-14    Is it possible for a detox to last 4 months or...\n",
       "2024-09-14    What to do with 10L of raw milk that are alrea...\n",
       "Name: Content, Length: 44742, dtype: object"
      ]
     },
     "execution_count": 191,
     "metadata": {},
     "output_type": "execute_result"
    }
   ],
   "source": [
    "# slice the data and keep the last year only\n",
    "df_slice = df.loc['2024-01-01':'2024-09-14', 'Content']\n",
    "#print(df_slice.info())\n",
    "df_slice.head()\n",
    "\n",
    "df_slice"
   ]
  },
  {
   "cell_type": "code",
   "execution_count": null,
   "metadata": {},
   "outputs": [],
   "source": []
  },
  {
   "cell_type": "code",
   "execution_count": 192,
   "metadata": {},
   "outputs": [],
   "source": [
    "import pandas as pd\n",
    "import re\n",
    "# split whenever there is ?, !, or . plus a space\n",
    "def split_into_sentences(text):\n",
    "    sentences = re.split(r'(?<=[.!?])\\s*', text)\n",
    "    return sentences\n"
   ]
  },
  {
   "cell_type": "code",
   "execution_count": 194,
   "metadata": {},
   "outputs": [
    {
     "name": "stdout",
     "output_type": "stream",
     "text": [
      "<class 'list'>\n",
      "5837\n"
     ]
    },
    {
     "data": {
      "text/html": [
       "<div>\n",
       "<style scoped>\n",
       "    .dataframe tbody tr th:only-of-type {\n",
       "        vertical-align: middle;\n",
       "    }\n",
       "\n",
       "    .dataframe tbody tr th {\n",
       "        vertical-align: top;\n",
       "    }\n",
       "\n",
       "    .dataframe thead th {\n",
       "        text-align: right;\n",
       "    }\n",
       "</style>\n",
       "<table border=\"1\" class=\"dataframe\">\n",
       "  <thead>\n",
       "    <tr style=\"text-align: right;\">\n",
       "      <th></th>\n",
       "      <th>id</th>\n",
       "      <th>content</th>\n",
       "    </tr>\n",
       "  </thead>\n",
       "  <tbody>\n",
       "    <tr>\n",
       "      <th>0</th>\n",
       "      <td>0</td>\n",
       "      <td>this is the first I see an egg in bath ingredi...</td>\n",
       "    </tr>\n",
       "    <tr>\n",
       "      <th>1</th>\n",
       "      <td>1</td>\n",
       "      <td>My husband is going through his first vomit/di...</td>\n",
       "    </tr>\n",
       "    <tr>\n",
       "      <th>2</th>\n",
       "      <td>2</td>\n",
       "      <td>На вкус как жареные грибы, кисловатые.. Чувств...</td>\n",
       "    </tr>\n",
       "    <tr>\n",
       "      <th>3</th>\n",
       "      <td>3</td>\n",
       "      <td>Это я с бухты барахты приготовил и пробую, а к...</td>\n",
       "    </tr>\n",
       "    <tr>\n",
       "      <th>4</th>\n",
       "      <td>4</td>\n",
       "      <td>Juice of lemon, naturally sparkling water, hon...</td>\n",
       "    </tr>\n",
       "    <tr>\n",
       "      <th>...</th>\n",
       "      <td>...</td>\n",
       "      <td>...</td>\n",
       "    </tr>\n",
       "    <tr>\n",
       "      <th>5832</th>\n",
       "      <td>5832</td>\n",
       "      <td>The most effective is stone dry which you grat...</td>\n",
       "    </tr>\n",
       "    <tr>\n",
       "      <th>5833</th>\n",
       "      <td>5833</td>\n",
       "      <td>- Modalities and frequency to start taking bat...</td>\n",
       "    </tr>\n",
       "    <tr>\n",
       "      <th>5834</th>\n",
       "      <td>5834</td>\n",
       "      <td>You will get much better guidance here for fre...</td>\n",
       "    </tr>\n",
       "    <tr>\n",
       "      <th>5835</th>\n",
       "      <td>5835</td>\n",
       "      <td>Ofc cheese And drink it, a lots of bacteria Wh...</td>\n",
       "    </tr>\n",
       "    <tr>\n",
       "      <th>5836</th>\n",
       "      <td>5836</td>\n",
       "      <td>Is it possible for a detox to last 4 months or...</td>\n",
       "    </tr>\n",
       "  </tbody>\n",
       "</table>\n",
       "<p>5837 rows × 2 columns</p>\n",
       "</div>"
      ],
      "text/plain": [
       "        id                                            content\n",
       "0        0  this is the first I see an egg in bath ingredi...\n",
       "1        1  My husband is going through his first vomit/di...\n",
       "2        2  На вкус как жареные грибы, кисловатые.. Чувств...\n",
       "3        3  Это я с бухты барахты приготовил и пробую, а к...\n",
       "4        4  Juice of lemon, naturally sparkling water, hon...\n",
       "...    ...                                                ...\n",
       "5832  5832  The most effective is stone dry which you grat...\n",
       "5833  5833  - Modalities and frequency to start taking bat...\n",
       "5834  5834  You will get much better guidance here for fre...\n",
       "5835  5835  Ofc cheese And drink it, a lots of bacteria Wh...\n",
       "5836  5836  Is it possible for a detox to last 4 months or...\n",
       "\n",
       "[5837 rows x 2 columns]"
      ]
     },
     "execution_count": 194,
     "metadata": {},
     "output_type": "execute_result"
    }
   ],
   "source": [
    "# Converting the dataframe to a long text form to chunk\n",
    "text = \" \".join(df_slice)\n",
    "\n",
    "# Chunking into 5-sentence parts\n",
    "#sentences = text.split(\". \")\n",
    "sentences=split_into_sentences(text)\n",
    "chunks = ['. '.join(sentences[i:i+5]) for i in range(0, len(sentences), 5)]\n",
    "print(type(chunks))\n",
    "print(len(chunks))\n",
    "\n",
    "df_chunks=pd.DataFrame(chunks)\n",
    "df_chunks.reset_index(inplace=True)\n",
    "df_chunks.rename(columns={'index':'id',0:'content'}, inplace=True)\n",
    "\n",
    "df_chunks"
   ]
  },
  {
   "cell_type": "code",
   "execution_count": 195,
   "metadata": {},
   "outputs": [
    {
     "name": "stdout",
     "output_type": "stream",
     "text": [
      "count    5837.000000\n",
      "mean        4.999829\n",
      "std         0.013089\n",
      "min         4.000000\n",
      "25%         5.000000\n",
      "50%         5.000000\n",
      "75%         5.000000\n",
      "max         5.000000\n",
      "Name: number of sentences, dtype: float64\n"
     ]
    },
    {
     "data": {
      "text/plain": [
       "count    5837.000000\n",
       "mean       99.314203\n",
       "std        64.495198\n",
       "min         5.000000\n",
       "25%        57.000000\n",
       "50%        86.000000\n",
       "75%       122.000000\n",
       "max       671.000000\n",
       "Name: number of words, dtype: float64"
      ]
     },
     "execution_count": 195,
     "metadata": {},
     "output_type": "execute_result"
    }
   ],
   "source": [
    "# Count the numbers of sentences per row\n",
    "#df_chunks['number of sentences']=[len(x) for x in df_chunks['content'].apply(split_into_sentences)]\n",
    "df_chunks['number of sentences']=[len(x.split('. ')) for x in df_chunks['content']]\n",
    "df_chunks['number of words']=[len(x.split()) for x in df_chunks['content']]\n",
    "\n",
    "# get all information about the spread of the number of sentences\n",
    "print(df_chunks['number of sentences'].describe())  # mean is 5 sentences\n",
    "df_chunks['number of words'].describe()"
   ]
  },
  {
   "cell_type": "code",
   "execution_count": 197,
   "metadata": {},
   "outputs": [
    {
     "data": {
      "text/plain": [
       "5836"
      ]
     },
     "execution_count": 197,
     "metadata": {},
     "output_type": "execute_result"
    }
   ],
   "source": [
    "# drop all content with \n",
    "df_chunks[\n",
    "    df_chunks['number of sentences']==5\n",
    "\n",
    "]['number of words'].count()"
   ]
  },
  {
   "cell_type": "code",
   "execution_count": 198,
   "metadata": {},
   "outputs": [
    {
     "data": {
      "text/plain": [
       "0"
      ]
     },
     "execution_count": 198,
     "metadata": {},
     "output_type": "execute_result"
    }
   ],
   "source": [
    "# drop all content with \n",
    "df_chunks[\n",
    "    df_chunks['number of words']>1000\n",
    "\n",
    "]['number of words'].count()"
   ]
  },
  {
   "cell_type": "markdown",
   "metadata": {},
   "source": [
    "### Compare the three methods:\n",
    "- Taking the raw conversations was not the best option as each chunk was too short to get context\n",
    "- Threaded chunks by grouping each user speech would less context and would not link each question to its relevant answer\n",
    "- Grouping questions with their answer was the best option since the aim was for this to be health adviser."
   ]
  },
  {
   "cell_type": "code",
   "execution_count": 200,
   "metadata": {},
   "outputs": [
    {
     "data": {
      "image/png": "[encoded data removed]",
      "text/plain": [
       "<Figure size 1400x400 with 2 Axes>"
      ]
     },
     "metadata": {},
     "output_type": "display_data"
    }
   ],
   "source": [
    "# number of sentences and words per chunk\n",
    "import matplotlib.pyplot as plt\n",
    "sns.set_theme(style=\"darkgrid\")\n",
    "fig, axs = plt.subplots(1, 2, figsize=(14,4))\n",
    "\n",
    "sns.histplot(data=df_chunks, x='number of sentences',color=\"red\", ax=axs[0])\n",
    "sns.histplot(data=df_chunks, x='number of words',color='yellow', ax=axs[1])\n",
    "# # Adding labels and legend\n",
    "# Set label for x-axis \n",
    "axs[0].set_xlabel( \"Number of Sentences\" , size = 12 ) \n",
    "axs[1].set_xlabel( \"Number of Words\" , size = 12 ) \n",
    "# Set label for y-axis \n",
    "axs[0].set_ylabel( \"Frequency\" , size = 12 ) \n",
    "axs[1].set_ylabel( \"Frequency\" , size = 12 ) \n",
    "  \n",
    "\n",
    "# Display figure \n",
    "plt.show() \n",
    "\n"
   ]
  },
  {
   "cell_type": "code",
   "execution_count": 202,
   "metadata": {},
   "outputs": [
    {
     "data": {
      "image/png": "[encoded data removed]",
      "text/plain": [
       "<Figure size 640x480 with 1 Axes>"
      ]
     },
     "metadata": {},
     "output_type": "display_data"
    }
   ],
   "source": [
    "#sns.boxplot(data=chunked_QandA, x='number of sentences')\n",
    "sns.boxplot(data=df_chunks[['number of words']],color=\"red\")\n",
    "# Display the plot\n",
    "plt.show()"
   ]
  },
  {
   "cell_type": "markdown",
   "metadata": {},
   "source": [
    "#### Amending the chunk sizes\n",
    "This is important because different has limit of number of token it can handle\n",
    "Model Context Window: Most transformer-based models, like GPT-3, have a context window that limits the number of tokens (words, punctuation marks, etc.)\n",
    "they can process at once. For example, GPT-3 has a context window of around 4,000 tokens, \n",
    "while smaller models like GPT-2 might have around 1,024 tokens.\n",
    "Comparison between using\n",
    "sentences = re.split(r'(?<=[.!?]) +', text)  this one broken sentences if there was a punctuation and one or more spaces after\n",
    "or sentences = re.split(r'(?<=[.!?])\\s*', text) this one broke sentence where there was only one of the punctuation marks with or without spaces after.\n",
    "I decided to choose the first method because the second method was one word quotes as two senteces. For examples 'How?' was counted as two sentences.\n",
    "'I said.....' was counted as few sentences. Now min number of sentences will be 3 and maximum will be 50."
   ]
  },
  {
   "cell_type": "code",
   "execution_count": 213,
   "metadata": {},
   "outputs": [
    {
     "data": {
      "text/html": [
       "<div>\n",
       "<style scoped>\n",
       "    .dataframe tbody tr th:only-of-type {\n",
       "        vertical-align: middle;\n",
       "    }\n",
       "\n",
       "    .dataframe tbody tr th {\n",
       "        vertical-align: top;\n",
       "    }\n",
       "\n",
       "    .dataframe thead th {\n",
       "        text-align: right;\n",
       "    }\n",
       "</style>\n",
       "<table border=\"1\" class=\"dataframe\">\n",
       "  <thead>\n",
       "    <tr style=\"text-align: right;\">\n",
       "      <th></th>\n",
       "      <th>content</th>\n",
       "      <th>number of words</th>\n",
       "    </tr>\n",
       "  </thead>\n",
       "  <tbody>\n",
       "    <tr>\n",
       "      <th>5836</th>\n",
       "      <td>Is it possible for a detox to last 4 months or more, with symptoms such as fatigue, mental confusion, general malaise and daily aches and pains?. What to do with 10L of raw milk that are already a bit over 3 weeks old and quite fermented?. (kept in the fridge, but fridge has fluctuating temperature)Anybody tried making cheese from old fermented milk?.</td>\n",
       "      <td>62</td>\n",
       "    </tr>\n",
       "  </tbody>\n",
       "</table>\n",
       "</div>"
      ],
      "text/plain": [
       "                                                                                                                                                                                                                                                                                                                                                                 content  \\\n",
       "5836  Is it possible for a detox to last 4 months or more, with symptoms such as fatigue, mental confusion, general malaise and daily aches and pains?. What to do with 10L of raw milk that are already a bit over 3 weeks old and quite fermented?. (kept in the fridge, but fridge has fluctuating temperature)Anybody tried making cheese from old fermented milk?.    \n",
       "\n",
       "      number of words  \n",
       "5836               62  "
      ]
     },
     "metadata": {},
     "output_type": "display_data"
    }
   ],
   "source": [
    "# examine the longest sentence\n",
    "with pd.option_context('display.max_colwidth', None):\n",
    "  display(df_chunks[df_chunks['number of sentences']==4][['content', 'number of words']])"
   ]
  },
  {
   "cell_type": "code",
   "execution_count": 216,
   "metadata": {},
   "outputs": [
    {
     "data": {
      "text/html": [
       "<div>\n",
       "<style scoped>\n",
       "    .dataframe tbody tr th:only-of-type {\n",
       "        vertical-align: middle;\n",
       "    }\n",
       "\n",
       "    .dataframe tbody tr th {\n",
       "        vertical-align: top;\n",
       "    }\n",
       "\n",
       "    .dataframe thead th {\n",
       "        text-align: right;\n",
       "    }\n",
       "</style>\n",
       "<table border=\"1\" class=\"dataframe\">\n",
       "  <thead>\n",
       "    <tr style=\"text-align: right;\">\n",
       "      <th></th>\n",
       "      <th>content</th>\n",
       "      <th>number of sentences</th>\n",
       "    </tr>\n",
       "  </thead>\n",
       "  <tbody>\n",
       "    <tr>\n",
       "      <th>387</th>\n",
       "      <td>I'm a very real person fishies Yeah, exactly eskimo food What can I use instead of sunscreen?. Hmm What about frozen meat, frozen butter, etc And what's the problem with detoxxing too much right away?. Wouldn't the detox end sooner the harder you do it?. Never had it before I have some beef in a closed jar for a week How long should high meat be aired for and how long does it take to be good enough to eat?. thanks for the info guys - will avoid doing this from now on Yea more than 35g in one scoop.</td>\n",
       "      <td>5</td>\n",
       "    </tr>\n",
       "    <tr>\n",
       "      <th>466</th>\n",
       "      <td>si=JV_TDBWeiKvkzNUTHe starts talking about the Italian water quality chart at 5:55.. He says the levels of radioactive material in pellegrino are very high.. I would stop drinking it.. 😂 Fuck I love my Pellie with lemon😭 Results dont lie tho @perryayin regarding your hair test maybe your body is doing a great job of dealing with it n getting rid of it but look into mountain valley spring water or smth else I guess shitty CO2 in mountain valley would be better than a nuclear isotope huh?. Lmao I like carbonation😅 What do you guys think about Mary’s organic chicken?</td>\n",
       "      <td>5</td>\n",
       "    </tr>\n",
       "    <tr>\n",
       "      <th>576</th>\n",
       "      <td>For how long do you age it?. We truly live in a completely different reality from these slaves Yet that same idiot that uses these disgusting chemical products will probably think raw food smells bad This is the one problem I can't figure out how to solve.. I become so angry when some idiot that uses an estrogenic perfume contaminates the whole area with it Most natural food became illegal whenever germ theory took over the world anyway so it couldn't be illegal prior to that.. Thanks.. I think my eardrum is ruptured so I just give up That's sucks.</td>\n",
       "      <td>5</td>\n",
       "    </tr>\n",
       "    <tr>\n",
       "      <th>822</th>\n",
       "      <td>I have a well If I’m making a lube to last for a whole day, how long under room temperature will it last until goes bad.. I’d assume it won’t go bad but I’m not sure.. if anyone else is such a liability they can show themselves now, I will remove too can you share the recipe?. Dude just use ur hands Genius, free too ya ferment the leaves beforehand We chatted for a bit even I have proof Me too im not joking, but I think he might still be alive.. he must have been surrounded by women huh?</td>\n",
       "      <td>5</td>\n",
       "    </tr>\n",
       "    <tr>\n",
       "      <th>1184</th>\n",
       "      <td>Angel wdyt that clear lens are not going to help.. I've seen people light UV flashlight through it and i came out as a white color kind, so apparently it reduces the spectrum What kind of juicer did you use?. Yea The rest is fibre The brown thing is pure juice that happened to mine too but when I shook it up it went back to what looked like normal Celery juice made yesterday, is this brown thing normal?. Probably the elite bloodlines did gmo inbreeding with them for this reason.. Shapeshifting reptilians Was just wondering Anyone eaten raw lizard?</td>\n",
       "      <td>5</td>\n",
       "    </tr>\n",
       "    <tr>\n",
       "      <th>1196</th>\n",
       "      <td>Aajonus did say the sodium content has something to do with it.. But that's not all, either certain nutrients or the specific combination of them cannot be replaced It's the main food to cleanse the blood.. I'm not sure if any other food does that No, there is no full replacement, except sugar cane juice.. Best second things are the ones you mention, especially sports formula, which adds tomato and other ingredients, but still not a full replacement at all Are there any alkalizing replacements for celery juice in its absence?. Maybe mineral water, ACV and lemon to stimulate digestion?</td>\n",
       "      <td>5</td>\n",
       "    </tr>\n",
       "    <tr>\n",
       "      <th>1281</th>\n",
       "      <td>I kept talking to him to keep him pacified, I found that the best way to keep things under control.. It was an enormous relief to me when he met in person with his now “wife” because he finally left me alone (for the most part).. You are all only safe here because we take all the hits from them what am i reading Ikr.. Cringe Primal ppl like that = skill issues Why is bro harassing Rose Dont bring her into this shit Just so I understand correctly, you willingly put naked photos of yourself on the internet?. No.</td>\n",
       "      <td>5</td>\n",
       "    </tr>\n",
       "    <tr>\n",
       "      <th>1312</th>\n",
       "      <td>So the detoxification pathways must be opened.. Eating high amounts of raw fat dissolve toxins and neutralizes them so that they can be removed from the body.. Tomatoes, the lycopene in raw tomato, can prevent tumors.. A good thing to do is eating one or a few every day, especially in a hydration formula (potent solvent and chelator of toxins, which helps along with fat to remove them).. High meat is one of the most efficient ways to reduce dead cells and toxins with 1/20th of wasteproduct only, shrinking waste and toxins facilitates their elimination and so prevents tumor formation.</td>\n",
       "      <td>5</td>\n",
       "    </tr>\n",
       "    <tr>\n",
       "      <th>1462</th>\n",
       "      <td>You wait 5 minutes for it to melt, then blend it.. Let it sit for 10 minutes before drinking.. If it is cold, it may be thick like yogurt.. How it works is the lemon juice adjusts the utilization of the butter to make it feed what was just described, but if you consume butter without lemon, it’ll normally be prioritized in feeding organs and glands.. It is most efficiently digested by drinking ⅓ of the lube before the meat, eating the meat mixed with 1-2 ounces of butter, then 10-15 minutes after the last bite, start finishing the lube.</td>\n",
       "      <td>5</td>\n",
       "    </tr>\n",
       "    <tr>\n",
       "      <th>1755</th>\n",
       "      <td>Actually maybe Butter yourself Better yet, give context.. damn, could be from mosquitos?. I moved to east africa in november and got so many bites since then😅 I am not so I found it from health issues but for people who are blessed to have seeming functioning health, it's a way to break out of the slave matrix.. it just came up few days ago But see the way I see it is, if there's something that evil on this earth, then there has to be something that's equally as good, am I right ?. That’s part of the psyop.</td>\n",
       "      <td>5</td>\n",
       "    </tr>\n",
       "    <tr>\n",
       "      <th>1803</th>\n",
       "      <td>Aajonus didn't really focus on organ meat consumption in his work, it only is mentioned rarely.. Most people just eat muscle meat because it's easier to find Anyone?. Aajonus focuses more on what would be called symptoms, he has different interpretations of what most measurements mean Vitamin A overload thing has been debunkedIn Aajonus' view, the reason to limit liver is that it can unbalance some hormones.. But that depends on the individual.. If you crave it you usually need more of it what if it tastes and smells super gross Then it's full of contamination I never crave liver.</td>\n",
       "      <td>5</td>\n",
       "    </tr>\n",
       "    <tr>\n",
       "      <th>1872</th>\n",
       "      <td>I am asking under the scenario where I am doing it, what is the best way to eat during my eating hours.. currently I have:7:30pm few dates + juice8:15 meat meal w butter little pineapple royal jelly + oysters followed by papaya custard (lube alternative)10pm milkshake 5:30am meat meal butter w little pineapple and royal jelly6:15am lube How does that look?. Any changes you would make during that window?. Can you give me another reason please if you don’t mind 😃 Yeah which ones Anyone have a source to buy fresh colostrum in New York state?. I’d say not during.</td>\n",
       "      <td>5</td>\n",
       "    </tr>\n",
       "    <tr>\n",
       "      <th>1971</th>\n",
       "      <td>Read the book How can refrigeration affect the food quality Sent!. 🙂 for men its possible Yeah.. Check the ingredients what the pasta is made of so that it doesn’t have seed oils or anything weird in it yeah by maybe 2cm over 30 years And they aren’t utilisable or beneficial, just create a toxic hormone response We don’t promote or take supplements here because they are all made with toxic petrochemicals or kerosene derivatives i can tell you anything about iodine, first of which don't play with iodine Hi.. Which of you takes iodine?. Who can adviсe good iodine?</td>\n",
       "      <td>5</td>\n",
       "    </tr>\n",
       "    <tr>\n",
       "      <th>2150</th>\n",
       "      <td>5 or something yeah They extract more juice than cheaper ones so after some years they end up costing less He’s got another one thats nice Wdym I thought they sold you pasteurized cheese Hey, anyone from Dubai here has recommendations on where to buy good meat to eat raw?. I only know of carnistore iFarm naturals For meat?. Only used them for milk thus far Anyone know if this juicer is good?. Angel juicer one of the best whys he selling his juicer?. Guy is trying to sell me one Jesus That’s a lot Does it do coconut cream?</td>\n",
       "      <td>5</td>\n",
       "    </tr>\n",
       "    <tr>\n",
       "      <th>2290</th>\n",
       "      <td>I dint wanna get attacked again couldnt name anything at the top of my head but maybe Hes apparently God, he can never be questioned.. But does it make sense that people with no depth in the field would question a 40+ year nutritionist Like I've said, I'm raw primal for 8 years but I've never done green juice I'm still breathing and healthier than ever.. Communities online farm obsessions So use with caution So you're saying celery juice is a scam I get attacked when I tell people.. this No, I've never tried it.. I never said I'm perfect.</td>\n",
       "      <td>5</td>\n",
       "    </tr>\n",
       "    <tr>\n",
       "      <th>2379</th>\n",
       "      <td>I’ll take him to the Hotsprings or take him outside to get sun.. Topically I’ll put on castor oil, and it’s always worked itself out.. (Idk if castor oil is primal) You can keep your milk in the fridge overnight for cream to separate.. If you leave it out you'll probably get sour cream and kefir.. it's the sugar that triggers detoxification And I don’t wanna keep the milk out for too long because everytime I do that and I drink it I have some stomach problems How long should I leave raw milk out from the cream to separate?</td>\n",
       "      <td>5</td>\n",
       "    </tr>\n",
       "    <tr>\n",
       "      <th>2849</th>\n",
       "      <td>Plus pretty much everyone will have to live in cities anyways hundreds of years from now and good land is already getting expensive.. As long as every African has 100 kids the illuminati loses 🤓 My butter came in room temperature.. I can tell it’s raw because it didn’t make me sick to my stomach and it’s delicious.. No issues i do force myself to sweat but still sweating, less than a year ago tho Like which ones?. if everyone starts making celerynext generations won't need as much if they are raised raw from birth Yes I agree with this.</td>\n",
       "      <td>5</td>\n",
       "    </tr>\n",
       "    <tr>\n",
       "      <th>2897</th>\n",
       "      <td>Oh I don’t get it You probably weren’t the target audience Fr I don’t speak Russian hahaha The worst reason for bitterness is antibiotics.. But i hope none of primal supplies use them.. It should be definitely discussed beforehand.. 100% replaceable by AI chatbots Marketing aka responding to Gmail emails with request to join the discord they had nobody else so they picked me if you do this and then apply things on your foot and eat proper foods it should heal What's wrong with shaving wtf?. S3vrige says that shaving is unnatural, so that means you shouldn't do it.</td>\n",
       "      <td>5</td>\n",
       "    </tr>\n",
       "    <tr>\n",
       "      <th>2900</th>\n",
       "      <td>Did you try it?. Hey friends, I was finally able to source raw unsalted cheese and I've been having it for the past few weeks.. It's helping a lot.. The first benefits I noticed immediately after getting on the cheese train were increased sense of smell, brain fog reduced, headache lessened, and interestingly it helped my lungs too, and I've been breathing better.. Over the past 2 weeks I've noticed I'm also less sensitive to toxins, remembering the dreams I had in the night(usually don't), body is more stable, calm, and resilient and usually my body is unstable and hypersensitive.</td>\n",
       "      <td>5</td>\n",
       "    </tr>\n",
       "    <tr>\n",
       "      <th>3214</th>\n",
       "      <td>But as soon as I could, I had a chiropractor adjust that spine and got rid of the pain, most of the pain just like that.. So, I'm for chiropractics, very helpful.. But I think that what you should do is, what I did was I applied a hot water bottle on, you know, an area that I'm going to be adjusted in or if I'm going to have an entire adjustment, I get in a hot tub before I go.. So, all the muscles are relaxed.. Because if you're out of place, it's because the muscles are very tight.</td>\n",
       "      <td>5</td>\n",
       "    </tr>\n",
       "    <tr>\n",
       "      <th>3229</th>\n",
       "      <td>Yep this is probably inaccurate, but raw milk is always gonna be better In the end Aajonus was had on this, his own food club betrayed him and allowed scammers in.. This aspect needs to be gotten right is eating fish skin bad ?. or good Undisgestible Each individual who cares about health and food freedom might just need to take their life and health into their own hands.. Have a family or small group of trusted friends, have a dairy cow, animals for meat, grow as much food as possible.. They're just gonna keep taking away more and more.</td>\n",
       "      <td>5</td>\n",
       "    </tr>\n",
       "    <tr>\n",
       "      <th>3684</th>\n",
       "      <td>Take the homejob on yourself It poisons the air.. I can’t stand it 😤😭 The one possible way really What do you use to make your clothes smell good?. DO YOUR OWN LAUNDRY I JUST SAID I DO MY OWN!. Do ALL OH SORRY I cannot control and dictate my family They like that shit 😤 Why… Brainwashed 😁 Meds love using that shit to the maximum tho I don’t want such ungrateful customers 🤔 You have no idea how much my mum uses!. It gives me a sore throat the next day 😭 Imma just live in the forest!</td>\n",
       "      <td>5</td>\n",
       "    </tr>\n",
       "    <tr>\n",
       "      <th>3789</th>\n",
       "      <td>Your body needs to spend all its energy recovering, not digesting the food u just ate.. Even if you wake up in the middle of the night, you are still sleepy and stuff, appetite isn't at it's highest I'm still sceptical that its beneficial though.. I think milk &amp; eggs before bed is meant to be ideal Makes sense, since T mostly produced while you sleep.. But whatever.. Again, because of intermittent fasting I even forget to eat at later times, since anchor about not eating late is so strong Ive given up eating eggs by themselves on this diet.</td>\n",
       "      <td>5</td>\n",
       "    </tr>\n",
       "    <tr>\n",
       "      <th>3886</th>\n",
       "      <td>!. 🤣 🌳🌳😋😋fiber 😅😅 Really Fiber keeping you unhealthy as hell Only if u red &amp; fluffy like dat 💁🏻‍♀️😁✨ Sanktsii ebut zhostko anyway Was it nice?. ?. 🌚🌚 Carbmaxxing😂 With the blender you’re gonna get the fiber of the celery, it’s so gross 😫 It's actually annoying Are u on pd Is just called hibernating 💁🏻‍♀️✨✨ licking a lot of ass can make you rich here I hate bide very unconvinient, I use small douche Idn how to say Peculiar Nope Very good, I recommend Everyday, year round?. 😭 Yeahhh, is called “sad bitch energy” 💀💅🏼 Corruption u mean?</td>\n",
       "      <td>5</td>\n",
       "    </tr>\n",
       "    <tr>\n",
       "      <th>4120</th>\n",
       "      <td>Eggs are gross should be It's a fun little chore I don't get cream or milk , just mostly liver and other ograns I'm open to it , but there must be an alternative In one day?. If anything a bit fermented is good can drink milk and celery juice together Is milk with carrot juice possible as well?. @leclayrom how is it that I’ve had a fever 3 weeks apart?. I figured I wouldnt get another for like maybe a year And it's either blue or brown of raw unsalted cheese?. no Is 150g of cheese per day alot?</td>\n",
       "      <td>5</td>\n",
       "    </tr>\n",
       "    <tr>\n",
       "      <th>4171</th>\n",
       "      <td>The warmer it is, usually the acidophilus will predominate and you will have a sweeter kefir or yogurt.. If you want to make sure that the acidophilus predominates all the time, so if you have a sweet rather than a sour kind of a taste bud, then it’s good to put a little bit of honey in it.. It doesn’t take much to spur the acidophilus to be more active – probably a tsp.. per quart of milk is enough to gear it on the sweet side.. Of course, the more honey you have the sweeter it’s going to be.</td>\n",
       "      <td>5</td>\n",
       "    </tr>\n",
       "    <tr>\n",
       "      <th>4292</th>\n",
       "      <td>It's really sad, unfortunately she became obsessed with fasting.. She became obsessed with the rapture thinking it would happen soon and when it didn't she preferred to just starve herself to death.. At least thats what her friend thinks.. You have met Aajonus?. I would go for hard cheese but reallly I feel like it's a mission impossible to find raw cheese that's unsalted unless it's cottage cheese Wanted to know how she would know about PD that early, sometimes people think Primal Diet is a group of diets, it's not though, it's just the name Aajonus gave to his.</td>\n",
       "      <td>5</td>\n",
       "    </tr>\n",
       "    <tr>\n",
       "      <th>4306</th>\n",
       "      <td>com/primaldieting/posts/infrared-saunasthe-radiation-from-infra-red-destroys-bacteria-and-very-gradually/4976725502385476/ Do the water bottles go on top of the towels you lay on .. What about the towels and hot water bottle alternative.. I read his explanation yesterday but still had no idea how to set it up I don't think you are doing yourself any good with that.. good question.. in a bathtub you have a lot of water (solvent) and all kinds of Aajonus detoxifing bath additives insideI would say that's gonna buffer a lot according to the website:Materials: 100% nylon &amp; PVC-coated fabricyou are gonna sniff toxic fumes and absorb it through the skin Thank you.</td>\n",
       "      <td>5</td>\n",
       "    </tr>\n",
       "    <tr>\n",
       "      <th>4777</th>\n",
       "      <td>Did you try not eating before sleep and just drinking milk cream with honey?. I’m trying to eat more raw meat and liver to get the iron back in me but it looks like a murder scene when I go pee for real Not exactly sure but my man’s telling me to cancel the tests How harmful are the xrays I’ve been peeing blood for a year and doctors don’t know what’s wrong.. Just had a cat scan with no results.. But the symptoms do seem like kidney stones.. Doctors are about to do all the tests all over again.</td>\n",
       "      <td>5</td>\n",
       "    </tr>\n",
       "    <tr>\n",
       "      <th>4799</th>\n",
       "      <td>Unlikely for most people they need to be on the diet for 10 years+ U r crazy mf I bought this thing on amazon a while ago that basically serves like a hot water bottle but it's designed for that purpose.. It can fit 7 water bottles worth of water in one sack.. I'm going to try that first dont want to splurge on this bed rn 1 between calves one between thighs 2 outside hips 2 bw armpits 1 by your neck you keep rotating the side its on.. I think thoughts on massage guns?. Poo makes you high.</td>\n",
       "      <td>5</td>\n",
       "    </tr>\n",
       "    <tr>\n",
       "      <th>4870</th>\n",
       "      <td>Much more calmer and the job overall is easier.. Alot of people who went from nights to days have had mixed feelings about the switch Some say they still can't sleep much and others say that it's a big improvement on their mental health I'm also not convinced that humans are strict dinural I can't imagine a tribe of humans sleeping 8 hours straight in the wilderness And one more thing.. I'm temporarily working in the kitchen and breathing all this terrible air-burning oils, and all the other food.. It's harmful.. If I work at night, I won't breathe it.</td>\n",
       "      <td>5</td>\n",
       "    </tr>\n",
       "    <tr>\n",
       "      <th>5374</th>\n",
       "      <td>Anyway 24 hr milk is much more agreeable.. I just set the milk out covered with a towel for 24hrs.. Then I put it in the fridge to prevent further fermentation.. It’s still on the sweeter side and feels like it digests much better than fresh milk Aajonus says that every hour after 5 hours of not eating your body will lose 1.. 5 tablespoons of blood (he says red blood cells but then afterwards he says your body only produces 3-4 tablespoons of blood a day which is true so i assume he means blood not red blood cells).</td>\n",
       "      <td>5</td>\n",
       "    </tr>\n",
       "    <tr>\n",
       "      <th>5569</th>\n",
       "      <td>Unless ur in a financial or food scarcity and need yolks for fat w meat meals i guess Yes.. I just ate them earlier I rarely do some kind of sauce or eat bland fruits with meat.. I always have kinda Gerd symptoms after Is having greasy hair normal?. Or is there a reason my hair is producing a lot of oil?. And i was really stoned on raw weed and i enjoyed it so much The first time i got lucky Looks like school pizza really 🤣 I used lamb fat instead of butter and I don't have cheese.</td>\n",
       "      <td>5</td>\n",
       "    </tr>\n",
       "    <tr>\n",
       "      <th>5707</th>\n",
       "      <td>Dentist took two of my right molars.. Left side of my jaw is great while my right is lacking And they want money What should I do Wow ok I won’t Luckily o was going to get them when like 12 years old but I hated the appointments so I stopped going I don’t know the definite answer.. I think expansion could be very good for children and teens.. Maybe braces too Is tht Primal Kat?. She calls that her “ruined” face 😭😭😭 this is me in the picture ©️ But it was much worse Nah I’m not beautiful here.</td>\n",
       "      <td>5</td>\n",
       "    </tr>\n",
       "  </tbody>\n",
       "</table>\n",
       "</div>"
      ],
      "text/plain": [
       "                                                                                                                                                                                                                                                                                                                                                                                                                                                                                                                                                                                                                                                                                         content  \\\n",
       "387                                                                                                                                                                      I'm a very real person fishies Yeah, exactly eskimo food What can I use instead of sunscreen?. Hmm What about frozen meat, frozen butter, etc And what's the problem with detoxxing too much right away?. Wouldn't the detox end sooner the harder you do it?. Never had it before I have some beef in a closed jar for a week How long should high meat be aired for and how long does it take to be good enough to eat?. thanks for the info guys - will avoid doing this from now on Yea more than 35g in one scoop.   \n",
       "466                                                                                                   si=JV_TDBWeiKvkzNUTHe starts talking about the Italian water quality chart at 5:55.. He says the levels of radioactive material in pellegrino are very high.. I would stop drinking it.. 😂 Fuck I love my Pellie with lemon😭 Results dont lie tho @perryayin regarding your hair test maybe your body is doing a great job of dealing with it n getting rid of it but look into mountain valley spring water or smth else I guess shitty CO2 in mountain valley would be better than a nuclear isotope huh?. Lmao I like carbonation😅 What do you guys think about Mary’s organic chicken?   \n",
       "576                                                                                                                   For how long do you age it?. We truly live in a completely different reality from these slaves Yet that same idiot that uses these disgusting chemical products will probably think raw food smells bad This is the one problem I can't figure out how to solve.. I become so angry when some idiot that uses an estrogenic perfume contaminates the whole area with it Most natural food became illegal whenever germ theory took over the world anyway so it couldn't be illegal prior to that.. Thanks.. I think my eardrum is ruptured so I just give up That's sucks.   \n",
       "822                                                                                                                                                                                 I have a well If I’m making a lube to last for a whole day, how long under room temperature will it last until goes bad.. I’d assume it won’t go bad but I’m not sure.. if anyone else is such a liability they can show themselves now, I will remove too can you share the recipe?. Dude just use ur hands Genius, free too ya ferment the leaves beforehand We chatted for a bit even I have proof Me too im not joking, but I think he might still be alive.. he must have been surrounded by women huh?   \n",
       "1184                                                                                                                   Angel wdyt that clear lens are not going to help.. I've seen people light UV flashlight through it and i came out as a white color kind, so apparently it reduces the spectrum What kind of juicer did you use?. Yea The rest is fibre The brown thing is pure juice that happened to mine too but when I shook it up it went back to what looked like normal Celery juice made yesterday, is this brown thing normal?. Probably the elite bloodlines did gmo inbreeding with them for this reason.. Shapeshifting reptilians Was just wondering Anyone eaten raw lizard?   \n",
       "1196                                                                             Aajonus did say the sodium content has something to do with it.. But that's not all, either certain nutrients or the specific combination of them cannot be replaced It's the main food to cleanse the blood.. I'm not sure if any other food does that No, there is no full replacement, except sugar cane juice.. Best second things are the ones you mention, especially sports formula, which adds tomato and other ingredients, but still not a full replacement at all Are there any alkalizing replacements for celery juice in its absence?. Maybe mineral water, ACV and lemon to stimulate digestion?   \n",
       "1281                                                                                                                                                         I kept talking to him to keep him pacified, I found that the best way to keep things under control.. It was an enormous relief to me when he met in person with his now “wife” because he finally left me alone (for the most part).. You are all only safe here because we take all the hits from them what am i reading Ikr.. Cringe Primal ppl like that = skill issues Why is bro harassing Rose Dont bring her into this shit Just so I understand correctly, you willingly put naked photos of yourself on the internet?. No.   \n",
       "1312                                                                              So the detoxification pathways must be opened.. Eating high amounts of raw fat dissolve toxins and neutralizes them so that they can be removed from the body.. Tomatoes, the lycopene in raw tomato, can prevent tumors.. A good thing to do is eating one or a few every day, especially in a hydration formula (potent solvent and chelator of toxins, which helps along with fat to remove them).. High meat is one of the most efficient ways to reduce dead cells and toxins with 1/20th of wasteproduct only, shrinking waste and toxins facilitates their elimination and so prevents tumor formation.   \n",
       "1462                                                                                                                              You wait 5 minutes for it to melt, then blend it.. Let it sit for 10 minutes before drinking.. If it is cold, it may be thick like yogurt.. How it works is the lemon juice adjusts the utilization of the butter to make it feed what was just described, but if you consume butter without lemon, it’ll normally be prioritized in feeding organs and glands.. It is most efficiently digested by drinking ⅓ of the lube before the meat, eating the meat mixed with 1-2 ounces of butter, then 10-15 minutes after the last bite, start finishing the lube.   \n",
       "1755                                                                                                                                                            Actually maybe Butter yourself Better yet, give context.. damn, could be from mosquitos?. I moved to east africa in november and got so many bites since then😅 I am not so I found it from health issues but for people who are blessed to have seeming functioning health, it's a way to break out of the slave matrix.. it just came up few days ago But see the way I see it is, if there's something that evil on this earth, then there has to be something that's equally as good, am I right ?. That’s part of the psyop.   \n",
       "1803                                                                                 Aajonus didn't really focus on organ meat consumption in his work, it only is mentioned rarely.. Most people just eat muscle meat because it's easier to find Anyone?. Aajonus focuses more on what would be called symptoms, he has different interpretations of what most measurements mean Vitamin A overload thing has been debunkedIn Aajonus' view, the reason to limit liver is that it can unbalance some hormones.. But that depends on the individual.. If you crave it you usually need more of it what if it tastes and smells super gross Then it's full of contamination I never crave liver.   \n",
       "1872                                                                                                       I am asking under the scenario where I am doing it, what is the best way to eat during my eating hours.. currently I have:7:30pm few dates + juice8:15 meat meal w butter little pineapple royal jelly + oysters followed by papaya custard (lube alternative)10pm milkshake 5:30am meat meal butter w little pineapple and royal jelly6:15am lube How does that look?. Any changes you would make during that window?. Can you give me another reason please if you don’t mind 😃 Yeah which ones Anyone have a source to buy fresh colostrum in New York state?. I’d say not during.   \n",
       "1971                                                                                                    Read the book How can refrigeration affect the food quality Sent!. 🙂 for men its possible Yeah.. Check the ingredients what the pasta is made of so that it doesn’t have seed oils or anything weird in it yeah by maybe 2cm over 30 years And they aren’t utilisable or beneficial, just create a toxic hormone response We don’t promote or take supplements here because they are all made with toxic petrochemicals or kerosene derivatives i can tell you anything about iodine, first of which don't play with iodine Hi.. Which of you takes iodine?. Who can adviсe good iodine?   \n",
       "2150                                                                                                                                             5 or something yeah They extract more juice than cheaper ones so after some years they end up costing less He’s got another one thats nice Wdym I thought they sold you pasteurized cheese Hey, anyone from Dubai here has recommendations on where to buy good meat to eat raw?. I only know of carnistore iFarm naturals For meat?. Only used them for milk thus far Anyone know if this juicer is good?. Angel juicer one of the best whys he selling his juicer?. Guy is trying to sell me one Jesus That’s a lot Does it do coconut cream?   \n",
       "2290                                                                                                                            I dint wanna get attacked again couldnt name anything at the top of my head but maybe Hes apparently God, he can never be questioned.. But does it make sense that people with no depth in the field would question a 40+ year nutritionist Like I've said, I'm raw primal for 8 years but I've never done green juice I'm still breathing and healthier than ever.. Communities online farm obsessions So use with caution So you're saying celery juice is a scam I get attacked when I tell people.. this No, I've never tried it.. I never said I'm perfect.   \n",
       "2379                                                                                                                                            I’ll take him to the Hotsprings or take him outside to get sun.. Topically I’ll put on castor oil, and it’s always worked itself out.. (Idk if castor oil is primal) You can keep your milk in the fridge overnight for cream to separate.. If you leave it out you'll probably get sour cream and kefir.. it's the sugar that triggers detoxification And I don’t wanna keep the milk out for too long because everytime I do that and I drink it I have some stomach problems How long should I leave raw milk out from the cream to separate?   \n",
       "2849                                                                                                                              Plus pretty much everyone will have to live in cities anyways hundreds of years from now and good land is already getting expensive.. As long as every African has 100 kids the illuminati loses 🤓 My butter came in room temperature.. I can tell it’s raw because it didn’t make me sick to my stomach and it’s delicious.. No issues i do force myself to sweat but still sweating, less than a year ago tho Like which ones?. if everyone starts making celerynext generations won't need as much if they are raised raw from birth Yes I agree with this.   \n",
       "2897                                                                                                  Oh I don’t get it You probably weren’t the target audience Fr I don’t speak Russian hahaha The worst reason for bitterness is antibiotics.. But i hope none of primal supplies use them.. It should be definitely discussed beforehand.. 100% replaceable by AI chatbots Marketing aka responding to Gmail emails with request to join the discord they had nobody else so they picked me if you do this and then apply things on your foot and eat proper foods it should heal What's wrong with shaving wtf?. S3vrige says that shaving is unnatural, so that means you shouldn't do it.   \n",
       "2900                                                                                Did you try it?. Hey friends, I was finally able to source raw unsalted cheese and I've been having it for the past few weeks.. It's helping a lot.. The first benefits I noticed immediately after getting on the cheese train were increased sense of smell, brain fog reduced, headache lessened, and interestingly it helped my lungs too, and I've been breathing better.. Over the past 2 weeks I've noticed I'm also less sensitive to toxins, remembering the dreams I had in the night(usually don't), body is more stable, calm, and resilient and usually my body is unstable and hypersensitive.   \n",
       "3214                                                                                                                                                                                    But as soon as I could, I had a chiropractor adjust that spine and got rid of the pain, most of the pain just like that.. So, I'm for chiropractics, very helpful.. But I think that what you should do is, what I did was I applied a hot water bottle on, you know, an area that I'm going to be adjusted in or if I'm going to have an entire adjustment, I get in a hot tub before I go.. So, all the muscles are relaxed.. Because if you're out of place, it's because the muscles are very tight.   \n",
       "3229                                                                                                                             Yep this is probably inaccurate, but raw milk is always gonna be better In the end Aajonus was had on this, his own food club betrayed him and allowed scammers in.. This aspect needs to be gotten right is eating fish skin bad ?. or good Undisgestible Each individual who cares about health and food freedom might just need to take their life and health into their own hands.. Have a family or small group of trusted friends, have a dairy cow, animals for meat, grow as much food as possible.. They're just gonna keep taking away more and more.   \n",
       "3684                                                                                                                                                                                      Take the homejob on yourself It poisons the air.. I can’t stand it 😤😭 The one possible way really What do you use to make your clothes smell good?. DO YOUR OWN LAUNDRY I JUST SAID I DO MY OWN!. Do ALL OH SORRY I cannot control and dictate my family They like that shit 😤 Why… Brainwashed 😁 Meds love using that shit to the maximum tho I don’t want such ungrateful customers 🤔 You have no idea how much my mum uses!. It gives me a sore throat the next day 😭 Imma just live in the forest!   \n",
       "3789                                                                                                                          Your body needs to spend all its energy recovering, not digesting the food u just ate.. Even if you wake up in the middle of the night, you are still sleepy and stuff, appetite isn't at it's highest I'm still sceptical that its beneficial though.. I think milk & eggs before bed is meant to be ideal Makes sense, since T mostly produced while you sleep.. But whatever.. Again, because of intermittent fasting I even forget to eat at later times, since anchor about not eating late is so strong Ive given up eating eggs by themselves on this diet.   \n",
       "3886                                                                                                                                  !. 🤣 🌳🌳😋😋fiber 😅😅 Really Fiber keeping you unhealthy as hell Only if u red & fluffy like dat 💁🏻‍♀️😁✨ Sanktsii ebut zhostko anyway Was it nice?. ?. 🌚🌚 Carbmaxxing😂 With the blender you’re gonna get the fiber of the celery, it’s so gross 😫 It's actually annoying Are u on pd Is just called hibernating 💁🏻‍♀️✨✨ licking a lot of ass can make you rich here I hate bide very unconvinient, I use small douche Idn how to say Peculiar Nope Very good, I recommend Everyday, year round?. 😭 Yeahhh, is called “sad bitch energy” 💀💅🏼 Corruption u mean?   \n",
       "4120                                                                                                                                                                         Eggs are gross should be It's a fun little chore I don't get cream or milk , just mostly liver and other ograns I'm open to it , but there must be an alternative In one day?. If anything a bit fermented is good can drink milk and celery juice together Is milk with carrot juice possible as well?. @leclayrom how is it that I’ve had a fever 3 weeks apart?. I figured I wouldnt get another for like maybe a year And it's either blue or brown of raw unsalted cheese?. no Is 150g of cheese per day alot?   \n",
       "4171                                                                                                                                                                          The warmer it is, usually the acidophilus will predominate and you will have a sweeter kefir or yogurt.. If you want to make sure that the acidophilus predominates all the time, so if you have a sweet rather than a sour kind of a taste bud, then it’s good to put a little bit of honey in it.. It doesn’t take much to spur the acidophilus to be more active – probably a tsp.. per quart of milk is enough to gear it on the sweet side.. Of course, the more honey you have the sweeter it’s going to be.   \n",
       "4292                                                                                                   It's really sad, unfortunately she became obsessed with fasting.. She became obsessed with the rapture thinking it would happen soon and when it didn't she preferred to just starve herself to death.. At least thats what her friend thinks.. You have met Aajonus?. I would go for hard cheese but reallly I feel like it's a mission impossible to find raw cheese that's unsalted unless it's cottage cheese Wanted to know how she would know about PD that early, sometimes people think Primal Diet is a group of diets, it's not though, it's just the name Aajonus gave to his.   \n",
       "4306  com/primaldieting/posts/infrared-saunasthe-radiation-from-infra-red-destroys-bacteria-and-very-gradually/4976725502385476/ Do the water bottles go on top of the towels you lay on .. What about the towels and hot water bottle alternative.. I read his explanation yesterday but still had no idea how to set it up I don't think you are doing yourself any good with that.. good question.. in a bathtub you have a lot of water (solvent) and all kinds of Aajonus detoxifing bath additives insideI would say that's gonna buffer a lot according to the website:Materials: 100% nylon & PVC-coated fabricyou are gonna sniff toxic fumes and absorb it through the skin Thank you.   \n",
       "4777                                                                                                                                                                         Did you try not eating before sleep and just drinking milk cream with honey?. I’m trying to eat more raw meat and liver to get the iron back in me but it looks like a murder scene when I go pee for real Not exactly sure but my man’s telling me to cancel the tests How harmful are the xrays I’ve been peeing blood for a year and doctors don’t know what’s wrong.. Just had a cat scan with no results.. But the symptoms do seem like kidney stones.. Doctors are about to do all the tests all over again.   \n",
       "4799                                                                                                                                                                              Unlikely for most people they need to be on the diet for 10 years+ U r crazy mf I bought this thing on amazon a while ago that basically serves like a hot water bottle but it's designed for that purpose.. It can fit 7 water bottles worth of water in one sack.. I'm going to try that first dont want to splurge on this bed rn 1 between calves one between thighs 2 outside hips 2 bw armpits 1 by your neck you keep rotating the side its on.. I think thoughts on massage guns?. Poo makes you high.   \n",
       "4870                                                                                                              Much more calmer and the job overall is easier.. Alot of people who went from nights to days have had mixed feelings about the switch Some say they still can't sleep much and others say that it's a big improvement on their mental health I'm also not convinced that humans are strict dinural I can't imagine a tribe of humans sleeping 8 hours straight in the wilderness And one more thing.. I'm temporarily working in the kitchen and breathing all this terrible air-burning oils, and all the other food.. It's harmful.. If I work at night, I won't breathe it.   \n",
       "5374                                                                                                                                                   Anyway 24 hr milk is much more agreeable.. I just set the milk out covered with a towel for 24hrs.. Then I put it in the fridge to prevent further fermentation.. It’s still on the sweeter side and feels like it digests much better than fresh milk Aajonus says that every hour after 5 hours of not eating your body will lose 1.. 5 tablespoons of blood (he says red blood cells but then afterwards he says your body only produces 3-4 tablespoons of blood a day which is true so i assume he means blood not red blood cells).   \n",
       "5569                                                                                                                                                                                      Unless ur in a financial or food scarcity and need yolks for fat w meat meals i guess Yes.. I just ate them earlier I rarely do some kind of sauce or eat bland fruits with meat.. I always have kinda Gerd symptoms after Is having greasy hair normal?. Or is there a reason my hair is producing a lot of oil?. And i was really stoned on raw weed and i enjoyed it so much The first time i got lucky Looks like school pizza really 🤣 I used lamb fat instead of butter and I don't have cheese.   \n",
       "5707                                                                                                                                                                           Dentist took two of my right molars.. Left side of my jaw is great while my right is lacking And they want money What should I do Wow ok I won’t Luckily o was going to get them when like 12 years old but I hated the appointments so I stopped going I don’t know the definite answer.. I think expansion could be very good for children and teens.. Maybe braces too Is tht Primal Kat?. She calls that her “ruined” face 😭😭😭 this is me in the picture ©️ But it was much worse Nah I’m not beautiful here.   \n",
       "\n",
       "      number of sentences  \n",
       "387                     5  \n",
       "466                     5  \n",
       "576                     5  \n",
       "822                     5  \n",
       "1184                    5  \n",
       "1196                    5  \n",
       "1281                    5  \n",
       "1312                    5  \n",
       "1462                    5  \n",
       "1755                    5  \n",
       "1803                    5  \n",
       "1872                    5  \n",
       "1971                    5  \n",
       "2150                    5  \n",
       "2290                    5  \n",
       "2379                    5  \n",
       "2849                    5  \n",
       "2897                    5  \n",
       "2900                    5  \n",
       "3214                    5  \n",
       "3229                    5  \n",
       "3684                    5  \n",
       "3789                    5  \n",
       "3886                    5  \n",
       "4120                    5  \n",
       "4171                    5  \n",
       "4292                    5  \n",
       "4306                    5  \n",
       "4777                    5  \n",
       "4799                    5  \n",
       "4870                    5  \n",
       "5374                    5  \n",
       "5569                    5  \n",
       "5707                    5  "
      ]
     },
     "metadata": {},
     "output_type": "display_data"
    }
   ],
   "source": [
    "# examine the chunk with highest number of words\n",
    "with pd.option_context('display.max_colwidth', None):\n",
    "  display(df_chunks[df_chunks['number of words']==100][['content','number of sentences']])"
   ]
  },
  {
   "cell_type": "code",
   "execution_count": 225,
   "metadata": {},
   "outputs": [],
   "source": [
    "# drop anything below 100 words or  above 400 words\n",
    "df=df_chunks[\n",
    "  \n",
    "  (df_chunks['number of words']>100) & (df_chunks['number of words']<400) \n",
    "\n",
    "]\n"
   ]
  },
  {
   "cell_type": "code",
   "execution_count": 226,
   "metadata": {},
   "outputs": [
    {
     "data": {
      "text/html": [
       "<div>\n",
       "<style scoped>\n",
       "    .dataframe tbody tr th:only-of-type {\n",
       "        vertical-align: middle;\n",
       "    }\n",
       "\n",
       "    .dataframe tbody tr th {\n",
       "        vertical-align: top;\n",
       "    }\n",
       "\n",
       "    .dataframe thead th {\n",
       "        text-align: right;\n",
       "    }\n",
       "</style>\n",
       "<table border=\"1\" class=\"dataframe\">\n",
       "  <thead>\n",
       "    <tr style=\"text-align: right;\">\n",
       "      <th></th>\n",
       "      <th>id</th>\n",
       "      <th>content</th>\n",
       "      <th>number of sentences</th>\n",
       "      <th>number of words</th>\n",
       "    </tr>\n",
       "  </thead>\n",
       "  <tbody>\n",
       "    <tr>\n",
       "      <th>3</th>\n",
       "      <td>3</td>\n",
       "      <td>Это я с бухты барахты приготовил и пробую, а к...</td>\n",
       "      <td>5</td>\n",
       "      <td>204</td>\n",
       "    </tr>\n",
       "    <tr>\n",
       "      <th>4</th>\n",
       "      <td>4</td>\n",
       "      <td>Juice of lemon, naturally sparkling water, hon...</td>\n",
       "      <td>5</td>\n",
       "      <td>150</td>\n",
       "    </tr>\n",
       "    <tr>\n",
       "      <th>7</th>\n",
       "      <td>7</td>\n",
       "      <td>Someone know something about it ?. I drank it ...</td>\n",
       "      <td>5</td>\n",
       "      <td>108</td>\n",
       "    </tr>\n",
       "    <tr>\n",
       "      <th>9</th>\n",
       "      <td>9</td>\n",
       "      <td>my name says it all tbh Hey Daniel welcome to ...</td>\n",
       "      <td>5</td>\n",
       "      <td>229</td>\n",
       "    </tr>\n",
       "    <tr>\n",
       "      <th>10</th>\n",
       "      <td>10</td>\n",
       "      <td>I'm trying to lose fat Why do you think herbiv...</td>\n",
       "      <td>5</td>\n",
       "      <td>164</td>\n",
       "    </tr>\n",
       "    <tr>\n",
       "      <th>...</th>\n",
       "      <td>...</td>\n",
       "      <td>...</td>\n",
       "      <td>...</td>\n",
       "      <td>...</td>\n",
       "    </tr>\n",
       "    <tr>\n",
       "      <th>5827</th>\n",
       "      <td>5827</td>\n",
       "      <td>Aajonus mentionned in an interview that he did...</td>\n",
       "      <td>5</td>\n",
       "      <td>153</td>\n",
       "    </tr>\n",
       "    <tr>\n",
       "      <th>5828</th>\n",
       "      <td>5828</td>\n",
       "      <td>It is probably lighter if you werent toxic Tha...</td>\n",
       "      <td>5</td>\n",
       "      <td>172</td>\n",
       "    </tr>\n",
       "    <tr>\n",
       "      <th>5832</th>\n",
       "      <td>5832</td>\n",
       "      <td>The most effective is stone dry which you grat...</td>\n",
       "      <td>5</td>\n",
       "      <td>104</td>\n",
       "    </tr>\n",
       "    <tr>\n",
       "      <th>5833</th>\n",
       "      <td>5833</td>\n",
       "      <td>- Modalities and frequency to start taking bat...</td>\n",
       "      <td>5</td>\n",
       "      <td>216</td>\n",
       "    </tr>\n",
       "    <tr>\n",
       "      <th>5834</th>\n",
       "      <td>5834</td>\n",
       "      <td>You will get much better guidance here for fre...</td>\n",
       "      <td>5</td>\n",
       "      <td>150</td>\n",
       "    </tr>\n",
       "  </tbody>\n",
       "</table>\n",
       "<p>2190 rows × 4 columns</p>\n",
       "</div>"
      ],
      "text/plain": [
       "        id                                            content  \\\n",
       "3        3  Это я с бухты барахты приготовил и пробую, а к...   \n",
       "4        4  Juice of lemon, naturally sparkling water, hon...   \n",
       "7        7  Someone know something about it ?. I drank it ...   \n",
       "9        9  my name says it all tbh Hey Daniel welcome to ...   \n",
       "10      10  I'm trying to lose fat Why do you think herbiv...   \n",
       "...    ...                                                ...   \n",
       "5827  5827  Aajonus mentionned in an interview that he did...   \n",
       "5828  5828  It is probably lighter if you werent toxic Tha...   \n",
       "5832  5832  The most effective is stone dry which you grat...   \n",
       "5833  5833  - Modalities and frequency to start taking bat...   \n",
       "5834  5834  You will get much better guidance here for fre...   \n",
       "\n",
       "      number of sentences  number of words  \n",
       "3                       5              204  \n",
       "4                       5              150  \n",
       "7                       5              108  \n",
       "9                       5              229  \n",
       "10                      5              164  \n",
       "...                   ...              ...  \n",
       "5827                    5              153  \n",
       "5828                    5              172  \n",
       "5832                    5              104  \n",
       "5833                    5              216  \n",
       "5834                    5              150  \n",
       "\n",
       "[2190 rows x 4 columns]"
      ]
     },
     "execution_count": 226,
     "metadata": {},
     "output_type": "execute_result"
    }
   ],
   "source": [
    "df"
   ]
  },
  {
   "cell_type": "code",
   "execution_count": 227,
   "metadata": {},
   "outputs": [],
   "source": [
    "# create documents\n",
    "documents =df.to_dict(orient='records')"
   ]
  },
  {
   "cell_type": "code",
   "execution_count": 228,
   "metadata": {},
   "outputs": [
    {
     "data": {
      "text/plain": [
       "{'id': 3,\n",
       " 'content': \"Это я с бухты барахты приготовил и пробую, а кому-то может не повезёт.. Я держал печень на дне банки в холодильнике.. Каждые 3-4 дня проветривал.. Особо сильный эффект даёт кровь, но наверное это из-за того что жидкость быстрей всасывается Well you can meditate it is the equivalent of sleeping if you can somehow get your body in an alpha state Some people with brain damage have the sleep center area of their brains shut off, so they just meditate or lay still in darkness and their body is in the equivalent state of sleeping Aajonus says Best things you can do is drink cream and swim in the ocean before sunset The body detoxes from 11pm-5am, its synced up with our circadian rhythm usually So that means we are supposed to just sit in darkness for 5 hours lol Or do anything that requires energy I didn't understand because he said that the nervous system detoxes when the body is completely relaxed so I guess we shouldn't exercise?. Yes It would bind with the poisons on the water I get diarrhea if I go a week without celery juice and then start drinking it again Interesting If he craves lemonade, maybe you make some?\",\n",
       " 'number of sentences': 5,\n",
       " 'number of words': 204}"
      ]
     },
     "execution_count": 228,
     "metadata": {},
     "output_type": "execute_result"
    }
   ],
   "source": [
    "documents[0]"
   ]
  },
  {
   "cell_type": "code",
   "execution_count": 229,
   "metadata": {},
   "outputs": [
    {
     "data": {
      "text/plain": [
       "2190"
      ]
     },
     "execution_count": 229,
     "metadata": {},
     "output_type": "execute_result"
    }
   ],
   "source": [
    "len(documents)"
   ]
  },
  {
   "cell_type": "code",
   "execution_count": 230,
   "metadata": {},
   "outputs": [],
   "source": [
    "df_chunks.to_csv('../data/clean_data/date_chunked_5s.csv', index=False)"
   ]
  },
  {
   "cell_type": "code",
   "execution_count": null,
   "metadata": {},
   "outputs": [],
   "source": []
  },
  {
   "cell_type": "code",
   "execution_count": null,
   "metadata": {},
   "outputs": [],
   "source": []
  }
 ],
 "metadata": {
  "kernelspec": {
   "display_name": "Python 3 (ipykernel)",
   "language": "python",
   "name": "python3"
  },
  "language_info": {
   "codemirror_mode": {
    "name": "ipython",
    "version": 3
   },
   "file_extension": ".py",
   "mimetype": "text/x-python",
   "name": "python",
   "nbconvert_exporter": "python",
   "pygments_lexer": "ipython3",
   "version": "3.12.4"
  }
 },
 "nbformat": 4,
 "nbformat_minor": 4
}
