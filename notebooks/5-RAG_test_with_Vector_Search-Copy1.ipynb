{
 "cells": [
  {
   "cell_type": "code",
   "execution_count": 183,
   "id": "10a41604-4f5f-431c-a0b3-9f938eca40fd",
   "metadata": {},
   "outputs": [],
   "source": [
    "# Import libraries and modules\n",
    "import pandas as pd\n",
    "import minsearch\n",
    "from tqdm.auto import tqdm\n",
    "from openai import OpenAI\n",
    "from sentence_transformers import SentenceTransformer\n",
    "import pickle"
   ]
  },
  {
   "cell_type": "code",
   "execution_count": null,
   "id": "6cddd153-a8ed-4b67-8d10-91371853088a",
   "metadata": {},
   "outputs": [],
   "source": []
  },
  {
   "cell_type": "code",
   "execution_count": 184,
   "id": "61e669a7-2c37-4bff-9f23-a8db73027f33",
   "metadata": {},
   "outputs": [],
   "source": [
    "# import data\n",
    "df=pd.read_csv('../data/clean_data/date_chunked_5s.csv')"
   ]
  },
  {
   "cell_type": "code",
   "execution_count": 185,
   "id": "1befd4d9-04df-49d0-ab4a-830303a04792",
   "metadata": {},
   "outputs": [],
   "source": [
    "documents=df.to_dict(orient='records')"
   ]
  },
  {
   "cell_type": "code",
   "execution_count": 186,
   "id": "5fdb604c-84b4-4247-a8e4-634940eb8f95",
   "metadata": {},
   "outputs": [
    {
     "data": {
      "text/plain": [
       "5837"
      ]
     },
     "execution_count": 186,
     "metadata": {},
     "output_type": "execute_result"
    }
   ],
   "source": [
    "len(documents)"
   ]
  },
  {
   "cell_type": "code",
   "execution_count": 187,
   "id": "271cb033-a76a-4333-adbe-63097f8b81d0",
   "metadata": {},
   "outputs": [
    {
     "data": {
      "text/plain": [
       "[{'id': 0,\n",
       "  'content': 'this is the first I see an egg in bath ingredients and egg?. The plastic might even be better (especially if you have hard plastic) considering you have the cloth in between, because stainless steel could draw EMFs Your love Better anything non processed.. Sea water, an egg, sea salt, ACV, a little Urine.. .. .',\n",
       "  'number of sentences': 5,\n",
       "  'number of words': 56},\n",
       " {'id': 1,\n",
       "  'content': 'My husband is going through his first vomit/diarrhea detox, hydration formula or egg is not what he wants.. He is craving orange juice or lemonade.. What is good to give him to help detox?. is pasteurised milk gonna be better than nothing in the bath?. Впервые попробовал тухлую печень.',\n",
       "  'number of sentences': 5,\n",
       "  'number of words': 49}]"
      ]
     },
     "execution_count": 187,
     "metadata": {},
     "output_type": "execute_result"
    }
   ],
   "source": [
    "documents[0:2]"
   ]
  },
  {
   "cell_type": "code",
   "execution_count": 188,
   "id": "d5eea7fb-6f75-4873-88d0-274b2a1bba27",
   "metadata": {},
   "outputs": [
    {
     "name": "stderr",
     "output_type": "stream",
     "text": [
      "C:\\Users\\user\\miniconda3\\Lib\\site-packages\\transformers\\tokenization_utils_base.py:1601: FutureWarning: `clean_up_tokenization_spaces` was not set. It will be set to `True` by default. This behavior will be depracted in transformers v4.45, and will be then set to `False` by default. For more details check this issue: https://github.com/huggingface/transformers/issues/31884\n",
      "  warnings.warn(\n"
     ]
    }
   ],
   "source": [
    "### Transformer download\n",
    "model_name = 'multi-qa-MiniLM-L6-cos-v1'\n",
    "model = SentenceTransformer(model_name)"
   ]
  },
  {
   "cell_type": "code",
   "execution_count": 189,
   "id": "d55e6fba-2956-4e75-ba5f-aa6e12331f38",
   "metadata": {},
   "outputs": [
    {
     "data": {
      "text/plain": [
       "384"
      ]
     },
     "execution_count": 189,
     "metadata": {},
     "output_type": "execute_result"
    }
   ],
   "source": [
    "len(model.encode('hello'))"
   ]
  },
  {
   "cell_type": "code",
   "execution_count": 190,
   "id": "d0178e34-0de1-4118-92da-7a8057274527",
   "metadata": {},
   "outputs": [],
   "source": [
    "# contents=[doc['content'] for doc in tqdm(documents)]\n",
    "# embeddings=model.encode(contents)\n",
    "# print(embeddings[0])\n"
   ]
  },
  {
   "cell_type": "code",
   "execution_count": 191,
   "id": "b613c8c7-2d53-4b4e-ae7c-21cf88b426cd",
   "metadata": {},
   "outputs": [
    {
     "data": {
      "application/vnd.jupyter.widget-view+json": {
       "model_id": "fe505d732b4f4e26b9a46a7c7e45903c",
       "version_major": 2,
       "version_minor": 0
      },
      "text/plain": [
       "  0%|          | 0/5837 [00:00<?, ?it/s]"
      ]
     },
     "metadata": {},
     "output_type": "display_data"
    }
   ],
   "source": [
    "#created the dense vector using the pre-trained model\n",
    "data = []\n",
    "for doc in tqdm(documents):\n",
    "    # Transforming the title into an embedding using the model\n",
    "    doc[\"text_vector\"] = model.encode(doc[\"content\"]).tolist()\n",
    "    data.append(doc)"
   ]
  },
  {
   "cell_type": "code",
   "execution_count": 192,
   "id": "71d227ad-bad2-4a1b-8f5d-0e162418d74a",
   "metadata": {},
   "outputs": [
    {
     "name": "stdout",
     "output_type": "stream",
     "text": [
      "Data saved to pickle file successfully.\n"
     ]
    }
   ],
   "source": [
    "# Save the list of dictionaries to a pickle file\n",
    "with open('../data/clean_data/lancedb_vector_search.pkl', 'wb') as file:\n",
    "    pickle.dump(data, file)\n",
    "\n",
    "print(\"Data saved to pickle file successfully.\")"
   ]
  },
  {
   "cell_type": "code",
   "execution_count": 193,
   "id": "ca29f6c4-5f7c-4877-87c3-7dad5b2b1831",
   "metadata": {},
   "outputs": [
    {
     "data": {
      "text/plain": [
       "5837"
      ]
     },
     "execution_count": 193,
     "metadata": {},
     "output_type": "execute_result"
    }
   ],
   "source": [
    "len(embeddings)\n"
   ]
  },
  {
   "cell_type": "markdown",
   "id": "4b403eef-f4bb-46df-8a8d-6351f4913558",
   "metadata": {},
   "source": [
    "## Indexing with LancedDB"
   ]
  },
  {
   "cell_type": "code",
   "execution_count": 194,
   "id": "037274fa-7e6a-4294-9c2a-7a357d61b42d",
   "metadata": {},
   "outputs": [
    {
     "name": "stdout",
     "output_type": "stream",
     "text": [
      "Empty table created successfully!\n"
     ]
    }
   ],
   "source": [
    "import lancedb\n",
    "import pyarrow as pa\n",
    "\n",
    "# Connect to LanceDB\n",
    "db = lancedb.connect(\"../data/clean_data/lancedb\")\n",
    "\n",
    "# Define the schema for the table (example: text and embedding columns)\n",
    "schema = pa.schema([\n",
    "    (\"id\", pa.int64()), \n",
    "    (\"content\", pa.string()),               # Text column for storing document content\n",
    "    (\"text_vector\", pa.list_(pa.float32(),384))   # Fixed-size list for vectors# \n",
    "])\n",
    "\n",
    "\n",
    "\n",
    "# Create the table with the schema, even if there's no data\n",
    "table = db.create_table(\"my_empty_table\", \n",
    "                        schema=schema, \n",
    "                        mode='overwrite'\n",
    "                       )\n",
    "\n",
    "# Print message to confirm table creation\n",
    "print(\"Empty table created successfully!\")\n",
    "\n",
    "\n"
   ]
  },
  {
   "cell_type": "code",
   "execution_count": 195,
   "id": "4dbcdfd7-b148-4ffb-af54-73383e77cc30",
   "metadata": {},
   "outputs": [
    {
     "name": "stdout",
     "output_type": "stream",
     "text": [
      "id: int64\n",
      "content: string\n",
      "text_vector: fixed_size_list<item: float>[384]\n",
      "  child 0, item: float\n"
     ]
    }
   ],
   "source": [
    "# Assuming you've already connected to the database and created/opened a table\n",
    "db = lancedb.connect(\"../data/clean_data/lancedb\")\n",
    "\n",
    "# Open the existing table (replace \"my_vector_table\" with your actual table name)\n",
    "table = db.open_table(\"my_empty_table\")\n",
    "\n",
    "# Get the schema of the table\n",
    "schema = table.schema\n",
    "\n",
    "# Print the schema to see the fields and their data types\n",
    "print(schema)\n"
   ]
  },
  {
   "cell_type": "code",
   "execution_count": 196,
   "id": "2bc746ea-194f-406a-8f4a-17ad0c2e48ef",
   "metadata": {},
   "outputs": [
    {
     "data": {
      "text/plain": [
       "[{'id': 0,\n",
       "  'content': 'this is the first I see an egg in bath ingredients and egg?. The plastic might even be better (especially if you have hard plastic) considering you have the cloth in between, because stainless steel could draw EMFs Your love Better anything non processed.. Sea water, an egg, sea salt, ACV, a little Urine.. .. .',\n",
       "  'number of sentences': 5,\n",
       "  'number of words': 56,\n",
       "  'text_vector': [-0.06950577348470688,\n",
       "   0.00620897114276886,\n",
       "   0.06879696995019913,\n",
       "   -0.01693076267838478,\n",
       "   0.006399591453373432,\n",
       "   0.016069823876023293,\n",
       "   0.019661109894514084,\n",
       "   -0.02508622221648693,\n",
       "   0.004416115581989288,\n",
       "   -0.08724799752235413,\n",
       "   -0.04237271845340729,\n",
       "   -0.07054975628852844,\n",
       "   -0.07857808470726013,\n",
       "   0.05781452730298042,\n",
       "   -0.033999837934970856,\n",
       "   -0.028500793501734734,\n",
       "   0.028422120958566666,\n",
       "   0.09938568621873856,\n",
       "   -0.009505418129265308,\n",
       "   -0.006964648608118296,\n",
       "   0.006569295655936003,\n",
       "   -0.03321262076497078,\n",
       "   0.0458974689245224,\n",
       "   -0.05880702659487724,\n",
       "   0.0049428995698690414,\n",
       "   0.07957758009433746,\n",
       "   0.07257911562919617,\n",
       "   -0.014453824609518051,\n",
       "   0.04330483451485634,\n",
       "   -0.03063959628343582,\n",
       "   -0.03563310578465462,\n",
       "   0.0030516062397509813,\n",
       "   0.04888110235333443,\n",
       "   -0.10493826866149902,\n",
       "   0.06406106799840927,\n",
       "   0.012324372306466103,\n",
       "   0.04071132838726044,\n",
       "   -0.07214223593473434,\n",
       "   0.029632480815052986,\n",
       "   -0.04392872005701065,\n",
       "   0.0033929517958313227,\n",
       "   0.0837165042757988,\n",
       "   0.0018635597079992294,\n",
       "   -0.007469728589057922,\n",
       "   0.07491330057382584,\n",
       "   0.01426414493471384,\n",
       "   0.07443618029356003,\n",
       "   -0.008439847268164158,\n",
       "   0.02148441970348358,\n",
       "   0.0059746732003986835,\n",
       "   -0.024865610525012016,\n",
       "   0.011034505441784859,\n",
       "   0.08608673512935638,\n",
       "   -0.03216028958559036,\n",
       "   0.012017977423965931,\n",
       "   -0.0006551843835040927,\n",
       "   -0.05176348239183426,\n",
       "   -0.1472572535276413,\n",
       "   -0.08229511976242065,\n",
       "   -0.04700621962547302,\n",
       "   -0.0562693327665329,\n",
       "   0.07662343978881836,\n",
       "   0.09550051391124725,\n",
       "   0.036797601729631424,\n",
       "   0.05996574088931084,\n",
       "   0.012047545053064823,\n",
       "   0.003295691916719079,\n",
       "   0.07551504671573639,\n",
       "   -0.028384124860167503,\n",
       "   -0.08717458695173264,\n",
       "   -0.04330012574791908,\n",
       "   0.06848057359457016,\n",
       "   0.015903737396001816,\n",
       "   0.0928901806473732,\n",
       "   -0.010053154081106186,\n",
       "   -0.04287289083003998,\n",
       "   -0.013502241112291813,\n",
       "   -0.0822015255689621,\n",
       "   0.007951855659484863,\n",
       "   0.03815576806664467,\n",
       "   -0.04323018714785576,\n",
       "   -0.040046434849500656,\n",
       "   0.006058424711227417,\n",
       "   0.06581821292638779,\n",
       "   -0.017117254436016083,\n",
       "   0.023510867729783058,\n",
       "   0.013856596313416958,\n",
       "   0.007838011719286442,\n",
       "   -0.015004471875727177,\n",
       "   -0.04122815653681755,\n",
       "   0.08475498855113983,\n",
       "   -0.031968310475349426,\n",
       "   -0.0037631681188941,\n",
       "   -0.06458208709955215,\n",
       "   0.07499631494283676,\n",
       "   0.051384229212999344,\n",
       "   -0.06386201083660126,\n",
       "   -0.027181215584278107,\n",
       "   -0.0008108491310849786,\n",
       "   -0.04932442307472229,\n",
       "   -0.0351850688457489,\n",
       "   -0.003608927596360445,\n",
       "   -0.010955488309264183,\n",
       "   -0.12341178208589554,\n",
       "   0.10048390179872513,\n",
       "   -0.0598653219640255,\n",
       "   -0.009885301813483238,\n",
       "   0.01774345524609089,\n",
       "   0.1260763704776764,\n",
       "   0.07560420781373978,\n",
       "   -0.027679089456796646,\n",
       "   -0.06924758851528168,\n",
       "   -0.03926801308989525,\n",
       "   -0.022899458184838295,\n",
       "   -0.07566791027784348,\n",
       "   -0.032668761909008026,\n",
       "   0.03988271206617355,\n",
       "   -0.003991013392806053,\n",
       "   0.013710469007492065,\n",
       "   0.01835494488477707,\n",
       "   -0.00905962660908699,\n",
       "   -0.07820037752389908,\n",
       "   -0.0158859696239233,\n",
       "   -0.02539805695414543,\n",
       "   0.0014010034501552582,\n",
       "   -0.03587772697210312,\n",
       "   -0.036263540387153625,\n",
       "   2.9991076212218603e-31,\n",
       "   -0.012984467670321465,\n",
       "   0.020933881402015686,\n",
       "   0.07486916333436966,\n",
       "   0.013950216583907604,\n",
       "   0.03680286929011345,\n",
       "   -0.0016256505623459816,\n",
       "   0.047551725059747696,\n",
       "   -0.010342691093683243,\n",
       "   0.02210962399840355,\n",
       "   -0.047983407974243164,\n",
       "   0.01671917922794819,\n",
       "   0.024508604779839516,\n",
       "   -0.04850456118583679,\n",
       "   0.005879135336726904,\n",
       "   -0.0353044718503952,\n",
       "   0.020366258919239044,\n",
       "   -0.038027625530958176,\n",
       "   -0.0288331788033247,\n",
       "   0.0178601685911417,\n",
       "   -0.035361044108867645,\n",
       "   -0.03982982784509659,\n",
       "   0.02603297308087349,\n",
       "   -0.022023368626832962,\n",
       "   0.047870587557554245,\n",
       "   -0.039215344935655594,\n",
       "   -0.09482492506504059,\n",
       "   -0.0663866177201271,\n",
       "   -0.011474326252937317,\n",
       "   -0.042163871228694916,\n",
       "   -0.023297496140003204,\n",
       "   0.032892342656850815,\n",
       "   -0.05536913871765137,\n",
       "   0.035677824169397354,\n",
       "   0.03501032665371895,\n",
       "   -0.01447593979537487,\n",
       "   0.04216417297720909,\n",
       "   -0.004120489116758108,\n",
       "   -0.005307546351104975,\n",
       "   -0.006646200083196163,\n",
       "   0.0479428693652153,\n",
       "   -0.007042840588837862,\n",
       "   0.006239456124603748,\n",
       "   0.0784272849559784,\n",
       "   -0.005689119454473257,\n",
       "   -0.037929799407720566,\n",
       "   -0.0730212926864624,\n",
       "   0.00539418775588274,\n",
       "   0.03930629417300224,\n",
       "   -0.011169306002557278,\n",
       "   0.061425916850566864,\n",
       "   0.07252304255962372,\n",
       "   0.06455721706151962,\n",
       "   0.015248414129018784,\n",
       "   -0.06502185016870499,\n",
       "   -0.03452088311314583,\n",
       "   -0.005774752236902714,\n",
       "   0.056988585740327835,\n",
       "   -0.008788859471678734,\n",
       "   0.018452024087309837,\n",
       "   0.05694788321852684,\n",
       "   -0.10045595467090607,\n",
       "   0.05487808212637901,\n",
       "   -0.021881911903619766,\n",
       "   -0.0355728454887867,\n",
       "   -0.10110411792993546,\n",
       "   -0.02723572961986065,\n",
       "   -0.04137678071856499,\n",
       "   0.05389419198036194,\n",
       "   -0.009427002631127834,\n",
       "   -0.004983776248991489,\n",
       "   -0.1372275948524475,\n",
       "   -0.009426473639905453,\n",
       "   0.016251135617494583,\n",
       "   0.026836832985281944,\n",
       "   0.10128910839557648,\n",
       "   0.05716904252767563,\n",
       "   0.08870440721511841,\n",
       "   0.0033896469976752996,\n",
       "   0.08400144428014755,\n",
       "   -0.10791744291782379,\n",
       "   0.0018102499889209867,\n",
       "   0.03563874587416649,\n",
       "   -0.005258179735392332,\n",
       "   0.05414395406842232,\n",
       "   -0.07028823345899582,\n",
       "   0.0947229191660881,\n",
       "   0.0062420363537967205,\n",
       "   0.09783759713172913,\n",
       "   0.11163962632417679,\n",
       "   0.00014258584997151047,\n",
       "   0.11659976840019226,\n",
       "   -0.0347709059715271,\n",
       "   0.007303332444280386,\n",
       "   -0.019577648490667343,\n",
       "   0.027022717520594597,\n",
       "   -4.8600505367480386e-33,\n",
       "   0.038746077567338943,\n",
       "   -0.07974053919315338,\n",
       "   0.007931220345199108,\n",
       "   -0.0545467734336853,\n",
       "   0.023561032488942146,\n",
       "   -0.027353158220648766,\n",
       "   0.07652043551206589,\n",
       "   -0.0027598778251558542,\n",
       "   0.0011429344303905964,\n",
       "   -0.025748848915100098,\n",
       "   0.04865674674510956,\n",
       "   0.03108837641775608,\n",
       "   0.021427394822239876,\n",
       "   -0.04752751439809799,\n",
       "   -0.04353083670139313,\n",
       "   0.07638485729694366,\n",
       "   0.053764648735523224,\n",
       "   0.08855246752500534,\n",
       "   0.10192857682704926,\n",
       "   0.026126738637685776,\n",
       "   -0.04510003328323364,\n",
       "   0.10580085963010788,\n",
       "   0.05694331228733063,\n",
       "   -0.03708901256322861,\n",
       "   -0.0953400656580925,\n",
       "   -0.05607721954584122,\n",
       "   -0.013798214495182037,\n",
       "   -0.03262438625097275,\n",
       "   0.06590882688760757,\n",
       "   -0.011247965507209301,\n",
       "   -0.011089115403592587,\n",
       "   -0.06386896967887878,\n",
       "   0.049170032143592834,\n",
       "   -0.046996988356113434,\n",
       "   0.006978008896112442,\n",
       "   -0.056461405009031296,\n",
       "   0.10078272223472595,\n",
       "   -0.1525474488735199,\n",
       "   -0.005037149880081415,\n",
       "   -0.0311427004635334,\n",
       "   -0.02475954405963421,\n",
       "   -0.07619817554950714,\n",
       "   -0.023634258657693863,\n",
       "   0.030282575637102127,\n",
       "   0.046220675110816956,\n",
       "   0.05122751370072365,\n",
       "   -0.010816305875778198,\n",
       "   -0.06641844660043716,\n",
       "   0.023846253752708435,\n",
       "   0.022081278264522552,\n",
       "   0.007528860587626696,\n",
       "   -0.031635940074920654,\n",
       "   -0.013743763789534569,\n",
       "   -0.0971626341342926,\n",
       "   0.011994688771665096,\n",
       "   0.03032366745173931,\n",
       "   -0.052653077989816666,\n",
       "   -0.07260722666978836,\n",
       "   0.005970609374344349,\n",
       "   0.1090499758720398,\n",
       "   0.019273851066827774,\n",
       "   0.020673878490924835,\n",
       "   0.021323341876268387,\n",
       "   -0.008318262174725533,\n",
       "   -0.004031921736896038,\n",
       "   0.024646898731589317,\n",
       "   -0.02956385910511017,\n",
       "   0.03380517661571503,\n",
       "   -0.018707210198044777,\n",
       "   -0.07034942507743835,\n",
       "   -0.07435136288404465,\n",
       "   -0.02585340477526188,\n",
       "   0.0031272186897695065,\n",
       "   -0.02379796840250492,\n",
       "   0.011811994016170502,\n",
       "   -0.07357946783304214,\n",
       "   -0.02305169589817524,\n",
       "   -0.03450485318899155,\n",
       "   0.05128135532140732,\n",
       "   -0.014415753073990345,\n",
       "   -0.02790614403784275,\n",
       "   0.02870623581111431,\n",
       "   -0.048956263810396194,\n",
       "   0.04128718748688698,\n",
       "   -0.00022739253472536802,\n",
       "   -0.04198714345693588,\n",
       "   -0.03353673219680786,\n",
       "   -0.013570364564657211,\n",
       "   -0.03152361884713173,\n",
       "   -0.013259551487863064,\n",
       "   -0.09654451906681061,\n",
       "   0.03085136041045189,\n",
       "   -0.010048761032521725,\n",
       "   0.10007505863904953,\n",
       "   0.015548680908977985,\n",
       "   -4.361374241718546e-33,\n",
       "   -0.001743611297570169,\n",
       "   -0.0016997153870761395,\n",
       "   -0.0119908656924963,\n",
       "   0.0274125337600708,\n",
       "   0.005546886939555407,\n",
       "   0.0030462658032774925,\n",
       "   -0.04414026066660881,\n",
       "   0.045260027050971985,\n",
       "   0.06264422833919525,\n",
       "   -0.0878157839179039,\n",
       "   -0.0750802755355835,\n",
       "   0.09828595072031021,\n",
       "   -0.06887850165367126,\n",
       "   0.006409273482859135,\n",
       "   -0.03419669345021248,\n",
       "   0.01600678451359272,\n",
       "   -0.0025069580879062414,\n",
       "   -0.0707111805677414,\n",
       "   0.0011081792181357741,\n",
       "   -0.019254116341471672,\n",
       "   0.06166575103998184,\n",
       "   0.04674588516354561,\n",
       "   0.0702475905418396,\n",
       "   0.006446248851716518,\n",
       "   -0.013826349750161171,\n",
       "   0.11284147202968597,\n",
       "   0.06828656792640686,\n",
       "   -0.051037225872278214,\n",
       "   0.01569933257997036,\n",
       "   -0.016529496759176254,\n",
       "   0.011042401194572449,\n",
       "   -0.0763322114944458,\n",
       "   -0.08680706471204758,\n",
       "   0.06721176207065582,\n",
       "   -0.07406441122293472,\n",
       "   -0.04765871912240982,\n",
       "   -0.023927859961986542,\n",
       "   -0.06175931170582771,\n",
       "   -0.036014750599861145,\n",
       "   -0.03358243778347969,\n",
       "   0.07425988465547562,\n",
       "   -0.013921153731644154,\n",
       "   -0.09275152534246445,\n",
       "   -0.013345417566597462,\n",
       "   0.07922039926052094,\n",
       "   0.03537680581212044,\n",
       "   -0.035087842494249344,\n",
       "   -0.0555051825940609,\n",
       "   -0.005974206142127514,\n",
       "   0.06633677333593369,\n",
       "   0.0021747578866779804,\n",
       "   -0.06649656593799591,\n",
       "   0.008499020710587502,\n",
       "   -0.0021527099888771772,\n",
       "   0.05064218491315842,\n",
       "   0.015162316150963306,\n",
       "   0.0632496178150177,\n",
       "   -0.0324353389441967,\n",
       "   -0.012045170180499554,\n",
       "   0.08954139798879623,\n",
       "   0.06787991523742676,\n",
       "   0.041640754789114,\n",
       "   0.0726892277598381,\n",
       "   0.05963084474205971]}]"
      ]
     },
     "execution_count": 196,
     "metadata": {},
     "output_type": "execute_result"
    }
   ],
   "source": [
    "data[0:1]"
   ]
  },
  {
   "cell_type": "code",
   "execution_count": 197,
   "id": "fdcc9d10-bcf4-4695-b2e2-4a35b4b9936c",
   "metadata": {},
   "outputs": [],
   "source": [
    "# add data to table\n",
    "table.add(data)\n"
   ]
  },
  {
   "cell_type": "code",
   "execution_count": 198,
   "id": "bbb2b04e-62ce-4ad4-a12e-1d2195820472",
   "metadata": {},
   "outputs": [],
   "source": [
    "### performing a vector search"
   ]
  },
  {
   "cell_type": "code",
   "execution_count": 199,
   "id": "f2269e84-4895-4d58-aca1-66548b9773d0",
   "metadata": {},
   "outputs": [
    {
     "name": "stdout",
     "output_type": "stream",
     "text": [
      "<class 'pandas.core.frame.DataFrame'>\n"
     ]
    },
    {
     "data": {
      "text/html": [
       "<div>\n",
       "<style scoped>\n",
       "    .dataframe tbody tr th:only-of-type {\n",
       "        vertical-align: middle;\n",
       "    }\n",
       "\n",
       "    .dataframe tbody tr th {\n",
       "        vertical-align: top;\n",
       "    }\n",
       "\n",
       "    .dataframe thead th {\n",
       "        text-align: right;\n",
       "    }\n",
       "</style>\n",
       "<table border=\"1\" class=\"dataframe\">\n",
       "  <thead>\n",
       "    <tr style=\"text-align: right;\">\n",
       "      <th></th>\n",
       "      <th>id</th>\n",
       "      <th>content</th>\n",
       "      <th>text_vector</th>\n",
       "      <th>_distance</th>\n",
       "    </tr>\n",
       "  </thead>\n",
       "  <tbody>\n",
       "    <tr>\n",
       "      <th>0</th>\n",
       "      <td>5232</td>\n",
       "      <td>How do you get raw dairy in Canada?. Accompany...</td>\n",
       "      <td>[-0.040744204, -0.08202689, 0.018740114, 0.013...</td>\n",
       "      <td>1.004415</td>\n",
       "    </tr>\n",
       "    <tr>\n",
       "      <th>1</th>\n",
       "      <td>5473</td>\n",
       "      <td>If fasting is 'bad' there no need to have macr...</td>\n",
       "      <td>[-0.03963867, -0.06847364, 0.016403785, -0.008...</td>\n",
       "      <td>1.014721</td>\n",
       "    </tr>\n",
       "    <tr>\n",
       "      <th>2</th>\n",
       "      <td>3631</td>\n",
       "      <td>Aajonus recommends to wake up at night to eat ...</td>\n",
       "      <td>[-0.05317117, 0.0363952, 0.05797835, 0.0430706...</td>\n",
       "      <td>1.016250</td>\n",
       "    </tr>\n",
       "    <tr>\n",
       "      <th>3</th>\n",
       "      <td>2634</td>\n",
       "      <td>show=true I’m straight if you paté the meat, a...</td>\n",
       "      <td>[-0.01303589, -0.005889988, 0.011757708, 0.044...</td>\n",
       "      <td>1.021979</td>\n",
       "    </tr>\n",
       "    <tr>\n",
       "      <th>4</th>\n",
       "      <td>4470</td>\n",
       "      <td>.. .. ), Aajonus recommends to eat about an eq...</td>\n",
       "      <td>[-0.05279341, -0.09572333, 0.055784415, -0.042...</td>\n",
       "      <td>1.022054</td>\n",
       "    </tr>\n",
       "  </tbody>\n",
       "</table>\n",
       "</div>"
      ],
      "text/plain": [
       "     id                                            content  \\\n",
       "0  5232  How do you get raw dairy in Canada?. Accompany...   \n",
       "1  5473  If fasting is 'bad' there no need to have macr...   \n",
       "2  3631  Aajonus recommends to wake up at night to eat ...   \n",
       "3  2634  show=true I’m straight if you paté the meat, a...   \n",
       "4  4470  .. .. ), Aajonus recommends to eat about an eq...   \n",
       "\n",
       "                                         text_vector  _distance  \n",
       "0  [-0.040744204, -0.08202689, 0.018740114, 0.013...   1.004415  \n",
       "1  [-0.03963867, -0.06847364, 0.016403785, -0.008...   1.014721  \n",
       "2  [-0.05317117, 0.0363952, 0.05797835, 0.0430706...   1.016250  \n",
       "3  [-0.01303589, -0.005889988, 0.011757708, 0.044...   1.021979  \n",
       "4  [-0.05279341, -0.09572333, 0.055784415, -0.042...   1.022054  "
      ]
     },
     "execution_count": 199,
     "metadata": {},
     "output_type": "execute_result"
    }
   ],
   "source": [
    "# Let's assume the query is \"vector search in LanceDB\"\n",
    "query = \"what type of protein to eat to bulk up\"\n",
    "\n",
    "# Generate an embedding for the query using the same model\n",
    "query_embedding = model.encode([query])[0]\n",
    "# Perform vector search in LanceDB\n",
    "results = table.search(query_embedding, vector_column_name=\"text_vector\").limit(10).to_pandas()\n",
    "print(type(results))\n",
    "# Display results\n",
    "#print(results[['content']])\n",
    "\n",
    "\n",
    "results.head()"
   ]
  },
  {
   "cell_type": "code",
   "execution_count": 220,
   "id": "6998ccf1-61b5-4c24-b8b5-0accca74a69f",
   "metadata": {},
   "outputs": [],
   "source": [
    "def lancedb_search(query):\n",
    "    # Step 1: Generate an embedding for the query using your embedding model\n",
    "    query_embedding = model.encode([query])[0]  # Use your embedding model to generate the vector\n",
    "\n",
    "    # Step 2: Perform a vector search using LanceDB\n",
    "    results = table.search(query_embedding, vector_column_name=\"text_vector\").limit(10).to_pandas()\n",
    "\n",
    "     # Extract the documents and their ids from the search results\n",
    "    retrieved_docs = results[['id', 'content']].to_dict(orient='records')  # Convert DataFrame to list of dictionaries\n",
    "    \n",
    "    \n",
    "    return retrieved_docs"
   ]
  },
  {
   "cell_type": "code",
   "execution_count": 247,
   "id": "c4009a42-ae11-48e7-95bb-d46bc93f1f80",
   "metadata": {},
   "outputs": [],
   "source": [
    "def lancedb_search(query_text, nprobes=10, refine_factor=2, k=5):\n",
    "    # Generate the embedding for the query using your model\n",
    "    query_embedding = model.encode([query_text])[0]\n",
    "    \n",
    "    # Perform the vector search in LanceDB with nprobes and refine_factor\n",
    "    results = table.search(query_embedding, vector_column_name=\"text_vector\") \\\n",
    "        .nprobes(nprobes) \\\n",
    "        .refine_factor(refine_factor) \\\n",
    "        .limit(k) \\\n",
    "        .to_pandas()\n",
    "     # Extract the documents and their ids from the search results\n",
    "    retrieved_docs = results[['id', 'content']].to_dict(orient='records')  # Convert DataFrame to list of dictionaries\n",
    "    \n",
    "    return retrieved_docs\n",
    "\n",
    "# # Example usage with the query text\n",
    "# query_text = \"some health-related query\"\n",
    "# search_results = lancedb_search(query_text, nprobes=20, refine_factor=3, k=5)\n",
    "\n",
    "# print(search_results)\n"
   ]
  },
  {
   "cell_type": "code",
   "execution_count": 248,
   "id": "68cf9ab0-6d68-4027-b64e-a34a056022b8",
   "metadata": {},
   "outputs": [
    {
     "data": {
      "text/plain": [
       "[{'id': 2556,\n",
       "  'content': 'More detoxing is necessary I wish I had that much body fat though, I frequently feel sick because I don’t have enough As long as u are overweight its fine 5-15lbs overweight is for women and 15-40lbs for men yeah.. But being fatter as a women is still recommended Funny how many people who find primal are primarily underweight people.. I am the opposite where I put on weight easily Isn’t that for men?. More fat is better Really, since I hit 60-61 kg I don’t gain any weight anymore 🤷🏻\\u200d♀️ Fat = fertility Girl stop it 🤣🤣 Don’t flex 🍑 I’m also way fatter than before hahaha, especially my belly No just sunmaxxing, i did gain some muscle though I will but I won’t show it 🤣 How tall Yes, flex w words only !. 🤣🤣 And lose Belly fat by doing nothing?'},\n",
       " {'id': 3209,\n",
       "  'content': \".. There's no way you can convince me that a body like that is healthy There's no way you can convince me that a belly like that is healthy.. 🤷🏻\\u200d♂️ protection from what?. Can you provide me a direction like a general advice Love this!. Thanks Nat❤️ I’ve made like 3 lubes my whole life Shake cream in bottle that’s it I feel way better with them my nervous system is fukd.\"},\n",
       " {'id': 1370,\n",
       "  'content': \"If you have a belly it's toxic fat that will get cleaned if you eat lots of fats over years.. Would love if someone could do a quick iris reading for me Yeah raw fats is vital to get rid of toxins.. specifically raw unsalted cheese.. eating a small cube of it every 15-30 mins.. need to increase your raw fat consumption to 20-30% of diet.\"},\n",
       " {'id': 3181,\n",
       "  'content': 'i crave it in the morning after lunch and at night Look at raw fruitarians, even those eating 3k calories a day of fruit Yes and other things can do it too like waterSo drinking enough celery juice cuts most cravings for fruit and you get the upsides (enzymes) without the downsides (sugar) hmmm so i just have to eat less fat that’s it?. Mmmm i Will go make one 😁😍😍😍 what else should i do to lose fat I forgot the other story:He had a client who was a female model, very skinnyShe craved cheese and honey and ate 1 pound a day.. Gained a lot of weight very quickly, loved it, but \"her agency didn\\'t\".. Although that is different, because she started as skinny.. The woman in the previous story started as fat.'},\n",
       " {'id': 3641,\n",
       "  'content': \"If I have none I lose weight That's me.. .. .. Dont you have anyone with cows in your family or maybe farmers nearby?. It's a great fat for cleansing howevee it does not compare to animal fat as such evsn tho its saturated if you cannot get anything better thats great too but make sure to also get animal fats in your diet https://youtu.\"}]"
      ]
     },
     "execution_count": 248,
     "metadata": {},
     "output_type": "execute_result"
    }
   ],
   "source": [
    "lancedb_search('how do I lose belly fat?')"
   ]
  },
  {
   "cell_type": "code",
   "execution_count": 222,
   "id": "c0c971e8-eb64-407d-8e02-5cbe27b6ecea",
   "metadata": {},
   "outputs": [],
   "source": [
    "## Retrieval Evaluation with lancedb semantic vector search"
   ]
  },
  {
   "cell_type": "code",
   "execution_count": 223,
   "id": "2f0c546f-e0e5-4243-ab02-ec4b2e00ac32",
   "metadata": {},
   "outputs": [],
   "source": [
    "df=pd.read_csv('../data/clean_data/ground-truth-data_final.csv')"
   ]
  },
  {
   "cell_type": "code",
   "execution_count": 224,
   "id": "96368cd0-3700-496b-af8f-54d92056df45",
   "metadata": {},
   "outputs": [
    {
     "data": {
      "text/plain": [
       "1000"
      ]
     },
     "execution_count": 224,
     "metadata": {},
     "output_type": "execute_result"
    }
   ],
   "source": [
    "ground_truth=df.to_dict(orient='records')\n",
    "ground_truth[0]\n",
    "len(ground_truth)"
   ]
  },
  {
   "cell_type": "code",
   "execution_count": 225,
   "id": "2b7bce9c-94be-4e41-8e9f-0ded6989787f",
   "metadata": {},
   "outputs": [],
   "source": [
    "def hit_rate(relevance_total):\n",
    "    cnt = 0\n",
    "\n",
    "    for line in relevance_total:\n",
    "        if True in line:\n",
    "            cnt = cnt + 1\n",
    "\n",
    "    return cnt / len(relevance_total)"
   ]
  },
  {
   "cell_type": "code",
   "execution_count": 226,
   "id": "ce63152f-1b8d-4261-b7c2-b06758884ee2",
   "metadata": {},
   "outputs": [],
   "source": [
    "def mrr(relevance_total):\n",
    "    total_score = 0.0\n",
    "\n",
    "    for line in relevance_total:\n",
    "        for rank in range(len(line)):\n",
    "            if line[rank] == True:\n",
    "                total_score = total_score + 1 / (rank + 1)\n",
    "\n",
    "    return total_score / len(relevance_total)"
   ]
  },
  {
   "cell_type": "code",
   "execution_count": 227,
   "id": "f33f1d3d-fd11-4afb-9d6c-437727d1f60d",
   "metadata": {},
   "outputs": [],
   "source": [
    "def evaluate(ground_truth, search_function):\n",
    "    relevance_total = []\n",
    "\n",
    "    for q in tqdm(ground_truth):\n",
    "        doc_id = q['id']\n",
    "        results = search_function(q)\n",
    "        relevance = [d['id'] == doc_id for d in results]\n",
    "        relevance_total.append(relevance)\n",
    "\n",
    "    return {\n",
    "        'hit_rate': hit_rate(relevance_total),\n",
    "        'mrr': mrr(relevance_total),\n",
    "    }"
   ]
  },
  {
   "cell_type": "code",
   "execution_count": 228,
   "id": "8771b001-77a1-4a74-875d-a1c7b9a44fa0",
   "metadata": {},
   "outputs": [
    {
     "name": "stdout",
     "output_type": "stream",
     "text": [
      "<function <lambda> at 0x000002EC123F4A40>\n"
     ]
    },
    {
     "data": {
      "text/plain": [
       "608"
      ]
     },
     "execution_count": 228,
     "metadata": {},
     "output_type": "execute_result"
    }
   ],
   "source": [
    "fun=lambda q:q['id']\n",
    "print(fun)\n",
    "fun(ground_truth[0])\n"
   ]
  },
  {
   "cell_type": "code",
   "execution_count": 252,
   "id": "713dea34-6198-47c4-bee7-246962d5f44c",
   "metadata": {},
   "outputs": [
    {
     "data": {
      "application/vnd.jupyter.widget-view+json": {
       "model_id": "6cd67594d31f45a6999d15bb66daeedd",
       "version_major": 2,
       "version_minor": 0
      },
      "text/plain": [
       "  0%|          | 0/1000 [00:00<?, ?it/s]"
      ]
     },
     "metadata": {},
     "output_type": "display_data"
    },
    {
     "data": {
      "text/plain": [
       "{'hit_rate': 0.527, 'mrr': 0.4236333333333329}"
      ]
     },
     "execution_count": 252,
     "metadata": {},
     "output_type": "execute_result"
    }
   ],
   "source": [
    "evaluate(ground_truth, lambda q: lancedb_search(q['question'],nprobes=40, refine_factor=20, k=5))"
   ]
  },
  {
   "cell_type": "markdown",
   "id": "8ecd1e07-9197-472c-8837-6be8f9c2ba01",
   "metadata": {},
   "source": [
    "### RAG Evaluation with semantic search"
   ]
  },
  {
   "cell_type": "code",
   "execution_count": null,
   "id": "47b1921f-90fe-4aef-8d3e-ece131f09dd1",
   "metadata": {},
   "outputs": [],
   "source": []
  },
  {
   "cell_type": "code",
   "execution_count": 210,
   "id": "4f131f28-3180-4f70-b8f1-e268801e4d44",
   "metadata": {},
   "outputs": [],
   "source": [
    "from openai import OpenAI\n",
    "client=OpenAI()"
   ]
  },
  {
   "cell_type": "code",
   "execution_count": 211,
   "id": "3707204e-0e1f-4af1-bb28-aeed39bffedf",
   "metadata": {},
   "outputs": [],
   "source": [
    "prompt2_template = \"\"\"\n",
    "You are an expert evaluator for a RAG system.\n",
    "Your task is to analyze the relevance of the generated answer to the given question.\n",
    "Based on the relevance of the generated answer, you will classify it\n",
    "as \"NON_RELEVANT\", \"PARTLY_RELEVANT\", or \"RELEVANT\".\n",
    "\n",
    "Here is the data for evaluation:\n",
    "\n",
    "Question: {question}\n",
    "Generated Answer: {answer_llm}\n",
    "\n",
    "Please analyze the content and context of the generated answer in relation to the question\n",
    "and provide your evaluation in parsable JSON without using code blocks:\n",
    "\n",
    "{{\n",
    "  \"Relevance\": \"NON_RELEVANT\" | \"PARTLY_RELEVANT\" | \"RELEVANT\",\n",
    "  \"Explanation\": \"[Provide a brief explanation for your evaluation]\"\n",
    "}}\n",
    "\"\"\".strip()"
   ]
  },
  {
   "cell_type": "code",
   "execution_count": 215,
   "id": "44fa373f-0f21-4381-bfe0-d91db0fc5cd4",
   "metadata": {},
   "outputs": [],
   "source": [
    "def build_prompt(query, search_results):\n",
    "    prompt_template = \"\"\"\n",
    "    You're a primal health adviser. Answer the QUESTION based on the CONTEXT from our primal diet database.\n",
    "    Use only the facts from the CONTEXT when answering the QUESTION.\n",
    "    \n",
    "    QUESTION: {question}\n",
    "    \n",
    "    CONTEXT:\n",
    "    {context}\n",
    "    \"\"\".strip()\n",
    "    \n",
    "    entry_template = \"\"\"\n",
    "    content: {content}\n",
    "    \"\"\".strip()\n",
    "    context = \"\"\n",
    "    \n",
    "    for doc in search_results:\n",
    "        context = context + entry_template.format(**doc) + \"\\n\\n\"\n",
    "\n",
    "    prompt = prompt_template.format(question=query, context=context).strip()\n",
    "    return prompt"
   ]
  },
  {
   "cell_type": "code",
   "execution_count": 218,
   "id": "1cc72e17-c6c9-48ea-95b5-7e8753f34c28",
   "metadata": {},
   "outputs": [
    {
     "data": {
      "text/plain": [
       "\"You're a primal health adviser. Answer the QUESTION based on the CONTEXT from our primal diet database.\\n    Use only the facts from the CONTEXT when answering the QUESTION.\\n    \\n    QUESTION: how to get fat\\n    \\n    CONTEXT:\\n    content: Have a look at the guide above.. One of the essentials of PD.. Sure.. I generally make full fat.. But I don't keep them for many months any more, like i did before.\\n\\ncontent: 😳 Find cream Jean 👀 Actually im strugglin to gain weight.. .. .. im not skinny like a stick but i would like more weight.. .\\n\\ncontent: .. I’ve had the delight of good fat before.. But not always easy to find good ones, unfortunately same I buy 2 kilos at once and eat 1 pound per day, so on the week i only spend 2 dollars on my fat source, alongside the milk I put it on a jar of glass and dont mind to much One time i forget to put on the fridge and it got fermented very quickly Yeah, he isn’t on primal diet though so he doesn’t know I noticed that fat can be stored for a long time but the taste is not very good And you actually buy 2 kilos at once?. Or no?. I’m wondering how you would store this, and eat it all before it goes bad ?\\n\\ncontent: But you gotta do whatcha gotta do Another affordable way for me to up fats are coconuts but these are nowhere near as good as those animal fats Stop being poor then Maybe raw animal fats better And pasteurized buuter seems like a great option to do that though im not sure about it because heated fats are alnost never good And raw butter isnt that cheap for me Im askin because I want to up my fat intake and im not sure if raw milk, raw eggs and raw meat are enough to provide me as much fat as I would like Damn so yellow Is there anything good pasteurized?. I doubt it and it will not appeal to me 😂 Genius Try to do butter at home It was winter time tho so thats prolly why Tried that its extremely time consuming That makes a lot of sense can you show me the color of the mil kand butter again but in different lighting this one looked a little exaggerated stil lhard to believe its so golden Yucky.. Clogs arteries But I have it deep, I care about health When u buy 7 per week But the cottage cheese is really cheap for you 250g for 14 zl is really not much Its even more expensive that what I get I want to try too as soon as I buy cow milk Sheesh I have jersey But its not as golden as yours I have the same shape for butter at my farmers lol How much for that butter?. Also when you make butter yourself then you are left with skim milk without the cream and its eh This was the butter It took me an hour Im getting raw dairy products and raw milk at diff farmers What does Aajonus say on pasteurized butter?. if it was some sips you can right away Tasted much worse than Lemonda I’d rather have taken a vaccine than drink that If it's a lot of water, wait 15-30 minutes After drinking water, how long should i wait before drinking a milkshake?\\n\\ncontent: My farm drop ships around there I think wdym i need to lose fat what i need in life is not to be obese Probably coffee i was asking how to lose it it isn’t So why is your body holding onto that weight?. and also he said only up to 60 pounds is beneficial, but 20 is good enough he said first of all to lose fat first the put it back on with new raw fat Everyone ought to read frequently u have a lot of learning to do read the book Aajonus has been dead for 21 years?. not 300 pounds Your body is holding onto that weight to protect itself from toxins first of all i’m obese off of seed oils and sugar, and aajonus said only be 20-60 pounds overweight Where your going against what asjonus said You clearly don’t understand how beneficial being fat is who do you think you are saying something like that i’ve been on the diet for 1 year This diet is not for you Also fish goes well with soft cheese.. Not a sauce but makes fish less boring😁 I love all fish with cream/mango sauce.. Blenderized together.\""
      ]
     },
     "execution_count": 218,
     "metadata": {},
     "output_type": "execute_result"
    }
   ],
   "source": [
    "query='how to get fat'\n",
    "search_results=lancedb_search(query)\n",
    "build_prompt(query, search_results)"
   ]
  },
  {
   "cell_type": "code",
   "execution_count": 230,
   "id": "2c0bd2b3-cbe3-412c-8aec-5d12f5c94014",
   "metadata": {},
   "outputs": [],
   "source": [
    "def llm(prompt, model='gpt-4o-mini'):\n",
    "    response = client.chat.completions.create(\n",
    "        model=model,\n",
    "        messages=[{\"role\": \"user\", \"content\": prompt}]\n",
    "    )\n",
    "    \n",
    "    return response.choices[0].message.content"
   ]
  },
  {
   "cell_type": "code",
   "execution_count": 231,
   "id": "4e2bd8e8-000c-44a9-9d1b-8abf90511621",
   "metadata": {},
   "outputs": [],
   "source": [
    "query='How to lower blood pressure?'\n",
    "vector=model.encode(query)\n",
    "def rag(query, model='gpt-4o-mini'):\n",
    "    search_results = lancedb_search(query)\n",
    "    prompt = build_prompt(query, search_results)\n",
    "    answer = llm(prompt, model=model)\n",
    "    return answer\n"
   ]
  },
  {
   "cell_type": "code",
   "execution_count": 233,
   "id": "f6de6d0c-216d-4293-9e18-0c3eaaf57591",
   "metadata": {},
   "outputs": [
    {
     "data": {
      "text/plain": [
       "\"To lower blood pressure, consider incorporating raw garlic into your diet, as it can help regulate blood pressure according to your body's needs. Additionally, consuming half a grapefruit may also be beneficial, but be cautious of compatibility issues with heart medications. Foods that act as solvents, such as vinegar or unripe pineapple, might also help; it's recommended to consume them with fat, like in a sauce made with raw butter. These natural dietary changes can support your efforts to manage blood pressure effectively.\""
      ]
     },
     "execution_count": 233,
     "metadata": {},
     "output_type": "execute_result"
    }
   ],
   "source": [
    "rag(query)"
   ]
  },
  {
   "cell_type": "code",
   "execution_count": 234,
   "id": "67f4bfde-9614-46df-86e9-a6e5f1a2ce7a",
   "metadata": {},
   "outputs": [
    {
     "data": {
      "text/plain": [
       "1000"
      ]
     },
     "execution_count": 234,
     "metadata": {},
     "output_type": "execute_result"
    }
   ],
   "source": [
    "import json\n",
    "len(df)"
   ]
  },
  {
   "cell_type": "code",
   "execution_count": 235,
   "id": "65af6d6f-0383-489c-b716-856599d0460c",
   "metadata": {},
   "outputs": [],
   "source": [
    "df_sample = df.sample(n=200, random_state=1)"
   ]
  },
  {
   "cell_type": "code",
   "execution_count": 236,
   "id": "430c19e5-6cc4-462b-a58c-b600943896e2",
   "metadata": {},
   "outputs": [
    {
     "data": {
      "text/plain": [
       "[{'id': 5385,\n",
       "  'question': 'In Europe, does everything including milk come in glass containers?'},\n",
       " {'id': 871,\n",
       "  'question': 'Can eating raw foods save time compared to more processed food preparation?'},\n",
       " {'id': 5593,\n",
       "  'question': 'Why might you experience high cholesterol and ketones with certain diets?'},\n",
       " {'id': 3682,\n",
       "  'question': 'Is pasteurized butter from non-toxic animals safe for consumption given concerns about mad cow disease?'},\n",
       " {'id': 604, 'question': 'Who is Lina and what does she run?'}]"
      ]
     },
     "execution_count": 236,
     "metadata": {},
     "output_type": "execute_result"
    }
   ],
   "source": [
    "sample = df_sample.to_dict(orient='records')\n",
    "sample[:5]"
   ]
  },
  {
   "cell_type": "code",
   "execution_count": 240,
   "id": "ef4daf04-fca5-4cb6-857c-9cc073f23c32",
   "metadata": {},
   "outputs": [
    {
     "data": {
      "application/vnd.jupyter.widget-view+json": {
       "model_id": "75be5ab2baa14c77b372c692cd2b7774",
       "version_major": 2,
       "version_minor": 0
      },
      "text/plain": [
       "  0%|          | 0/200 [00:00<?, ?it/s]"
      ]
     },
     "metadata": {},
     "output_type": "display_data"
    }
   ],
   "source": [
    "evaluations_gpt4o_mini = []\n",
    "\n",
    "for record in tqdm(sample):\n",
    "    question = record['question']\n",
    "    answer_llm = rag(question, model='gpt-4o-mini') \n",
    "\n",
    "    prompt = prompt2_template.format(\n",
    "        question=question,\n",
    "        answer_llm=answer_llm\n",
    "    )\n",
    "\n",
    "    evaluation = llm(prompt)\n",
    "    evaluation = json.loads(evaluation)\n",
    "    \n",
    "    evaluations_gpt4o_mini.append((record, answer_llm, evaluation))"
   ]
  },
  {
   "cell_type": "code",
   "execution_count": 241,
   "id": "53e99873-c37d-4723-b9c8-29306dc11200",
   "metadata": {},
   "outputs": [],
   "source": [
    "df_eval = pd.DataFrame(evaluations_gpt4o_mini, columns=['record', 'answer', 'evaluation'])\n",
    "\n",
    "df_eval['id'] = df_eval.record.apply(lambda d: d['id'])\n",
    "df_eval['question'] = df_eval.record.apply(lambda d: d['question'])\n",
    "\n",
    "df_eval['relevance'] = df_eval.evaluation.apply(lambda d: d['Relevance'])\n",
    "df_eval['explanation'] = df_eval.evaluation.apply(lambda d: d['Explanation'])\n",
    "\n",
    "del df_eval['record']\n",
    "del df_eval['evaluation']"
   ]
  },
  {
   "cell_type": "code",
   "execution_count": 242,
   "id": "28d3b2f1-f2ec-46bc-89f0-3fbdc20c97cd",
   "metadata": {},
   "outputs": [
    {
     "data": {
      "text/plain": [
       "relevance\n",
       "RELEVANT           0.715\n",
       "PARTLY_RELEVANT    0.270\n",
       "NON_RELEVANT       0.015\n",
       "Name: proportion, dtype: float64"
      ]
     },
     "execution_count": 242,
     "metadata": {},
     "output_type": "execute_result"
    }
   ],
   "source": [
    "df_eval.relevance.value_counts(normalize=True)"
   ]
  },
  {
   "cell_type": "code",
   "execution_count": 244,
   "id": "a0ec3ba9-63f6-42c9-87a8-6481edc5ad81",
   "metadata": {},
   "outputs": [],
   "source": [
    "df_eval.to_csv('../data/clean_data/rag-eval-lancedb_vector_search-gpt4o_mini.csv', index=False)"
   ]
  },
  {
   "cell_type": "code",
   "execution_count": null,
   "id": "93f2106e-c4c0-4c4c-8caa-ee40897f4fe8",
   "metadata": {},
   "outputs": [],
   "source": []
  },
  {
   "cell_type": "code",
   "execution_count": null,
   "id": "1c54a662-9397-4f10-a5c5-9eca08d68fd5",
   "metadata": {},
   "outputs": [],
   "source": []
  }
 ],
 "metadata": {
  "kernelspec": {
   "display_name": "Python 3 (ipykernel)",
   "language": "python",
   "name": "python3"
  },
  "language_info": {
   "codemirror_mode": {
    "name": "ipython",
    "version": 3
   },
   "file_extension": ".py",
   "mimetype": "text/x-python",
   "name": "python",
   "nbconvert_exporter": "python",
   "pygments_lexer": "ipython3",
   "version": "3.12.4"
  }
 },
 "nbformat": 4,
 "nbformat_minor": 5
}
