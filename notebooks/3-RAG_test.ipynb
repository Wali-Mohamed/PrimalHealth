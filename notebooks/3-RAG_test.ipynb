{
 "cells": [
  {
   "cell_type": "markdown",
   "id": "92d49684-2a2e-44f6-b1c1-14ae38f307c8",
   "metadata": {},
   "source": [
    "## Data Ingestion"
   ]
  },
  {
   "cell_type": "code",
   "execution_count": 4,
   "id": "69b30345-8175-485c-8a92-9b04c611317e",
   "metadata": {},
   "outputs": [],
   "source": [
    "# Import libraries and modules\n",
    "import pandas as pd\n",
    "import minsearch\n",
    "from tqdm.auto import tqdm\n",
    "from openai import OpenAI"
   ]
  },
  {
   "cell_type": "code",
   "execution_count": 6,
   "id": "bfab572f-74f9-44e7-8dbb-cccfd579e935",
   "metadata": {},
   "outputs": [],
   "source": [
    "df=pd.read_csv('../data/clean_data/final_data_with_IDs_new.csv')\n",
    "\n",
    "documents = df.to_dict(orient='records')\n",
    "import json\n",
    "with open('../data/clean_data/documents.json', 'w') as file:\n",
    "    json.dump(documents, file)"
   ]
  },
  {
   "cell_type": "code",
   "execution_count": 7,
   "id": "4cf3106a-1943-423b-aef9-80a8b24ffcf4",
   "metadata": {},
   "outputs": [],
   "source": [
    "df=pd.read_csv('../data/clean_data/date_chunked_5s.csv')\n",
    "\n",
    "documents = df.to_dict(orient='records')\n",
    "import json\n",
    "with open('../data/clean_data/documents.json', 'w') as file:\n",
    "    json.dump(documents, file)"
   ]
  },
  {
   "cell_type": "code",
   "execution_count": 8,
   "id": "49255aa6-4022-41a9-b49c-bf5fc92010c1",
   "metadata": {},
   "outputs": [
    {
     "name": "stdout",
     "output_type": "stream",
     "text": [
      "5837\n"
     ]
    },
    {
     "data": {
      "text/plain": [
       "{'id': 0,\n",
       " 'content': 'this is the first I see an egg in bath ingredients and egg?. The plastic might even be better (especially if you have hard plastic) considering you have the cloth in between, because stainless steel could draw EMFs Your love Better anything non processed.. Sea water, an egg, sea salt, ACV, a little Urine.. .. .',\n",
       " 'number of sentences': 5,\n",
       " 'number of words': 56}"
      ]
     },
     "execution_count": 8,
     "metadata": {},
     "output_type": "execute_result"
    }
   ],
   "source": [
    "print(len(documents))\n",
    "documents[0]\n"
   ]
  },
  {
   "cell_type": "markdown",
   "id": "06d07a1f-7d0d-44f1-a77d-96b8d79f0055",
   "metadata": {},
   "source": [
    "### Minsearch"
   ]
  },
  {
   "cell_type": "code",
   "execution_count": 9,
   "id": "17a1adb3-32f2-46b1-b46e-9f5f9771ff58",
   "metadata": {},
   "outputs": [],
   "source": [
    "# I decided not to use keywords as I discovered that it was helping with hit rate but slightly lowering it"
   ]
  },
  {
   "cell_type": "code",
   "execution_count": 10,
   "id": "a29e0bad-a82e-4b4d-bbbd-07bbf906903e",
   "metadata": {},
   "outputs": [],
   "source": [
    "index = minsearch.Index(\n",
    "    text_fields=['content'],\n",
    "    keyword_fields=[]\n",
    ")"
   ]
  },
  {
   "cell_type": "code",
   "execution_count": null,
   "id": "9b61a97d-d7a5-4c79-bc4f-580eb4e85ed8",
   "metadata": {},
   "outputs": [],
   "source": []
  },
  {
   "cell_type": "code",
   "execution_count": 11,
   "id": "983e54e9-2c7b-4848-8482-19d4cf589a49",
   "metadata": {},
   "outputs": [
    {
     "data": {
      "text/plain": [
       "<minsearch.Index at 0x259a9cf2de0>"
      ]
     },
     "execution_count": 11,
     "metadata": {},
     "output_type": "execute_result"
    }
   ],
   "source": [
    "index"
   ]
  },
  {
   "cell_type": "code",
   "execution_count": 12,
   "id": "341a55cb-be6e-48ac-9a8f-15e72cae0f16",
   "metadata": {},
   "outputs": [
    {
     "data": {
      "text/plain": [
       "<minsearch.Index at 0x259a9cf2de0>"
      ]
     },
     "execution_count": 12,
     "metadata": {},
     "output_type": "execute_result"
    }
   ],
   "source": [
    "index.fit(documents)"
   ]
  },
  {
   "cell_type": "code",
   "execution_count": 13,
   "id": "0a56dcae-f7aa-4b0a-902e-02f31686f0bb",
   "metadata": {},
   "outputs": [
    {
     "data": {
      "text/plain": [
       "['content']"
      ]
     },
     "execution_count": 13,
     "metadata": {},
     "output_type": "execute_result"
    }
   ],
   "source": [
    "index.text_fields"
   ]
  },
  {
   "cell_type": "markdown",
   "id": "27f726cf-66d5-48f3-b9f0-0ca6e0a5569c",
   "metadata": {},
   "source": [
    "## RAG Flow"
   ]
  },
  {
   "cell_type": "code",
   "execution_count": 14,
   "id": "acb1a91f-efac-4e76-8671-b02840b45561",
   "metadata": {},
   "outputs": [],
   "source": [
    "client = OpenAI()"
   ]
  },
  {
   "cell_type": "code",
   "execution_count": 15,
   "id": "477dc7f6-b597-4938-b478-e1c64e32587d",
   "metadata": {},
   "outputs": [],
   "source": [
    "query = 'How do I lose belly fat?'"
   ]
  },
  {
   "cell_type": "code",
   "execution_count": 16,
   "id": "5ed55640-6a68-4d51-bca4-872f8a6d0398",
   "metadata": {},
   "outputs": [],
   "source": [
    "def search(query):\n",
    "    boost = {}\n",
    "\n",
    "    results = index.search(\n",
    "        query=query,\n",
    "        filter_dict={},\n",
    "        boost_dict=boost,\n",
    "        num_results=10\n",
    "    )\n",
    "\n",
    "    return results"
   ]
  },
  {
   "cell_type": "code",
   "execution_count": 17,
   "id": "da200554-c9b4-4c25-bb3c-2669be2b548a",
   "metadata": {},
   "outputs": [
    {
     "data": {
      "text/plain": [
       "[{'id': 1366,\n",
       "  'content': \"what about the fat you'd gain around your belly and chubby face?. im okay with not having a six pack, i just dont wanna have lose rolls of fat on my sides and belly Are you having milkshakes?. Which one?. There are several ones.. Aajonus also said there can be a 15 degree change from person to person and although rare, right and left eye can be flipped in some people.\",\n",
       "  'number of sentences': 5,\n",
       "  'number of words': 71},\n",
       " {'id': 2556,\n",
       "  'content': 'More detoxing is necessary I wish I had that much body fat though, I frequently feel sick because I don’t have enough As long as u are overweight its fine 5-15lbs overweight is for women and 15-40lbs for men yeah.. But being fatter as a women is still recommended Funny how many people who find primal are primarily underweight people.. I am the opposite where I put on weight easily Isn’t that for men?. More fat is better Really, since I hit 60-61 kg I don’t gain any weight anymore 🤷🏻\\u200d♀️ Fat = fertility Girl stop it 🤣🤣 Don’t flex 🍑 I’m also way fatter than before hahaha, especially my belly No just sunmaxxing, i did gain some muscle though I will but I won’t show it 🤣 How tall Yes, flex w words only !. 🤣🤣 And lose Belly fat by doing nothing?',\n",
       "  'number of sentences': 5,\n",
       "  'number of words': 144},\n",
       " {'id': 1525,\n",
       "  'content': 'Are u not going down in weight no more?. Sometimes the carnivores or people eating low carbs they don’t lose much weight but they lose weight in there stomach and stuff they basicly get healthier and there fat percentage goes down.. They lose the fat in the waist n all that.. Have u noticed that or is it just staying the same?. Do you workout?',\n",
       "  'number of sentences': 5,\n",
       "  'number of words': 65},\n",
       " {'id': 4626,\n",
       "  'content': \"Do you recomend to lose fat for lose bad fats i stored from years of veg fats and when i am lean start gaining good animal fat or just getting fat and domt eating veg fat i Will lose that bad fat?. Try milkshakes.. They should help with mucus going through the lungs.. Unless you are very far from Pennsylvania like the west coast and it's summer, then maybe.. But most people will be fine, especially when it's not hot outside good testimony, thanks Do I go to a donor bank and ask to buy it for dinner lmao That’s great to hear aajonus recommends eating raw fat for those, yeah has anyone been happy ordering amos milk cause idk if i should order a bunch of milk for it to come melted Best way to detox from medication such as finasteride?\",\n",
       "  'number of sentences': 5,\n",
       "  'number of words': 142},\n",
       " {'id': 3180,\n",
       "  'content': \"I did good photos of eyes Agreed, need to be then Where so?. :) How many time food contains is in stomach?. After how long can I draw conclusions about the digestibility of products?. do you guys think there’s feds in this chat that shouldn't give water retention but i’m always craving honey and fruit 3 times a day Ive heard from someone on primal that eating more fat on lose weight time is even more helps to lose fat.. Carbs, fruits is the only enemies on the way I thought the only way to lose fat is lower carbs As i understand fruits give swelling for me personally, when it is used more than once every 10 days, then swelling goes away quickly it’s a serious issue.\",\n",
       "  'number of sentences': 5,\n",
       "  'number of words': 128},\n",
       " {'id': 4405,\n",
       "  'content': 'Nobody wants to be fat lmao Unrelated but bro what is that profile pic 🤣 Picture I took from a party I went to awhile back 🤭 Yea I’m not gonna get fat.. Id maybe do it to lose toxins but I’d lose it again afterwards.. Not worth the inability to do basic exercise Do you guys eat cheese while on weight loss cycles?. I am currently doing one.. Been 27 BMI for about 8 months now.',\n",
       "  'number of sentences': 5,\n",
       "  'number of words': 77},\n",
       " {'id': 3187,\n",
       "  'content': \"https://healthfully.. ai/schedules?. id=65018717308eab5a5e59369dEat one egg at a time, lean meat, don't drink too much milk, avoid sugar, don't eat high fat (sometimes you lose weight with high fat but if you don't already and want to lose weight now then for a brief period just medium-low fat) Do you drink a lot of milk 6-8 oz a day at least for the milkshake.. Then 3-4 days out of the week I’ll have extra 30-50 oz on top the regular 6-8 oz so that can be like 2L of milk a day?. If you can cut to 1L (and always drink it slowly) then you might already lose water retention I lift weights and I eat no carbs.\",\n",
       "  'number of sentences': 5,\n",
       "  'number of words': 117},\n",
       " {'id': 9,\n",
       "  'content': 'my name says it all tbh Hey Daniel welcome to Primal Diet.. To chat, tap the \"Verify\" button and then \"Start\": because eating one egg at a time, a raw egg is so simple to digest it will lead to weight lossit\\'s not just about this or caloriesRaw foods especially can make your body use more nutrients in certain processes like detoxificationEating more protein can also make your body shed off fast quite fast, as the body requires fat to digest protein (still do not eat a protein only diet with 0 fat, just with low fat to lose weight faster, and yes some people lose weight too on high fat diets, several things can occur) What country are you in?. what is that dragon fruit?. No looks super ripe If you want to lose weight quickly go on egg fast for 2-3 days Yes it will What else can you do to encourage sleepiness milk seemed to work for me in the beginning but as of late I don’t get tired at night Hey Double welcome to Primal Diet.. To chat, tap the \"Verify\" button and then \"Start\": AV said eating lots of eggs and meat makes you lose weight Being in a calorie deficit specifically Losing weight comes down to calorie intake Does eating 20 eggs a day make you lose weight faster than eating 10 eggs?',\n",
       "  'number of sentences': 5,\n",
       "  'number of words': 229},\n",
       " {'id': 2505,\n",
       "  'content': 'Stop running n jogging u Will lose a lot of muscle.. Just go walk in natyure @leclayrom milk got sour (in the fridge) and cant drink it now due to the taste (not used to it)What could I do with it?. Maybe i can make butter?. I dont know how First id need to separate the cream from the whey and idk how Maybe cheese?. I dont have any tools No If she wants to lose weight Not just a simple vague non-functioning “just eat more meat” advice @ramonrico do raw egg only diet Just drink an egg every 5 hours in order to stop autophagy Youll lose weight real fast no matter how slow your metabolism is Hello Tyler could you DM me?',\n",
       "  'number of sentences': 5,\n",
       "  'number of words': 124},\n",
       " {'id': 5590,\n",
       "  'content': \"Belly?. Double chin?. You'd know You should know bro How do ik if im overweight Lymphatic baths are 1.. 5 hours max.. But you should be overweight by at least 10lbs to safely do them.\",\n",
       "  'number of sentences': 5,\n",
       "  'number of words': 35}]"
      ]
     },
     "execution_count": 17,
     "metadata": {},
     "output_type": "execute_result"
    }
   ],
   "source": [
    "search(query)"
   ]
  },
  {
   "cell_type": "code",
   "execution_count": 18,
   "id": "6250adf1-12b3-480f-b33d-c3ec6608b904",
   "metadata": {},
   "outputs": [
    {
     "data": {
      "text/plain": [
       "\"Losing belly fat involves a combination of diet, exercise, and lifestyle adjustments. Here's a comprehensive approach to help you achieve your goals:\\n\\n1. **Healthy Diet:**\\n   - **Calorie Control:** Create a calorie deficit by consuming fewer calories than you burn. Use a calorie-tracking app to monitor your intake.\\n   - **Balanced Nutrition:** Focus on whole foods such as fruits, vegetables, lean proteins, and whole grains. These are high in nutrients and help with satiety.\\n   - **Limit Sugars and Refined Carbs:** Cut down on sugary snacks, drinks, and refined carbs like white bread and pasta, which can contribute to belly fat.\\n   - **Increase Protein Intake:** Protein can help you feel full for longer and supports muscle maintenance. Include sources like chicken, fish, beans, and legumes.\\n   - **Healthy Fats:** Consume healthy fats such as those found in avocados, nuts, and olive oil in moderation.\\n\\n2. **Regular Exercise:**\\n   - **Cardiovascular Exercise:** Engage in activities like walking, running, cycling, or swimming for at least 150 minutes per week.\\n   - **Strength Training:** Incorporate resistance exercises 2-3 times per week to build muscle. Muscle burns more calories at rest, which helps in reducing fat.\\n   - **Core Exercises:** Although spot reduction is not effective, exercises like planks, crunches, and bicycle crunches can help tone your abdominal muscles.\\n\\n3. **Lifestyle Changes:**\\n   - **Adequate Sleep:** Aim for 7-9 hours of quality sleep per night. Poor sleep can negatively impact metabolism and hunger hormones.\\n   - **Stress Management:** High stress levels can lead to weight gain, especially around the belly. Practice stress-reduction techniques such as meditation, yoga, or deep breathing.\\n   - **Hydration:** Drink plenty of water throughout the day. Sometimes thirst is confused with hunger.\\n\\n4. **Consistency and Patience:**\\n   - Remember that losing belly fat takes time, and it's important to be consistent with your healthy habits.\\n   - Avoid crash diets or excessive exercise programs that are unsustainable in the long term.\\n\\n5. **Consider Professional Guidance:**\\n   - If you're struggling to make progress, consider consulting a nutritionist or a personal trainer for personalized advice.\\n\\nBy making these adjustments, you can effectively work towards reducing belly fat and improving your overall health.\""
      ]
     },
     "execution_count": 18,
     "metadata": {},
     "output_type": "execute_result"
    }
   ],
   "source": [
    "## LLM response\n",
    "response = client.chat.completions.create(\n",
    "    model='gpt-4o',\n",
    "    messages=[{\"role\": \"user\", \"content\": query}]\n",
    ")\n",
    "\n",
    "response.choices[0].message.content\n"
   ]
  },
  {
   "cell_type": "code",
   "execution_count": 19,
   "id": "e71f98d5-c162-4700-9ca7-2f9d6e8abd78",
   "metadata": {},
   "outputs": [],
   "source": [
    "#print(_)"
   ]
  },
  {
   "cell_type": "code",
   "execution_count": 20,
   "id": "38c4f49c-a547-4515-8fbc-2b36a5595d30",
   "metadata": {},
   "outputs": [],
   "source": [
    "def build_prompt(query, search_results):\n",
    "    prompt_template = \"\"\"\n",
    "    You're a primal health adviser. Answer the QUESTION based on the CONTEXT from our primal diet database.\n",
    "    Use only the facts from the CONTEXT when answering the QUESTION.\n",
    "    \n",
    "    QUESTION: {question}\n",
    "    \n",
    "    CONTEXT:\n",
    "    {context}\n",
    "    \"\"\".strip()\n",
    "    \n",
    "    entry_template = \"\"\"\n",
    "    Chunked_Content: {Chunked_Content}\n",
    "    \"\"\".strip()\n",
    "    context = \"\"\n",
    "    \n",
    "    for doc in search_results:\n",
    "        context = context + entry_template.format(**doc) + \"\\n\\n\"\n",
    "\n",
    "    prompt = prompt_template.format(question=query, context=context).strip()\n",
    "    return prompt"
   ]
  },
  {
   "cell_type": "code",
   "execution_count": 21,
   "id": "bc9c465f-519c-4458-b1e5-79b947777dbf",
   "metadata": {},
   "outputs": [],
   "source": [
    "def build_prompt(query, search_results):\n",
    "    prompt_template = \"\"\"\n",
    "    You're a primal health adviser. Answer the QUESTION based on the CONTEXT from our primal diet database.\n",
    "    Use only the facts from the CONTEXT when answering the QUESTION.\n",
    "    \n",
    "    QUESTION: {question}\n",
    "    \n",
    "    CONTEXT:\n",
    "    {context}\n",
    "    \"\"\".strip()\n",
    "    \n",
    "    entry_template = \"\"\"\n",
    "    Chunked_Content: {content}\n",
    "    \"\"\".strip()\n",
    "    context = \"\"\n",
    "    \n",
    "    for doc in search_results:\n",
    "        context = context + entry_template.format(**doc) + \"\\n\\n\"\n",
    "\n",
    "    prompt = prompt_template.format(question=query, context=context).strip()\n",
    "    return prompt"
   ]
  },
  {
   "cell_type": "code",
   "execution_count": 183,
   "id": "c907faaf-a485-46ad-9060-124443fa2752",
   "metadata": {},
   "outputs": [],
   "source": [
    "def llm(prompt, model='gpt-4o-mini'):\n",
    "    response = client.chat.completions.create(\n",
    "        model=model,\n",
    "        messages=[{\"role\": \"user\", \"content\": prompt}]\n",
    "    )\n",
    "    \n",
    "    return response.choices[0].message.content"
   ]
  },
  {
   "cell_type": "code",
   "execution_count": 22,
   "id": "397591c9-4df9-47ab-b277-01011c0603a9",
   "metadata": {},
   "outputs": [],
   "source": [
    "query='how do I lose belly fat?'\n",
    "def rag(query, model='gpt-4o-mini'):\n",
    "    search_results = search(query)\n",
    "    prompt = build_prompt(query, search_results)\n",
    "    #print(prompt)\n",
    "    answer = llm(prompt, model=model)\n",
    "    return answer\n",
    "\n"
   ]
  },
  {
   "cell_type": "code",
   "execution_count": 44,
   "id": "92a6c8e0-ac9f-41a5-9d48-a6e4ab901022",
   "metadata": {},
   "outputs": [],
   "source": [
    "query='how to lose belly fat'\n",
    "def rag(query, model='ollama3.2:1b'):\n",
    "    search_results = search(query)\n",
    "    prompt = build_prompt(query, search_results)\n",
    "    #print(prompt)\n",
    "    answer = llm(prompt, model=model)\n",
    "    return answer"
   ]
  },
  {
   "cell_type": "code",
   "execution_count": 45,
   "id": "5b57145f-c05e-46a9-b245-77bfb93a3d16",
   "metadata": {},
   "outputs": [
    {
     "data": {
      "text/plain": [
       "''"
      ]
     },
     "execution_count": 45,
     "metadata": {},
     "output_type": "execute_result"
    }
   ],
   "source": [
    "rag(query)"
   ]
  },
  {
   "cell_type": "code",
   "execution_count": 46,
   "id": "ec4ab9ef-8fd2-470b-b836-a46974ad01d4",
   "metadata": {},
   "outputs": [
    {
     "data": {
      "application/vnd.jupyter.widget-view+json": {
       "model_id": "80d6ebf063114cfd9b5789a77d73ca60",
       "version_major": 2,
       "version_minor": 0
      },
      "text/plain": [
       "tokenizer_config.json:   0%|          | 0.00/2.54k [00:00<?, ?B/s]"
      ]
     },
     "metadata": {},
     "output_type": "display_data"
    },
    {
     "name": "stderr",
     "output_type": "stream",
     "text": [
      "C:\\Users\\user\\miniconda3\\Lib\\site-packages\\huggingface_hub\\file_download.py:159: UserWarning: `huggingface_hub` cache-system uses symlinks by default to efficiently store duplicated files but your machine does not support them in C:\\Users\\user\\.cache\\huggingface\\hub\\models--google--flan-t5-small. Caching files will still work but in a degraded version that might require more space on your disk. This warning can be disabled by setting the `HF_HUB_DISABLE_SYMLINKS_WARNING` environment variable. For more details, see https://huggingface.co/docs/huggingface_hub/how-to-cache#limitations.\n",
      "To support symlinks on Windows, you either need to activate Developer Mode or to run Python as an administrator. In order to see activate developer mode, see this article: https://docs.microsoft.com/en-us/windows/apps/get-started/enable-your-device-for-development\n",
      "  warnings.warn(message)\n"
     ]
    },
    {
     "data": {
      "application/vnd.jupyter.widget-view+json": {
       "model_id": "4e78b8f86fc34337a1cd9d8015b42f03",
       "version_major": 2,
       "version_minor": 0
      },
      "text/plain": [
       "spiece.model:   0%|          | 0.00/792k [00:00<?, ?B/s]"
      ]
     },
     "metadata": {},
     "output_type": "display_data"
    },
    {
     "data": {
      "application/vnd.jupyter.widget-view+json": {
       "model_id": "11e0b4ea22984fe98a25551cd012ab4f",
       "version_major": 2,
       "version_minor": 0
      },
      "text/plain": [
       "special_tokens_map.json:   0%|          | 0.00/2.20k [00:00<?, ?B/s]"
      ]
     },
     "metadata": {},
     "output_type": "display_data"
    },
    {
     "data": {
      "application/vnd.jupyter.widget-view+json": {
       "model_id": "f624f0c8640d48098c503282e6ab3cde",
       "version_major": 2,
       "version_minor": 0
      },
      "text/plain": [
       "tokenizer.json:   0%|          | 0.00/2.42M [00:00<?, ?B/s]"
      ]
     },
     "metadata": {},
     "output_type": "display_data"
    },
    {
     "name": "stderr",
     "output_type": "stream",
     "text": [
      "You are using the default legacy behaviour of the <class 'transformers.models.t5.tokenization_t5.T5Tokenizer'>. This is expected, and simply means that the `legacy` (previous) behavior will be used so nothing changes for you. If you want to use the new behaviour, set `legacy=False`. This should only be set if you understand what it means, and thoroughly read the reason why this was added as explained in https://github.com/huggingface/transformers/pull/24565\n",
      "C:\\Users\\user\\miniconda3\\Lib\\site-packages\\transformers\\tokenization_utils_base.py:1601: FutureWarning: `clean_up_tokenization_spaces` was not set. It will be set to `True` by default. This behavior will be depracted in transformers v4.45, and will be then set to `False` by default. For more details check this issue: https://github.com/huggingface/transformers/issues/31884\n",
      "  warnings.warn(\n"
     ]
    },
    {
     "data": {
      "application/vnd.jupyter.widget-view+json": {
       "model_id": "1d358e97584b490c8c06f0e11a37d8b7",
       "version_major": 2,
       "version_minor": 0
      },
      "text/plain": [
       "config.json:   0%|          | 0.00/1.40k [00:00<?, ?B/s]"
      ]
     },
     "metadata": {},
     "output_type": "display_data"
    },
    {
     "data": {
      "application/vnd.jupyter.widget-view+json": {
       "model_id": "21b7e395baa4409ea929c4cf2131d0e7",
       "version_major": 2,
       "version_minor": 0
      },
      "text/plain": [
       "model.safetensors:   0%|          | 0.00/308M [00:00<?, ?B/s]"
      ]
     },
     "metadata": {},
     "output_type": "display_data"
    },
    {
     "data": {
      "application/vnd.jupyter.widget-view+json": {
       "model_id": "cd69b7581f294445ad7c24f23f349a6f",
       "version_major": 2,
       "version_minor": 0
      },
      "text/plain": [
       "generation_config.json:   0%|          | 0.00/147 [00:00<?, ?B/s]"
      ]
     },
     "metadata": {},
     "output_type": "display_data"
    },
    {
     "name": "stderr",
     "output_type": "stream",
     "text": [
      "C:\\Users\\user\\miniconda3\\Lib\\site-packages\\transformers\\generation\\utils.py:1258: UserWarning: Using the model-agnostic default `max_length` (=20) to control the generation length. We recommend setting `max_new_tokens` to control the maximum length of the generation.\n",
      "  warnings.warn(\n"
     ]
    },
    {
     "name": "stdout",
     "output_type": "stream",
     "text": [
      "<pad> Wie ich er bitten?</s>\n"
     ]
    }
   ],
   "source": [
    "from transformers import T5Tokenizer, T5ForConditionalGeneration\n",
    "\n",
    "tokenizer = T5Tokenizer.from_pretrained(\"google/flan-t5-small\")\n",
    "model = T5ForConditionalGeneration.from_pretrained(\"google/flan-t5-small\")\n",
    "\n",
    "input_text = \"translate English to German: How old are you?\"\n",
    "input_ids = tokenizer(input_text, return_tensors=\"pt\").input_ids\n",
    "\n",
    "outputs = model.generate(input_ids)\n",
    "print(tokenizer.decode(outputs[0]))"
   ]
  },
  {
   "cell_type": "code",
   "execution_count": 76,
   "id": "2c3401b9-37ff-458e-80b6-cc423237b143",
   "metadata": {},
   "outputs": [],
   "source": [
    "query='tell me about healthy food?'\n",
    "def llm_flan(prompt):\n",
    "    input_ids = tokenizer(prompt, return_tensors=\"pt\",max_length=2048, truncation=True).input_ids\n",
    "    #outputs = model.generate(input_ids, max_length=3048, num_beams=4, early_stopping=True)\n",
    "    outputs = model.generate(\n",
    "        input_ids, \n",
    "        max_new_tokens=1024,  # Set max number of new tokens\n",
    "        num_beams=4,          # Keep beams, but consider reducing for diversity\n",
    "        do_sample=True,       # Use sampling instead of beam search\n",
    "        top_p=0.9,            # Use nucleus sampling for diversity\n",
    "        early_stopping=False  # Allow the model to generate more tokens\n",
    "    )\n",
    "    result=tokenizer.decode(outputs[0])\n",
    "    return result\n",
    "    \n",
    "    \n"
   ]
  },
  {
   "cell_type": "code",
   "execution_count": 77,
   "id": "f4ce4a19-a321-469f-a474-a4345f5dd326",
   "metadata": {},
   "outputs": [
    {
     "data": {
      "text/plain": [
       "'<pad> Healthy foods are foods that are high in fiber, vitamins, and minerals.</s>'"
      ]
     },
     "execution_count": 77,
     "metadata": {},
     "output_type": "execute_result"
    }
   ],
   "source": [
    "llm_flan(query)"
   ]
  },
  {
   "cell_type": "code",
   "execution_count": 71,
   "id": "6ee4380d-3328-4228-b570-0066cdfc97de",
   "metadata": {},
   "outputs": [
    {
     "name": "stdout",
     "output_type": "stream",
     "text": [
      "<pad> Take a small amount of water and a small amount of sugar.</s>\n"
     ]
    }
   ],
   "source": [
    "print(_)"
   ]
  },
  {
   "cell_type": "code",
   "execution_count": null,
   "id": "899dcdbb-93b6-4821-8f48-ef8a74e6f324",
   "metadata": {},
   "outputs": [],
   "source": []
  },
  {
   "cell_type": "code",
   "execution_count": null,
   "id": "999f955e-a507-4ba1-a4d6-315394238007",
   "metadata": {},
   "outputs": [],
   "source": []
  },
  {
   "cell_type": "markdown",
   "id": "38bdb0d2-4ca6-4564-84e7-6cc4ee20a935",
   "metadata": {},
   "source": [
    "### Retrieval evaluation"
   ]
  },
  {
   "cell_type": "code",
   "execution_count": 132,
   "id": "cb4f7e6e-112a-4edd-a582-e84e82bc3fcd",
   "metadata": {},
   "outputs": [],
   "source": [
    "df_questions = pd.read_csv('../data/clean_data/ground-truth-data_final.csv')"
   ]
  },
  {
   "cell_type": "code",
   "execution_count": 133,
   "id": "e6c70fcd-2378-4447-8434-1e5e37bc679e",
   "metadata": {},
   "outputs": [],
   "source": [
    "# print(len(df_questions))\n",
    "# # I will slice it to save time\n",
    "# df_questions_5000=df_questions.iloc[:1000]"
   ]
  },
  {
   "cell_type": "code",
   "execution_count": 134,
   "id": "b9e4f21d-fd20-4e3a-866a-97eee735988d",
   "metadata": {},
   "outputs": [
    {
     "data": {
      "text/plain": [
       "1000"
      ]
     },
     "execution_count": 134,
     "metadata": {},
     "output_type": "execute_result"
    }
   ],
   "source": [
    "ground_truth=df_questions.to_dict(orient='records')\n",
    "len(ground_truth)"
   ]
  },
  {
   "cell_type": "code",
   "execution_count": 135,
   "id": "bd268389-6545-444a-985a-5cee677df68e",
   "metadata": {},
   "outputs": [
    {
     "name": "stdout",
     "output_type": "stream",
     "text": [
      "What makes you say that threatening your family is not acceptable?\n",
      "Why do you feel that someone needs to get a life?\n",
      "Have you experienced any recent threats to your family?\n",
      "What would you consider an appropriate response to someone threatening your family?\n",
      "Have you taken any steps to address these threats towards your family?\n",
      "Where can I find a thin silk floss that's unwaxed like silk thread?\n"
     ]
    },
    {
     "data": {
      "text/plain": [
       "list"
      ]
     },
     "execution_count": 135,
     "metadata": {},
     "output_type": "execute_result"
    }
   ],
   "source": [
    "len(ground_truth)\n",
    "for q in ground_truth[0:6]:\n",
    "    print(q['question'])\n",
    "type(ground_truth)"
   ]
  },
  {
   "cell_type": "code",
   "execution_count": 136,
   "id": "d641e326-5c48-46b1-97fb-93a06837dbb3",
   "metadata": {},
   "outputs": [],
   "source": [
    "def hit_rate(relevance_total):\n",
    "    cnt = 0\n",
    "\n",
    "    for line in relevance_total:\n",
    "        if True in line:\n",
    "            cnt = cnt + 1\n",
    "\n",
    "    return cnt / len(relevance_total)\n",
    "\n",
    "def mrr(relevance_total):\n",
    "    total_score = 0.0\n",
    "\n",
    "    for line in relevance_total:\n",
    "        for rank in range(len(line)):\n",
    "            if line[rank] == True:\n",
    "                total_score = total_score + 1 / (rank + 1)\n",
    "\n",
    "    return total_score / len(relevance_total)"
   ]
  },
  {
   "cell_type": "code",
   "execution_count": 137,
   "id": "cc09a27d-e890-490a-912b-f08f9922ef20",
   "metadata": {},
   "outputs": [],
   "source": [
    "def minsearch_search(query):\n",
    "    boost = {}\n",
    "\n",
    "    results = index.search(\n",
    "        query=query,\n",
    "        filter_dict={},\n",
    "        boost_dict=boost,\n",
    "        num_results=10\n",
    "    )\n",
    "\n",
    "    return results"
   ]
  },
  {
   "cell_type": "code",
   "execution_count": 138,
   "id": "673d9136-8be6-4e9d-8991-588da22fa00a",
   "metadata": {},
   "outputs": [],
   "source": [
    "def evaluate(ground_truth, search_function):\n",
    "    relevance_total = []\n",
    "\n",
    "    for q in tqdm(ground_truth):\n",
    "        doc_id = q['id']\n",
    "        results = search_function(q)\n",
    "        relevance = [d['id'] == doc_id for d in results]\n",
    "        relevance_total.append(relevance)\n",
    "\n",
    "    return {\n",
    "        'hit_rate': hit_rate(relevance_total),\n",
    "        'mrr': mrr(relevance_total),\n",
    "    }"
   ]
  },
  {
   "cell_type": "code",
   "execution_count": 139,
   "id": "b3eebcc9-f0e5-47df-83d9-23491b86fa44",
   "metadata": {},
   "outputs": [],
   "source": [
    "from tqdm.auto import tqdm"
   ]
  },
  {
   "cell_type": "code",
   "execution_count": 140,
   "id": "b208267a-e1aa-43d5-8aaf-e7528fc8a1c2",
   "metadata": {},
   "outputs": [
    {
     "data": {
      "application/vnd.jupyter.widget-view+json": {
       "model_id": "c5eb753f4e894c4ba6dae250350e36ea",
       "version_major": 2,
       "version_minor": 0
      },
      "text/plain": [
       "  0%|          | 0/1000 [00:00<?, ?it/s]"
      ]
     },
     "metadata": {},
     "output_type": "display_data"
    },
    {
     "data": {
      "text/plain": [
       "{'hit_rate': 0.762, 'mrr': 0.5635638888888886}"
      ]
     },
     "execution_count": 140,
     "metadata": {},
     "output_type": "execute_result"
    }
   ],
   "source": [
    "evaluate(ground_truth, lambda q: minsearch_search(q['question']))"
   ]
  },
  {
   "cell_type": "code",
   "execution_count": 141,
   "id": "e2b26956-ce63-416f-85bb-9c8154609701",
   "metadata": {},
   "outputs": [],
   "source": [
    "# {'hit_rate': 0.365, 'mrr': 0.21138730158730154} # with 1000 rows\n",
    "#{'hit_rate': 0.541, 'mrr': 0.34330912698412647} after chunking 20 sentence per chunk\n",
    "#{'hit_rate': 0.5573333333333333, 'mrr': 0.3611481481481479} previous there are 100 sentence and also very short sentence\n",
    "#{'hit_rate': 0.762, 'mrr': 0.5635638888888886} data sliced from jan 2024 to september 2024 and limit 5 sentences \n",
    "#between 100 words to 400 words per chunks"
   ]
  },
  {
   "cell_type": "code",
   "execution_count": 142,
   "id": "cccd83a8-b44b-443d-9a38-22e524e67054",
   "metadata": {},
   "outputs": [],
   "source": [
    "#{'hit_rate': 0.3724, 'mrr': 0.21373825396825424}# with 5000 rows of ground-truth questions\n"
   ]
  },
  {
   "cell_type": "markdown",
   "id": "4da1ab90-92e8-4e8e-b4ce-91db57ff5abf",
   "metadata": {},
   "source": [
    "### Finding the best parameters"
   ]
  },
  {
   "cell_type": "code",
   "execution_count": 143,
   "id": "64019bd7-fc1d-4485-b76a-001f0021e80c",
   "metadata": {},
   "outputs": [],
   "source": [
    "df_validation = df_questions[:100]\n",
    "df_test = df_questions[100:200]"
   ]
  },
  {
   "cell_type": "code",
   "execution_count": 144,
   "id": "a81f8226-2c55-446e-a980-c4ad8c007f20",
   "metadata": {},
   "outputs": [],
   "source": [
    "import random\n",
    "\n",
    "def simple_optimize(param_ranges, objective_function, n_iterations=10):\n",
    "    best_params = None\n",
    "    best_score = float('-inf')  # Assuming we're minimizing. Use float('-inf') if maximizing.\n",
    "\n",
    "    for _ in range(n_iterations):\n",
    "        # Generate random parameters\n",
    "        current_params = {}\n",
    "        for param, (min_val, max_val) in param_ranges.items():\n",
    "            if isinstance(min_val, int) and isinstance(max_val, int):\n",
    "                current_params[param] = random.randint(min_val, max_val)\n",
    "            else:\n",
    "                current_params[param] = random.uniform(min_val, max_val)\n",
    "        \n",
    "        # Evaluate the objective function\n",
    "        current_score = objective_function(current_params)\n",
    "        \n",
    "        # Update best if current is better\n",
    "        if current_score > best_score:  # Change to > if maximizing\n",
    "            best_score = current_score\n",
    "            best_params = current_params\n",
    "    \n",
    "    return best_params, best_score"
   ]
  },
  {
   "cell_type": "code",
   "execution_count": 145,
   "id": "0c6dab3e-4fde-43f3-bfa2-9cdc178d309d",
   "metadata": {},
   "outputs": [],
   "source": [
    "gt_val = df_validation.to_dict(orient='records')"
   ]
  },
  {
   "cell_type": "code",
   "execution_count": 146,
   "id": "81c09c4c-228c-404e-ab87-21e4ce04c5e5",
   "metadata": {},
   "outputs": [],
   "source": [
    "def minsearch_search(query, boost=None):\n",
    "    if boost is None:\n",
    "        boost = {}\n",
    "\n",
    "    results = index.search(\n",
    "        query=query,\n",
    "        filter_dict={},\n",
    "        boost_dict=boost,\n",
    "        num_results=10\n",
    "    )\n",
    "\n",
    "    return results"
   ]
  },
  {
   "cell_type": "code",
   "execution_count": 152,
   "id": "e4df0cc6-c6c3-41a7-99fb-f7e5ead85e2d",
   "metadata": {},
   "outputs": [],
   "source": [
    "param_ranges = {\n",
    "    'content': (1.0, 3.0),\n",
    "    \n",
    "    \n",
    "}\n",
    "\n",
    "def objective(boost_params):\n",
    "    def search_function(q):\n",
    "        return minsearch_search(q['question'], boost_params)\n",
    "\n",
    "    results = evaluate(gt_val, search_function)\n",
    "    return results['mrr']"
   ]
  },
  {
   "cell_type": "code",
   "execution_count": 153,
   "id": "7d45dee4-ed23-4a5a-ba4f-300db9d29c7d",
   "metadata": {},
   "outputs": [
    {
     "data": {
      "application/vnd.jupyter.widget-view+json": {
       "model_id": "6eea650ca9c040cfb5297e96eabf3c5a",
       "version_major": 2,
       "version_minor": 0
      },
      "text/plain": [
       "  0%|          | 0/100 [00:00<?, ?it/s]"
      ]
     },
     "metadata": {},
     "output_type": "display_data"
    },
    {
     "data": {
      "application/vnd.jupyter.widget-view+json": {
       "model_id": "5a93513aef0449818bf5d6a8d31a9d75",
       "version_major": 2,
       "version_minor": 0
      },
      "text/plain": [
       "  0%|          | 0/100 [00:00<?, ?it/s]"
      ]
     },
     "metadata": {},
     "output_type": "display_data"
    },
    {
     "data": {
      "application/vnd.jupyter.widget-view+json": {
       "model_id": "ce1c0b4ec6774ab698f91353a91a2c66",
       "version_major": 2,
       "version_minor": 0
      },
      "text/plain": [
       "  0%|          | 0/100 [00:00<?, ?it/s]"
      ]
     },
     "metadata": {},
     "output_type": "display_data"
    },
    {
     "data": {
      "application/vnd.jupyter.widget-view+json": {
       "model_id": "cffbe1eb9965440da2298df60017e568",
       "version_major": 2,
       "version_minor": 0
      },
      "text/plain": [
       "  0%|          | 0/100 [00:00<?, ?it/s]"
      ]
     },
     "metadata": {},
     "output_type": "display_data"
    },
    {
     "data": {
      "application/vnd.jupyter.widget-view+json": {
       "model_id": "ce84dc98162d493ba25fe5708d39597d",
       "version_major": 2,
       "version_minor": 0
      },
      "text/plain": [
       "  0%|          | 0/100 [00:00<?, ?it/s]"
      ]
     },
     "metadata": {},
     "output_type": "display_data"
    },
    {
     "data": {
      "application/vnd.jupyter.widget-view+json": {
       "model_id": "4e069918c9964c26b87d1ede86ef2c62",
       "version_major": 2,
       "version_minor": 0
      },
      "text/plain": [
       "  0%|          | 0/100 [00:00<?, ?it/s]"
      ]
     },
     "metadata": {},
     "output_type": "display_data"
    },
    {
     "data": {
      "application/vnd.jupyter.widget-view+json": {
       "model_id": "a49f7bc7243f4e5caa566700f3e19861",
       "version_major": 2,
       "version_minor": 0
      },
      "text/plain": [
       "  0%|          | 0/100 [00:00<?, ?it/s]"
      ]
     },
     "metadata": {},
     "output_type": "display_data"
    },
    {
     "data": {
      "application/vnd.jupyter.widget-view+json": {
       "model_id": "91a7a6b84fd74a06afa9904a74ef122b",
       "version_major": 2,
       "version_minor": 0
      },
      "text/plain": [
       "  0%|          | 0/100 [00:00<?, ?it/s]"
      ]
     },
     "metadata": {},
     "output_type": "display_data"
    },
    {
     "data": {
      "application/vnd.jupyter.widget-view+json": {
       "model_id": "61973953a07645acba6ae5f06425459e",
       "version_major": 2,
       "version_minor": 0
      },
      "text/plain": [
       "  0%|          | 0/100 [00:00<?, ?it/s]"
      ]
     },
     "metadata": {},
     "output_type": "display_data"
    },
    {
     "data": {
      "application/vnd.jupyter.widget-view+json": {
       "model_id": "b5eb97be43de42e3954bfc79ea875cb1",
       "version_major": 2,
       "version_minor": 0
      },
      "text/plain": [
       "  0%|          | 0/100 [00:00<?, ?it/s]"
      ]
     },
     "metadata": {},
     "output_type": "display_data"
    },
    {
     "data": {
      "application/vnd.jupyter.widget-view+json": {
       "model_id": "4a8cfc2d4b014473a9f6073e62a0fa18",
       "version_major": 2,
       "version_minor": 0
      },
      "text/plain": [
       "  0%|          | 0/100 [00:00<?, ?it/s]"
      ]
     },
     "metadata": {},
     "output_type": "display_data"
    },
    {
     "data": {
      "application/vnd.jupyter.widget-view+json": {
       "model_id": "bda0966c934640b681cc8ae304b49244",
       "version_major": 2,
       "version_minor": 0
      },
      "text/plain": [
       "  0%|          | 0/100 [00:00<?, ?it/s]"
      ]
     },
     "metadata": {},
     "output_type": "display_data"
    },
    {
     "data": {
      "application/vnd.jupyter.widget-view+json": {
       "model_id": "ec6f7e202dcb4a2e8c4efeca5cc1f74a",
       "version_major": 2,
       "version_minor": 0
      },
      "text/plain": [
       "  0%|          | 0/100 [00:00<?, ?it/s]"
      ]
     },
     "metadata": {},
     "output_type": "display_data"
    },
    {
     "data": {
      "application/vnd.jupyter.widget-view+json": {
       "model_id": "255d4138521d45c1ac295d05ea127e88",
       "version_major": 2,
       "version_minor": 0
      },
      "text/plain": [
       "  0%|          | 0/100 [00:00<?, ?it/s]"
      ]
     },
     "metadata": {},
     "output_type": "display_data"
    },
    {
     "data": {
      "application/vnd.jupyter.widget-view+json": {
       "model_id": "dedef96639104da98d9c714ea1376d7b",
       "version_major": 2,
       "version_minor": 0
      },
      "text/plain": [
       "  0%|          | 0/100 [00:00<?, ?it/s]"
      ]
     },
     "metadata": {},
     "output_type": "display_data"
    },
    {
     "data": {
      "application/vnd.jupyter.widget-view+json": {
       "model_id": "8066c1f0db3e4b99ac30fe065becc691",
       "version_major": 2,
       "version_minor": 0
      },
      "text/plain": [
       "  0%|          | 0/100 [00:00<?, ?it/s]"
      ]
     },
     "metadata": {},
     "output_type": "display_data"
    },
    {
     "data": {
      "application/vnd.jupyter.widget-view+json": {
       "model_id": "b61797a123ac4d2a94537912a061fb8f",
       "version_major": 2,
       "version_minor": 0
      },
      "text/plain": [
       "  0%|          | 0/100 [00:00<?, ?it/s]"
      ]
     },
     "metadata": {},
     "output_type": "display_data"
    },
    {
     "data": {
      "application/vnd.jupyter.widget-view+json": {
       "model_id": "94043ec2ad11470a8fa799e96b6e4b59",
       "version_major": 2,
       "version_minor": 0
      },
      "text/plain": [
       "  0%|          | 0/100 [00:00<?, ?it/s]"
      ]
     },
     "metadata": {},
     "output_type": "display_data"
    },
    {
     "data": {
      "application/vnd.jupyter.widget-view+json": {
       "model_id": "0dc738e9a5184c1a844bbe901e8d42b8",
       "version_major": 2,
       "version_minor": 0
      },
      "text/plain": [
       "  0%|          | 0/100 [00:00<?, ?it/s]"
      ]
     },
     "metadata": {},
     "output_type": "display_data"
    },
    {
     "data": {
      "application/vnd.jupyter.widget-view+json": {
       "model_id": "d47d1b787c574692be5129f520a9e9e4",
       "version_major": 2,
       "version_minor": 0
      },
      "text/plain": [
       "  0%|          | 0/100 [00:00<?, ?it/s]"
      ]
     },
     "metadata": {},
     "output_type": "display_data"
    },
    {
     "data": {
      "text/plain": [
       "({'content': 2.3430414424052204}, 0.5565277777777778)"
      ]
     },
     "execution_count": 153,
     "metadata": {},
     "output_type": "execute_result"
    }
   ],
   "source": [
    "simple_optimize(param_ranges, objective, n_iterations=20)"
   ]
  },
  {
   "cell_type": "code",
   "execution_count": 154,
   "id": "e61a1a7a-24d5-4393-addc-c878007d803d",
   "metadata": {},
   "outputs": [
    {
     "data": {
      "application/vnd.jupyter.widget-view+json": {
       "model_id": "a586715e0d1046a28857e0b0e4ddb252",
       "version_major": 2,
       "version_minor": 0
      },
      "text/plain": [
       "  0%|          | 0/1000 [00:00<?, ?it/s]"
      ]
     },
     "metadata": {},
     "output_type": "display_data"
    },
    {
     "data": {
      "text/plain": [
       "{'hit_rate': 0.762, 'mrr': 0.5635638888888886}"
      ]
     },
     "execution_count": 154,
     "metadata": {},
     "output_type": "execute_result"
    }
   ],
   "source": [
    "def minsearch_improved(query):\n",
    "    boost = {\n",
    "    \n",
    "    'content': 2.3430414424052204\n",
    "   \n",
    "    \n",
    "    }\n",
    "\n",
    "    results = index.search(\n",
    "        query=query,\n",
    "        filter_dict={},\n",
    "        boost_dict=boost,\n",
    "        num_results=10\n",
    "    )\n",
    "\n",
    "    return results\n",
    "\n",
    "evaluate(ground_truth, lambda q: minsearch_improved(q['question']))"
   ]
  },
  {
   "cell_type": "markdown",
   "id": "4bb3e339-07b4-4e28-80e2-632a770e5950",
   "metadata": {},
   "source": [
    "## RAG evaluation"
   ]
  },
  {
   "cell_type": "code",
   "execution_count": 155,
   "id": "a02ae322-57b2-4066-8331-b3e5e061bf4f",
   "metadata": {},
   "outputs": [],
   "source": [
    "prompt2_template = \"\"\"\n",
    "You are an expert evaluator for a RAG system.\n",
    "Your task is to analyze the relevance of the generated answer to the given question.\n",
    "Based on the relevance of the generated answer, you will classify it\n",
    "as \"NON_RELEVANT\", \"PARTLY_RELEVANT\", or \"RELEVANT\".\n",
    "\n",
    "Here is the data for evaluation:\n",
    "\n",
    "Question: {question}\n",
    "Generated Answer: {answer_llm}\n",
    "\n",
    "Please analyze the content and context of the generated answer in relation to the question\n",
    "and provide your evaluation in parsable JSON without using code blocks:\n",
    "\n",
    "{{\n",
    "  \"Relevance\": \"NON_RELEVANT\" | \"PARTLY_RELEVANT\" | \"RELEVANT\",\n",
    "  \"Explanation\": \"[Provide a brief explanation for your evaluation]\"\n",
    "}}\n",
    "\"\"\".strip()"
   ]
  },
  {
   "cell_type": "code",
   "execution_count": 156,
   "id": "eb793c64-af79-4398-88c6-2b881799f996",
   "metadata": {},
   "outputs": [
    {
     "data": {
      "text/plain": [
       "1000"
      ]
     },
     "execution_count": 156,
     "metadata": {},
     "output_type": "execute_result"
    }
   ],
   "source": [
    "len(ground_truth)"
   ]
  },
  {
   "cell_type": "code",
   "execution_count": 157,
   "id": "55d2bf40-4fb6-49fa-a1ad-5d19c7fa47fa",
   "metadata": {},
   "outputs": [
    {
     "data": {
      "text/plain": [
       "{'id': 608,\n",
       " 'question': 'What makes you say that threatening your family is not acceptable?'}"
      ]
     },
     "execution_count": 157,
     "metadata": {},
     "output_type": "execute_result"
    }
   ],
   "source": [
    "record = ground_truth[0]\n",
    "record"
   ]
  },
  {
   "cell_type": "code",
   "execution_count": 158,
   "id": "4991fe79-f4d0-4086-ae0e-efb27e40bdb0",
   "metadata": {},
   "outputs": [
    {
     "name": "stdout",
     "output_type": "stream",
     "text": [
      "Threatening your family is not acceptable because it can lead to harassment, fear, and emotional distress. In the context provided, there are references to threats and slander that indicate serious consequences stemming from such behavior. A person's wellbeing and safety, especially those of family members, should be prioritized, and threatening behavior undermines that security.\n"
     ]
    }
   ],
   "source": [
    "record = ground_truth[0]\n",
    "question = record['question']\n",
    "answer_llm = rag(question)\n",
    "print(answer_llm)"
   ]
  },
  {
   "cell_type": "code",
   "execution_count": 159,
   "id": "86abda30-f17c-4c3b-bb90-35227e37c71a",
   "metadata": {},
   "outputs": [
    {
     "name": "stdout",
     "output_type": "stream",
     "text": [
      "You are an expert evaluator for a RAG system.\n",
      "Your task is to analyze the relevance of the generated answer to the given question.\n",
      "Based on the relevance of the generated answer, you will classify it\n",
      "as \"NON_RELEVANT\", \"PARTLY_RELEVANT\", or \"RELEVANT\".\n",
      "\n",
      "Here is the data for evaluation:\n",
      "\n",
      "Question: What makes you say that threatening your family is not acceptable?\n",
      "Generated Answer: Threatening your family is not acceptable because it can lead to harassment, fear, and emotional distress. In the context provided, there are references to threats and slander that indicate serious consequences stemming from such behavior. A person's wellbeing and safety, especially those of family members, should be prioritized, and threatening behavior undermines that security.\n",
      "\n",
      "Please analyze the content and context of the generated answer in relation to the question\n",
      "and provide your evaluation in parsable JSON without using code blocks:\n",
      "\n",
      "{\n",
      "  \"Relevance\": \"NON_RELEVANT\" | \"PARTLY_RELEVANT\" | \"RELEVANT\",\n",
      "  \"Explanation\": \"[Provide a brief explanation for your evaluation]\"\n",
      "}\n"
     ]
    }
   ],
   "source": [
    "prompt = prompt2_template.format(question=question, answer_llm=answer_llm)\n",
    "print(prompt)"
   ]
  },
  {
   "cell_type": "code",
   "execution_count": 160,
   "id": "964641f2-5950-4e88-88a2-5702cf756e29",
   "metadata": {},
   "outputs": [],
   "source": [
    "import json"
   ]
  },
  {
   "cell_type": "code",
   "execution_count": 161,
   "id": "aa07007e-f7f9-46df-b7a6-d5912d4429c6",
   "metadata": {},
   "outputs": [],
   "source": [
    "df_sample = df_questions.sample(n=200, random_state=1)"
   ]
  },
  {
   "cell_type": "code",
   "execution_count": 162,
   "id": "826ec05c-5d53-4d54-85ff-f68bae5bc654",
   "metadata": {},
   "outputs": [],
   "source": [
    "sample = df_sample.to_dict(orient='records')"
   ]
  },
  {
   "cell_type": "code",
   "execution_count": 163,
   "id": "eeee6fd1-cae7-4df5-8bd0-756b4429ed88",
   "metadata": {},
   "outputs": [
    {
     "data": {
      "application/vnd.jupyter.widget-view+json": {
       "model_id": "269686a349484a668c519ddd3c2f7832",
       "version_major": 2,
       "version_minor": 0
      },
      "text/plain": [
       "  0%|          | 0/200 [00:00<?, ?it/s]"
      ]
     },
     "metadata": {},
     "output_type": "display_data"
    }
   ],
   "source": [
    "evaluations = []\n",
    "\n",
    "for record in tqdm(sample):\n",
    "    question = record['question']\n",
    "    answer_llm = rag(question,model='gpt-3.5-turbo') \n",
    "\n",
    "    prompt = prompt2_template.format(\n",
    "        question=question,\n",
    "        answer_llm=answer_llm\n",
    "    )\n",
    "\n",
    "    evaluation = llm(prompt)\n",
    "    evaluation = json.loads(evaluation)\n",
    "\n",
    "    evaluations.append((record, answer_llm, evaluation))"
   ]
  },
  {
   "cell_type": "code",
   "execution_count": 164,
   "id": "22cddc4d-3dd0-4acf-bf38-d3c8c1d95f09",
   "metadata": {},
   "outputs": [],
   "source": [
    "df_eval = pd.DataFrame(evaluations, columns=['record', 'answer', 'evaluation'])\n",
    "\n",
    "df_eval['id'] = df_eval.record.apply(lambda d: d['id'])\n",
    "df_eval['question'] = df_eval.record.apply(lambda d: d['question'])\n",
    "\n",
    "df_eval['relevance'] = df_eval.evaluation.apply(lambda d: d['Relevance'])\n",
    "df_eval['explanation'] = df_eval.evaluation.apply(lambda d: d['Explanation'])\n",
    "\n",
    "del df_eval['record']\n",
    "del df_eval['evaluation']"
   ]
  },
  {
   "cell_type": "code",
   "execution_count": 165,
   "id": "d09b74b1-4fc8-4c2c-96c6-666a2fb237a5",
   "metadata": {},
   "outputs": [
    {
     "data": {
      "text/plain": [
       "tuple"
      ]
     },
     "execution_count": 165,
     "metadata": {},
     "output_type": "execute_result"
    }
   ],
   "source": [
    "type(evaluations[0])"
   ]
  },
  {
   "cell_type": "code",
   "execution_count": 166,
   "id": "ff2236f6-0456-4d6d-a1f0-427048edf0ed",
   "metadata": {},
   "outputs": [
    {
     "data": {
      "text/plain": [
       "relevance\n",
       "RELEVANT           126\n",
       "PARTLY_RELEVANT     62\n",
       "NON_RELEVANT        12\n",
       "Name: count, dtype: int64"
      ]
     },
     "execution_count": 166,
     "metadata": {},
     "output_type": "execute_result"
    }
   ],
   "source": [
    "df_eval.relevance.value_counts()"
   ]
  },
  {
   "cell_type": "code",
   "execution_count": 167,
   "id": "344a06a2-456d-4669-a1c2-e04a68d37444",
   "metadata": {},
   "outputs": [
    {
     "data": {
      "text/plain": [
       "relevance\n",
       "RELEVANT           0.63\n",
       "PARTLY_RELEVANT    0.31\n",
       "NON_RELEVANT       0.06\n",
       "Name: proportion, dtype: float64"
      ]
     },
     "execution_count": 167,
     "metadata": {},
     "output_type": "execute_result"
    }
   ],
   "source": [
    "df_eval.relevance.value_counts(normalize=True)"
   ]
  },
  {
   "cell_type": "code",
   "execution_count": 195,
   "id": "7c784317-6699-4b12-86b9-2832a004fc76",
   "metadata": {},
   "outputs": [],
   "source": [
    "#gpt3.5 turbo\n",
    "# relevance\n",
    "# RELEVANT           0.63\n",
    "# PARTLY_RELEVANT    0.31\n",
    "# NON_RELEVANT       0.06\n",
    "# Name: proportion, dtype: float64"
   ]
  },
  {
   "cell_type": "code",
   "execution_count": 168,
   "id": "b3232988-5f84-4d2a-9e4c-ec91d321c8d4",
   "metadata": {},
   "outputs": [],
   "source": [
    "df_eval.to_csv('../data/clean_data/rag-eval-gpt-3.5-turbo.csv', index=False)"
   ]
  },
  {
   "cell_type": "code",
   "execution_count": 169,
   "id": "5e9aefb4-24b2-4a97-b41f-0b970aa1d658",
   "metadata": {
    "scrolled": true
   },
   "outputs": [
    {
     "data": {
      "text/html": [
       "<div>\n",
       "<style scoped>\n",
       "    .dataframe tbody tr th:only-of-type {\n",
       "        vertical-align: middle;\n",
       "    }\n",
       "\n",
       "    .dataframe tbody tr th {\n",
       "        vertical-align: top;\n",
       "    }\n",
       "\n",
       "    .dataframe thead th {\n",
       "        text-align: right;\n",
       "    }\n",
       "</style>\n",
       "<table border=\"1\" class=\"dataframe\">\n",
       "  <thead>\n",
       "    <tr style=\"text-align: right;\">\n",
       "      <th></th>\n",
       "      <th>answer</th>\n",
       "      <th>id</th>\n",
       "      <th>question</th>\n",
       "      <th>relevance</th>\n",
       "      <th>explanation</th>\n",
       "    </tr>\n",
       "  </thead>\n",
       "  <tbody>\n",
       "    <tr>\n",
       "      <th>3</th>\n",
       "      <td>No, pasteurized butter should not be consumed, as it is not recommended in the primal diet database.</td>\n",
       "      <td>3682</td>\n",
       "      <td>Is pasteurized butter from non-toxic animals safe for consumption given concerns about mad cow disease?</td>\n",
       "      <td>NON_RELEVANT</td>\n",
       "      <td>The generated answer does not address the question regarding the safety of pasteurized butter from non-toxic animals in relation to mad cow disease. Instead, it dismisses the consumption of pasteurized butter based on an unrelated 'primal diet database' recommendation, which does not provide relevant information about mad cow disease concerns.</td>\n",
       "    </tr>\n",
       "    <tr>\n",
       "      <th>11</th>\n",
       "      <td>There is no information in the provided context about curing dwarfism or specific methods for someone who is 3'1 tall.</td>\n",
       "      <td>139</td>\n",
       "      <td>What is a suggested method to help cure dwarfism, specifically for a person who is 3'1 tall?</td>\n",
       "      <td>NON_RELEVANT</td>\n",
       "      <td>The generated answer does not provide any relevant information related to the question about suggested methods to help cure dwarfism. It states that there is no information available, which does not address the query at all.</td>\n",
       "    </tr>\n",
       "    <tr>\n",
       "      <th>15</th>\n",
       "      <td>I learned about the primal diet in 1982 from seeing all the evil in the world and starting with biological warfare.</td>\n",
       "      <td>4463</td>\n",
       "      <td>How did you learn about the recipe you mentioned?</td>\n",
       "      <td>NON_RELEVANT</td>\n",
       "      <td>The generated answer discusses the primal diet and a personal experience related to it but does not address the recipe mentioned in the question. It fails to provide any relevant information about how the recipe was learned, making it irrelevant to the question asked.</td>\n",
       "    </tr>\n",
       "    <tr>\n",
       "      <th>34</th>\n",
       "      <td>Non frozen, non irradiated oysters will be better for oral health compared to fruit and vegetable juices.</td>\n",
       "      <td>2181</td>\n",
       "      <td>What will be better for oral health compared to fruit and vegetable juices?</td>\n",
       "      <td>NON_RELEVANT</td>\n",
       "      <td>The generated answer suggests oysters as better for oral health compared to fruit and vegetable juices, but it does not provide any justification or context for this claim. Additionally, it does not directly relate to the benefits or disadvantages of fruit and vegetable juices in the context of oral health, making it irrelevant to the question.</td>\n",
       "    </tr>\n",
       "    <tr>\n",
       "      <th>40</th>\n",
       "      <td>No, animals do not naturally eat things like poop and maggots. There is no health perspective that supports consuming these items based on the information provided in the context.</td>\n",
       "      <td>107</td>\n",
       "      <td>Do animals naturally eat things like poop and maggots, and is there any health perspective on this?</td>\n",
       "      <td>NON_RELEVANT</td>\n",
       "      <td>The generated answer incorrectly states that animals do not naturally eat poop and maggots, disregarding the fact that some animals, such as dogs and certain rodents, do engage in this behavior for various reasons including nutrition. Additionally, the answer lacks a discussion of any health aspects regarding this behavior, which was a key component of the question.</td>\n",
       "    </tr>\n",
       "  </tbody>\n",
       "</table>\n",
       "</div>"
      ],
      "text/plain": [
       "                                                                                                                                                                                 answer  \\\n",
       "3                                                                                  No, pasteurized butter should not be consumed, as it is not recommended in the primal diet database.   \n",
       "11                                                               There is no information in the provided context about curing dwarfism or specific methods for someone who is 3'1 tall.   \n",
       "15                                                                  I learned about the primal diet in 1982 from seeing all the evil in the world and starting with biological warfare.   \n",
       "34                                                                            Non frozen, non irradiated oysters will be better for oral health compared to fruit and vegetable juices.   \n",
       "40  No, animals do not naturally eat things like poop and maggots. There is no health perspective that supports consuming these items based on the information provided in the context.   \n",
       "\n",
       "      id  \\\n",
       "3   3682   \n",
       "11   139   \n",
       "15  4463   \n",
       "34  2181   \n",
       "40   107   \n",
       "\n",
       "                                                                                                   question  \\\n",
       "3   Is pasteurized butter from non-toxic animals safe for consumption given concerns about mad cow disease?   \n",
       "11             What is a suggested method to help cure dwarfism, specifically for a person who is 3'1 tall?   \n",
       "15                                                        How did you learn about the recipe you mentioned?   \n",
       "34                              What will be better for oral health compared to fruit and vegetable juices?   \n",
       "40      Do animals naturally eat things like poop and maggots, and is there any health perspective on this?   \n",
       "\n",
       "       relevance  \\\n",
       "3   NON_RELEVANT   \n",
       "11  NON_RELEVANT   \n",
       "15  NON_RELEVANT   \n",
       "34  NON_RELEVANT   \n",
       "40  NON_RELEVANT   \n",
       "\n",
       "                                                                                                                                                                                                                                                                                                                                                                         explanation  \n",
       "3                          The generated answer does not address the question regarding the safety of pasteurized butter from non-toxic animals in relation to mad cow disease. Instead, it dismisses the consumption of pasteurized butter based on an unrelated 'primal diet database' recommendation, which does not provide relevant information about mad cow disease concerns.  \n",
       "11                                                                                                                                                  The generated answer does not provide any relevant information related to the question about suggested methods to help cure dwarfism. It states that there is no information available, which does not address the query at all.  \n",
       "15                                                                                                      The generated answer discusses the primal diet and a personal experience related to it but does not address the recipe mentioned in the question. It fails to provide any relevant information about how the recipe was learned, making it irrelevant to the question asked.  \n",
       "34                        The generated answer suggests oysters as better for oral health compared to fruit and vegetable juices, but it does not provide any justification or context for this claim. Additionally, it does not directly relate to the benefits or disadvantages of fruit and vegetable juices in the context of oral health, making it irrelevant to the question.  \n",
       "40  The generated answer incorrectly states that animals do not naturally eat poop and maggots, disregarding the fact that some animals, such as dogs and certain rodents, do engage in this behavior for various reasons including nutrition. Additionally, the answer lacks a discussion of any health aspects regarding this behavior, which was a key component of the question.  "
      ]
     },
     "execution_count": 169,
     "metadata": {},
     "output_type": "execute_result"
    }
   ],
   "source": [
    "df_eval[df_eval.relevance == 'NON_RELEVANT'].head()"
   ]
  },
  {
   "cell_type": "code",
   "execution_count": 170,
   "id": "733fef3f-3301-447d-b876-209745d661f6",
   "metadata": {},
   "outputs": [
    {
     "data": {
      "application/vnd.jupyter.widget-view+json": {
       "model_id": "434ca76822c241a99d2970dd0107cd70",
       "version_major": 2,
       "version_minor": 0
      },
      "text/plain": [
       "  0%|          | 0/200 [00:00<?, ?it/s]"
      ]
     },
     "metadata": {},
     "output_type": "display_data"
    }
   ],
   "source": [
    "evaluations_gpt4o_mini = []\n",
    "\n",
    "for record in tqdm(sample):\n",
    "    question = record['question']\n",
    "    answer_llm = rag(question, model='gpt-4o-mini') \n",
    "\n",
    "    prompt = prompt2_template.format(\n",
    "        question=question,\n",
    "        answer_llm=answer_llm\n",
    "    )\n",
    "\n",
    "    evaluation = llm(prompt)\n",
    "    evaluation = json.loads(evaluation)\n",
    "    \n",
    "    evaluations_gpt4o_mini.append((record, answer_llm, evaluation))"
   ]
  },
  {
   "cell_type": "code",
   "execution_count": 171,
   "id": "8949febb-a42e-4a55-b43f-fe0f33855ddc",
   "metadata": {},
   "outputs": [],
   "source": [
    "df_eval = pd.DataFrame(evaluations_gpt4o_mini, columns=['record', 'answer', 'evaluation'])\n",
    "\n",
    "df_eval['id'] = df_eval.record.apply(lambda d: d['id'])\n",
    "df_eval['question'] = df_eval.record.apply(lambda d: d['question'])\n",
    "\n",
    "df_eval['relevance'] = df_eval.evaluation.apply(lambda d: d['Relevance'])\n",
    "df_eval['explanation'] = df_eval.evaluation.apply(lambda d: d['Explanation'])\n",
    "\n",
    "del df_eval['record']\n",
    "del df_eval['evaluation']"
   ]
  },
  {
   "cell_type": "code",
   "execution_count": 172,
   "id": "1e6c8750-3480-4b6e-8104-d1d98de82e60",
   "metadata": {},
   "outputs": [
    {
     "data": {
      "text/plain": [
       "relevance\n",
       "RELEVANT           0.705\n",
       "PARTLY_RELEVANT    0.255\n",
       "NON_RELEVANT       0.040\n",
       "Name: proportion, dtype: float64"
      ]
     },
     "execution_count": 172,
     "metadata": {},
     "output_type": "execute_result"
    }
   ],
   "source": [
    "df_eval.relevance.value_counts(normalize=True)"
   ]
  },
  {
   "cell_type": "code",
   "execution_count": 194,
   "id": "18c3cf46-2b8a-493b-b98f-9e1651352e78",
   "metadata": {},
   "outputs": [],
   "source": [
    "# gpt4 mini\n",
    "# relevance\n",
    "# RELEVANT           0.705\n",
    "# PARTLY_RELEVANT    0.255\n",
    "# NON_RELEVANT       0.040\n",
    "# Name: proportion, dtype: float64"
   ]
  },
  {
   "cell_type": "code",
   "execution_count": 173,
   "id": "bc6ca544-fc8f-4a1e-b21c-49fe22116c31",
   "metadata": {},
   "outputs": [],
   "source": [
    "df_eval.to_csv('../data/clean_data/rag-eval-gpt_4o_mini.csv', index=False)"
   ]
  },
  {
   "cell_type": "code",
   "execution_count": 42,
   "id": "201b7537-0e12-4d8a-863c-544377e2125a",
   "metadata": {},
   "outputs": [],
   "source": [
    "import subprocess\n",
    "def llm(prompt,model=\"llama3.2:1b\"):\n",
    "    # Command to run Ollama with the desired model and prompt\n",
    "    command = [\"ollama\", \"run\", model, prompt]\n",
    "\n",
    "    # Run the command and capture the output\n",
    "    result = subprocess.run(command, capture_output=True, text=True, encoding='utf-8')\n",
    "\n",
    "    # Return the result\n",
    "    return result.stdout"
   ]
  },
  {
   "cell_type": "code",
   "execution_count": 43,
   "id": "896d9767-f691-4807-82f4-835162c400ea",
   "metadata": {},
   "outputs": [
    {
     "data": {
      "text/plain": [
       "\"Losing belly fat can be challenging, but it's achievable with a combination of healthy diet, regular exercise, and lifestyle changes. Here are some tips to help you shed those extra pounds:\\n\\n**Diet:**\\n\\n1. **Eat more protein**: Protein takes more energy to digest, which can help increase your metabolism and burn belly fat. Aim for 0.8-1 gram of protein per pound of body weight from sources like lean meats, fish, eggs, tofu, and legumes.\\n2. **Incorporate healthy fats**: Nuts, seeds, avocados, and olive oil are rich in healthy fats that can help reduce inflammation and improve insulin sensitivity.\\n3. **Focus on whole foods**: Eat plenty of fruits, vegetables, whole grains, and lean proteins to provide your body with the necessary nutrients for weight loss and overall health.\\n4. **Reduce sugar intake**: Consuming high amounts of sugar can lead to increased belly fat storage. Limit sugary drinks, sweets, and refined carbohydrates.\\n5. **Stay hydrated**: Drink plenty of water throughout the day to help boost metabolism and support weight loss.\\n\\n**Exercise:**\\n\\n1. **Core exercises**: Engage in exercises that target your core muscles, such as planks, crunches, and leg raises. This can help strengthen your abdominal muscles and improve your overall posture.\\n2. **High-Intensity Interval Training (HIIT)**: Incorporate HIIT workouts into your routine, which involve short bursts of intense exercise followed by brief periods of rest. This type of exercise has been shown to be effective for burning belly fat.\\n3. **Aerobic exercises**: Regular aerobic activities like walking, jogging, cycling, or swimming can help you lose weight and improve overall health.\\n4. **Strength training**: Incorporate strength training exercises into your routine, which can help build muscle mass and boost metabolism.\\n\\n**Lifestyle Changes:**\\n\\n1. **Get enough sleep**: Aim for 7-8 hours of sleep per night to help regulate hunger hormones and support weight loss.\\n2. **Manage stress**: Chronic stress can lead to increased belly fat storage. Engage in stress-reducing activities like yoga, meditation, or deep breathing exercises.\\n3. **Keep a food diary**: Tracking your food intake can help you identify patterns and make healthier choices.\\n4. **Get enough fiber**: A high-fiber diet can help you feel full and satisfied, reducing the likelihood of overeating.\\n\\n**Additional Tips:**\\n\\n1. **Monitor your progress**: Keep track of your weight loss progress using a scale or measuring tape to ensure you're on the right track.\\n2. **Seek support**: Share your weight loss goals with friends and family, and consider joining a weight loss support group for motivation.\\n3. **Be patient**: Losing belly fat takes time and effort. Don't expect overnight results, but instead focus on making sustainable lifestyle changes that can lead to long-term success.\\n\\nRemember, losing belly fat is not just about aesthetics; it's also related to overall health and well-being. By incorporating these tips into your daily routine, you'll be well on your way to achieving a healthier, happier you!\\n\\n\""
      ]
     },
     "execution_count": 43,
     "metadata": {},
     "output_type": "execute_result"
    }
   ],
   "source": [
    "llm('how to lose belly fat')"
   ]
  },
  {
   "cell_type": "code",
   "execution_count": 5,
   "id": "69287a4a-dd5e-40cc-936f-2b69ccc69503",
   "metadata": {},
   "outputs": [
    {
     "ename": "NameError",
     "evalue": "name 'sample' is not defined",
     "output_type": "error",
     "traceback": [
      "\u001b[1;31m---------------------------------------------------------------------------\u001b[0m",
      "\u001b[1;31mNameError\u001b[0m                                 Traceback (most recent call last)",
      "Cell \u001b[1;32mIn[5], line 3\u001b[0m\n\u001b[0;32m      1\u001b[0m evaluations_llama3_2 \u001b[38;5;241m=\u001b[39m[]\n\u001b[1;32m----> 3\u001b[0m \u001b[38;5;28;01mfor\u001b[39;00m record \u001b[38;5;129;01min\u001b[39;00m tqdm(\u001b[43msample\u001b[49m):\n\u001b[0;32m      4\u001b[0m     question \u001b[38;5;241m=\u001b[39m record[\u001b[38;5;124m'\u001b[39m\u001b[38;5;124mquestion\u001b[39m\u001b[38;5;124m'\u001b[39m]\n\u001b[0;32m      5\u001b[0m     answer_llm \u001b[38;5;241m=\u001b[39m rag(question, model\u001b[38;5;241m=\u001b[39m\u001b[38;5;124m'\u001b[39m\u001b[38;5;124mllama3.2\u001b[39m\u001b[38;5;124m'\u001b[39m) \n",
      "\u001b[1;31mNameError\u001b[0m: name 'sample' is not defined"
     ]
    }
   ],
   "source": [
    "evaluations_llama3_2 =[]\n",
    " \n",
    "for record in tqdm(sample):\n",
    "    question = record['question']\n",
    "    answer_llm = rag(question, model='llama3.2') \n",
    "\n",
    "    prompt = prompt2_template.format(\n",
    "        question=question,\n",
    "        answer_llm=answer_llm\n",
    "    )\n",
    "\n",
    "    evaluation = llm(prompt)\n",
    "    evaluation = json.loads(evaluation)\n",
    "    \n",
    "    evaluations_llama3_2.append((record, answer_llm, evaluation))\n"
   ]
  },
  {
   "cell_type": "code",
   "execution_count": null,
   "id": "c269feef-bd9a-47ed-b3ec-648d6cb033df",
   "metadata": {},
   "outputs": [],
   "source": [
    "df_eval = pd.DataFrame(evaluations_gpt4o, columns=['record', 'answer', 'evaluation'])\n",
    "\n",
    "df_eval['id'] = df_eval.record.apply(lambda d: d['id'])\n",
    "df_eval['question'] = df_eval.record.apply(lambda d: d['question'])\n",
    "\n",
    "df_eval['relevance'] = df_eval.evaluation.apply(lambda d: d['Relevance'])\n",
    "df_eval['explanation'] = df_eval.evaluation.apply(lambda d: d['Explanation'])\n",
    "\n",
    "del df_eval['record']\n",
    "del df_eval['evaluation']"
   ]
  },
  {
   "cell_type": "code",
   "execution_count": 186,
   "id": "491b2234-55e3-4f5c-8118-a313c57e4f80",
   "metadata": {},
   "outputs": [
    {
     "data": {
      "text/plain": [
       "relevance\n",
       "RELEVANT           141\n",
       "PARTLY_RELEVANT     51\n",
       "NON_RELEVANT         8\n",
       "Name: count, dtype: int64"
      ]
     },
     "execution_count": 186,
     "metadata": {},
     "output_type": "execute_result"
    }
   ],
   "source": [
    "df_eval.relevance.value_counts()"
   ]
  },
  {
   "cell_type": "code",
   "execution_count": 187,
   "id": "4e68a040-f7cf-4ee0-807a-0783f8762800",
   "metadata": {},
   "outputs": [
    {
     "data": {
      "text/plain": [
       "relevance\n",
       "RELEVANT           0.705\n",
       "PARTLY_RELEVANT    0.255\n",
       "NON_RELEVANT       0.040\n",
       "Name: proportion, dtype: float64"
      ]
     },
     "execution_count": 187,
     "metadata": {},
     "output_type": "execute_result"
    }
   ],
   "source": [
    "df_eval.relevance.value_counts(normalize=True)"
   ]
  },
  {
   "cell_type": "code",
   "execution_count": null,
   "id": "cad953d1-fb1c-4721-9048-f46afab363e0",
   "metadata": {},
   "outputs": [],
   "source": [
    "df_eval.to_csv('../data/clean_data/rag-eval-llama3_2.csv', index=False)"
   ]
  },
  {
   "cell_type": "code",
   "execution_count": 188,
   "id": "833a4639-c46c-4ed2-8dcc-9f87ecb7c67f",
   "metadata": {},
   "outputs": [
    {
     "data": {
      "application/vnd.jupyter.widget-view+json": {
       "model_id": "1d798b0c85be499db479823de1a00d4d",
       "version_major": 2,
       "version_minor": 0
      },
      "text/plain": [
       "  0%|          | 0/200 [00:00<?, ?it/s]"
      ]
     },
     "metadata": {},
     "output_type": "display_data"
    }
   ],
   "source": [
    "evaluations_gpt4o = []\n",
    "\n",
    "for record in tqdm(sample):\n",
    "    question = record['question']\n",
    "    answer_llm = rag(question, model='gpt-4o') \n",
    "\n",
    "    prompt = prompt2_template.format(\n",
    "        question=question,\n",
    "        answer_llm=answer_llm\n",
    "    )\n",
    "\n",
    "    evaluation = llm(prompt)\n",
    "    evaluation = json.loads(evaluation)\n",
    "    \n",
    "    evaluations_gpt4o.append((record, answer_llm, evaluation))"
   ]
  },
  {
   "cell_type": "code",
   "execution_count": 196,
   "id": "d76bc1b1-c550-47ef-8d60-c3c9a57515b8",
   "metadata": {},
   "outputs": [],
   "source": [
    "df_eval = pd.DataFrame(evaluations_gpt4o, columns=['record', 'answer', 'evaluation'])\n",
    "\n",
    "df_eval['id'] = df_eval.record.apply(lambda d: d['id'])\n",
    "df_eval['question'] = df_eval.record.apply(lambda d: d['question'])\n",
    "\n",
    "df_eval['relevance'] = df_eval.evaluation.apply(lambda d: d['Relevance'])\n",
    "df_eval['explanation'] = df_eval.evaluation.apply(lambda d: d['Explanation'])\n",
    "\n",
    "del df_eval['record']\n",
    "del df_eval['evaluation']"
   ]
  },
  {
   "cell_type": "code",
   "execution_count": 197,
   "id": "0be800e2-3946-4ea9-888f-798ed52d9218",
   "metadata": {},
   "outputs": [
    {
     "data": {
      "text/plain": [
       "relevance\n",
       "RELEVANT           137\n",
       "PARTLY_RELEVANT     55\n",
       "NON_RELEVANT         8\n",
       "Name: count, dtype: int64"
      ]
     },
     "execution_count": 197,
     "metadata": {},
     "output_type": "execute_result"
    }
   ],
   "source": [
    "df_eval.relevance.value_counts()"
   ]
  },
  {
   "cell_type": "code",
   "execution_count": 198,
   "id": "8daaa0e5-2af0-4de0-8b82-faf488f28f84",
   "metadata": {},
   "outputs": [
    {
     "data": {
      "text/plain": [
       "relevance\n",
       "RELEVANT           0.685\n",
       "PARTLY_RELEVANT    0.275\n",
       "NON_RELEVANT       0.040\n",
       "Name: proportion, dtype: float64"
      ]
     },
     "execution_count": 198,
     "metadata": {},
     "output_type": "execute_result"
    }
   ],
   "source": [
    "df_eval.relevance.value_counts(normalize=True)"
   ]
  },
  {
   "cell_type": "markdown",
   "id": "029944e4-2689-4ec4-8fe6-3b3dfe355603",
   "metadata": {},
   "source": [
    "gpt 4o  \n",
    "relevance  \n",
    "RELEVANT           0.685  \n",
    "PARTLY_RELEVANT    0.275  \n",
    "NON_RELEVANT       0.040  \n",
    "Name: proportion, dtype: float64"
   ]
  },
  {
   "cell_type": "code",
   "execution_count": 199,
   "id": "dfe30862-4334-4556-8708-913b1a99a5af",
   "metadata": {},
   "outputs": [],
   "source": [
    "df_eval.to_csv('../data/clean_data/rag-eval-gpt4o.csv', index=False)"
   ]
  },
  {
   "cell_type": "code",
   "execution_count": 200,
   "id": "147a3c3c-1c7c-4904-b42c-cb15e61d9dc5",
   "metadata": {},
   "outputs": [],
   "source": [
    "import pandas as pd"
   ]
  },
  {
   "cell_type": "code",
   "execution_count": 202,
   "id": "59b1b6ca-b308-4db1-9408-4bc2474d1002",
   "metadata": {},
   "outputs": [],
   "source": [
    "df=pd.read_csv('../data/clean_data/rag-eval-gpt4o.csv')"
   ]
  },
  {
   "cell_type": "code",
   "execution_count": 203,
   "id": "8ca7312d-0103-48d6-9259-ef89d40dc6f9",
   "metadata": {},
   "outputs": [
    {
     "data": {
      "text/plain": [
       "0      PARTLY_RELEVANT\n",
       "1      PARTLY_RELEVANT\n",
       "2             RELEVANT\n",
       "3      PARTLY_RELEVANT\n",
       "4             RELEVANT\n",
       "5             RELEVANT\n",
       "6             RELEVANT\n",
       "7         NON_RELEVANT\n",
       "8      PARTLY_RELEVANT\n",
       "9      PARTLY_RELEVANT\n",
       "10     PARTLY_RELEVANT\n",
       "11            RELEVANT\n",
       "12            RELEVANT\n",
       "13     PARTLY_RELEVANT\n",
       "14            RELEVANT\n",
       "15     PARTLY_RELEVANT\n",
       "16            RELEVANT\n",
       "17            RELEVANT\n",
       "18            RELEVANT\n",
       "19            RELEVANT\n",
       "20     PARTLY_RELEVANT\n",
       "21     PARTLY_RELEVANT\n",
       "22            RELEVANT\n",
       "23            RELEVANT\n",
       "24            RELEVANT\n",
       "25            RELEVANT\n",
       "26            RELEVANT\n",
       "27     PARTLY_RELEVANT\n",
       "28     PARTLY_RELEVANT\n",
       "29            RELEVANT\n",
       "30            RELEVANT\n",
       "31            RELEVANT\n",
       "32            RELEVANT\n",
       "33     PARTLY_RELEVANT\n",
       "34     PARTLY_RELEVANT\n",
       "35            RELEVANT\n",
       "36            RELEVANT\n",
       "37            RELEVANT\n",
       "38            RELEVANT\n",
       "39     PARTLY_RELEVANT\n",
       "40            RELEVANT\n",
       "41     PARTLY_RELEVANT\n",
       "42            RELEVANT\n",
       "43     PARTLY_RELEVANT\n",
       "44            RELEVANT\n",
       "45            RELEVANT\n",
       "46     PARTLY_RELEVANT\n",
       "47            RELEVANT\n",
       "48     PARTLY_RELEVANT\n",
       "49            RELEVANT\n",
       "50     PARTLY_RELEVANT\n",
       "51     PARTLY_RELEVANT\n",
       "52     PARTLY_RELEVANT\n",
       "53            RELEVANT\n",
       "54            RELEVANT\n",
       "55            RELEVANT\n",
       "56            RELEVANT\n",
       "57            RELEVANT\n",
       "58     PARTLY_RELEVANT\n",
       "59            RELEVANT\n",
       "60            RELEVANT\n",
       "61            RELEVANT\n",
       "62            RELEVANT\n",
       "63            RELEVANT\n",
       "64            RELEVANT\n",
       "65            RELEVANT\n",
       "66            RELEVANT\n",
       "67     PARTLY_RELEVANT\n",
       "68     PARTLY_RELEVANT\n",
       "69            RELEVANT\n",
       "70            RELEVANT\n",
       "71            RELEVANT\n",
       "72     PARTLY_RELEVANT\n",
       "73            RELEVANT\n",
       "74            RELEVANT\n",
       "75            RELEVANT\n",
       "76     PARTLY_RELEVANT\n",
       "77            RELEVANT\n",
       "78     PARTLY_RELEVANT\n",
       "79     PARTLY_RELEVANT\n",
       "80            RELEVANT\n",
       "81     PARTLY_RELEVANT\n",
       "82     PARTLY_RELEVANT\n",
       "83            RELEVANT\n",
       "84     PARTLY_RELEVANT\n",
       "85            RELEVANT\n",
       "86            RELEVANT\n",
       "87            RELEVANT\n",
       "88     PARTLY_RELEVANT\n",
       "89            RELEVANT\n",
       "90            RELEVANT\n",
       "91     PARTLY_RELEVANT\n",
       "92            RELEVANT\n",
       "93            RELEVANT\n",
       "94            RELEVANT\n",
       "95            RELEVANT\n",
       "96            RELEVANT\n",
       "97            RELEVANT\n",
       "98     PARTLY_RELEVANT\n",
       "99            RELEVANT\n",
       "100           RELEVANT\n",
       "101    PARTLY_RELEVANT\n",
       "102           RELEVANT\n",
       "103           RELEVANT\n",
       "104           RELEVANT\n",
       "105    PARTLY_RELEVANT\n",
       "106           RELEVANT\n",
       "107           RELEVANT\n",
       "108           RELEVANT\n",
       "109           RELEVANT\n",
       "110           RELEVANT\n",
       "111       NON_RELEVANT\n",
       "112           RELEVANT\n",
       "113           RELEVANT\n",
       "114    PARTLY_RELEVANT\n",
       "115           RELEVANT\n",
       "116           RELEVANT\n",
       "117           RELEVANT\n",
       "118           RELEVANT\n",
       "119           RELEVANT\n",
       "120           RELEVANT\n",
       "121           RELEVANT\n",
       "122    PARTLY_RELEVANT\n",
       "123    PARTLY_RELEVANT\n",
       "124           RELEVANT\n",
       "125           RELEVANT\n",
       "126           RELEVANT\n",
       "127           RELEVANT\n",
       "128    PARTLY_RELEVANT\n",
       "129           RELEVANT\n",
       "130    PARTLY_RELEVANT\n",
       "131           RELEVANT\n",
       "132    PARTLY_RELEVANT\n",
       "133           RELEVANT\n",
       "134           RELEVANT\n",
       "135           RELEVANT\n",
       "136           RELEVANT\n",
       "137           RELEVANT\n",
       "138           RELEVANT\n",
       "139    PARTLY_RELEVANT\n",
       "140    PARTLY_RELEVANT\n",
       "141           RELEVANT\n",
       "142           RELEVANT\n",
       "143           RELEVANT\n",
       "144       NON_RELEVANT\n",
       "145           RELEVANT\n",
       "146       NON_RELEVANT\n",
       "147           RELEVANT\n",
       "148           RELEVANT\n",
       "149           RELEVANT\n",
       "150           RELEVANT\n",
       "151    PARTLY_RELEVANT\n",
       "152           RELEVANT\n",
       "153           RELEVANT\n",
       "154    PARTLY_RELEVANT\n",
       "155           RELEVANT\n",
       "156           RELEVANT\n",
       "157           RELEVANT\n",
       "158           RELEVANT\n",
       "159           RELEVANT\n",
       "160           RELEVANT\n",
       "161       NON_RELEVANT\n",
       "162           RELEVANT\n",
       "163           RELEVANT\n",
       "164           RELEVANT\n",
       "165           RELEVANT\n",
       "166           RELEVANT\n",
       "167       NON_RELEVANT\n",
       "168           RELEVANT\n",
       "169           RELEVANT\n",
       "170    PARTLY_RELEVANT\n",
       "171    PARTLY_RELEVANT\n",
       "172           RELEVANT\n",
       "173    PARTLY_RELEVANT\n",
       "174    PARTLY_RELEVANT\n",
       "175           RELEVANT\n",
       "176    PARTLY_RELEVANT\n",
       "177           RELEVANT\n",
       "178           RELEVANT\n",
       "179           RELEVANT\n",
       "180           RELEVANT\n",
       "181           RELEVANT\n",
       "182           RELEVANT\n",
       "183           RELEVANT\n",
       "184           RELEVANT\n",
       "185    PARTLY_RELEVANT\n",
       "186    PARTLY_RELEVANT\n",
       "187           RELEVANT\n",
       "188           RELEVANT\n",
       "189           RELEVANT\n",
       "190           RELEVANT\n",
       "191           RELEVANT\n",
       "192           RELEVANT\n",
       "193           RELEVANT\n",
       "194           RELEVANT\n",
       "195       NON_RELEVANT\n",
       "196           RELEVANT\n",
       "197    PARTLY_RELEVANT\n",
       "198           RELEVANT\n",
       "199       NON_RELEVANT\n",
       "Name: relevance, dtype: object"
      ]
     },
     "execution_count": 203,
     "metadata": {},
     "output_type": "execute_result"
    }
   ],
   "source": [
    "df['relevance']"
   ]
  },
  {
   "cell_type": "code",
   "execution_count": 204,
   "id": "06439dd4-66ed-414f-93c2-9e1ccf95ad93",
   "metadata": {},
   "outputs": [
    {
     "data": {
      "text/html": [
       "<div>\n",
       "<style scoped>\n",
       "    .dataframe tbody tr th:only-of-type {\n",
       "        vertical-align: middle;\n",
       "    }\n",
       "\n",
       "    .dataframe tbody tr th {\n",
       "        vertical-align: top;\n",
       "    }\n",
       "\n",
       "    .dataframe thead th {\n",
       "        text-align: right;\n",
       "    }\n",
       "</style>\n",
       "<table border=\"1\" class=\"dataframe\">\n",
       "  <thead>\n",
       "    <tr style=\"text-align: right;\">\n",
       "      <th></th>\n",
       "      <th>answer</th>\n",
       "      <th>id</th>\n",
       "      <th>question</th>\n",
       "      <th>relevance</th>\n",
       "      <th>explanation</th>\n",
       "    </tr>\n",
       "  </thead>\n",
       "  <tbody>\n",
       "    <tr>\n",
       "      <th>0</th>\n",
       "      <td>No, not everything in Europe comes in glass containers. According to the context, there's an option to pay extra for milk in glass containers, but it is not the standard practice for all products.</td>\n",
       "      <td>5385</td>\n",
       "      <td>In Europe, does everything including milk come in glass containers?</td>\n",
       "      <td>PARTLY_RELEVANT</td>\n",
       "      <td>The generated answer addresses the question by stating that not everything comes in glass containers and mentions the option for milk in glass but does not provide comprehensive information about the overall context of container usage in Europe.</td>\n",
       "    </tr>\n",
       "    <tr>\n",
       "      <th>1</th>\n",
       "      <td>The context does not provide specific information on whether eating raw foods saves time compared to preparing processed foods. However, the preparation time could be reduced simply because cooking is not involved, but this is not explicitly mentioned in the provided data.</td>\n",
       "      <td>871</td>\n",
       "      <td>Can eating raw foods save time compared to more processed food preparation?</td>\n",
       "      <td>PARTLY_RELEVANT</td>\n",
       "      <td>The generated answer acknowledges the potential time savings of eating raw foods due to not involving cooking, which is relevant to the question. However, it states that the context does not provide explicit information and does not directly answer the question, leading to a classification of partly relevant.</td>\n",
       "    </tr>\n",
       "    <tr>\n",
       "      <th>3</th>\n",
       "      <td>According to the context provided, pasteurized butter from non-toxic animals is mentioned in relation to mad cow disease. The context suggests that mad cow disease was associated with consuming organs from toxic animals, but it does not directly address pasteurized butter from non-toxic animals. However, another part of the context contains a direct statement advising against consuming pasteurized butter. Therefore, based on the information given, it is advised not to eat pasteurized butter.</td>\n",
       "      <td>3682</td>\n",
       "      <td>Is pasteurized butter from non-toxic animals safe for consumption given concerns about mad cow disease?</td>\n",
       "      <td>PARTLY_RELEVANT</td>\n",
       "      <td>The generated answer addresses the question about pasteurized butter and mad cow disease by referencing the safety of pasteurized butter from non-toxic animals. However, it ultimately contradicts the initial implication of safety by stating it is advised not to eat pasteurized butter, which introduces ambiguity. Thus, while there is some relevance, it does not provide a clear, conclusive answer to the safety of the specified product.</td>\n",
       "    </tr>\n",
       "    <tr>\n",
       "      <th>8</th>\n",
       "      <td>Based on the provided context, there is no specific mention of any cheese makers from Thailand in the group who can offer advice. There is a mention of someone from Austria living in Thailand, but it does not specify they are a cheese maker.</td>\n",
       "      <td>4314</td>\n",
       "      <td>Are there any cheese makers from Thailand in this group who can offer advice?</td>\n",
       "      <td>PARTLY_RELEVANT</td>\n",
       "      <td>The generated answer acknowledges the absence of specific cheese makers from Thailand in the group and does mention a related individual from Austria living in Thailand. However, it does not directly address whether any Thai cheese makers can offer advice, making it somewhat relevant but ultimately incomplete.</td>\n",
       "    </tr>\n",
       "    <tr>\n",
       "      <th>9</th>\n",
       "      <td>Feeding your cat raw beef twice a week might provide some benefits but it's not guaranteed to extend his lifespan. Some people have observed benefits from feeding cats raw meat even once a month. However, there are potential concerns about detoxification or digestive issues if the cat does not handle raw meat well. Ensuring the meat is organic could be important according to the context. Consulting with a veterinarian is recommended to address any specific health concerns and to determine the most appropriate diet for longevity and health.</td>\n",
       "      <td>4019</td>\n",
       "      <td>Will feeding my cat raw beef twice a week help extend his lifespan?</td>\n",
       "      <td>PARTLY_RELEVANT</td>\n",
       "      <td>The generated answer acknowledges the potential benefits of feeding raw beef to a cat and points out the uncertainty regarding its impact on lifespan. It also highlights possible health concerns and emphasizes the importance of consulting a veterinarian. However, it does not directly answer the question about extending lifespan, making it partially relevant.</td>\n",
       "    </tr>\n",
       "    <tr>\n",
       "      <th>10</th>\n",
       "      <td>To make apple cider vinegar using apple juice, you start by pouring the apple juice into a glass container or bottle. You let it sit until it ferments and turns sour, which is part of the natural process of how vinegar forms. It is noted that some people use sugar in this process.\\n\\nRegarding the substitution of sugar with honey, the context suggests that using honey instead of sugar could be viable, as there is discussion around the use of unheated honey being amazing. However, keep in mind that honey and sugar serve similar purposes by providing the necessary sugars to feed the fermentation process, which ultimately turns the liquid into vinegar.</td>\n",
       "      <td>4591</td>\n",
       "      <td>How do you make apple cider vinegar using apple juice, and can sugar be substituted with honey?</td>\n",
       "      <td>PARTLY_RELEVANT</td>\n",
       "      <td>The generated answer provides some information on how to make apple cider vinegar using apple juice, mentioning the fermentation process, which is relevant to the question. However, it lacks specific details about the steps involved in the process. Additionally, while it discusses the substitution of sugar with honey, it does not provide a definitive answer, making it only partially relevant.</td>\n",
       "    </tr>\n",
       "    <tr>\n",
       "      <th>13</th>\n",
       "      <td>According to Aajonus Vonderplanitz's views as reflected in the provided context, the potential risks of feeding the eye with egg white include the possibility of some redness due to the movement of toxins. Additionally, there may be discomfort if using butter, as it is noted to sting. However, putting egg white in the eye is generally described as being mild, and it is suggested to be soothing for the eyes and a catalyst for eye health.</td>\n",
       "      <td>4287</td>\n",
       "      <td>What are the potential risks of feeding the eye with egg white as per Aajonus's views?</td>\n",
       "      <td>PARTLY_RELEVANT</td>\n",
       "      <td>The generated answer addresses potential risks associated with feeding the eye with egg white, mentioning redness and discomfort, which are relevant to the question. However, it also includes positive aspects about egg white being soothing and beneficial for eye health, which detracts from a focused discussion on the risks specifically asked about in the question.</td>\n",
       "    </tr>\n",
       "    <tr>\n",
       "      <th>15</th>\n",
       "      <td>From the context provided, it seems that the individual learned about the primal diet primarily through personal research and exposure to influences like Aajonus's workshops and books. They mention learning by seeing \"all the evil in the world\" and starting with \"biological warfare,\" which suggests a deep dive into health concerns and the necessity to understand the diet thoroughly. They also imply a self-driven approach, stating the need to treat learning about the diet like a full-time business and expressing the importance of gaining knowledge through personal attempts and adjustments.</td>\n",
       "      <td>4463</td>\n",
       "      <td>How did you learn about the recipe you mentioned?</td>\n",
       "      <td>PARTLY_RELEVANT</td>\n",
       "      <td>The generated answer discusses the individual's learning methods and influences related to the primal diet, but it does not directly answer the specific question about how they learned about the recipe. It provides context about their overall learning experience rather than focusing on the recipe itself.</td>\n",
       "    </tr>\n",
       "    <tr>\n",
       "      <th>20</th>\n",
       "      <td>Based on today's updated advice, you should focus on incorporating plenty of raw animal fat, such as raw cream, into your diet and ensure you're drinking enough raw celery juice. This approach is suggested as it aligns more closely with primal diet principles. Additionally, avoid misleading practices or supplements that contain industrial chemicals and are overly processed. Keep these guidelines in mind and share more details if you need more personalized suggestions.</td>\n",
       "      <td>2575</td>\n",
       "      <td>What should we do today instead of yesterday's advice?</td>\n",
       "      <td>PARTLY_RELEVANT</td>\n",
       "      <td>The generated answer provides specific dietary advice that might pertain to updated guidance for today, but it does not explicitly address the question about what to do instead of yesterday's advice. It lacks a clear comparison or mention of the previous advice from yesterday, making it somewhat relevant but not fully aligned with the question.</td>\n",
       "    </tr>\n",
       "    <tr>\n",
       "      <th>21</th>\n",
       "      <td>Yes, based on the context, there have been cases of primals experiencing symptoms after eating 'salmon vanilla'. Specifically, there are mentions of people feeling nauseous and even vomiting after consuming salmon, with some attributing their symptoms to potential crossbreeding with GMO salmon and other quality concerns.</td>\n",
       "      <td>1266</td>\n",
       "      <td>Have there been any cases of primals experiencing symptoms after eating 'salmon vanilla'?</td>\n",
       "      <td>PARTLY_RELEVANT</td>\n",
       "      <td>The generated answer discusses symptoms experienced after consuming salmon, which relates to the question about 'salmon vanilla.' However, it does not specifically address 'salmon vanilla' itself or provide any concrete cases of primals experiencing symptoms after consuming this specific variant. It mentions general symptoms and concerns associated with salmon, making it relevant but not fully aligned with the specific query.</td>\n",
       "    </tr>\n",
       "    <tr>\n",
       "      <th>27</th>\n",
       "      <td>During desperate times on the primal diet, some individuals resorted to consuming foods in unconventional ways, such as considering the use of coconut cream in a suppository form. The rationale was that desperate times call for desperate measures. However, other measures mentioned include following dietary guidelines closely and finding creative solutions such as making primal cocktails for convenience when eating raw meat is not feasible. Overall, the emphasis was on adapting practices to maintain adherence to the primal diet during challenging situations.</td>\n",
       "      <td>5089</td>\n",
       "      <td>What measures did you take during desperate times on the primal diet?</td>\n",
       "      <td>PARTLY_RELEVANT</td>\n",
       "      <td>The generated answer addresses the question by mentioning measures taken during desperate times on the primal diet, such as unconventional food consumption and adherence to dietary guidelines. However, it lacks specific examples and depth regarding the actual measures or challenges faced, making it only partially relevant.</td>\n",
       "    </tr>\n",
       "    <tr>\n",
       "      <th>28</th>\n",
       "      <td>Raw fat improves the ease of consumption compared to a solid state because it is more readily digestible. In a primal diet, raw fats are emphasized for their role in detoxifying the body and supporting overall health. They are considered vital, as raw unsalted cheese, for example, is suggested to be consumed in small amounts every 15-30 minutes to help eliminate toxins. Additionally, raw fats, such as those from dairy, play unique roles in the diet, supporting functions like feeding the nervous system. Overall, consuming fat in its raw state may enhance its nutritional benefits and ease of digestion.</td>\n",
       "      <td>3102</td>\n",
       "      <td>How does raw fat improve the ease of consumption compared to a solid state?</td>\n",
       "      <td>PARTLY_RELEVANT</td>\n",
       "      <td>The generated answer discusses how raw fat is more readily digestible and emphasizes its nutritional benefits, which loosely connects to the ease of consumption. However, it does not directly address the comparison between raw fat and solid fat specifically, making the relevance only partial.</td>\n",
       "    </tr>\n",
       "    <tr>\n",
       "      <th>33</th>\n",
       "      <td>To avoid tooth pain, particularly when dealing with dental work or sensitive teeth, liquids should be kept warm or lukewarm.</td>\n",
       "      <td>4035</td>\n",
       "      <td>What temperature should liquids be kept at to avoid tooth pain?</td>\n",
       "      <td>PARTLY_RELEVANT</td>\n",
       "      <td>The generated answer provides useful guidance regarding the temperature of liquids (warm or lukewarm) to avoid tooth pain, but it lacks specific temperature ranges that could better address the question.</td>\n",
       "    </tr>\n",
       "    <tr>\n",
       "      <th>34</th>\n",
       "      <td>Based on the context provided, foods that are better for oral health compared to fruit and vegetable juices include non-frozen, non-irradiated oysters. Additionally, raw dairy, such as raw milk, is noted to be beneficial due to its calcium content, which can bind to heavy metals in the mouth. Furthermore, oil pulling with coconut or sesame oil and water flossing are mentioned as beneficial practices for oral health care.</td>\n",
       "      <td>2181</td>\n",
       "      <td>What will be better for oral health compared to fruit and vegetable juices?</td>\n",
       "      <td>PARTLY_RELEVANT</td>\n",
       "      <td>The generated answer addresses oral health practices and foods that can be beneficial, but it does not clearly establish a direct comparison with fruit and vegetable juices, which is the primary focus of the question. While it provides relevant suggestions, the direct comparison aspect is lacking.</td>\n",
       "    </tr>\n",
       "    <tr>\n",
       "      <th>39</th>\n",
       "      <td>The user's stance on consuming raw and cooked foods together for nutritional balance is not explicitly stated in the provided context. However, there is a mention of dietary sodium needs being satisfied through raw foods alone, such as raw milk, raw celery juice, raw tomatoes, and raw oysters, suggesting a preference for raw foods over cooked ones. Additionally, there is a general discouragement of eating frozen foods due to the significant loss of nutritional value and potential generation of toxins. This might indicate a possible inclination towards consuming fresh raw foods over cooked or frozen alternatives for optimal nutrition.</td>\n",
       "      <td>3765</td>\n",
       "      <td>What is the user's stance on consuming raw and cooked foods together for nutritional balance?</td>\n",
       "      <td>PARTLY_RELEVANT</td>\n",
       "      <td>The generated answer provides some insight into the user's possible preference for raw foods over cooked ones, suggesting an inclination towards fresh raw alternatives for nutrition. However, it does not explicitly state the user's stance on combining raw and cooked foods for nutritional balance, making the relevance partly related to the question.</td>\n",
       "    </tr>\n",
       "    <tr>\n",
       "      <th>41</th>\n",
       "      <td>Based on the provided context, I have not mentioned trying a specific bone growth formula before. The discussed bone growth formula in the context consists of cheese, honey, and pineapple. However, there is no direct reference to personal use of this formula.</td>\n",
       "      <td>4519</td>\n",
       "      <td>Have you ever tried using this specific bone growth formula before?</td>\n",
       "      <td>PARTLY_RELEVANT</td>\n",
       "      <td>The generated answer addresses the question by stating that the responder has not tried the specific bone growth formula, which is relevant to the inquiry. However, it lacks personal experience or opinion, making it only partially relevant to the asker’s intent.</td>\n",
       "    </tr>\n",
       "    <tr>\n",
       "      <th>43</th>\n",
       "      <td>If you're interested in eating bones albeit reluctantly, it could be due to the nutritional benefits they offer, which are recognized in the primal health community. Consuming bones can provide essential minerals and contribute to overall bone health, as well as potentially influence hormone levels. Eating bones is a common practice among carnivores, and some primal health enthusiasts believe that bones contribute to hormonal balance. If you're curious but hesitant, this interest might align with exploring the potential health benefits bones could offer, even if you're not fully committed to incorporating them into your diet.</td>\n",
       "      <td>3527</td>\n",
       "      <td>Why are you interested in eating bones if you don't want to?</td>\n",
       "      <td>PARTLY_RELEVANT</td>\n",
       "      <td>The generated answer discusses potential reasons for an interest in eating bones, touching on nutritional benefits and health beliefs. However, it does not directly address the contradiction in the question of why someone would be interested in eating bones if they don't want to. The focus should have been more on the conflict between desire and reluctance.</td>\n",
       "    </tr>\n",
       "    <tr>\n",
       "      <th>46</th>\n",
       "      <td>After Oscar was called out on Twitter for not crediting Aajonus, his reputation likely took a hit. It is not clear if there were any other significant changes to his situation beyond the potential damage to his reputation.</td>\n",
       "      <td>82</td>\n",
       "      <td>What happened to Oscar after he was called out on Twitter for not crediting Aajonus?</td>\n",
       "      <td>PARTLY_RELEVANT</td>\n",
       "      <td>The generated answer addresses the aftermath of Oscar being called out on Twitter, specifically mentioning the impact on his reputation. However, it lacks specific details about any concrete actions or changes that occurred as a result of the incident, making it only partly relevant to the question.</td>\n",
       "    </tr>\n",
       "    <tr>\n",
       "      <th>48</th>\n",
       "      <td>Based on the context provided, it's mentioned that \"I told them I don't need pharmaceutical salesmen to give me advice.\" This implies a preference for receiving health advice from sources other than pharmaceutical salesmen.</td>\n",
       "      <td>5593</td>\n",
       "      <td>Who do you prefer to trust for health advice instead of pharmaceutical salesmen?</td>\n",
       "      <td>PARTLY_RELEVANT</td>\n",
       "      <td>The generated answer addresses the question by expressing a preference against pharmaceutical salesmen for health advice. However, it does not specify who the preferred source of health advice is, leaving the answer incomplete in relation to the question asked.</td>\n",
       "    </tr>\n",
       "    <tr>\n",
       "      <th>50</th>\n",
       "      <td>Based on the context provided, it is considered inconvenient to fall asleep with cheese. One specific mention describes it as inconvenient in a lighthearted manner, suggesting that it might not be a common practice or preference.</td>\n",
       "      <td>1691</td>\n",
       "      <td>Is it common or inconvenient to fall asleep with cheese?</td>\n",
       "      <td>PARTLY_RELEVANT</td>\n",
       "      <td>The generated answer addresses the inconvenience of falling asleep with cheese, which relates to the question, but it does not directly address whether it is common. It acknowledges the idea of falling asleep with cheese but does not provide sufficient information on the commonality of this behavior.</td>\n",
       "    </tr>\n",
       "    <tr>\n",
       "      <th>51</th>\n",
       "      <td>The process described in the content for nutrients from food involves eating foods, where the digested nutrients eventually end up in the blood. These nutrients then become available for the body to use. However, these nutrients do not circulate indefinitely in the blood; they can be depleted within a short time frame, as little as 2 to 5 hours, depending on the individual. This depletion is attributed to our toxicity, involving what is referred to as \"mutant antibodies,\" which damage the protein nutrients in our bloodstream.</td>\n",
       "      <td>5028</td>\n",
       "      <td>What is the process described in the chunked content for nutrients from food?</td>\n",
       "      <td>PARTLY_RELEVANT</td>\n",
       "      <td>The generated answer discusses the general process of nutrients being digested and entering the bloodstream, addressing part of the question. However, it introduces a concept about 'mutant antibodies' and toxicity that is not commonly recognized in relation to nutrients or might confuse the main process. This detracts from fully answering the question, rendering it partly relevant.</td>\n",
       "    </tr>\n",
       "    <tr>\n",
       "      <th>52</th>\n",
       "      <td>To help reduce allergy reactions in small indoor spaces based on the primal diet context, consider the following lifestyle changes:\\n\\n1. **Diet Adjustments:**\\n   - Incorporate raw unsalted cheese and raw milk in small, gradual amounts to potentially help with reducing allergy symptoms. Monitor your reactions to these foods.\\n   - Eat cheese before meals as it may help manage digestion and reduce detoxification symptoms that could manifest as allergies.\\n\\n2. **Environmental Changes:**\\n   - Ensure good ventilation in indoor spaces to reduce potential allergens.\\n   - Be mindful of materials in the environment; avoid plastic when possible, as it may leach substances that contribute to allergies.\\n\\n3. **Detoxification Support:**\\n   - Consider regular hot baths to aid in detoxification, which might help alleviate allergy symptoms.\\n   - Introduce lemon/lime juice and honey in your diet, which might help with detoxification and managing allergens.\\n\\nThese strategies, gathered from the context, aim to naturally support the body's ability to handle allergens more effectively.</td>\n",
       "      <td>1614</td>\n",
       "      <td>What lifestyle changes might help reduce allergy reactions in small indoor spaces?</td>\n",
       "      <td>PARTLY_RELEVANT</td>\n",
       "      <td>The generated answer includes dietary adjustments, environmental changes, and detoxification support, which are aspects that may contribute to reducing allergy reactions in indoor spaces. However, the focus on a primal diet and specific foods may not directly target the broader range of lifestyle changes that typically address allergy reactions, such as cleaning routines, the use of air purifiers, or managing humidity levels. Therefore, while some elements are relevant, others may not be directly applicable or widely accepted as effective solutions for allergies.</td>\n",
       "    </tr>\n",
       "    <tr>\n",
       "      <th>58</th>\n",
       "      <td>Based on the context provided, there is no explicit mention of glass leaching substances when used to store rotten meat or milk for a year. The discussion in the context primarily revolves around the use of glass jars and containers for storing such items, but it doesn't provide details on whether glass leaches any substances in these conditions. Generally, glass is considered inert and non-reactive, making it unlikely to leach substances under typical circumstances, but the context does not address this explicitly.</td>\n",
       "      <td>4084</td>\n",
       "      <td>Does glass ever leach any substances if used to store rotten meat or milk for a year?</td>\n",
       "      <td>PARTLY_RELEVANT</td>\n",
       "      <td>The generated answer addresses the question indirectly by discussing the inert nature of glass and its general properties, but it does not directly answer whether glass leaches substances specifically in the context of storing rotten meat or milk for a year. It acknowledges the lack of explicit information in the context provided, making it only partially relevant.</td>\n",
       "    </tr>\n",
       "    <tr>\n",
       "      <th>67</th>\n",
       "      <td>Based on the context provided, the primal health approach can have varying preparation times depending on the specific practices you adopt. For example, making raw milk kefir is described as one of the easiest primal foods to prepare, suggesting it might be relatively quick. Other practices might require more time, such as growing your own food, having animals for meat, or managing a dairy cow. There is no specific timeframe mentioned for daily preparation, but the approach seems to involve a spectrum of time commitments based on individual choices and practices.</td>\n",
       "      <td>871</td>\n",
       "      <td>How long might it take to prepare food daily if going all in on this health approach?</td>\n",
       "      <td>PARTLY_RELEVANT</td>\n",
       "      <td>The generated answer discusses the variability in food preparation times within the primal health approach, but it does not provide a clear estimate or specific timeframe as requested in the question. It acknowledges that preparation times can vary based on practices adopted, which partially addresses the question but lacks a definitive answer.</td>\n",
       "    </tr>\n",
       "    <tr>\n",
       "      <th>68</th>\n",
       "      <td>The provided CONTEXT does not contain any specific recipes for making raw cheese, especially those involving the addition of cream. The information mentions various topics loosely related to primal diets and raw dairy products but doesn't provide detailed instructions on cheese-making. If you're interested in making raw cheese, I recommend consulting a dedicated raw cheese-making resource or recipe book for specific guidance.</td>\n",
       "      <td>3954</td>\n",
       "      <td>Do you have any recipes on how to make different types of raw cheese, possibly involving adding cream?</td>\n",
       "      <td>PARTLY_RELEVANT</td>\n",
       "      <td>The generated answer acknowledges the absence of specific recipes for making raw cheese but suggests consulting a dedicated resource for guidance. While it does not directly answer the question, it provides some useful direction for finding the requested information.</td>\n",
       "    </tr>\n",
       "    <tr>\n",
       "      <th>72</th>\n",
       "      <td>Some foods that people have gotten E. coli from include chicken intestines and high liver. Additionally, pig-related products may pose risks due to the similarity of pig E. coli strains to human strains, and there is a mention of high eggs also having some E. coli.</td>\n",
       "      <td>604</td>\n",
       "      <td>What are some foods that people have gotten E. coli from?</td>\n",
       "      <td>PARTLY_RELEVANT</td>\n",
       "      <td>The generated answer mentions some foods associated with E. coli, including chicken intestines and pig products, which is relevant. However, it includes less common references like 'high liver' and 'high eggs,' which may confuse the response. The answer could benefit from mentioning more commonly known foods that have been linked to E. coli outbreaks, such as leafy greens, alfalfa sprouts, or undercooked beef.</td>\n",
       "    </tr>\n",
       "    <tr>\n",
       "      <th>76</th>\n",
       "      <td>Based on the context provided, it seems that when dealing with fruit flies, one approach mentioned is to place a cap on the bottle to prevent them from flying in, but not to screw it on tightly. This suggests that the cap should not be left completely open to avoid fruit flies getting in.</td>\n",
       "      <td>4588</td>\n",
       "      <td>Do you leave the bottle cap open to prevent fruit flies from getting in?</td>\n",
       "      <td>PARTLY_RELEVANT</td>\n",
       "      <td>The generated answer acknowledges the issue of preventing fruit flies, but it does not directly address the question of whether to leave the bottle cap open. Instead, it suggests an alternative approach regarding the cap, which may still relate to the intention behind the question but does not provide a clear answer.</td>\n",
       "    </tr>\n",
       "    <tr>\n",
       "      <th>78</th>\n",
       "      <td>UK potatoes are not genetically modified. However, when consuming potatoes, particularly from a primal diet perspective, you should be cautious because they contain a lot of oxalates, which can contribute to kidney stones if consumed in large amounts. Additionally, potatoes are considered a toxic food in the primal community because if they are not properly stored and consumed before they turn, they can be harmful. It's important to manage the intake and storage of potatoes carefully to avoid any potential health risks.</td>\n",
       "      <td>1211</td>\n",
       "      <td>Why should I be careful with UK potatoes, are they genetically modified?</td>\n",
       "      <td>PARTLY_RELEVANT</td>\n",
       "      <td>The generated answer addresses the question about UK potatoes being genetically modified by stating that they are not genetically modified. However, it diverges into other aspects related to health risks associated with potato consumption, which, while informative, do not directly answer the main concern raised in the question. Thus, it provides some relevant information but includes extraneous details.</td>\n",
       "    </tr>\n",
       "    <tr>\n",
       "      <th>79</th>\n",
       "      <td>Based on the context available in the primal diet database, raw unsalted cheese can help absorb toxins in the system but is not specifically mentioned as a remedy for allergy symptoms. The provided context does not directly suggest that eating raw unsalted cheese can alleviate allergy symptoms experienced in an office setting. The focus is more on the cheese's ability to absorb toxins rather than its potential impact on allergies. For alleviating allergy symptoms, raw local honey and other dietary suggestions such as fresh raw milk, cream, kefir, fresh vegetable juices, and unripe fruit are mentioned as they provide hydration and nutrients that might help. Therefore, it would be advisable to focus on those instead of raw unsalted cheese for addressing allergy symptoms.</td>\n",
       "      <td>1614</td>\n",
       "      <td>Can eating raw unsalted cheese help with allergy symptoms in an office setting?</td>\n",
       "      <td>PARTLY_RELEVANT</td>\n",
       "      <td>The generated answer discusses the potential effects of raw unsalted cheese and its ability to absorb toxins, but it does not provide a direct link to alleviating allergy symptoms specifically in an office setting. Although it mentions that other dietary suggestions may help with allergies, the primary focus on cheese detracts from directly answering the question about allergy symptom relief.</td>\n",
       "    </tr>\n",
       "    <tr>\n",
       "      <th>81</th>\n",
       "      <td>Based on the context provided, there is no explicit statement regarding the specific benefits of coconut oil pressed at up to 40 degrees. However, the context does include a segment that asks a similar question (\"Will coconut oil pressed at up to 40 degrees be beneficial to me?\") and describes it as a \"massive cope,\" suggesting skepticism about its benefits. Additionally, there is mention of cold temp pressed coconut oil being good for certain uses, but no direct benefits are confirmed for the specific temperature of 40 degrees. Therefore, based on the context, there's no clear consensus or confirmation of coconut oil pressed at up to 40 degrees being beneficial.</td>\n",
       "      <td>4858</td>\n",
       "      <td>Is coconut oil pressed at up to 40 degrees beneficial?</td>\n",
       "      <td>PARTLY_RELEVANT</td>\n",
       "      <td>The generated answer addresses the question about the benefits of coconut oil pressed at 40 degrees but ultimately does not provide a clear confirmation of any benefits. It mentions skepticism and general information about cold-pressing without confirming specifics about the temperature in question. Therefore, it partially addresses the question but lacks definitive relevance.</td>\n",
       "    </tr>\n",
       "    <tr>\n",
       "      <th>82</th>\n",
       "      <td>A possible solution for someone who is always tired, based on the primal diet context, could be to address joint pain and inflammation, potentially linked to vaccination, by improving their diet. One suggestion mentioned in the context is drinking clay milk, which might help alleviate tiredness and inflammation. Additionally, ensuring a strict raw primal lifestyle, which includes eating raw or minimally processed foods, avoiding foods from vaccinated or medicated animals, and managing detoxification, could also contribute to increased energy levels and overall well-being.</td>\n",
       "      <td>1859</td>\n",
       "      <td>What is a possible solution for someone who is always tired?</td>\n",
       "      <td>PARTLY_RELEVANT</td>\n",
       "      <td>The generated answer presents some potential solutions, such as improving diet and managing detoxification, which could relate to addressing tiredness. However, the focus on the primal diet, joint pain, inflammation, and vaccination is somewhat tangential and doesn't directly address the broader aspects of fatigue, making it relevant but not fully aligned with the question.</td>\n",
       "    </tr>\n",
       "    <tr>\n",
       "      <th>84</th>\n",
       "      <td>The context indicates that the weather in England is often perceived as bad, with descriptions of it being \"freezing\" and lacking sunlight, while in Albania, the weather is implied to be warmer. However, there isn't a detailed comparison in the context provided—it only suggests a general idea that Albania might have warmer or more favorable weather compared to England.</td>\n",
       "      <td>2760</td>\n",
       "      <td>How does the weather in England compare to Albania?</td>\n",
       "      <td>PARTLY_RELEVANT</td>\n",
       "      <td>The generated answer provides some contextual information about the weather in England and Albania, indicating that England's weather is often perceived as bad while suggesting Albania's weather is warmer. However, it lacks a comprehensive comparison or specific details, making it only partially relevant to the question.</td>\n",
       "    </tr>\n",
       "    <tr>\n",
       "      <th>88</th>\n",
       "      <td>The nervous system state that is commonly accompanied by parasympathetic dissociation is chronic sympathetic nervous system arousal, often associated with the freeze state or parasympathetic dissociation coping mechanism.</td>\n",
       "      <td>623</td>\n",
       "      <td>What nervous system state is commonly accompanied by parasympathetic dissociation?</td>\n",
       "      <td>PARTLY_RELEVANT</td>\n",
       "      <td>The generated answer mentions chronic sympathetic nervous system arousal, which is related to parasympathetic dissociation. However, it does not specifically identify a 'nervous system state' as requested in the question, making it only partly relevant.</td>\n",
       "    </tr>\n",
       "    <tr>\n",
       "      <th>91</th>\n",
       "      <td>Based on the provided CONTEXT, the discussion around autism in the context of online interactions seems to revolve around the use of the word \"autistic\" more as an informal descriptor or an insult rather than a clinical observation. The statements reflect personal opinions and possibly derogatory uses of the term rather than a factual insight into the prevalence of autism. Hence, the CONTEXT does not provide enough factual evidence to conclude whether being \"a little autistic and missing the overall point\" is common among people online. It seems more like a casual, and potentially offensive, way people are conversing in the provided examples.</td>\n",
       "      <td>4349</td>\n",
       "      <td>Is being a little autistic and missing the overall point common among people online?</td>\n",
       "      <td>PARTLY_RELEVANT</td>\n",
       "      <td>The generated answer discusses the usage of the term 'autistic' in online interactions, which is somewhat related to the question. However, it does not directly address whether being 'a little autistic and missing the overall point' is common, instead indicating that the context lacks evidence for such a conclusion. This partial engagement with the question suggests that while there is some relevance, it does not fully respond to the inquiry about the commonality of the behavior described.</td>\n",
       "    </tr>\n",
       "    <tr>\n",
       "      <th>98</th>\n",
       "      <td>Milk can be a source of hydration, as it is frequently mentioned alongside other hydrating options like juice and raw fats in the context provided. However, the emphasis seems to be more on a combination of ingredients, such as hydration formulas, celery juice or milk, than on milk alone as a primary hydration source. In the context of consuming milk, it is highlighted in small quantities between meals or alongside cheese for hydration purposes. Therefore, while milk can contribute to hydration, it seems more effective when used in conjunction with other hydrating elements.</td>\n",
       "      <td>1020</td>\n",
       "      <td>Can milk be an effective source of hydration?</td>\n",
       "      <td>PARTLY_RELEVANT</td>\n",
       "      <td>The generated answer discusses how milk can contribute to hydration but emphasizes its effectiveness when combined with other ingredients rather than highlighting it as a primary hydration source. While it addresses the question, it does not unequivocally support milk as an effective standalone source of hydration.</td>\n",
       "    </tr>\n",
       "    <tr>\n",
       "      <th>101</th>\n",
       "      <td>The ancient Mediterranean civilization of the Phoenicians is noted for consuming raw fish as a staple in their diet.</td>\n",
       "      <td>2530</td>\n",
       "      <td>Which ancient civilization is noted for consuming raw fish as a staple in their diet?</td>\n",
       "      <td>PARTLY_RELEVANT</td>\n",
       "      <td>The generated answer mentions an ancient civilization, the Phoenicians, and states that they consumed raw fish. However, the Phoenicians are not widely recognized as a civilization particularly noted for this practice. A more accurate answer would reference the Japanese, who are well-known for their consumption of raw fish, especially in the form of sushi. Therefore, while the answer is somewhat related, it does not directly and accurately respond to the question.</td>\n",
       "    </tr>\n",
       "    <tr>\n",
       "      <th>105</th>\n",
       "      <td>The adviser recommends a diet that primarily includes only red, orange, and yellow vegetables while excluding green vegetables. It emphasizes a high intake of sugar from sources like fruits, dairy, and honey, as well as a substantial consumption of fats from animal meat and dairy. The recommendations do not have a provided scientific basis and are not explained further regarding their rationale or effectiveness.</td>\n",
       "      <td>3363</td>\n",
       "      <td>What diet does the adviser recommend and what is the basis for these recommendations?</td>\n",
       "      <td>PARTLY_RELEVANT</td>\n",
       "      <td>The generated answer addresses the recommended diet but lacks detail on the basis for these recommendations, which is a key part of the question. While it mentions the diet itself, the absence of a scientific basis or rationale limits its relevance.</td>\n",
       "    </tr>\n",
       "    <tr>\n",
       "      <th>114</th>\n",
       "      <td>Someone might experience random nosebleeds during childhood because the body could be discarding toxic substances from the brain or eye area through the sinuses. If insufficient mucus is produced to protect the mucous lining, this can lead to bleeding. To prevent and treat nosebleeds, it's suggested to consume a combination of cream, milk, and eggs to increase mucus production, helping to protect the nasal lining. Additionally, drinking green cabbage juice may aid in blood clotting and help prevent further rupture of blood vessels in the nasal passages.</td>\n",
       "      <td>3077</td>\n",
       "      <td>Why might someone experience random nosebleeds during childhood?</td>\n",
       "      <td>PARTLY_RELEVANT</td>\n",
       "      <td>The generated answer touches on a potential reason for random nosebleeds during childhood related to mucus production and suggests some dietary remedies. However, the explanation about the body discarding toxic substances is not commonly associated with nosebleeds and lacks scientific backing. While it offers some valuable information, the reasoning is not fully relevant to the main question.</td>\n",
       "    </tr>\n",
       "    <tr>\n",
       "      <th>122</th>\n",
       "      <td>An appropriate response, based on the context from the primal diet database, would involve establishing firm boundaries and rules from the beginning, especially if the threat is towards immediate family like your wife and children. However, if it's someone outside of the immediate family, the response may simply involve vigilance without direct confrontation, as suggested in the context.</td>\n",
       "      <td>608</td>\n",
       "      <td>What would you consider an appropriate response to someone threatening your family?</td>\n",
       "      <td>PARTLY_RELEVANT</td>\n",
       "      <td>The generated answer touches on the idea of establishing boundaries and responding to threats, which is relevant to the question about dealing with someone threatening your family. However, the reference to the 'primal diet database' seems misplaced and does not directly address the nature of the threat, leading to a lack of complete relevance.</td>\n",
       "    </tr>\n",
       "    <tr>\n",
       "      <th>123</th>\n",
       "      <td>Yes, there are references to people in Berlin interested in the primal diet. You might find connections by looking for recommendations for butcher shops or places for raw milk in Berlin, as mentioned in the context.</td>\n",
       "      <td>4588</td>\n",
       "      <td>Are you searching for any primal dieters in Berlin who you can connect with?</td>\n",
       "      <td>PARTLY_RELEVANT</td>\n",
       "      <td>The answer acknowledges the existence of people in Berlin interested in the primal diet, but it does not directly address the user's request to connect with them. Instead, it suggests places where one might find such individuals indirectly, which is not a direct response to the question.</td>\n",
       "    </tr>\n",
       "    <tr>\n",
       "      <th>128</th>\n",
       "      <td>Based on the context provided, oysters and sea urchins are mentioned in relation to boosting testosterone levels. However, there is no specific evidence or detailed explanation in the context confirming their effectiveness in directly boosting testosterone levels. The discussion around oysters includes considerations of their sodium content and their comparability in dietary effects to other foods.\\n\\nOverall, while oysters and sea urchins are mentioned, the provided context does not definitively state that they boost testosterone levels.</td>\n",
       "      <td>5401</td>\n",
       "      <td>Do oysters and sea urchins help in boosting testosterone levels?</td>\n",
       "      <td>PARTLY_RELEVANT</td>\n",
       "      <td>The generated answer acknowledges the mention of oysters and sea urchins in relation to testosterone levels but lacks specific evidence or a clear connection that confirms their effectiveness in boosting testosterone. It indicates some relevant context but does not directly answer the question.</td>\n",
       "    </tr>\n",
       "    <tr>\n",
       "      <th>130</th>\n",
       "      <td>Based on the context provided, there does not appear to be a specific daily limit on the number of milkshakes you can have. The more milkshakes and lubes you consume, the more gains you may notice according to some statements in the context. It's mentioned that having them daily is encouraged for making significant impacts when underweight. However, it's always a good idea to listen to your body and consider your own dietary needs and preferences.</td>\n",
       "      <td>3031</td>\n",
       "      <td>Is there a daily limit for how many milkshakes I can have?</td>\n",
       "      <td>PARTLY_RELEVANT</td>\n",
       "      <td>The generated answer addresses the question about daily limits on milkshake consumption by stating that there is no specific limit. However, it veers off-topic by introducing unrelated concepts, such as 'lubes' and 'gains', which detract from the focus on milkshakes. While it provides some relevant advice about listening to one's body, the additional information makes it less directly relevant to the question.</td>\n",
       "    </tr>\n",
       "    <tr>\n",
       "      <th>132</th>\n",
       "      <td>When meat is cooked, certain toxins can be released. The primal diet mentions that cooking can introduce toxins into the body, which can then become the focus of the body's detoxification efforts rather than emptying other toxin stores. Additionally, the cooking process may alter the bioactive nature of food, making it less effective for detoxification purposes. While the specific types of toxins are not detailed in the provided context, the discussion suggests that cooking affects the body's ability to process and eliminate toxins more efficiently.</td>\n",
       "      <td>4978</td>\n",
       "      <td>What are the potential toxins released when meat is cooked, relevant to the primal diet?</td>\n",
       "      <td>PARTLY_RELEVANT</td>\n",
       "      <td>The generated answer discusses the concept of toxins being released when meat is cooked and mentions the implications for the body's detoxification in the context of the primal diet. However, it lacks specific details about the types of toxins that are released, which was requested in the question. Therefore, while it addresses the topic to some extent, it does not fully meet the question's requirements.</td>\n",
       "    </tr>\n",
       "    <tr>\n",
       "      <th>139</th>\n",
       "      <td>One should be skeptical of raw kombucha made with honey because the mycelium in kombucha is not suited to consuming fresh, live honey. Kombucha typically breaks down dry, dead roots, not living substances like fresh honey. Using honey in its fermentation process can lead to the mycelium not thriving properly, potentially requiring the use of cooked or processed substances to sustain it, which contradicts the raw label the product might claim. Therefore, kombucha made with honey may not genuinely be raw as it contradicts the natural dietary needs of its mycelium.</td>\n",
       "      <td>2720</td>\n",
       "      <td>Why should one be skeptical of raw kombucha made with honey?</td>\n",
       "      <td>PARTLY_RELEVANT</td>\n",
       "      <td>The generated answer addresses the skepticism surrounding raw kombucha made with honey by discussing the incompatibility of mycelium and fresh honey. However, it lacks context about safety concerns or the specific implications of consuming raw kombucha with honey, which are vital to fully understanding the skepticism involved.</td>\n",
       "    </tr>\n",
       "    <tr>\n",
       "      <th>140</th>\n",
       "      <td>Based on the context provided, raw manchego cheese is mentioned in relation to starting out on a primal diet or regimen. However, there's no specific reference to integrating it with a juice regimen when starting. It seems that raw manchego cheese is considered a part of some individuals' diets within the primal community, but not specifically mentioned alongside a juice regimen. Therefore, while raw manchego cheese is acknowledged, the combination with a juice regimen isn't explicitly suggested in the context provided.</td>\n",
       "      <td>2871</td>\n",
       "      <td>Have you tried raw manchego cheese along with your juice regimen when starting out?</td>\n",
       "      <td>PARTLY_RELEVANT</td>\n",
       "      <td>The generated answer acknowledges raw manchego cheese and its relation to diet regimens, but it does not directly address whether it has been tried alongside a juice regimen. It provides some relevant context, but lacks a direct connection to the specific combination mentioned in the question.</td>\n",
       "    </tr>\n",
       "    <tr>\n",
       "      <th>151</th>\n",
       "      <td>Based on the context provided, it seems that specific primal ideas for \"OF\" were not explicitly outlined. However, it generally highlights some potential topics of interest or challenges within the primal lifestyle or diet, such as managing raw meat consumption, exploring new foods like fresh fish eggs, and addressing health issues like histamine intolerance or digestive problems.\\n\\nAs for why the ideas might not have been started, one possible reason from the context could be the challenges in accepting new dietary concepts that contradict pre-existing beliefs, as mentioned in one of the chunks. This resistance could stem from the difficulty in changing deep-seated views or fear of the unfamiliar, which can hinder the initiation of new dietary or lifestyle changes inspired by the primal diet. Another reason might be practical challenges, like finding specific foods or managing their preparation and consumption (as seen with managing raw meat digestion and storage issues).</td>\n",
       "      <td>70</td>\n",
       "      <td>What are some primal ideas you had for OF, and why haven't you started them?</td>\n",
       "      <td>PARTLY_RELEVANT</td>\n",
       "      <td>The generated answer touches on potential primal ideas and reasons for not starting them, but lacks specificity related directly to the individual's particular primal ideas for 'OF.' It discusses general challenges and topics without directly answering the question about specific ideas or the personal context behind them.</td>\n",
       "    </tr>\n",
       "    <tr>\n",
       "      <th>154</th>\n",
       "      <td>Slight bitterness in cheese can be pleasant if the right temperature and humidity levels are maintained to prevent unnecessary bacteria from excessive development. This controlled environment helps ensure that the bitterness is mild and enhances the flavor, rather than overpowering it.</td>\n",
       "      <td>1423</td>\n",
       "      <td>How can slight bitterness in cheese be pleasant?</td>\n",
       "      <td>PARTLY_RELEVANT</td>\n",
       "      <td>The generated answer addresses the pleasantness of slight bitterness in cheese, but it focuses more on environmental factors (temperature and humidity) rather than directly explaining how the bitterness itself can be perceived as pleasant. While it provides some context, it does not fully explain the mechanism or reasons behind the pleasantness of the flavor.</td>\n",
       "    </tr>\n",
       "    <tr>\n",
       "      <th>170</th>\n",
       "      <td>To find a \"good one\" if you're really committed, you would need to dig super deep. However, the context isn't very specific about what \"a good one\" is referring to. Generally, it suggests that with perseverance and perhaps creativity or resourcefulness, such as making something yourself, success may be possible. Additionally, there might be unconventional or challenging methods to reach your goal that require significant effort. The context provides an example of using silk thread to make something, even suggesting that it might be tedious or pointless, implying that the quest for \"a good one\" could be difficult and potentially not worthwhile without specific goals in mind.</td>\n",
       "      <td>1010</td>\n",
       "      <td>How might someone find a good one if they dig super deep?</td>\n",
       "      <td>PARTLY_RELEVANT</td>\n",
       "      <td>The generated answer addresses the concept of finding something valuable through effort and persistence, which aligns with the question about digging deep. However, it lacks clarity on what 'a good one' specifically refers to, making the relevance to the question somewhat ambiguous and not fully targeted.</td>\n",
       "    </tr>\n",
       "    <tr>\n",
       "      <th>171</th>\n",
       "      <td>You can find a type of floss that is coated with beeswax from the brand \"Yaweco.\" They offer a biodegradable dental floss made from natural silk and beeswax without any added flavor or aroma.</td>\n",
       "      <td>923</td>\n",
       "      <td>Where can I find a type of floss that is either coated with beeswax or completely uncoated?</td>\n",
       "      <td>PARTLY_RELEVANT</td>\n",
       "      <td>The generated answer mentions a type of floss that is coated with beeswax, which addresses part of the question. However, it does not provide information about finding uncoated floss, which is another aspect of the question. Therefore, it is only partially relevant.</td>\n",
       "    </tr>\n",
       "    <tr>\n",
       "      <th>173</th>\n",
       "      <td>Yes, according to the context from the primal diet database, Solana Gold is the only brand that is aged in wood and stored in wood.</td>\n",
       "      <td>77</td>\n",
       "      <td>Is Solana Gold the only brand aged and stored in wood?</td>\n",
       "      <td>PARTLY_RELEVANT</td>\n",
       "      <td>The generated answer states that Solana Gold is the only brand aged and stored in wood, which directly addresses the question. However, it fails to provide any information about other brands that might also be aged and stored in wood, leaving the possibility that there could be others that were not mentioned. Thus, while it is relevant, it lacks completeness.</td>\n",
       "    </tr>\n",
       "    <tr>\n",
       "      <th>174</th>\n",
       "      <td>Based on the context provided, people who are underweight may find primal health advice useful, particularly emphasizing the consumption of meat, fat, and certain primal foods like raw milk to gain significant weight. The mention of making an impact by adding \"lubes and milkshakes\" implies that some find primal diet components beneficial when addressing underweight issues. However, specific advice related to being underweight and primal health seems somewhat limited in the context provided.</td>\n",
       "      <td>2556</td>\n",
       "      <td>Do people generally find primal health advice when they are underweight?</td>\n",
       "      <td>PARTLY_RELEVANT</td>\n",
       "      <td>The generated answer addresses the question by mentioning that people who are underweight may find primal health advice useful. It discusses specific elements of the primal diet that could help gain weight, such as meat and certain foods. However, it also acknowledges that the advice related specifically to being underweight is somewhat limited, which suggests that while there is some relevance, it may not fully encompass the broader context of primal health advice for underweight individuals.</td>\n",
       "    </tr>\n",
       "    <tr>\n",
       "      <th>176</th>\n",
       "      <td>The context does not explicitly address the phenomenon of eyesight becoming clearer when eyes water. However, there is no mention within the provided context that suggests this is a normal or typical occurrence based on primal health principles or diet. It might be advisable to explore this question from a medical perspective or consult with an eye care professional for a more informed and accurate answer regarding changes in eyesight clarity associated with watering eyes.</td>\n",
       "      <td>4349</td>\n",
       "      <td>Is it normal for eyesight to become clearer when eyes water?</td>\n",
       "      <td>PARTLY_RELEVANT</td>\n",
       "      <td>The generated answer discusses the phenomenon of eyesight and the possibility of needing a medical perspective, which is somewhat related to the question. However, it does not provide a clear answer or address if it is normal for eyesight to become clearer when eyes water, leading to a classification of partly relevant.</td>\n",
       "    </tr>\n",
       "    <tr>\n",
       "      <th>185</th>\n",
       "      <td>Based on the context provided, feeling like you're healing or improving currently could be linked to experiencing positive changes or feeling better through dietary adjustments. Improvements may manifest in various ways, such as:\\n\\n1. Experiencing incremental improvements daily, as noted by someone mentioning their body changing positively across a few weeks.\\n   \\n2. Feeling better when reintroducing certain foods, like small amounts of raw butter with honey, as it suggests observing how each dietary change affects your well-being. If you feel better with certain foods, it is an indication of improvement.\\n\\n3. Managing detox symptoms gradually, as suggested by discussions around detox and dietary choices (e.g., avoiding heavy detox foods, drinking milk or water instead of juice).\\n\\nThese examples reflect the idea that individuals on a primal diet may feel they are healing by noticing positive changes or feeling better as they adjust their diet according to the principles discussed in the provided context.</td>\n",
       "      <td>1041</td>\n",
       "      <td>What makes you feel like you're healing or improving currently?</td>\n",
       "      <td>PARTLY_RELEVANT</td>\n",
       "      <td>The generated answer discusses aspects of healing or improvement linked to dietary changes, which may relate to the personal experiences of healing. However, it does not directly address the subjective feelings or personal experiences that make someone feel healed or improved, focusing instead on general observations about diet and detox symptoms.</td>\n",
       "    </tr>\n",
       "    <tr>\n",
       "      <th>186</th>\n",
       "      <td>The context suggests that it's considered impossible to find a good quality cheesecloth or pork due to the difficulty in finding products that meet certain quality standards. In the case of cheesecloths, users mention that they are nearly impossible to clean after use, making it challenging to find an effective one. Regarding pork, it is suggested that pigs are often fed poor quality diets, making it hard to find good quality pork. In both cases, the challenge lies in finding products that align with specific quality requirements or standards.</td>\n",
       "      <td>1010</td>\n",
       "      <td>Why is it considered impossible to find a good one?</td>\n",
       "      <td>PARTLY_RELEVANT</td>\n",
       "      <td>The generated answer addresses the question by providing reasons why it may be considered impossible to find good quality cheesecloth and pork. However, it does not explicitly tie the explanation back to the original question's context or the reason for its perceived impossibility, leading to a somewhat incomplete response.</td>\n",
       "    </tr>\n",
       "    <tr>\n",
       "      <th>197</th>\n",
       "      <td>According to the advice in the context, you should minimize water intake and only drink it if you really need to. It suggests drinking water up to a maximum of 2 glasses a day if you're advanced in the primal diet. Instead, you should focus on consuming hydration alternatives like raw milk, vegetable juice, or even blood when available.</td>\n",
       "      <td>3031</td>\n",
       "      <td>How much water should I drink per day according to the advice?</td>\n",
       "      <td>PARTLY_RELEVANT</td>\n",
       "      <td>The generated answer provides specific advice about daily water intake but contradicts general recommendations for hydration. It introduces alternatives to water, which may not align with standard health guidance, creating confusion. While it addresses the question, the focus on minimizing water consumption and alternative hydration methods makes it only partly relevant to the typical advice on daily water intake.</td>\n",
       "    </tr>\n",
       "  </tbody>\n",
       "</table>\n",
       "</div>"
      ],
      "text/plain": [
       "                                                                                                                                                                                                                                                                                                                                                                                                                                                                                                                                                                                                                                                                                                                                                                                                                                                                                                                                                                                                                                                                                                                                  answer  \\\n",
       "0                                                                                                                                                                                                                                                                                                                                                                                                                                                                                                                                                                                                                                                                                                                                                                                                                                                                                                                                   No, not everything in Europe comes in glass containers. According to the context, there's an option to pay extra for milk in glass containers, but it is not the standard practice for all products.   \n",
       "1                                                                                                                                                                                                                                                                                                                                                                                                                                                                                                                                                                                                                                                                                                                                                                                                                                                      The context does not provide specific information on whether eating raw foods saves time compared to preparing processed foods. However, the preparation time could be reduced simply because cooking is not involved, but this is not explicitly mentioned in the provided data.   \n",
       "3                                                                                                                                                                                                                                                                                                                                                                                                                                                                                                                                                                                                                       According to the context provided, pasteurized butter from non-toxic animals is mentioned in relation to mad cow disease. The context suggests that mad cow disease was associated with consuming organs from toxic animals, but it does not directly address pasteurized butter from non-toxic animals. However, another part of the context contains a direct statement advising against consuming pasteurized butter. Therefore, based on the information given, it is advised not to eat pasteurized butter.   \n",
       "8                                                                                                                                                                                                                                                                                                                                                                                                                                                                                                                                                                                                                                                                                                                                                                                                                                                                                      Based on the provided context, there is no specific mention of any cheese makers from Thailand in the group who can offer advice. There is a mention of someone from Austria living in Thailand, but it does not specify they are a cheese maker.   \n",
       "9                                                                                                                                                                                                                                                                                                                                                                                                                                                                                                                                                                      Feeding your cat raw beef twice a week might provide some benefits but it's not guaranteed to extend his lifespan. Some people have observed benefits from feeding cats raw meat even once a month. However, there are potential concerns about detoxification or digestive issues if the cat does not handle raw meat well. Ensuring the meat is organic could be important according to the context. Consulting with a veterinarian is recommended to address any specific health concerns and to determine the most appropriate diet for longevity and health.   \n",
       "10                                                                                                                                                                                                                                                                                                                                                                                                                                                     To make apple cider vinegar using apple juice, you start by pouring the apple juice into a glass container or bottle. You let it sit until it ferments and turns sour, which is part of the natural process of how vinegar forms. It is noted that some people use sugar in this process.\\n\\nRegarding the substitution of sugar with honey, the context suggests that using honey instead of sugar could be viable, as there is discussion around the use of unheated honey being amazing. However, keep in mind that honey and sugar serve similar purposes by providing the necessary sugars to feed the fermentation process, which ultimately turns the liquid into vinegar.   \n",
       "13                                                                                                                                                                                                                                                                                                                                                                                                                                                                                                                                                                                                                                                                              According to Aajonus Vonderplanitz's views as reflected in the provided context, the potential risks of feeding the eye with egg white include the possibility of some redness due to the movement of toxins. Additionally, there may be discomfort if using butter, as it is noted to sting. However, putting egg white in the eye is generally described as being mild, and it is suggested to be soothing for the eyes and a catalyst for eye health.   \n",
       "15                                                                                                                                                                                                                                                                                                                                                                                                                                                                                                                   From the context provided, it seems that the individual learned about the primal diet primarily through personal research and exposure to influences like Aajonus's workshops and books. They mention learning by seeing \"all the evil in the world\" and starting with \"biological warfare,\" which suggests a deep dive into health concerns and the necessity to understand the diet thoroughly. They also imply a self-driven approach, stating the need to treat learning about the diet like a full-time business and expressing the importance of gaining knowledge through personal attempts and adjustments.   \n",
       "20                                                                                                                                                                                                                                                                                                                                                                                                                                                                                                                                                                                                                                              Based on today's updated advice, you should focus on incorporating plenty of raw animal fat, such as raw cream, into your diet and ensure you're drinking enough raw celery juice. This approach is suggested as it aligns more closely with primal diet principles. Additionally, avoid misleading practices or supplements that contain industrial chemicals and are overly processed. Keep these guidelines in mind and share more details if you need more personalized suggestions.   \n",
       "21                                                                                                                                                                                                                                                                                                                                                                                                                                                                                                                                                                                                                                                                                                                                                                                                    Yes, based on the context, there have been cases of primals experiencing symptoms after eating 'salmon vanilla'. Specifically, there are mentions of people feeling nauseous and even vomiting after consuming salmon, with some attributing their symptoms to potential crossbreeding with GMO salmon and other quality concerns.   \n",
       "27                                                                                                                                                                                                                                                                                                                                                                                                                                                                                                                                                   During desperate times on the primal diet, some individuals resorted to consuming foods in unconventional ways, such as considering the use of coconut cream in a suppository form. The rationale was that desperate times call for desperate measures. However, other measures mentioned include following dietary guidelines closely and finding creative solutions such as making primal cocktails for convenience when eating raw meat is not feasible. Overall, the emphasis was on adapting practices to maintain adherence to the primal diet during challenging situations.   \n",
       "28                                                                                                                                                                                                                                                                                                                                                                                                                                                                                                       Raw fat improves the ease of consumption compared to a solid state because it is more readily digestible. In a primal diet, raw fats are emphasized for their role in detoxifying the body and supporting overall health. They are considered vital, as raw unsalted cheese, for example, is suggested to be consumed in small amounts every 15-30 minutes to help eliminate toxins. Additionally, raw fats, such as those from dairy, play unique roles in the diet, supporting functions like feeding the nervous system. Overall, consuming fat in its raw state may enhance its nutritional benefits and ease of digestion.   \n",
       "33                                                                                                                                                                                                                                                                                                                                                                                                                                                                                                                                                                                                                                                                                                                                                                                                                                                                                                                                                                                                          To avoid tooth pain, particularly when dealing with dental work or sensitive teeth, liquids should be kept warm or lukewarm.   \n",
       "34                                                                                                                                                                                                                                                                                                                                                                                                                                                                                                                                                                                                                                                                                              Based on the context provided, foods that are better for oral health compared to fruit and vegetable juices include non-frozen, non-irradiated oysters. Additionally, raw dairy, such as raw milk, is noted to be beneficial due to its calcium content, which can bind to heavy metals in the mouth. Furthermore, oil pulling with coconut or sesame oil and water flossing are mentioned as beneficial practices for oral health care.   \n",
       "39                                                                                                                                                                                                                                                                                                                                                                                                                                                                     The user's stance on consuming raw and cooked foods together for nutritional balance is not explicitly stated in the provided context. However, there is a mention of dietary sodium needs being satisfied through raw foods alone, such as raw milk, raw celery juice, raw tomatoes, and raw oysters, suggesting a preference for raw foods over cooked ones. Additionally, there is a general discouragement of eating frozen foods due to the significant loss of nutritional value and potential generation of toxins. This might indicate a possible inclination towards consuming fresh raw foods over cooked or frozen alternatives for optimal nutrition.   \n",
       "41                                                                                                                                                                                                                                                                                                                                                                                                                                                                                                                                                                                                                                                                                                                                                                                                                                                                   Based on the provided context, I have not mentioned trying a specific bone growth formula before. The discussed bone growth formula in the context consists of cheese, honey, and pineapple. However, there is no direct reference to personal use of this formula.   \n",
       "43                                                                                                                                                                                                                                                                                                                                                                                                                                                                             If you're interested in eating bones albeit reluctantly, it could be due to the nutritional benefits they offer, which are recognized in the primal health community. Consuming bones can provide essential minerals and contribute to overall bone health, as well as potentially influence hormone levels. Eating bones is a common practice among carnivores, and some primal health enthusiasts believe that bones contribute to hormonal balance. If you're curious but hesitant, this interest might align with exploring the potential health benefits bones could offer, even if you're not fully committed to incorporating them into your diet.   \n",
       "46                                                                                                                                                                                                                                                                                                                                                                                                                                                                                                                                                                                                                                                                                                                                                                                                                                                                                                        After Oscar was called out on Twitter for not crediting Aajonus, his reputation likely took a hit. It is not clear if there were any other significant changes to his situation beyond the potential damage to his reputation.   \n",
       "48                                                                                                                                                                                                                                                                                                                                                                                                                                                                                                                                                                                                                                                                                                                                                                                                                                                                                                       Based on the context provided, it's mentioned that \"I told them I don't need pharmaceutical salesmen to give me advice.\" This implies a preference for receiving health advice from sources other than pharmaceutical salesmen.   \n",
       "50                                                                                                                                                                                                                                                                                                                                                                                                                                                                                                                                                                                                                                                                                                                                                                                                                                                                                                 Based on the context provided, it is considered inconvenient to fall asleep with cheese. One specific mention describes it as inconvenient in a lighthearted manner, suggesting that it might not be a common practice or preference.   \n",
       "51                                                                                                                                                                                                                                                                                                                                                                                                                                                                                                                                                                                   The process described in the content for nutrients from food involves eating foods, where the digested nutrients eventually end up in the blood. These nutrients then become available for the body to use. However, these nutrients do not circulate indefinitely in the blood; they can be depleted within a short time frame, as little as 2 to 5 hours, depending on the individual. This depletion is attributed to our toxicity, involving what is referred to as \"mutant antibodies,\" which damage the protein nutrients in our bloodstream.   \n",
       "52   To help reduce allergy reactions in small indoor spaces based on the primal diet context, consider the following lifestyle changes:\\n\\n1. **Diet Adjustments:**\\n   - Incorporate raw unsalted cheese and raw milk in small, gradual amounts to potentially help with reducing allergy symptoms. Monitor your reactions to these foods.\\n   - Eat cheese before meals as it may help manage digestion and reduce detoxification symptoms that could manifest as allergies.\\n\\n2. **Environmental Changes:**\\n   - Ensure good ventilation in indoor spaces to reduce potential allergens.\\n   - Be mindful of materials in the environment; avoid plastic when possible, as it may leach substances that contribute to allergies.\\n\\n3. **Detoxification Support:**\\n   - Consider regular hot baths to aid in detoxification, which might help alleviate allergy symptoms.\\n   - Introduce lemon/lime juice and honey in your diet, which might help with detoxification and managing allergens.\\n\\nThese strategies, gathered from the context, aim to naturally support the body's ability to handle allergens more effectively.   \n",
       "58                                                                                                                                                                                                                                                                                                                                                                                                                                                                                                                                                                                             Based on the context provided, there is no explicit mention of glass leaching substances when used to store rotten meat or milk for a year. The discussion in the context primarily revolves around the use of glass jars and containers for storing such items, but it doesn't provide details on whether glass leaches any substances in these conditions. Generally, glass is considered inert and non-reactive, making it unlikely to leach substances under typical circumstances, but the context does not address this explicitly.   \n",
       "67                                                                                                                                                                                                                                                                                                                                                                                                                                                                                                                                             Based on the context provided, the primal health approach can have varying preparation times depending on the specific practices you adopt. For example, making raw milk kefir is described as one of the easiest primal foods to prepare, suggesting it might be relatively quick. Other practices might require more time, such as growing your own food, having animals for meat, or managing a dairy cow. There is no specific timeframe mentioned for daily preparation, but the approach seems to involve a spectrum of time commitments based on individual choices and practices.   \n",
       "68                                                                                                                                                                                                                                                                                                                                                                                                                                                                                                                                                                                                                                                                                         The provided CONTEXT does not contain any specific recipes for making raw cheese, especially those involving the addition of cream. The information mentions various topics loosely related to primal diets and raw dairy products but doesn't provide detailed instructions on cheese-making. If you're interested in making raw cheese, I recommend consulting a dedicated raw cheese-making resource or recipe book for specific guidance.   \n",
       "72                                                                                                                                                                                                                                                                                                                                                                                                                                                                                                                                                                                                                                                                                                                                                                                                                                                             Some foods that people have gotten E. coli from include chicken intestines and high liver. Additionally, pig-related products may pose risks due to the similarity of pig E. coli strains to human strains, and there is a mention of high eggs also having some E. coli.   \n",
       "76                                                                                                                                                                                                                                                                                                                                                                                                                                                                                                                                                                                                                                                                                                                                                                                                                                     Based on the context provided, it seems that when dealing with fruit flies, one approach mentioned is to place a cap on the bottle to prevent them from flying in, but not to screw it on tightly. This suggests that the cap should not be left completely open to avoid fruit flies getting in.   \n",
       "78                                                                                                                                                                                                                                                                                                                                                                                                                                                                                                                                                                                         UK potatoes are not genetically modified. However, when consuming potatoes, particularly from a primal diet perspective, you should be cautious because they contain a lot of oxalates, which can contribute to kidney stones if consumed in large amounts. Additionally, potatoes are considered a toxic food in the primal community because if they are not properly stored and consumed before they turn, they can be harmful. It's important to manage the intake and storage of potatoes carefully to avoid any potential health risks.   \n",
       "79                                                                                                                                                                                                                                                                                                                           Based on the context available in the primal diet database, raw unsalted cheese can help absorb toxins in the system but is not specifically mentioned as a remedy for allergy symptoms. The provided context does not directly suggest that eating raw unsalted cheese can alleviate allergy symptoms experienced in an office setting. The focus is more on the cheese's ability to absorb toxins rather than its potential impact on allergies. For alleviating allergy symptoms, raw local honey and other dietary suggestions such as fresh raw milk, cream, kefir, fresh vegetable juices, and unripe fruit are mentioned as they provide hydration and nutrients that might help. Therefore, it would be advisable to focus on those instead of raw unsalted cheese for addressing allergy symptoms.   \n",
       "81                                                                                                                                                                                                                                                                                                                                                                                                                                       Based on the context provided, there is no explicit statement regarding the specific benefits of coconut oil pressed at up to 40 degrees. However, the context does include a segment that asks a similar question (\"Will coconut oil pressed at up to 40 degrees be beneficial to me?\") and describes it as a \"massive cope,\" suggesting skepticism about its benefits. Additionally, there is mention of cold temp pressed coconut oil being good for certain uses, but no direct benefits are confirmed for the specific temperature of 40 degrees. Therefore, based on the context, there's no clear consensus or confirmation of coconut oil pressed at up to 40 degrees being beneficial.   \n",
       "82                                                                                                                                                                                                                                                                                                                                                                                                                                                                                                                                    A possible solution for someone who is always tired, based on the primal diet context, could be to address joint pain and inflammation, potentially linked to vaccination, by improving their diet. One suggestion mentioned in the context is drinking clay milk, which might help alleviate tiredness and inflammation. Additionally, ensuring a strict raw primal lifestyle, which includes eating raw or minimally processed foods, avoiding foods from vaccinated or medicated animals, and managing detoxification, could also contribute to increased energy levels and overall well-being.   \n",
       "84                                                                                                                                                                                                                                                                                                                                                                                                                                                                                                                                                                                                                                                                                                                                                   The context indicates that the weather in England is often perceived as bad, with descriptions of it being \"freezing\" and lacking sunlight, while in Albania, the weather is implied to be warmer. However, there isn't a detailed comparison in the context provided—it only suggests a general idea that Albania might have warmer or more favorable weather compared to England.   \n",
       "88                                                                                                                                                                                                                                                                                                                                                                                                                                                                                                                                                                                                                                                                                                                                                                                                                                                                                                         The nervous system state that is commonly accompanied by parasympathetic dissociation is chronic sympathetic nervous system arousal, often associated with the freeze state or parasympathetic dissociation coping mechanism.   \n",
       "91                                                                                                                                                                                                                                                                                                                                                                                                                                                            Based on the provided CONTEXT, the discussion around autism in the context of online interactions seems to revolve around the use of the word \"autistic\" more as an informal descriptor or an insult rather than a clinical observation. The statements reflect personal opinions and possibly derogatory uses of the term rather than a factual insight into the prevalence of autism. Hence, the CONTEXT does not provide enough factual evidence to conclude whether being \"a little autistic and missing the overall point\" is common among people online. It seems more like a casual, and potentially offensive, way people are conversing in the provided examples.   \n",
       "98                                                                                                                                                                                                                                                                                                                                                                                                                                                                                                                                  Milk can be a source of hydration, as it is frequently mentioned alongside other hydrating options like juice and raw fats in the context provided. However, the emphasis seems to be more on a combination of ingredients, such as hydration formulas, celery juice or milk, than on milk alone as a primary hydration source. In the context of consuming milk, it is highlighted in small quantities between meals or alongside cheese for hydration purposes. Therefore, while milk can contribute to hydration, it seems more effective when used in conjunction with other hydrating elements.   \n",
       "101                                                                                                                                                                                                                                                                                                                                                                                                                                                                                                                                                                                                                                                                                                                                                                                                                                                                                                                                                                                                                 The ancient Mediterranean civilization of the Phoenicians is noted for consuming raw fish as a staple in their diet.   \n",
       "105                                                                                                                                                                                                                                                                                                                                                                                                                                                                                                                                                                                                                                                                                                      The adviser recommends a diet that primarily includes only red, orange, and yellow vegetables while excluding green vegetables. It emphasizes a high intake of sugar from sources like fruits, dairy, and honey, as well as a substantial consumption of fats from animal meat and dairy. The recommendations do not have a provided scientific basis and are not explained further regarding their rationale or effectiveness.   \n",
       "114                                                                                                                                                                                                                                                                                                                                                                                                                                                                                                                                                      Someone might experience random nosebleeds during childhood because the body could be discarding toxic substances from the brain or eye area through the sinuses. If insufficient mucus is produced to protect the mucous lining, this can lead to bleeding. To prevent and treat nosebleeds, it's suggested to consume a combination of cream, milk, and eggs to increase mucus production, helping to protect the nasal lining. Additionally, drinking green cabbage juice may aid in blood clotting and help prevent further rupture of blood vessels in the nasal passages.   \n",
       "122                                                                                                                                                                                                                                                                                                                                                                                                                                                                                                                                                                                                                                                                                                                               An appropriate response, based on the context from the primal diet database, would involve establishing firm boundaries and rules from the beginning, especially if the threat is towards immediate family like your wife and children. However, if it's someone outside of the immediate family, the response may simply involve vigilance without direct confrontation, as suggested in the context.   \n",
       "123                                                                                                                                                                                                                                                                                                                                                                                                                                                                                                                                                                                                                                                                                                                                                                                                                                                                                                              Yes, there are references to people in Berlin interested in the primal diet. You might find connections by looking for recommendations for butcher shops or places for raw milk in Berlin, as mentioned in the context.   \n",
       "128                                                                                                                                                                                                                                                                                                                                                                                                                                                                                                                                                                     Based on the context provided, oysters and sea urchins are mentioned in relation to boosting testosterone levels. However, there is no specific evidence or detailed explanation in the context confirming their effectiveness in directly boosting testosterone levels. The discussion around oysters includes considerations of their sodium content and their comparability in dietary effects to other foods.\\n\\nOverall, while oysters and sea urchins are mentioned, the provided context does not definitively state that they boost testosterone levels.   \n",
       "130                                                                                                                                                                                                                                                                                                                                                                                                                                                                                                                                                                                                                                                                  Based on the context provided, there does not appear to be a specific daily limit on the number of milkshakes you can have. The more milkshakes and lubes you consume, the more gains you may notice according to some statements in the context. It's mentioned that having them daily is encouraged for making significant impacts when underweight. However, it's always a good idea to listen to your body and consider your own dietary needs and preferences.   \n",
       "132                                                                                                                                                                                                                                                                                                                                                                                                                                                                                                                                                          When meat is cooked, certain toxins can be released. The primal diet mentions that cooking can introduce toxins into the body, which can then become the focus of the body's detoxification efforts rather than emptying other toxin stores. Additionally, the cooking process may alter the bioactive nature of food, making it less effective for detoxification purposes. While the specific types of toxins are not detailed in the provided context, the discussion suggests that cooking affects the body's ability to process and eliminate toxins more efficiently.   \n",
       "139                                                                                                                                                                                                                                                                                                                                                                                                                                                                                                                                             One should be skeptical of raw kombucha made with honey because the mycelium in kombucha is not suited to consuming fresh, live honey. Kombucha typically breaks down dry, dead roots, not living substances like fresh honey. Using honey in its fermentation process can lead to the mycelium not thriving properly, potentially requiring the use of cooked or processed substances to sustain it, which contradicts the raw label the product might claim. Therefore, kombucha made with honey may not genuinely be raw as it contradicts the natural dietary needs of its mycelium.   \n",
       "140                                                                                                                                                                                                                                                                                                                                                                                                                                                                                                                                                                                        Based on the context provided, raw manchego cheese is mentioned in relation to starting out on a primal diet or regimen. However, there's no specific reference to integrating it with a juice regimen when starting. It seems that raw manchego cheese is considered a part of some individuals' diets within the primal community, but not specifically mentioned alongside a juice regimen. Therefore, while raw manchego cheese is acknowledged, the combination with a juice regimen isn't explicitly suggested in the context provided.   \n",
       "151                                                                                                         Based on the context provided, it seems that specific primal ideas for \"OF\" were not explicitly outlined. However, it generally highlights some potential topics of interest or challenges within the primal lifestyle or diet, such as managing raw meat consumption, exploring new foods like fresh fish eggs, and addressing health issues like histamine intolerance or digestive problems.\\n\\nAs for why the ideas might not have been started, one possible reason from the context could be the challenges in accepting new dietary concepts that contradict pre-existing beliefs, as mentioned in one of the chunks. This resistance could stem from the difficulty in changing deep-seated views or fear of the unfamiliar, which can hinder the initiation of new dietary or lifestyle changes inspired by the primal diet. Another reason might be practical challenges, like finding specific foods or managing their preparation and consumption (as seen with managing raw meat digestion and storage issues).   \n",
       "154                                                                                                                                                                                                                                                                                                                                                                                                                                                                                                                                                                                                                                                                                                                                                                                                                                       Slight bitterness in cheese can be pleasant if the right temperature and humidity levels are maintained to prevent unnecessary bacteria from excessive development. This controlled environment helps ensure that the bitterness is mild and enhances the flavor, rather than overpowering it.   \n",
       "170                                                                                                                                                                                                                                                                                                                                                                                                                           To find a \"good one\" if you're really committed, you would need to dig super deep. However, the context isn't very specific about what \"a good one\" is referring to. Generally, it suggests that with perseverance and perhaps creativity or resourcefulness, such as making something yourself, success may be possible. Additionally, there might be unconventional or challenging methods to reach your goal that require significant effort. The context provides an example of using silk thread to make something, even suggesting that it might be tedious or pointless, implying that the quest for \"a good one\" could be difficult and potentially not worthwhile without specific goals in mind.   \n",
       "171                                                                                                                                                                                                                                                                                                                                                                                                                                                                                                                                                                                                                                                                                                                                                                                                                                                                                                                                      You can find a type of floss that is coated with beeswax from the brand \"Yaweco.\" They offer a biodegradable dental floss made from natural silk and beeswax without any added flavor or aroma.   \n",
       "173                                                                                                                                                                                                                                                                                                                                                                                                                                                                                                                                                                                                                                                                                                                                                                                                                                                                                                                                                                                                  Yes, according to the context from the primal diet database, Solana Gold is the only brand that is aged in wood and stored in wood.   \n",
       "174                                                                                                                                                                                                                                                                                                                                                                                                                                                                                                                                                                                                                      Based on the context provided, people who are underweight may find primal health advice useful, particularly emphasizing the consumption of meat, fat, and certain primal foods like raw milk to gain significant weight. The mention of making an impact by adding \"lubes and milkshakes\" implies that some find primal diet components beneficial when addressing underweight issues. However, specific advice related to being underweight and primal health seems somewhat limited in the context provided.   \n",
       "176                                                                                                                                                                                                                                                                                                                                                                                                                                                                                                                                                                                                                                        The context does not explicitly address the phenomenon of eyesight becoming clearer when eyes water. However, there is no mention within the provided context that suggests this is a normal or typical occurrence based on primal health principles or diet. It might be advisable to explore this question from a medical perspective or consult with an eye care professional for a more informed and accurate answer regarding changes in eyesight clarity associated with watering eyes.   \n",
       "185                                                                     Based on the context provided, feeling like you're healing or improving currently could be linked to experiencing positive changes or feeling better through dietary adjustments. Improvements may manifest in various ways, such as:\\n\\n1. Experiencing incremental improvements daily, as noted by someone mentioning their body changing positively across a few weeks.\\n   \\n2. Feeling better when reintroducing certain foods, like small amounts of raw butter with honey, as it suggests observing how each dietary change affects your well-being. If you feel better with certain foods, it is an indication of improvement.\\n\\n3. Managing detox symptoms gradually, as suggested by discussions around detox and dietary choices (e.g., avoiding heavy detox foods, drinking milk or water instead of juice).\\n\\nThese examples reflect the idea that individuals on a primal diet may feel they are healing by noticing positive changes or feeling better as they adjust their diet according to the principles discussed in the provided context.   \n",
       "186                                                                                                                                                                                                                                                                                                                                                                                                                                                                                                                                                                The context suggests that it's considered impossible to find a good quality cheesecloth or pork due to the difficulty in finding products that meet certain quality standards. In the case of cheesecloths, users mention that they are nearly impossible to clean after use, making it challenging to find an effective one. Regarding pork, it is suggested that pigs are often fed poor quality diets, making it hard to find good quality pork. In both cases, the challenge lies in finding products that align with specific quality requirements or standards.   \n",
       "197                                                                                                                                                                                                                                                                                                                                                                                                                                                                                                                                                                                                                                                                                                                                                                                   According to the advice in the context, you should minimize water intake and only drink it if you really need to. It suggests drinking water up to a maximum of 2 glasses a day if you're advanced in the primal diet. Instead, you should focus on consuming hydration alternatives like raw milk, vegetable juice, or even blood when available.   \n",
       "\n",
       "       id  \\\n",
       "0    5385   \n",
       "1     871   \n",
       "3    3682   \n",
       "8    4314   \n",
       "9    4019   \n",
       "10   4591   \n",
       "13   4287   \n",
       "15   4463   \n",
       "20   2575   \n",
       "21   1266   \n",
       "27   5089   \n",
       "28   3102   \n",
       "33   4035   \n",
       "34   2181   \n",
       "39   3765   \n",
       "41   4519   \n",
       "43   3527   \n",
       "46     82   \n",
       "48   5593   \n",
       "50   1691   \n",
       "51   5028   \n",
       "52   1614   \n",
       "58   4084   \n",
       "67    871   \n",
       "68   3954   \n",
       "72    604   \n",
       "76   4588   \n",
       "78   1211   \n",
       "79   1614   \n",
       "81   4858   \n",
       "82   1859   \n",
       "84   2760   \n",
       "88    623   \n",
       "91   4349   \n",
       "98   1020   \n",
       "101  2530   \n",
       "105  3363   \n",
       "114  3077   \n",
       "122   608   \n",
       "123  4588   \n",
       "128  5401   \n",
       "130  3031   \n",
       "132  4978   \n",
       "139  2720   \n",
       "140  2871   \n",
       "151    70   \n",
       "154  1423   \n",
       "170  1010   \n",
       "171   923   \n",
       "173    77   \n",
       "174  2556   \n",
       "176  4349   \n",
       "185  1041   \n",
       "186  1010   \n",
       "197  3031   \n",
       "\n",
       "                                                                                                    question  \\\n",
       "0                                        In Europe, does everything including milk come in glass containers?   \n",
       "1                                Can eating raw foods save time compared to more processed food preparation?   \n",
       "3    Is pasteurized butter from non-toxic animals safe for consumption given concerns about mad cow disease?   \n",
       "8                              Are there any cheese makers from Thailand in this group who can offer advice?   \n",
       "9                                        Will feeding my cat raw beef twice a week help extend his lifespan?   \n",
       "10           How do you make apple cider vinegar using apple juice, and can sugar be substituted with honey?   \n",
       "13                    What are the potential risks of feeding the eye with egg white as per Aajonus's views?   \n",
       "15                                                         How did you learn about the recipe you mentioned?   \n",
       "20                                                    What should we do today instead of yesterday's advice?   \n",
       "21                 Have there been any cases of primals experiencing symptoms after eating 'salmon vanilla'?   \n",
       "27                                     What measures did you take during desperate times on the primal diet?   \n",
       "28                               How does raw fat improve the ease of consumption compared to a solid state?   \n",
       "33                                           What temperature should liquids be kept at to avoid tooth pain?   \n",
       "34                               What will be better for oral health compared to fruit and vegetable juices?   \n",
       "39             What is the user's stance on consuming raw and cooked foods together for nutritional balance?   \n",
       "41                                       Have you ever tried using this specific bone growth formula before?   \n",
       "43                                              Why are you interested in eating bones if you don't want to?   \n",
       "46                      What happened to Oscar after he was called out on Twitter for not crediting Aajonus?   \n",
       "48                          Who do you prefer to trust for health advice instead of pharmaceutical salesmen?   \n",
       "50                                                  Is it common or inconvenient to fall asleep with cheese?   \n",
       "51                             What is the process described in the chunked content for nutrients from food?   \n",
       "52                        What lifestyle changes might help reduce allergy reactions in small indoor spaces?   \n",
       "58                     Does glass ever leach any substances if used to store rotten meat or milk for a year?   \n",
       "67                     How long might it take to prepare food daily if going all in on this health approach?   \n",
       "68    Do you have any recipes on how to make different types of raw cheese, possibly involving adding cream?   \n",
       "72                                                 What are some foods that people have gotten E. coli from?   \n",
       "76                                  Do you leave the bottle cap open to prevent fruit flies from getting in?   \n",
       "78                                  Why should I be careful with UK potatoes, are they genetically modified?   \n",
       "79                           Can eating raw unsalted cheese help with allergy symptoms in an office setting?   \n",
       "81                                                    Is coconut oil pressed at up to 40 degrees beneficial?   \n",
       "82                                              What is a possible solution for someone who is always tired?   \n",
       "84                                                       How does the weather in England compare to Albania?   \n",
       "88                        What nervous system state is commonly accompanied by parasympathetic dissociation?   \n",
       "91                      Is being a little autistic and missing the overall point common among people online?   \n",
       "98                                                             Can milk be an effective source of hydration?   \n",
       "101                    Which ancient civilization is noted for consuming raw fish as a staple in their diet?   \n",
       "105                    What diet does the adviser recommend and what is the basis for these recommendations?   \n",
       "114                                         Why might someone experience random nosebleeds during childhood?   \n",
       "122                      What would you consider an appropriate response to someone threatening your family?   \n",
       "123                             Are you searching for any primal dieters in Berlin who you can connect with?   \n",
       "128                                         Do oysters and sea urchins help in boosting testosterone levels?   \n",
       "130                                               Is there a daily limit for how many milkshakes I can have?   \n",
       "132                 What are the potential toxins released when meat is cooked, relevant to the primal diet?   \n",
       "139                                             Why should one be skeptical of raw kombucha made with honey?   \n",
       "140                      Have you tried raw manchego cheese along with your juice regimen when starting out?   \n",
       "151                             What are some primal ideas you had for OF, and why haven't you started them?   \n",
       "154                                                         How can slight bitterness in cheese be pleasant?   \n",
       "170                                                How might someone find a good one if they dig super deep?   \n",
       "171              Where can I find a type of floss that is either coated with beeswax or completely uncoated?   \n",
       "173                                                   Is Solana Gold the only brand aged and stored in wood?   \n",
       "174                                 Do people generally find primal health advice when they are underweight?   \n",
       "176                                             Is it normal for eyesight to become clearer when eyes water?   \n",
       "185                                          What makes you feel like you're healing or improving currently?   \n",
       "186                                                      Why is it considered impossible to find a good one?   \n",
       "197                                           How much water should I drink per day according to the advice?   \n",
       "\n",
       "           relevance  \\\n",
       "0    PARTLY_RELEVANT   \n",
       "1    PARTLY_RELEVANT   \n",
       "3    PARTLY_RELEVANT   \n",
       "8    PARTLY_RELEVANT   \n",
       "9    PARTLY_RELEVANT   \n",
       "10   PARTLY_RELEVANT   \n",
       "13   PARTLY_RELEVANT   \n",
       "15   PARTLY_RELEVANT   \n",
       "20   PARTLY_RELEVANT   \n",
       "21   PARTLY_RELEVANT   \n",
       "27   PARTLY_RELEVANT   \n",
       "28   PARTLY_RELEVANT   \n",
       "33   PARTLY_RELEVANT   \n",
       "34   PARTLY_RELEVANT   \n",
       "39   PARTLY_RELEVANT   \n",
       "41   PARTLY_RELEVANT   \n",
       "43   PARTLY_RELEVANT   \n",
       "46   PARTLY_RELEVANT   \n",
       "48   PARTLY_RELEVANT   \n",
       "50   PARTLY_RELEVANT   \n",
       "51   PARTLY_RELEVANT   \n",
       "52   PARTLY_RELEVANT   \n",
       "58   PARTLY_RELEVANT   \n",
       "67   PARTLY_RELEVANT   \n",
       "68   PARTLY_RELEVANT   \n",
       "72   PARTLY_RELEVANT   \n",
       "76   PARTLY_RELEVANT   \n",
       "78   PARTLY_RELEVANT   \n",
       "79   PARTLY_RELEVANT   \n",
       "81   PARTLY_RELEVANT   \n",
       "82   PARTLY_RELEVANT   \n",
       "84   PARTLY_RELEVANT   \n",
       "88   PARTLY_RELEVANT   \n",
       "91   PARTLY_RELEVANT   \n",
       "98   PARTLY_RELEVANT   \n",
       "101  PARTLY_RELEVANT   \n",
       "105  PARTLY_RELEVANT   \n",
       "114  PARTLY_RELEVANT   \n",
       "122  PARTLY_RELEVANT   \n",
       "123  PARTLY_RELEVANT   \n",
       "128  PARTLY_RELEVANT   \n",
       "130  PARTLY_RELEVANT   \n",
       "132  PARTLY_RELEVANT   \n",
       "139  PARTLY_RELEVANT   \n",
       "140  PARTLY_RELEVANT   \n",
       "151  PARTLY_RELEVANT   \n",
       "154  PARTLY_RELEVANT   \n",
       "170  PARTLY_RELEVANT   \n",
       "171  PARTLY_RELEVANT   \n",
       "173  PARTLY_RELEVANT   \n",
       "174  PARTLY_RELEVANT   \n",
       "176  PARTLY_RELEVANT   \n",
       "185  PARTLY_RELEVANT   \n",
       "186  PARTLY_RELEVANT   \n",
       "197  PARTLY_RELEVANT   \n",
       "\n",
       "                                                                                                                                                                                                                                                                                                                                                                                                                                                                                                                                                                                   explanation  \n",
       "0                                                                                                                                                                                                                                                                                                                                        The generated answer addresses the question by stating that not everything comes in glass containers and mentions the option for milk in glass but does not provide comprehensive information about the overall context of container usage in Europe.  \n",
       "1                                                                                                                                                                                                                                                                       The generated answer acknowledges the potential time savings of eating raw foods due to not involving cooking, which is relevant to the question. However, it states that the context does not provide explicit information and does not directly answer the question, leading to a classification of partly relevant.  \n",
       "3                                                                                                                                        The generated answer addresses the question about pasteurized butter and mad cow disease by referencing the safety of pasteurized butter from non-toxic animals. However, it ultimately contradicts the initial implication of safety by stating it is advised not to eat pasteurized butter, which introduces ambiguity. Thus, while there is some relevance, it does not provide a clear, conclusive answer to the safety of the specified product.  \n",
       "8                                                                                                                                                                                                                                                                      The generated answer acknowledges the absence of specific cheese makers from Thailand in the group and does mention a related individual from Austria living in Thailand. However, it does not directly address whether any Thai cheese makers can offer advice, making it somewhat relevant but ultimately incomplete.  \n",
       "9                                                                                                                                                                                                                     The generated answer acknowledges the potential benefits of feeding raw beef to a cat and points out the uncertainty regarding its impact on lifespan. It also highlights possible health concerns and emphasizes the importance of consulting a veterinarian. However, it does not directly answer the question about extending lifespan, making it partially relevant.  \n",
       "10                                                                                                                                                                                 The generated answer provides some information on how to make apple cider vinegar using apple juice, mentioning the fermentation process, which is relevant to the question. However, it lacks specific details about the steps involved in the process. Additionally, while it discusses the substitution of sugar with honey, it does not provide a definitive answer, making it only partially relevant.  \n",
       "13                                                                                                                                                                                                              The generated answer addresses potential risks associated with feeding the eye with egg white, mentioning redness and discomfort, which are relevant to the question. However, it also includes positive aspects about egg white being soothing and beneficial for eye health, which detracts from a focused discussion on the risks specifically asked about in the question.  \n",
       "15                                                                                                                                                                                                                                                                           The generated answer discusses the individual's learning methods and influences related to the primal diet, but it does not directly answer the specific question about how they learned about the recipe. It provides context about their overall learning experience rather than focusing on the recipe itself.  \n",
       "20                                                                                                                                                                                                                                  The generated answer provides specific dietary advice that might pertain to updated guidance for today, but it does not explicitly address the question about what to do instead of yesterday's advice. It lacks a clear comparison or mention of the previous advice from yesterday, making it somewhat relevant but not fully aligned with the question.  \n",
       "21                                                                                                                                               The generated answer discusses symptoms experienced after consuming salmon, which relates to the question about 'salmon vanilla.' However, it does not specifically address 'salmon vanilla' itself or provide any concrete cases of primals experiencing symptoms after consuming this specific variant. It mentions general symptoms and concerns associated with salmon, making it relevant but not fully aligned with the specific query.  \n",
       "27                                                                                                                                                                                                                                                        The generated answer addresses the question by mentioning measures taken during desperate times on the primal diet, such as unconventional food consumption and adherence to dietary guidelines. However, it lacks specific examples and depth regarding the actual measures or challenges faced, making it only partially relevant.  \n",
       "28                                                                                                                                                                                                                                                                                       The generated answer discusses how raw fat is more readily digestible and emphasizes its nutritional benefits, which loosely connects to the ease of consumption. However, it does not directly address the comparison between raw fat and solid fat specifically, making the relevance only partial.  \n",
       "33                                                                                                                                                                                                                                                                                                                                                                                 The generated answer provides useful guidance regarding the temperature of liquids (warm or lukewarm) to avoid tooth pain, but it lacks specific temperature ranges that could better address the question.  \n",
       "34                                                                                                                                                                                                                                                                                  The generated answer addresses oral health practices and foods that can be beneficial, but it does not clearly establish a direct comparison with fruit and vegetable juices, which is the primary focus of the question. While it provides relevant suggestions, the direct comparison aspect is lacking.  \n",
       "39                                                                                                                                                                                                                              The generated answer provides some insight into the user's possible preference for raw foods over cooked ones, suggesting an inclination towards fresh raw alternatives for nutrition. However, it does not explicitly state the user's stance on combining raw and cooked foods for nutritional balance, making the relevance partly related to the question.  \n",
       "41                                                                                                                                                                                                                                                                                                                      The generated answer addresses the question by stating that the responder has not tried the specific bone growth formula, which is relevant to the inquiry. However, it lacks personal experience or opinion, making it only partially relevant to the asker’s intent.  \n",
       "43                                                                                                                                                                                                                     The generated answer discusses potential reasons for an interest in eating bones, touching on nutritional benefits and health beliefs. However, it does not directly address the contradiction in the question of why someone would be interested in eating bones if they don't want to. The focus should have been more on the conflict between desire and reluctance.  \n",
       "46                                                                                                                                                                                                                                                                                The generated answer addresses the aftermath of Oscar being called out on Twitter, specifically mentioning the impact on his reputation. However, it lacks specific details about any concrete actions or changes that occurred as a result of the incident, making it only partly relevant to the question.  \n",
       "48                                                                                                                                                                                                                                                                                                                       The generated answer addresses the question by expressing a preference against pharmaceutical salesmen for health advice. However, it does not specify who the preferred source of health advice is, leaving the answer incomplete in relation to the question asked.  \n",
       "50                                                                                                                                                                                                                                                                               The generated answer addresses the inconvenience of falling asleep with cheese, which relates to the question, but it does not directly address whether it is common. It acknowledges the idea of falling asleep with cheese but does not provide sufficient information on the commonality of this behavior.  \n",
       "51                                                                                                                                                                                            The generated answer discusses the general process of nutrients being digested and entering the bloodstream, addressing part of the question. However, it introduces a concept about 'mutant antibodies' and toxicity that is not commonly recognized in relation to nutrients or might confuse the main process. This detracts from fully answering the question, rendering it partly relevant.  \n",
       "52   The generated answer includes dietary adjustments, environmental changes, and detoxification support, which are aspects that may contribute to reducing allergy reactions in indoor spaces. However, the focus on a primal diet and specific foods may not directly target the broader range of lifestyle changes that typically address allergy reactions, such as cleaning routines, the use of air purifiers, or managing humidity levels. Therefore, while some elements are relevant, others may not be directly applicable or widely accepted as effective solutions for allergies.  \n",
       "58                                                                                                                                                                                                             The generated answer addresses the question indirectly by discussing the inert nature of glass and its general properties, but it does not directly answer whether glass leaches substances specifically in the context of storing rotten meat or milk for a year. It acknowledges the lack of explicit information in the context provided, making it only partially relevant.  \n",
       "67                                                                                                                                                                                                                                  The generated answer discusses the variability in food preparation times within the primal health approach, but it does not provide a clear estimate or specific timeframe as requested in the question. It acknowledges that preparation times can vary based on practices adopted, which partially addresses the question but lacks a definitive answer.  \n",
       "68                                                                                                                                                                                                                                                                                                                 The generated answer acknowledges the absence of specific recipes for making raw cheese but suggests consulting a dedicated resource for guidance. While it does not directly answer the question, it provides some useful direction for finding the requested information.  \n",
       "72                                                                                                                                                               The generated answer mentions some foods associated with E. coli, including chicken intestines and pig products, which is relevant. However, it includes less common references like 'high liver' and 'high eggs,' which may confuse the response. The answer could benefit from mentioning more commonly known foods that have been linked to E. coli outbreaks, such as leafy greens, alfalfa sprouts, or undercooked beef.  \n",
       "76                                                                                                                                                                                                                                                              The generated answer acknowledges the issue of preventing fruit flies, but it does not directly address the question of whether to leave the bottle cap open. Instead, it suggests an alternative approach regarding the cap, which may still relate to the intention behind the question but does not provide a clear answer.  \n",
       "78                                                                                                                                                                      The generated answer addresses the question about UK potatoes being genetically modified by stating that they are not genetically modified. However, it diverges into other aspects related to health risks associated with potato consumption, which, while informative, do not directly answer the main concern raised in the question. Thus, it provides some relevant information but includes extraneous details.  \n",
       "79                                                                                                                                                                                 The generated answer discusses the potential effects of raw unsalted cheese and its ability to absorb toxins, but it does not provide a direct link to alleviating allergy symptoms specifically in an office setting. Although it mentions that other dietary suggestions may help with allergies, the primary focus on cheese detracts from directly answering the question about allergy symptom relief.  \n",
       "81                                                                                                                                                                                                 The generated answer addresses the question about the benefits of coconut oil pressed at 40 degrees but ultimately does not provide a clear confirmation of any benefits. It mentions skepticism and general information about cold-pressing without confirming specifics about the temperature in question. Therefore, it partially addresses the question but lacks definitive relevance.  \n",
       "82                                                                                                                                                                                                    The generated answer presents some potential solutions, such as improving diet and managing detoxification, which could relate to addressing tiredness. However, the focus on the primal diet, joint pain, inflammation, and vaccination is somewhat tangential and doesn't directly address the broader aspects of fatigue, making it relevant but not fully aligned with the question.  \n",
       "84                                                                                                                                                                                                                                                          The generated answer provides some contextual information about the weather in England and Albania, indicating that England's weather is often perceived as bad while suggesting Albania's weather is warmer. However, it lacks a comprehensive comparison or specific details, making it only partially relevant to the question.  \n",
       "88                                                                                                                                                                                                                                                                                                                               The generated answer mentions chronic sympathetic nervous system arousal, which is related to parasympathetic dissociation. However, it does not specifically identify a 'nervous system state' as requested in the question, making it only partly relevant.  \n",
       "91                                                                              The generated answer discusses the usage of the term 'autistic' in online interactions, which is somewhat related to the question. However, it does not directly address whether being 'a little autistic and missing the overall point' is common, instead indicating that the context lacks evidence for such a conclusion. This partial engagement with the question suggests that while there is some relevance, it does not fully respond to the inquiry about the commonality of the behavior described.  \n",
       "98                                                                                                                                                                                                                                                                The generated answer discusses how milk can contribute to hydration but emphasizes its effectiveness when combined with other ingredients rather than highlighting it as a primary hydration source. While it addresses the question, it does not unequivocally support milk as an effective standalone source of hydration.  \n",
       "101                                                                                                       The generated answer mentions an ancient civilization, the Phoenicians, and states that they consumed raw fish. However, the Phoenicians are not widely recognized as a civilization particularly noted for this practice. A more accurate answer would reference the Japanese, who are well-known for their consumption of raw fish, especially in the form of sushi. Therefore, while the answer is somewhat related, it does not directly and accurately respond to the question.  \n",
       "105                                                                                                                                                                                                                                                                                                                                  The generated answer addresses the recommended diet but lacks detail on the basis for these recommendations, which is a key part of the question. While it mentions the diet itself, the absence of a scientific basis or rationale limits its relevance.  \n",
       "114                                                                                                                                                                                The generated answer touches on a potential reason for random nosebleeds during childhood related to mucus production and suggests some dietary remedies. However, the explanation about the body discarding toxic substances is not commonly associated with nosebleeds and lacks scientific backing. While it offers some valuable information, the reasoning is not fully relevant to the main question.  \n",
       "122                                                                                                                                                                                                                                 The generated answer touches on the idea of establishing boundaries and responding to threats, which is relevant to the question about dealing with someone threatening your family. However, the reference to the 'primal diet database' seems misplaced and does not directly address the nature of the threat, leading to a lack of complete relevance.  \n",
       "123                                                                                                                                                                                                                                                                                           The answer acknowledges the existence of people in Berlin interested in the primal diet, but it does not directly address the user's request to connect with them. Instead, it suggests places where one might find such individuals indirectly, which is not a direct response to the question.  \n",
       "128                                                                                                                                                                                                                                                                                    The generated answer acknowledges the mention of oysters and sea urchins in relation to testosterone levels but lacks specific evidence or a clear connection that confirms their effectiveness in boosting testosterone. It indicates some relevant context but does not directly answer the question.  \n",
       "130                                                                                                                                                              The generated answer addresses the question about daily limits on milkshake consumption by stating that there is no specific limit. However, it veers off-topic by introducing unrelated concepts, such as 'lubes' and 'gains', which detract from the focus on milkshakes. While it provides some relevant advice about listening to one's body, the additional information makes it less directly relevant to the question.  \n",
       "132                                                                                                                                                                    The generated answer discusses the concept of toxins being released when meat is cooked and mentions the implications for the body's detoxification in the context of the primal diet. However, it lacks specific details about the types of toxins that are released, which was requested in the question. Therefore, while it addresses the topic to some extent, it does not fully meet the question's requirements.  \n",
       "139                                                                                                                                                                                                                                                   The generated answer addresses the skepticism surrounding raw kombucha made with honey by discussing the incompatibility of mycelium and fresh honey. However, it lacks context about safety concerns or the specific implications of consuming raw kombucha with honey, which are vital to fully understanding the skepticism involved.  \n",
       "140                                                                                                                                                                                                                                                                                     The generated answer acknowledges raw manchego cheese and its relation to diet regimens, but it does not directly address whether it has been tried alongside a juice regimen. It provides some relevant context, but lacks a direct connection to the specific combination mentioned in the question.  \n",
       "151                                                                                                                                                                                                                                                        The generated answer touches on potential primal ideas and reasons for not starting them, but lacks specificity related directly to the individual's particular primal ideas for 'OF.' It discusses general challenges and topics without directly answering the question about specific ideas or the personal context behind them.  \n",
       "154                                                                                                                                                                                                                  The generated answer addresses the pleasantness of slight bitterness in cheese, but it focuses more on environmental factors (temperature and humidity) rather than directly explaining how the bitterness itself can be perceived as pleasant. While it provides some context, it does not fully explain the mechanism or reasons behind the pleasantness of the flavor.  \n",
       "170                                                                                                                                                                                                                                                                         The generated answer addresses the concept of finding something valuable through effort and persistence, which aligns with the question about digging deep. However, it lacks clarity on what 'a good one' specifically refers to, making the relevance to the question somewhat ambiguous and not fully targeted.  \n",
       "171                                                                                                                                                                                                                                                                                                                 The generated answer mentions a type of floss that is coated with beeswax, which addresses part of the question. However, it does not provide information about finding uncoated floss, which is another aspect of the question. Therefore, it is only partially relevant.  \n",
       "173                                                                                                                                                                                                                  The generated answer states that Solana Gold is the only brand aged and stored in wood, which directly addresses the question. However, it fails to provide any information about other brands that might also be aged and stored in wood, leaving the possibility that there could be others that were not mentioned. Thus, while it is relevant, it lacks completeness.  \n",
       "174                                                                         The generated answer addresses the question by mentioning that people who are underweight may find primal health advice useful. It discusses specific elements of the primal diet that could help gain weight, such as meat and certain foods. However, it also acknowledges that the advice related specifically to being underweight is somewhat limited, which suggests that while there is some relevance, it may not fully encompass the broader context of primal health advice for underweight individuals.  \n",
       "176                                                                                                                                                                                                                                                          The generated answer discusses the phenomenon of eyesight and the possibility of needing a medical perspective, which is somewhat related to the question. However, it does not provide a clear answer or address if it is normal for eyesight to become clearer when eyes water, leading to a classification of partly relevant.  \n",
       "185                                                                                                                                                                                                                              The generated answer discusses aspects of healing or improvement linked to dietary changes, which may relate to the personal experiences of healing. However, it does not directly address the subjective feelings or personal experiences that make someone feel healed or improved, focusing instead on general observations about diet and detox symptoms.  \n",
       "186                                                                                                                                                                                                                                                      The generated answer addresses the question by providing reasons why it may be considered impossible to find good quality cheesecloth and pork. However, it does not explicitly tie the explanation back to the original question's context or the reason for its perceived impossibility, leading to a somewhat incomplete response.  \n",
       "197                                                                                                                                                          The generated answer provides specific advice about daily water intake but contradicts general recommendations for hydration. It introduces alternatives to water, which may not align with standard health guidance, creating confusion. While it addresses the question, the focus on minimizing water consumption and alternative hydration methods makes it only partly relevant to the typical advice on daily water intake.  "
      ]
     },
     "execution_count": 204,
     "metadata": {},
     "output_type": "execute_result"
    }
   ],
   "source": [
    "pd.set_option(\"display.max_rows\", None)\n",
    "pd.set_option('display.max_colwidth', None)\n",
    "df[df['relevance']=='PARTLY_RELEVANT'] "
   ]
  },
  {
   "cell_type": "code",
   "execution_count": 13,
   "id": "644952ae-4aa2-4acb-a9a6-a52af903881a",
   "metadata": {},
   "outputs": [
    {
     "data": {
      "text/plain": [
       "array(['RELEVANT', 'PARTLY_RELEVANT', 'NON_RELEVANT'], dtype=object)"
      ]
     },
     "execution_count": 13,
     "metadata": {},
     "output_type": "execute_result"
    }
   ],
   "source": [
    "df.relevance.unique()"
   ]
  },
  {
   "cell_type": "code",
   "execution_count": null,
   "id": "917a5b1e-12f6-4105-b608-73535a69ece9",
   "metadata": {},
   "outputs": [],
   "source": []
  }
 ],
 "metadata": {
  "kernelspec": {
   "display_name": "Python 3 (ipykernel)",
   "language": "python",
   "name": "python3"
  },
  "language_info": {
   "codemirror_mode": {
    "name": "ipython",
    "version": 3
   },
   "file_extension": ".py",
   "mimetype": "text/x-python",
   "name": "python",
   "nbconvert_exporter": "python",
   "pygments_lexer": "ipython3",
   "version": "3.12.4"
  }
 },
 "nbformat": 4,
 "nbformat_minor": 5
}
