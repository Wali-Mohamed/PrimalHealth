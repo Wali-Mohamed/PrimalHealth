{
 "cells": [
  {
   "cell_type": "markdown",
   "id": "92d49684-2a2e-44f6-b1c1-14ae38f307c8",
   "metadata": {},
   "source": [
    "## Data Ingestion"
   ]
  },
  {
   "cell_type": "code",
   "execution_count": 7,
   "id": "69b30345-8175-485c-8a92-9b04c611317e",
   "metadata": {},
   "outputs": [
    {
     "name": "stderr",
     "output_type": "stream",
     "text": [
      "C:\\Users\\user\\.virtualenvs\\Project-v4EWajkE\\Lib\\site-packages\\transformers\\tokenization_utils_base.py:1617: FutureWarning: `clean_up_tokenization_spaces` was not set. It will be set to `True` by default. This behavior will be deprecated in transformers v4.45, and will be then set to `False` by default. For more details check this issue: https://github.com/huggingface/transformers/issues/31884\n",
      "  warnings.warn(\n"
     ]
    }
   ],
   "source": [
    "# Import libraries and modules\n",
    "import pandas as pd\n",
    "import minsearch\n",
    "from sentence_transformers import SentenceTransformer\n",
    "model = SentenceTransformer(\"all-mpnet-base-v2\")\n",
    "from tqdm.auto import tqdm\n",
    "from openai import OpenAI"
   ]
  },
  {
   "cell_type": "code",
   "execution_count": 10,
   "id": "bfab572f-74f9-44e7-8dbb-cccfd579e935",
   "metadata": {},
   "outputs": [],
   "source": [
    "df=pd.read_csv('../data/clean_data/Final_QandA_split_conversations_with_keywords.csv')\n",
    "documents = df.to_dict(orient='records')"
   ]
  },
  {
   "cell_type": "code",
   "execution_count": 16,
   "id": "49255aa6-4022-41a9-b49c-bf5fc92010c1",
   "metadata": {},
   "outputs": [
    {
     "name": "stdout",
     "output_type": "stream",
     "text": [
      "49006\n"
     ]
    },
    {
     "data": {
      "text/plain": [
       "{'Chunked_Content': \"when you eat it alone?. Good idea to eat it once wuth honey and once alone My kids eat it with the meal.They aren't at home btw meals I will do it during week end Yesterday I had nausea after several hours passed from second meal.Today I had zero hunger until 20h+ passed after previous that meal Today I made only one typical meal enhanced with 4 egg yolks\",\n",
       " 'number of sentences': 2,\n",
       " 'number of words': 69,\n",
       " 'Keywords': \"['pass', 'meal', 'home', 'nausea', 'honey', 'week', 'hunger', 'second', 'previous', 'btw', '20h+', 'kid', 'good', 'typical', 'idea', 'enhance', 'zero', '4', 'today', 'eat', 'yolk', 'egg', 'yesterday', 'wuth', 'hour', 'end']\"}"
      ]
     },
     "execution_count": 16,
     "metadata": {},
     "output_type": "execute_result"
    }
   ],
   "source": [
    "print(len(documents))\n",
    "documents[0]\n"
   ]
  },
  {
   "cell_type": "code",
   "execution_count": 17,
   "id": "a29e0bad-a82e-4b4d-bbbd-07bbf906903e",
   "metadata": {},
   "outputs": [],
   "source": [
    "index = minsearch.Index(\n",
    "    text_fields=['Chunked_Content'],\n",
    "    keyword_fields=['Keywords']\n",
    ")"
   ]
  },
  {
   "cell_type": "code",
   "execution_count": 18,
   "id": "341a55cb-be6e-48ac-9a8f-15e72cae0f16",
   "metadata": {},
   "outputs": [
    {
     "data": {
      "text/plain": [
       "<minsearch.Index at 0x24f3370e480>"
      ]
     },
     "execution_count": 18,
     "metadata": {},
     "output_type": "execute_result"
    }
   ],
   "source": [
    "index.fit(documents)"
   ]
  },
  {
   "cell_type": "markdown",
   "id": "27f726cf-66d5-48f3-b9f0-0ca6e0a5569c",
   "metadata": {},
   "source": [
    "## RAG Flow"
   ]
  },
  {
   "cell_type": "code",
   "execution_count": 20,
   "id": "acb1a91f-efac-4e76-8671-b02840b45561",
   "metadata": {},
   "outputs": [],
   "source": [
    "client = OpenAI()"
   ]
  },
  {
   "cell_type": "code",
   "execution_count": 22,
   "id": "477dc7f6-b597-4938-b478-e1c64e32587d",
   "metadata": {},
   "outputs": [],
   "source": [
    "query = 'I want to lose belly fat. What shall I eat?'"
   ]
  },
  {
   "cell_type": "code",
   "execution_count": 23,
   "id": "5ed55640-6a68-4d51-bca4-872f8a6d0398",
   "metadata": {},
   "outputs": [],
   "source": [
    "def search(query):\n",
    "    boost = {}\n",
    "\n",
    "    results = index.search(\n",
    "        query=query,\n",
    "        filter_dict={},\n",
    "        boost_dict=boost,\n",
    "        num_results=10\n",
    "    )\n",
    "\n",
    "    return results"
   ]
  },
  {
   "cell_type": "code",
   "execution_count": 25,
   "id": "da200554-c9b4-4c25-bb3c-2669be2b548a",
   "metadata": {},
   "outputs": [
    {
     "data": {
      "text/plain": [
       "[{'Chunked_Content': 'And lose Belly fat by doing nothing?. Body positivity',\n",
       "  'number of sentences': 2,\n",
       "  'number of words': 9,\n",
       "  'Keywords': \"['lose', 'fat', 'Belly', 'body', 'positivity']\"},\n",
       " {'Chunked_Content': 'Why is your belly so big?',\n",
       "  'number of sentences': 1,\n",
       "  'number of words': 6,\n",
       "  'Keywords': \"['belly', 'big']\"},\n",
       " {'Chunked_Content': 'what if i want to stay lean and keep it like that?. is that \"healthy\"?. Fat is beautifull🥹 no, i just have lube 1x a day 25% BF but look like 7% is that a genetic factor?what about the fat you\\'d gain around your belly and chubby face?im okay with not having a six pack, i just dont wanna have lose rolls of fat on my sides and belly',\n",
       "  'number of sentences': 3,\n",
       "  'number of words': 69,\n",
       "  'Keywords': \"['lose', 'Fat', 'beautifull🥹', '7', 'not', 'lean', '1x', 'healthy', 'roll', 'lube', 'look', '25', 'okay', 'chubby', 'belly', 'stay', 'day', 'want', 'genetic', 'face?im', 'pack', 'have', 'like', 'gain', 'fat', 'BF', 'factor?what', 'side', 'wanna']\"},\n",
       " {'Chunked_Content': 'Have you eaten raw pork belly?',\n",
       "  'number of sentences': 1,\n",
       "  'number of words': 6,\n",
       "  'Keywords': \"['pork', 'belly', 'raw', 'eat']\"},\n",
       " {'Chunked_Content': 'What to eat?',\n",
       "  'number of sentences': 1,\n",
       "  'number of words': 3,\n",
       "  'Keywords': \"['eat']\"},\n",
       " {'Chunked_Content': 'What happens to toxins absorbed by fat when you lose weight?',\n",
       "  'number of sentences': 1,\n",
       "  'number of words': 11,\n",
       "  'Keywords': \"['lose', 'absorb', 'fat', 'happen', 'toxin', 'weight']\"},\n",
       " {'Chunked_Content': 'i will eat coocked meat this Xmas, shall i mix it with raw fats?',\n",
       "  'number of sentences': 1,\n",
       "  'number of words': 14,\n",
       "  'Keywords': \"['coocke', 'eat', 'shall', 'raw', 'mix', 'meat', 'fat', 'Xmas']\"},\n",
       " {'Chunked_Content': 'How often would you say I shall give him that?. And make him drink the whole formula.. Ok blend all that yes',\n",
       "  'number of sentences': 3,\n",
       "  'number of words': 22,\n",
       "  'Keywords': \"['blend', 'shall', 'yes', 'drink', 'formula', 'ok']\"},\n",
       " {'Chunked_Content': 'Shall we create a new group for those of us banned from primal life and most other groups?. Me too',\n",
       "  'number of sentences': 2,\n",
       "  'number of words': 20,\n",
       "  'Keywords': \"['create', 'primal', 'shall', 'new', 'life', 'group', 'ban']\"},\n",
       " {'Chunked_Content': 'Where is the pain?. Above the belly button Sharp',\n",
       "  'number of sentences': 2,\n",
       "  'number of words': 9,\n",
       "  'Keywords': \"['belly', 'button', 'pain', 'Sharp']\"}]"
      ]
     },
     "execution_count": 25,
     "metadata": {},
     "output_type": "execute_result"
    }
   ],
   "source": [
    "search(query)"
   ]
  },
  {
   "cell_type": "code",
   "execution_count": 28,
   "id": "6250adf1-12b3-480f-b33d-c3ec6608b904",
   "metadata": {},
   "outputs": [
    {
     "name": "stdout",
     "output_type": "stream",
     "text": [
      "Losing belly fat often involves a combination of a healthy diet, regular exercise, and lifestyle changes. Here’s a general guide on what to eat to help reduce belly fat:\n",
      "\n",
      "### **1. Incorporate More Whole Foods:**\n",
      "- **Vegetables:** Leafy greens, broccoli, Brussels sprouts, bell peppers, and other non-starchy vegetables provide fiber and essential nutrients.\n",
      "- **Fruits:** Berries, apples, oranges, and other fruits are high in fiber and antioxidants.\n",
      "- **Whole Grains:** Brown rice, quinoa, oats, and whole wheat products can help keep you full, thanks to their fiber content.\n",
      "\n",
      "### **2. High-Quality Protein:**\n",
      "- **Lean Meat:** Chicken breast, fish, turkey, and lean cuts of beef.\n",
      "- **Plant-Based Proteins:** Lentils, chickpeas, beans, tofu, and tempeh.\n",
      "- **Eggs:** A good source of protein and healthy fats.\n",
      "\n",
      "### **3. Healthy Fats:**\n",
      "- **Avocados:** Rich in monounsaturated fats.\n",
      "- **Nuts and Seeds:** Almonds, chia seeds, flaxseeds, and walnuts.\n",
      "- **Olive Oil:** Use it as your primary oil for cooking and salads.\n",
      "\n",
      "### **4. Dairy or Dairy Alternatives:**\n",
      "- **Yogurt:** Opt for Greek yogurt or plain yogurt, which provides probiotics.\n",
      "- **Milk or Almond Milk:** Choose unsweetened versions.\n",
      "\n",
      "### **5. Hydration:**\n",
      "- **Water:** Stay well-hydrated to support metabolism and reduce bloating.\n",
      "- **Herbal Teas:** Green tea, for instance, which has been linked to weight loss due to its antioxidants.\n",
      "\n",
      "### **6. Minimize Processed Foods and Sugary Items:**\n",
      "- **Avoid Sugary Drinks:** Soda, energy drinks, and sweetened coffees and teas.\n",
      "- **Limit Refined Carbs:** White bread, pastries, and sugary cereals.\n",
      "- **Minimize Processed Snacks:** Chips, cookies, and candy.\n",
      "\n",
      "### **Meal Examples:**\n",
      "\n",
      "#### **Breakfast:**\n",
      "- Greek yogurt with berries and a sprinkle of chia seeds.\n",
      "- Scrambled eggs with spinach and a slice of whole-grain toast.\n",
      "\n",
      "#### **Lunch:**\n",
      "- Quinoa salad with mixed vegetables, chickpeas, and a lemon-olive oil dressing.\n",
      "- Grilled chicken breast with a side of steamed broccoli and brown rice.\n",
      "\n",
      "#### **Dinner:**\n",
      "- Baked salmon with a side of roasted Brussels sprouts and sweet potato.\n",
      "- Stir-fried tofu with mixed vegetables and quinoa.\n",
      "\n",
      "#### **Snacks:**\n",
      "- Apple slices with almond butter.\n",
      "- A handful of mixed nuts.\n",
      "- Carrot sticks with hummus.\n",
      "\n",
      "### **Additional Tips:**\n",
      "\n",
      "- **Portion Control:** Be mindful of portion sizes to avoid overeating.\n",
      "- **Regular Meals:** Eat at regular intervals to maintain energy levels and avoid excessive hunger.\n",
      "- **Limit Alcohol:** Alcohol can contribute to belly fat, so moderate your intake.\n",
      "\n",
      "### **Exercise:**\n",
      "- Combine your diet with regular physical activity, like cardiovascular exercises (walking, running, cycling) and strength training to build muscle and boost metabolism.\n",
      "\n",
      "Finally, it's always a good idea to consult with a healthcare provider or a registered dietitian before making significant changes to your diet or exercise routine. They can provide personalized advice based on your specific health needs.\n"
     ]
    }
   ],
   "source": [
    "response = client.chat.completions.create(\n",
    "    model='gpt-4o',\n",
    "    messages=[{\"role\": \"user\", \"content\": query}]\n",
    ")\n",
    "\n",
    "response.choices[0].message.content\n",
    "print(_)"
   ]
  },
  {
   "cell_type": "code",
   "execution_count": 29,
   "id": "38c4f49c-a547-4515-8fbc-2b36a5595d30",
   "metadata": {},
   "outputs": [],
   "source": [
    "prompt_template = \"\"\"\n",
    "You're a health adviser. Answer the QUESTION based on the CONTEXT from our primal diet database.\n",
    "Use only the facts from the CONTEXT when answering the QUESTION.\n",
    "\n",
    "QUESTION: {question}\n",
    "\n",
    "CONTEXT:\n",
    "{context}\n",
    "\"\"\".strip()\n",
    "\n",
    "entry_template = \"\"\"\n",
    "Chunked_Content: {Chunked_Content}\n",
    "\"\"\".strip()\n",
    "\n",
    "def build_prompt(query, search_results):\n",
    "    context = \"\"\n",
    "    \n",
    "    for doc in search_results:\n",
    "        context = context + entry_template.format(**doc) + \"\\n\\n\"\n",
    "\n",
    "    prompt = prompt_template.format(question=query, context=context).strip()\n",
    "    return prompt"
   ]
  },
  {
   "cell_type": "code",
   "execution_count": 48,
   "id": "c907faaf-a485-46ad-9060-124443fa2752",
   "metadata": {},
   "outputs": [],
   "source": [
    "def llm(prompt, model='gpt-4o'):\n",
    "    response = client.chat.completions.create(\n",
    "        model='gpt-4o',\n",
    "        messages=[{\"role\": \"user\", \"content\": prompt}]\n",
    "    )\n",
    "    \n",
    "    return response.choices[0].message.content"
   ]
  },
  {
   "cell_type": "code",
   "execution_count": 69,
   "id": "397591c9-4df9-47ab-b277-01011c0603a9",
   "metadata": {},
   "outputs": [],
   "source": [
    "query='How to lower blood pressure?'\n",
    "def rag(query, model='gpt-4o-mini'):\n",
    "    search_results = search(query)\n",
    "    prompt = build_prompt(query, search_results)\n",
    "    answer = llm(prompt, model=model)\n",
    "    return answer\n",
    "\n"
   ]
  },
  {
   "cell_type": "code",
   "execution_count": 70,
   "id": "5b57145f-c05e-46a9-b245-77bfb93a3d16",
   "metadata": {},
   "outputs": [
    {
     "name": "stdout",
     "output_type": "stream",
     "text": [
      "Based on the information from the primal diet context provided by Aajonus, here is the advice on how to lower blood pressure:\n",
      "\n",
      "1. **Identify the Cause**: Acknowledge that high blood pressure may occur for valid reasons such as being overweight, having arterial congestion, or being exposed to certain toxins. It's crucial to address these underlying causes rather than just focusing on reducing the pressure itself.\n",
      "\n",
      "2. **Dietary Adjustments**:\n",
      "   - **Grapefruit**: Consuming half a grapefruit daily for 10 days can help lower blood pressure if it is due to a lack of specific nutrients required for this function.\n",
      "   - **Cucumbers**: Eating raw cucumbers or drinking cucumber juice can soothe stretched arteries, veins, and nerves.\n",
      "   - **Garlic**: Fresh raw garlic can help stabilize blood pressure, whether it is too high or too low.\n",
      "\n",
      "3. **Note on Medications**: Be cautious with blood pressure medications as they may slow down blood flow through congested arteries, potentially causing clots.\n",
      "\n",
      "4. **Overall Perspective**: High blood pressure serves an essential function when the body is dealing with congestion and should not be hastily suppressed, especially without dealing with the root causes.\n",
      "\n",
      "Therefore, instead of just attempting to lower blood pressure, focus on addressing the reasons for its elevation and make dietary adjustments with foods like grapefruit, cucumbers, and garlic which can help manage it naturally.\n",
      "\n",
      "Enjoy your high blood pressure if it is serving a crucial purpose; only lower it if it is not due to an essential bodily need.\n"
     ]
    }
   ],
   "source": [
    "print(rag(query))"
   ]
  },
  {
   "cell_type": "code",
   "execution_count": null,
   "id": "987d7945-5f5f-4099-b495-388bcee3648e",
   "metadata": {},
   "outputs": [],
   "source": []
  },
  {
   "cell_type": "code",
   "execution_count": null,
   "id": "cb4f7e6e-112a-4edd-a582-e84e82bc3fcd",
   "metadata": {},
   "outputs": [],
   "source": []
  }
 ],
 "metadata": {
  "kernelspec": {
   "display_name": "Python 3 (ipykernel)",
   "language": "python",
   "name": "python3"
  },
  "language_info": {
   "codemirror_mode": {
    "name": "ipython",
    "version": 3
   },
   "file_extension": ".py",
   "mimetype": "text/x-python",
   "name": "python",
   "nbconvert_exporter": "python",
   "pygments_lexer": "ipython3",
   "version": "3.12.4"
  }
 },
 "nbformat": 4,
 "nbformat_minor": 5
}
