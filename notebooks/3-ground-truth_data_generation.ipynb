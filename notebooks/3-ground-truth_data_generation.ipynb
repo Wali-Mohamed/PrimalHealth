{
 "cells": [
  {
   "cell_type": "code",
   "execution_count": 1,
   "id": "b450a265-d113-4780-aba7-05c31ef6e43a",
   "metadata": {},
   "outputs": [],
   "source": [
    "import pandas as pd\n",
    "import json\n",
    "import time\n"
   ]
  },
  {
   "cell_type": "code",
   "execution_count": 2,
   "id": "775a08e7-c22b-4143-aec9-9b3d57b07930",
   "metadata": {},
   "outputs": [],
   "source": [
    "from openai import OpenAI\n",
    "\n",
    "\n",
    "client = OpenAI()\n",
    "#from error import APIConnectionError"
   ]
  },
  {
   "cell_type": "code",
   "execution_count": 36,
   "id": "5bfde6da-e847-4214-881d-2c461712f24c",
   "metadata": {},
   "outputs": [],
   "source": [
    "df=pd.read_csv('../data/clean_data/date_chunked_5s.csv')"
   ]
  },
  {
   "cell_type": "code",
   "execution_count": 37,
   "id": "e97dcb3e-f104-4707-9fba-47f4d156231c",
   "metadata": {},
   "outputs": [
    {
     "data": {
      "text/html": [
       "<div>\n",
       "<style scoped>\n",
       "    .dataframe tbody tr th:only-of-type {\n",
       "        vertical-align: middle;\n",
       "    }\n",
       "\n",
       "    .dataframe tbody tr th {\n",
       "        vertical-align: top;\n",
       "    }\n",
       "\n",
       "    .dataframe thead th {\n",
       "        text-align: right;\n",
       "    }\n",
       "</style>\n",
       "<table border=\"1\" class=\"dataframe\">\n",
       "  <thead>\n",
       "    <tr style=\"text-align: right;\">\n",
       "      <th></th>\n",
       "      <th>id</th>\n",
       "      <th>content</th>\n",
       "      <th>number of sentences</th>\n",
       "      <th>number of words</th>\n",
       "    </tr>\n",
       "  </thead>\n",
       "  <tbody>\n",
       "    <tr>\n",
       "      <th>0</th>\n",
       "      <td>0</td>\n",
       "      <td>this is the first I see an egg in bath ingredi...</td>\n",
       "      <td>5</td>\n",
       "      <td>56</td>\n",
       "    </tr>\n",
       "    <tr>\n",
       "      <th>1</th>\n",
       "      <td>1</td>\n",
       "      <td>My husband is going through his first vomit/di...</td>\n",
       "      <td>5</td>\n",
       "      <td>49</td>\n",
       "    </tr>\n",
       "    <tr>\n",
       "      <th>2</th>\n",
       "      <td>2</td>\n",
       "      <td>На вкус как жареные грибы, кисловатые.. Чувств...</td>\n",
       "      <td>5</td>\n",
       "      <td>41</td>\n",
       "    </tr>\n",
       "    <tr>\n",
       "      <th>3</th>\n",
       "      <td>3</td>\n",
       "      <td>Это я с бухты барахты приготовил и пробую, а к...</td>\n",
       "      <td>5</td>\n",
       "      <td>204</td>\n",
       "    </tr>\n",
       "    <tr>\n",
       "      <th>4</th>\n",
       "      <td>4</td>\n",
       "      <td>Juice of lemon, naturally sparkling water, hon...</td>\n",
       "      <td>5</td>\n",
       "      <td>150</td>\n",
       "    </tr>\n",
       "  </tbody>\n",
       "</table>\n",
       "</div>"
      ],
      "text/plain": [
       "   id                                            content  number of sentences  \\\n",
       "0   0  this is the first I see an egg in bath ingredi...                    5   \n",
       "1   1  My husband is going through his first vomit/di...                    5   \n",
       "2   2  На вкус как жареные грибы, кисловатые.. Чувств...                    5   \n",
       "3   3  Это я с бухты барахты приготовил и пробую, а к...                    5   \n",
       "4   4  Juice of lemon, naturally sparkling water, hon...                    5   \n",
       "\n",
       "   number of words  \n",
       "0               56  \n",
       "1               49  \n",
       "2               41  \n",
       "3              204  \n",
       "4              150  "
      ]
     },
     "execution_count": 37,
     "metadata": {},
     "output_type": "execute_result"
    }
   ],
   "source": [
    "df.head()"
   ]
  },
  {
   "cell_type": "code",
   "execution_count": null,
   "id": "b83ae0e0-9903-46aa-a514-c973c801f7d6",
   "metadata": {},
   "outputs": [],
   "source": []
  },
  {
   "cell_type": "code",
   "execution_count": null,
   "id": "f2dd324d-7612-4497-b495-fb553f7e82cb",
   "metadata": {},
   "outputs": [],
   "source": []
  },
  {
   "cell_type": "code",
   "execution_count": 38,
   "id": "d5deaa24-798f-4b17-9211-c317283a4de5",
   "metadata": {},
   "outputs": [
    {
     "data": {
      "text/plain": [
       "[{'id': 0,\n",
       "  'content': 'this is the first I see an egg in bath ingredients and egg?. The plastic might even be better (especially if you have hard plastic) considering you have the cloth in between, because stainless steel could draw EMFs Your love Better anything non processed.. Sea water, an egg, sea salt, ACV, a little Urine.. .. .',\n",
       "  'number of sentences': 5,\n",
       "  'number of words': 56},\n",
       " {'id': 1,\n",
       "  'content': 'My husband is going through his first vomit/diarrhea detox, hydration formula or egg is not what he wants.. He is craving orange juice or lemonade.. What is good to give him to help detox?. is pasteurised milk gonna be better than nothing in the bath?. Впервые попробовал тухлую печень.',\n",
       "  'number of sentences': 5,\n",
       "  'number of words': 49}]"
      ]
     },
     "execution_count": 38,
     "metadata": {},
     "output_type": "execute_result"
    }
   ],
   "source": [
    "documents = df.to_dict(orient='records')\n",
    "documents[0:2]"
   ]
  },
  {
   "cell_type": "code",
   "execution_count": 39,
   "id": "06d69ea9-22fd-476c-bd6a-d04f4af439f7",
   "metadata": {},
   "outputs": [],
   "source": [
    "prompt_template = \"\"\"\n",
    "You emulate a user of our primal health adviser application.\n",
    "Formulate 5 questions this user might ask based on chunked content of conversation.\n",
    "Make the questions specific to that chunk.\n",
    "The record should contain the answer to the questions, and the questions should\n",
    "be complete and not too short. Use as fewer words as possible from the record. \n",
    "\n",
    "The record:\n",
    "\n",
    "Chunked_Content: {content}\n",
    "\n",
    "\n",
    "Provide the output in parsable JSON without using code blocks:\n",
    "\n",
    "{{\"questions\": [\"question1\", \"question2\", ..., \"question5\"]}}\n",
    "\"\"\".strip()"
   ]
  },
  {
   "cell_type": "code",
   "execution_count": 40,
   "id": "64b33a94-2a4d-4bf9-9f7d-fe4426a2a19b",
   "metadata": {},
   "outputs": [],
   "source": [
    "prompt = prompt_template.format(**documents[0])"
   ]
  },
  {
   "cell_type": "code",
   "execution_count": 41,
   "id": "d9e8676f-785d-47fb-b512-757cb5970243",
   "metadata": {},
   "outputs": [
    {
     "data": {
      "text/plain": [
       "'You emulate a user of our primal health adviser application.\\nFormulate 5 questions this user might ask based on chunked content of conversation.\\nMake the questions specific to that chunk.\\nThe record should contain the answer to the questions, and the questions should\\nbe complete and not too short. Use as fewer words as possible from the record. \\n\\nThe record:\\n\\nChunked_Content: this is the first I see an egg in bath ingredients and egg?. The plastic might even be better (especially if you have hard plastic) considering you have the cloth in between, because stainless steel could draw EMFs Your love Better anything non processed.. Sea water, an egg, sea salt, ACV, a little Urine.. .. .\\n\\n\\nProvide the output in parsable JSON without using code blocks:\\n\\n{\"questions\": [\"question1\", \"question2\", ..., \"question5\"]}'"
      ]
     },
     "execution_count": 41,
     "metadata": {},
     "output_type": "execute_result"
    }
   ],
   "source": [
    "prompt"
   ]
  },
  {
   "cell_type": "code",
   "execution_count": 42,
   "id": "f3a53ca3-7820-4f08-9b43-04ea05b6ce5c",
   "metadata": {},
   "outputs": [
    {
     "name": "stdout",
     "output_type": "stream",
     "text": [
      "You emulate a user of our primal health adviser application.\n",
      "Formulate 5 questions this user might ask based on chunked content of conversation.\n",
      "Make the questions specific to that chunk.\n",
      "The record should contain the answer to the questions, and the questions should\n",
      "be complete and not too short. Use as fewer words as possible from the record. \n",
      "\n",
      "The record:\n",
      "\n",
      "Chunked_Content: this is the first I see an egg in bath ingredients and egg?. The plastic might even be better (especially if you have hard plastic) considering you have the cloth in between, because stainless steel could draw EMFs Your love Better anything non processed.. Sea water, an egg, sea salt, ACV, a little Urine.. .. .\n",
      "\n",
      "\n",
      "Provide the output in parsable JSON without using code blocks:\n",
      "\n",
      "{\"questions\": [\"question1\", \"question2\", ..., \"question5\"]}\n"
     ]
    }
   ],
   "source": [
    "print(_)"
   ]
  },
  {
   "cell_type": "code",
   "execution_count": 43,
   "id": "80c374b6-cff5-4d5f-ba52-eab1cc799df5",
   "metadata": {},
   "outputs": [],
   "source": [
    "def llm(prompt):\n",
    "    response = client.chat.completions.create(\n",
    "        model='gpt-4o-mini',\n",
    "        messages=[{\"role\": \"user\", \"content\": prompt}]\n",
    "    )\n",
    "    \n",
    "    return response.choices[0].message.content"
   ]
  },
  {
   "cell_type": "code",
   "execution_count": 44,
   "id": "6be02253-a6cd-4296-a5aa-40dafdf031d0",
   "metadata": {},
   "outputs": [
    {
     "data": {
      "text/plain": [
       "'{\"questions\":[\"Why is there an egg included in the bath ingredients?\",\"What materials are recommended for the bath, specifically regarding plastic and stainless steel?\",\"Could you explain the benefits of using sea water in the bath?\",\"What is the role of sea salt and ACV in this bath recipe?\",\"Is urine used in bath ingredients for a specific reason?\"]}'"
      ]
     },
     "execution_count": 44,
     "metadata": {},
     "output_type": "execute_result"
    }
   ],
   "source": [
    "questions = llm(prompt)\n",
    "questions"
   ]
  },
  {
   "cell_type": "code",
   "execution_count": 45,
   "id": "0f3cfb51-9c14-4bfc-8c1d-5b08d121e2fc",
   "metadata": {},
   "outputs": [],
   "source": [
    "import json"
   ]
  },
  {
   "cell_type": "code",
   "execution_count": 46,
   "id": "d908738d-8d5f-4759-b5c5-3e18f0f9c334",
   "metadata": {},
   "outputs": [
    {
     "data": {
      "text/plain": [
       "{'questions': ['Why is there an egg included in the bath ingredients?',\n",
       "  'What materials are recommended for the bath, specifically regarding plastic and stainless steel?',\n",
       "  'Could you explain the benefits of using sea water in the bath?',\n",
       "  'What is the role of sea salt and ACV in this bath recipe?',\n",
       "  'Is urine used in bath ingredients for a specific reason?']}"
      ]
     },
     "execution_count": 46,
     "metadata": {},
     "output_type": "execute_result"
    }
   ],
   "source": [
    "json.loads(questions)"
   ]
  },
  {
   "cell_type": "code",
   "execution_count": 47,
   "id": "8d57160a-2d90-40cf-98eb-3ff23b951a81",
   "metadata": {},
   "outputs": [],
   "source": [
    "def generate_questions(doc):\n",
    "    prompt = prompt_template.format(**doc)\n",
    "\n",
    "    response = client.chat.completions.create(\n",
    "        model='gpt-4o',\n",
    "        messages=[{\"role\": \"user\", \"content\": prompt}]\n",
    "    )\n",
    "\n",
    "    json_response = response.choices[0].message.content\n",
    "    return json_response"
   ]
  },
  {
   "cell_type": "code",
   "execution_count": 48,
   "id": "a7f8f6ca-9ff4-4967-9af2-56e98ade8121",
   "metadata": {},
   "outputs": [],
   "source": [
    "from tqdm.auto import tqdm"
   ]
  },
  {
   "cell_type": "code",
   "execution_count": 49,
   "id": "8f94a553-c893-429b-ad06-20345506b065",
   "metadata": {},
   "outputs": [],
   "source": [
    "results = {}\n"
   ]
  },
  {
   "cell_type": "code",
   "execution_count": 50,
   "id": "e9d351fd-95f9-48bb-842a-7f78aa735e4d",
   "metadata": {},
   "outputs": [
    {
     "data": {
      "text/plain": [
       "5837"
      ]
     },
     "execution_count": 50,
     "metadata": {},
     "output_type": "execute_result"
    }
   ],
   "source": [
    "len(documents)"
   ]
  },
  {
   "cell_type": "code",
   "execution_count": 51,
   "id": "5ae042e4-ec32-4e97-828a-55d0e107ca1e",
   "metadata": {},
   "outputs": [],
   "source": [
    "# Generationg questions for 49k documents was taking too long"
   ]
  },
  {
   "cell_type": "code",
   "execution_count": 52,
   "id": "4571a207-8254-466f-93ce-f6064ad7dfe0",
   "metadata": {},
   "outputs": [
    {
     "data": {
      "text/plain": [
       "200"
      ]
     },
     "execution_count": 52,
     "metadata": {},
     "output_type": "execute_result"
    }
   ],
   "source": [
    "# get 300 random documents out of 49006 documents for evaluation\n",
    "import random\n",
    "number =200                           # set the number to select here.\n",
    "random_docs = random.sample(documents,number)\n",
    "len(random_docs)\n"
   ]
  },
  {
   "cell_type": "markdown",
   "id": "f47311be-c6a9-45cf-899f-b7793189b8f5",
   "metadata": {},
   "source": [
    "## Parallelarization\n"
   ]
  },
  {
   "cell_type": "code",
   "execution_count": null,
   "id": "f4b9b32a-cf34-491f-8b8e-d25084bf8d35",
   "metadata": {},
   "outputs": [],
   "source": []
  },
  {
   "cell_type": "code",
   "execution_count": 53,
   "id": "62817207-ebd0-46d5-a1b2-e404b4881dbb",
   "metadata": {},
   "outputs": [
    {
     "data": {
      "application/vnd.jupyter.widget-view+json": {
       "model_id": "98ff0a3dcdaa43c48c68631b3234c6d9",
       "version_major": 2,
       "version_minor": 0
      },
      "text/plain": [
       "  0%|          | 0/200 [00:00<?, ?it/s]"
      ]
     },
     "metadata": {},
     "output_type": "display_data"
    },
    {
     "data": {
      "application/vnd.jupyter.widget-view+json": {
       "model_id": "0b3e7b83d1a34eb2bf2938ce4a573d44",
       "version_major": 2,
       "version_minor": 0
      },
      "text/plain": [
       "0it [00:00, ?it/s]"
      ]
     },
     "metadata": {},
     "output_type": "display_data"
    },
    {
     "name": "stdout",
     "output_type": "stream",
     "text": [
      "Time taken: 1.5109469215075175 minutes\n"
     ]
    }
   ],
   "source": [
    "from concurrent.futures import ThreadPoolExecutor, as_completed\n",
    "def process_document(doc):\n",
    "    doc_id = doc['id']\n",
    "    if doc_id in results:\n",
    "        return None  # Skip this document if already processed\n",
    "    try:\n",
    "        questions_raw = generate_questions(doc)\n",
    "        questions = json.loads(questions_raw)\n",
    "        return (doc_id, questions['questions'])\n",
    "    except (json.JSONDecodeError, KeyError) as e:\n",
    "        print(f\"Error processing doc_id {doc_id}: {e}\")\n",
    "        return None\n",
    "\n",
    "# Track time\n",
    "t0 = time.time()\n",
    "\n",
    "# Create a ThreadPoolExecutor with a suitable number of workers\n",
    "with ThreadPoolExecutor(max_workers=3) as executor:\n",
    "    # Submit all tasks\n",
    "    \n",
    "    futures = {executor.submit(process_document, doc): doc for doc in tqdm(random_docs)}\n",
    "\n",
    "    total_tasks = len(futures)\n",
    "    # Collect results as they complete\n",
    "    for future in tqdm(as_completed(futures)):\n",
    "        result = future.result()\n",
    "        if result is not None:\n",
    "            doc_id, questions = result\n",
    "            results[doc_id] = questions\n",
    "\n",
    "# End time\n",
    "t1 = time.time()\n",
    "# Print time taken\n",
    "print(f\"Time taken: {(t1 - t0)/60} minutes\")\n"
   ]
  },
  {
   "cell_type": "code",
   "execution_count": 54,
   "id": "5d68ef80-8a02-44fd-813e-4fd74e4d5592",
   "metadata": {},
   "outputs": [
    {
     "data": {
      "text/plain": [
       "200"
      ]
     },
     "execution_count": 54,
     "metadata": {},
     "output_type": "execute_result"
    }
   ],
   "source": [
    "len(results)\n"
   ]
  },
  {
   "cell_type": "code",
   "execution_count": 55,
   "id": "1ab29daf-de00-4413-8a66-aea33a3d7389",
   "metadata": {},
   "outputs": [],
   "source": [
    "# no need to use the following code"
   ]
  },
  {
   "cell_type": "code",
   "execution_count": 56,
   "id": "ea6ca478-12c8-41f4-ba9a-dbf53b3375b9",
   "metadata": {},
   "outputs": [],
   "source": [
    "# import time\n",
    "# t0=time.time()\n",
    "# for doc in tqdm(random_docs[:1000]): \n",
    "#     doc_id = doc['id']\n",
    "#     if doc_id in results:\n",
    "#         continue\n",
    "#     try:\n",
    "#         questions_raw = generate_questions(doc)\n",
    "#         questions = json.loads(questions_raw)  # If an error happens here, the next line will not run\n",
    "#         results[doc_id] = questions['questions']  # This line will be skipped if there's an error in json.loads()\n",
    "#     except (json.JSONDecodeError, KeyError) as e:\n",
    "#         print(f\"Error processing doc_id {doc_id}: {e}\")\n",
    "    \n",
    "# t1=time.time()\n",
    "# print((t0-t1)/60)"
   ]
  },
  {
   "cell_type": "code",
   "execution_count": 57,
   "id": "72a258ab-c0fe-4a64-ae24-1be0944a685e",
   "metadata": {},
   "outputs": [
    {
     "data": {
      "text/plain": [
       "dict"
      ]
     },
     "execution_count": 57,
     "metadata": {},
     "output_type": "execute_result"
    }
   ],
   "source": [
    "len(results)\n",
    "type(results)"
   ]
  },
  {
   "cell_type": "code",
   "execution_count": 58,
   "id": "095fe029-21cf-4ee3-96d4-08487e5731ef",
   "metadata": {},
   "outputs": [],
   "source": [
    "final_results = []\n",
    "\n",
    "for doc_id, questions in results.items():\n",
    "    for q in questions:\n",
    "        final_results.append((doc_id, q))"
   ]
  },
  {
   "cell_type": "code",
   "execution_count": 59,
   "id": "17ddc4fe-4e3e-4634-bb4d-098802f20ae7",
   "metadata": {},
   "outputs": [
    {
     "data": {
      "text/plain": [
       "[(608, 'What makes you say that threatening your family is not acceptable?'),\n",
       " (608, 'Why do you feel that someone needs to get a life?'),\n",
       " (608, 'Have you experienced any recent threats to your family?'),\n",
       " (608,\n",
       "  'What would you consider an appropriate response to someone threatening your family?'),\n",
       " (608,\n",
       "  'Have you taken any steps to address these threats towards your family?'),\n",
       " (1011, \"Where can I find a thin silk floss that's unwaxed like silk thread?\"),\n",
       " (1011,\n",
       "  'Is there any reason to be cautious about the composition of the Zahnseide floss?'),\n",
       " (1011, 'What is the composition of Yaweco Biodegradable Dental Floss?'),\n",
       " (1011,\n",
       "  'How frequently should I use a dental floss brush, floss, and waterpik?'),\n",
       " (1011, 'What is a traditional way of flossing that helps kill bacteria?')]"
      ]
     },
     "execution_count": 59,
     "metadata": {},
     "output_type": "execute_result"
    }
   ],
   "source": [
    "final_results[0:10]"
   ]
  },
  {
   "cell_type": "code",
   "execution_count": 60,
   "id": "485dcb21-8d13-482c-beba-c8064b679772",
   "metadata": {},
   "outputs": [
    {
     "data": {
      "text/plain": [
       "1000"
      ]
     },
     "execution_count": 60,
     "metadata": {},
     "output_type": "execute_result"
    }
   ],
   "source": [
    "len(final_results)"
   ]
  },
  {
   "cell_type": "code",
   "execution_count": 61,
   "id": "019f252e-0e39-4ce8-8f0b-24eee8ab303d",
   "metadata": {},
   "outputs": [
    {
     "data": {
      "text/html": [
       "<div>\n",
       "<style scoped>\n",
       "    .dataframe tbody tr th:only-of-type {\n",
       "        vertical-align: middle;\n",
       "    }\n",
       "\n",
       "    .dataframe tbody tr th {\n",
       "        vertical-align: top;\n",
       "    }\n",
       "\n",
       "    .dataframe thead th {\n",
       "        text-align: right;\n",
       "    }\n",
       "</style>\n",
       "<table border=\"1\" class=\"dataframe\">\n",
       "  <thead>\n",
       "    <tr style=\"text-align: right;\">\n",
       "      <th></th>\n",
       "      <th>id</th>\n",
       "      <th>question</th>\n",
       "    </tr>\n",
       "  </thead>\n",
       "  <tbody>\n",
       "    <tr>\n",
       "      <th>0</th>\n",
       "      <td>608</td>\n",
       "      <td>What makes you say that threatening your famil...</td>\n",
       "    </tr>\n",
       "    <tr>\n",
       "      <th>1</th>\n",
       "      <td>608</td>\n",
       "      <td>Why do you feel that someone needs to get a life?</td>\n",
       "    </tr>\n",
       "    <tr>\n",
       "      <th>2</th>\n",
       "      <td>608</td>\n",
       "      <td>Have you experienced any recent threats to you...</td>\n",
       "    </tr>\n",
       "    <tr>\n",
       "      <th>3</th>\n",
       "      <td>608</td>\n",
       "      <td>What would you consider an appropriate respons...</td>\n",
       "    </tr>\n",
       "    <tr>\n",
       "      <th>4</th>\n",
       "      <td>608</td>\n",
       "      <td>Have you taken any steps to address these thre...</td>\n",
       "    </tr>\n",
       "  </tbody>\n",
       "</table>\n",
       "</div>"
      ],
      "text/plain": [
       "    id                                           question\n",
       "0  608  What makes you say that threatening your famil...\n",
       "1  608  Why do you feel that someone needs to get a life?\n",
       "2  608  Have you experienced any recent threats to you...\n",
       "3  608  What would you consider an appropriate respons...\n",
       "4  608  Have you taken any steps to address these thre..."
      ]
     },
     "execution_count": 61,
     "metadata": {},
     "output_type": "execute_result"
    }
   ],
   "source": [
    "df = pd.DataFrame(final_results, columns=['id', 'question'])\n",
    "df.head()"
   ]
  },
  {
   "cell_type": "code",
   "execution_count": null,
   "id": "459d45f1-93f0-46a9-aaf5-e657fd30a343",
   "metadata": {},
   "outputs": [],
   "source": []
  },
  {
   "cell_type": "code",
   "execution_count": 62,
   "id": "bc8b56cd-b916-41a1-a3ba-71026e8cefbf",
   "metadata": {},
   "outputs": [],
   "source": [
    "df.to_csv('../data/clean_data/ground-truth-data_final.csv', index=False)"
   ]
  },
  {
   "cell_type": "code",
   "execution_count": 64,
   "id": "55735c93-4334-4e79-8388-274c98905dc0",
   "metadata": {},
   "outputs": [
    {
     "name": "stdout",
     "output_type": "stream",
     "text": [
      "id,question\n",
      "608,What makes you say that threatening your family is not acceptable?\n",
      "608,Why do you feel that someone needs to get a life?\n",
      "608,Have you experienced any recent threats to your family?\n",
      "608,What would you consider an appropriate response to someone threatening your family?\n",
      "608,Have you taken any steps to address these threats towards your family?\n",
      "1011,Where can I find a thin silk floss that's unwaxed like silk thread?\n",
      "1011,Is there any reason to be cautious about the composition of the Zahnseide floss?\n",
      "1011,What is the composition of Yaweco Biodegradable Dental Floss?\n",
      "1011,\"How frequently should I use a dental floss brush, floss, and waterpik?\"\n"
     ]
    }
   ],
   "source": [
    "!head '../data/clean_data/ground-truth-data_final.csv'"
   ]
  },
  {
   "cell_type": "code",
   "execution_count": null,
   "id": "0b59f4b5-c318-4d62-ae3a-cf390df17160",
   "metadata": {},
   "outputs": [],
   "source": []
  }
 ],
 "metadata": {
  "kernelspec": {
   "display_name": "Python 3 (ipykernel)",
   "language": "python",
   "name": "python3"
  },
  "language_info": {
   "codemirror_mode": {
    "name": "ipython",
    "version": 3
   },
   "file_extension": ".py",
   "mimetype": "text/x-python",
   "name": "python",
   "nbconvert_exporter": "python",
   "pygments_lexer": "ipython3",
   "version": "3.12.4"
  }
 },
 "nbformat": 4,
 "nbformat_minor": 5
}
