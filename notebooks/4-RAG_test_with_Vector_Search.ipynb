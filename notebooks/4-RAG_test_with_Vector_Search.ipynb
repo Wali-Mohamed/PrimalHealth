{
 "cells": [
  {
   "cell_type": "code",
   "execution_count": 125,
   "id": "10a41604-4f5f-431c-a0b3-9f938eca40fd",
   "metadata": {},
   "outputs": [],
   "source": [
    "# Import libraries and modules\n",
    "import pandas as pd\n",
    "import minsearch\n",
    "from tqdm.auto import tqdm\n",
    "from openai import OpenAI\n",
    "from sentence_transformers import SentenceTransformer\n"
   ]
  },
  {
   "cell_type": "code",
   "execution_count": null,
   "id": "6cddd153-a8ed-4b67-8d10-91371853088a",
   "metadata": {},
   "outputs": [],
   "source": []
  },
  {
   "cell_type": "code",
   "execution_count": 144,
   "id": "61e669a7-2c37-4bff-9f23-a8db73027f33",
   "metadata": {},
   "outputs": [],
   "source": [
    "# import data\n",
    "df=pd.read_csv('../data/clean_data/final_data_with_IDs_new.csv')"
   ]
  },
  {
   "cell_type": "code",
   "execution_count": 145,
   "id": "1befd4d9-04df-49d0-ab4a-830303a04792",
   "metadata": {},
   "outputs": [],
   "source": [
    "documents=df.to_dict(orient='records')"
   ]
  },
  {
   "cell_type": "code",
   "execution_count": 146,
   "id": "5fdb604c-84b4-4247-a8e4-634940eb8f95",
   "metadata": {},
   "outputs": [
    {
     "data": {
      "text/plain": [
       "5650"
      ]
     },
     "execution_count": 146,
     "metadata": {},
     "output_type": "execute_result"
    }
   ],
   "source": [
    "len(documents)"
   ]
  },
  {
   "cell_type": "code",
   "execution_count": 129,
   "id": "271cb033-a76a-4333-adbe-63097f8b81d0",
   "metadata": {},
   "outputs": [
    {
     "data": {
      "text/plain": [
       "{'id': 0,\n",
       " 'Chunked_Content': \"when you eat it alone?. Good idea to eat it once wuth honey and once alone My kids eat it with the meal.They aren't at home btw meals I will do it during week end Yesterday I had nausea after several hours passed from second meal.Today I had zero hunger until 20h+ passed after previous that meal Today I made only one typical meal enhanced with 4 egg yolks\",\n",
       " 'number of sentences': 2,\n",
       " 'number of words': 69}"
      ]
     },
     "execution_count": 129,
     "metadata": {},
     "output_type": "execute_result"
    }
   ],
   "source": [
    "documents[0]"
   ]
  },
  {
   "cell_type": "code",
   "execution_count": 130,
   "id": "d5eea7fb-6f75-4873-88d0-274b2a1bba27",
   "metadata": {},
   "outputs": [
    {
     "name": "stderr",
     "output_type": "stream",
     "text": [
      "C:\\Users\\user\\.virtualenvs\\Project-v4EWajkE\\Lib\\site-packages\\transformers\\tokenization_utils_base.py:1617: FutureWarning: `clean_up_tokenization_spaces` was not set. It will be set to `True` by default. This behavior will be deprecated in transformers v4.45, and will be then set to `False` by default. For more details check this issue: https://github.com/huggingface/transformers/issues/31884\n",
      "  warnings.warn(\n"
     ]
    }
   ],
   "source": [
    "### Transformer download\n",
    "model_name = 'multi-qa-MiniLM-L6-cos-v1'\n",
    "model = SentenceTransformer(model_name)"
   ]
  },
  {
   "cell_type": "markdown",
   "id": "4b403eef-f4bb-46df-8a8d-6351f4913558",
   "metadata": {},
   "source": [
    "## Indexing with Elasticsearch"
   ]
  },
  {
   "cell_type": "code",
   "execution_count": 32,
   "id": "32148b5b-f09a-4111-a829-b3209244d850",
   "metadata": {},
   "outputs": [
    {
     "data": {
      "text/plain": [
       "ObjectApiResponse({'name': 'c6e0ef327706', 'cluster_name': 'docker-cluster', 'cluster_uuid': 'oJUtKKIDSXWCTt_emGDNlg', 'version': {'number': '8.4.3', 'build_flavor': 'default', 'build_type': 'docker', 'build_hash': '42f05b9372a9a4a470db3b52817899b99a76ee73', 'build_date': '2022-10-04T07:17:24.662462378Z', 'build_snapshot': False, 'lucene_version': '9.3.0', 'minimum_wire_compatibility_version': '7.17.0', 'minimum_index_compatibility_version': '7.0.0'}, 'tagline': 'You Know, for Search'})"
      ]
     },
     "execution_count": 32,
     "metadata": {},
     "output_type": "execute_result"
    }
   ],
   "source": [
    "# Indexing with elastic search\n",
    "from elasticsearch import Elasticsearch\n",
    "es_client = Elasticsearch('http://localhost:9200') \n",
    "\n",
    "es_client.info()"
   ]
  },
  {
   "cell_type": "code",
   "execution_count": 33,
   "id": "3e0fa571-eef5-4991-9f33-2f8cbc0cdd3d",
   "metadata": {},
   "outputs": [],
   "source": [
    "index_settings = {\n",
    "    \"settings\": {\n",
    "        \"number_of_shards\": 1,\n",
    "        \"number_of_replicas\": 0\n",
    "    },\n",
    "    \"mappings\": {\n",
    "        \"properties\": {\n",
    "            \"Chunked_Content\": {\"type\": \"text\"},\n",
    "            \"text_vector\":\n",
    "            {\"type\": \"dense_vector\", \n",
    "             \"dims\": 384,\n",
    "             \"index\": True, \n",
    "             \"similarity\": \"cosine\"},\n",
    "        }\n",
    "    }\n",
    "}"
   ]
  },
  {
   "cell_type": "code",
   "execution_count": 34,
   "id": "9b3845c4-f257-4fbc-ae6d-00587a28c91e",
   "metadata": {},
   "outputs": [
    {
     "data": {
      "text/plain": [
       "ObjectApiResponse({'acknowledged': True, 'shards_acknowledged': True, 'index': 'diet-questions'})"
      ]
     },
     "execution_count": 34,
     "metadata": {},
     "output_type": "execute_result"
    }
   ],
   "source": [
    "index_name = \"diet-questions\"\n",
    "\n",
    "es_client.indices.delete(index=index_name, ignore_unavailable=True)\n",
    "es_client.indices.create(index=index_name, body=index_settings)"
   ]
  },
  {
   "cell_type": "code",
   "execution_count": 35,
   "id": "617c431a-d3de-45aa-9610-fbeeae35484a",
   "metadata": {},
   "outputs": [
    {
     "data": {
      "text/plain": [
       "384"
      ]
     },
     "execution_count": 35,
     "metadata": {},
     "output_type": "execute_result"
    }
   ],
   "source": [
    "len(model.encode('hello world'))"
   ]
  },
  {
   "cell_type": "code",
   "execution_count": 36,
   "id": "df08d0fb-eaa4-4643-a3b2-f2f588218f32",
   "metadata": {},
   "outputs": [
    {
     "data": {
      "application/vnd.jupyter.widget-view+json": {
       "model_id": "07a555e71e85448d9eb4145e8b773889",
       "version_major": 2,
       "version_minor": 0
      },
      "text/plain": [
       "  0%|          | 0/5650 [00:00<?, ?it/s]"
      ]
     },
     "metadata": {},
     "output_type": "display_data"
    }
   ],
   "source": [
    "#created the dense vector using the pre-trained model\n",
    "operations = []\n",
    "for doc in tqdm(documents):\n",
    "    # Transforming the title into an embedding using the model\n",
    "    doc[\"text_vector\"] = model.encode(doc[\"Chunked_Content\"]).tolist()\n",
    "    operations.append(doc)"
   ]
  },
  {
   "cell_type": "code",
   "execution_count": 38,
   "id": "31edacdf-a5e6-4880-afc3-9f841795298d",
   "metadata": {},
   "outputs": [
    {
     "data": {
      "text/plain": [
       "list"
      ]
     },
     "execution_count": 38,
     "metadata": {},
     "output_type": "execute_result"
    }
   ],
   "source": [
    "type(operations)"
   ]
  },
  {
   "cell_type": "code",
   "execution_count": 40,
   "id": "555a7646-f6f3-4a1f-9ae8-67d9695e25a2",
   "metadata": {},
   "outputs": [
    {
     "name": "stdout",
     "output_type": "stream",
     "text": [
      "Data saved to pickle file successfully.\n"
     ]
    }
   ],
   "source": [
    "import pickle\n",
    "\n",
    "\n",
    "# Save the list of dictionaries to a pickle file\n",
    "with open('../data/clean_data/semantic_vector_search.pkl', 'wb') as file:\n",
    "    pickle.dump(operations, file)\n",
    "\n",
    "print(\"Data saved to pickle file successfully.\")\n"
   ]
  },
  {
   "cell_type": "code",
   "execution_count": 46,
   "id": "22700766-f5d0-46fb-9de5-e5d7838cc42c",
   "metadata": {},
   "outputs": [
    {
     "data": {
      "text/plain": [
       "list"
      ]
     },
     "execution_count": 46,
     "metadata": {},
     "output_type": "execute_result"
    }
   ],
   "source": [
    "# load the data\n",
    "with open('../data/clean_data/semantic_vector_search.pkl', 'rb') as file:\n",
    "    loaded_data = pickle.load(file)\n",
    "\n",
    "item=loaded_data[0]['text_vector']\n",
    "type(item)\n"
   ]
  },
  {
   "cell_type": "code",
   "execution_count": 47,
   "id": "9c151d98-4ecf-457e-ab36-c749f3c5915c",
   "metadata": {},
   "outputs": [
    {
     "data": {
      "application/vnd.jupyter.widget-view+json": {
       "model_id": "fc6190aeae0148be8affd8a712dc56bf",
       "version_major": 2,
       "version_minor": 0
      },
      "text/plain": [
       "  0%|          | 0/5650 [00:00<?, ?it/s]"
      ]
     },
     "metadata": {},
     "output_type": "display_data"
    }
   ],
   "source": [
    "# index with elasticsearch\n",
    "for doc in tqdm(operations):\n",
    "    es_client.index(index=index_name, document=doc)"
   ]
  },
  {
   "cell_type": "code",
   "execution_count": 51,
   "id": "19cc3f71-7dc8-4d9f-adac-6caf9a62f2fb",
   "metadata": {},
   "outputs": [],
   "source": [
    "query = 'How can I lose belly fat?'"
   ]
  },
  {
   "cell_type": "code",
   "execution_count": 52,
   "id": "334ea82d-3aa0-4d95-b100-d68464b2b1dc",
   "metadata": {},
   "outputs": [],
   "source": [
    "v_q = model.encode(query)"
   ]
  },
  {
   "cell_type": "code",
   "execution_count": 54,
   "id": "86550b0c-bda9-40d8-8f49-1f0ea44a6ed2",
   "metadata": {},
   "outputs": [],
   "source": [
    "query = {\n",
    "    \"field\": \"text_vector\",\n",
    "    \"query_vector\": v_q,\n",
    "    \"k\": 5,\n",
    "    \"num_candidates\": 10000, \n",
    "}"
   ]
  },
  {
   "cell_type": "code",
   "execution_count": 105,
   "id": "1b77c34f-bc0e-48e0-aedc-918e0dac1b00",
   "metadata": {},
   "outputs": [
    {
     "data": {
      "text/plain": [
       "[{'_index': 'diet-questions',\n",
       "  '_id': 'YvRNTZIBcgRRhKtd9ruE',\n",
       "  '_score': 0.79868144,\n",
       "  '_source': {'id': 4407,\n",
       "   'Chunked_Content': 'Basically holding your breath ?. Breathing less ?. Thank you for good information vilt💪.. I have issues eating rendered fat or fat that has been cooked e.g beef tallow, ghee, etc not really, breathing small portions at a time and more slowly takes time to master I remember how in excercises i was teached to breath true the diaphragm so it moves up and down yeah, thats too you need to breath through your diaprhagm, so the belly moves'}},\n",
       " {'_index': 'diet-questions',\n",
       "  '_id': 'j_ROTZIBcgRRhKtdkL2H',\n",
       "  '_score': 0.7679534,\n",
       "  '_source': {'id': 4964, 'Chunked_Content': 'How do I check for body fat?'}},\n",
       " {'_index': 'diet-questions',\n",
       "  '_id': 'wfRLTZIBcgRRhKtdlrLT',\n",
       "  '_score': 0.7602743,\n",
       "  '_source': {'id': 2198,\n",
       "   'Chunked_Content': 'Interesting- so a big belly but still with abs!?. I’m 100% raw if not, you are screwed'}},\n",
       " {'_index': 'diet-questions',\n",
       "  '_id': '3PRPTZIBcgRRhKtdL7-q',\n",
       "  '_score': 0.7444408,\n",
       "  '_source': {'id': 5553, 'Chunked_Content': 'How much fat do you eat ?'}},\n",
       " {'_index': 'diet-questions',\n",
       "  '_id': 'e_RLTZIBcgRRhKtdNrHa',\n",
       "  '_score': 0.74161565,\n",
       "  '_source': {'id': 1872,\n",
       "   'Chunked_Content': \"im struggling to lose weight but you gained it back?. now i want to be a big fat man i was always trying to be lean O_O my perspective has shifted inflated balloon Same here.. I’m feeling like the same im like a big fat pig now probably over 80kgs now, im scared to look :p after introducing raw milk and honey basically gained those 15-17 kgs was doing a lot of fasting and keto/carnivore i've been from 65 to 80 kg more recently ok.. looks like there is an outlet in houston.. Organic food store in Southern California Mothers market!. Sprouts farmers market I feel it’s gonna be hard for me to lose all those pounds in the future.. Cuz I really enjoy mixing all these food and eat like that 😂\"}}]"
      ]
     },
     "execution_count": 105,
     "metadata": {},
     "output_type": "execute_result"
    }
   ],
   "source": [
    "res = es_client.search(index=index_name, knn=query, source=[\"Chunked_Content\", \"id\"])\n",
    "res[\"hits\"][\"hits\"]"
   ]
  },
  {
   "cell_type": "code",
   "execution_count": 93,
   "id": "5c6806ca-4eb2-4863-9a53-1f6edef1c618",
   "metadata": {},
   "outputs": [],
   "source": [
    "def elastic_search_knn(field, vector):\n",
    "    knn = {\n",
    "        \"field\": field,\n",
    "        \"query_vector\": vector,\n",
    "        \"k\": 5,\n",
    "        \"num_candidates\": 10000,\n",
    "        \n",
    "    }\n",
    "\n",
    "    search_query = {\n",
    "        \"knn\": knn,\n",
    "        \"_source\": [\"id\",\"Chunked_Content\"]\n",
    "    }\n",
    "\n",
    "    es_results = es_client.search(\n",
    "        index=index_name,\n",
    "        body=search_query\n",
    "    )\n",
    "    \n",
    "    result_docs = []\n",
    "    \n",
    "    for hit in es_results['hits']['hits']:\n",
    "        result_docs.append(hit['_source'])\n",
    "\n",
    "    return result_docs"
   ]
  },
  {
   "cell_type": "code",
   "execution_count": 94,
   "id": "bbc937b4-0559-4e16-ad1c-ab413a1266eb",
   "metadata": {},
   "outputs": [],
   "source": [
    "def question_vector_knn(q):\n",
    "    question = q['question']\n",
    "    \n",
    "    v_q = model.encode(question)\n",
    "\n",
    "    return elastic_search_knn('text_vector', v_q)"
   ]
  },
  {
   "cell_type": "code",
   "execution_count": null,
   "id": "58ece41b-444f-46b9-ab6d-7cf8f2efba96",
   "metadata": {},
   "outputs": [],
   "source": []
  },
  {
   "cell_type": "code",
   "execution_count": 147,
   "id": "6dd1ca67-3400-4b33-a039-d480d50ec658",
   "metadata": {},
   "outputs": [],
   "source": [
    "df=pd.read_csv('../data/clean_data/ground-truth-data.csv')"
   ]
  },
  {
   "cell_type": "code",
   "execution_count": 148,
   "id": "9a619be9-dd71-472b-9204-707aac8beaf0",
   "metadata": {},
   "outputs": [
    {
     "data": {
      "text/plain": [
       "1500"
      ]
     },
     "execution_count": 148,
     "metadata": {},
     "output_type": "execute_result"
    }
   ],
   "source": [
    "ground_truth=df.to_dict(orient='records')\n",
    "ground_truth[0]\n",
    "len(ground_truth)"
   ]
  },
  {
   "cell_type": "code",
   "execution_count": 149,
   "id": "99ed2c1b-9cb8-4af7-813f-7148f7356b1b",
   "metadata": {},
   "outputs": [],
   "source": [
    "def hit_rate(relevance_total):\n",
    "    cnt = 0\n",
    "\n",
    "    for line in relevance_total:\n",
    "        if True in line:\n",
    "            cnt = cnt + 1\n",
    "\n",
    "    return cnt / len(relevance_total)"
   ]
  },
  {
   "cell_type": "code",
   "execution_count": 150,
   "id": "12ac5e4e-b680-4237-8aa4-305002994381",
   "metadata": {},
   "outputs": [],
   "source": [
    "def mrr(relevance_total):\n",
    "    total_score = 0.0\n",
    "\n",
    "    for line in relevance_total:\n",
    "        for rank in range(len(line)):\n",
    "            if line[rank] == True:\n",
    "                total_score = total_score + 1 / (rank + 1)\n",
    "\n",
    "    return total_score / len(relevance_total)"
   ]
  },
  {
   "cell_type": "code",
   "execution_count": 151,
   "id": "5f01a16c-0219-45bb-8ef7-4428ff6ab1bb",
   "metadata": {},
   "outputs": [],
   "source": [
    "def evaluate(ground_truth, search_function):\n",
    "    relevance_total = []\n",
    "\n",
    "    for q in tqdm(ground_truth):\n",
    "        doc_id = q['id']\n",
    "        results = search_function(q)\n",
    "        relevance = [d['id'] == doc_id for d in results]\n",
    "        relevance_total.append(relevance)\n",
    "\n",
    "    return {\n",
    "        'hit_rate': hit_rate(relevance_total),\n",
    "        'mrr': mrr(relevance_total),\n",
    "    }"
   ]
  },
  {
   "cell_type": "code",
   "execution_count": 152,
   "id": "d4c8737c-2a5c-48af-bdd6-81d2889400b3",
   "metadata": {},
   "outputs": [
    {
     "data": {
      "application/vnd.jupyter.widget-view+json": {
       "model_id": "1a9047c4eb434b778ce12d5a4543399e",
       "version_major": 2,
       "version_minor": 0
      },
      "text/plain": [
       "  0%|          | 0/1500 [00:00<?, ?it/s]"
      ]
     },
     "metadata": {},
     "output_type": "display_data"
    },
    {
     "data": {
      "text/plain": [
       "{'hit_rate': 0.5106666666666667, 'mrr': 0.40985555555555536}"
      ]
     },
     "execution_count": 152,
     "metadata": {},
     "output_type": "execute_result"
    }
   ],
   "source": [
    "evaluate(ground_truth, question_vector_knn)"
   ]
  },
  {
   "cell_type": "code",
   "execution_count": 106,
   "id": "f5090dff-d63d-40a3-8843-1e9918718409",
   "metadata": {},
   "outputs": [
    {
     "data": {
      "text/plain": [
       "{'hit_rate': 0.5106666666666667, 'mrr': 0.40985555555555536}"
      ]
     },
     "execution_count": 106,
     "metadata": {},
     "output_type": "execute_result"
    }
   ],
   "source": [
    "{'hit_rate': 0.5106666666666667, 'mrr': 0.40985555555555536} # vector search"
   ]
  },
  {
   "cell_type": "code",
   "execution_count": 109,
   "id": "3ee9f579-f7b9-4ad4-bc95-02b36240c001",
   "metadata": {},
   "outputs": [],
   "source": [
    "# ES text only: {'hit_rate': 0.5573333333333333, 'mrr': 0.3611481481481479}"
   ]
  },
  {
   "cell_type": "markdown",
   "id": "8ecd1e07-9197-472c-8837-6be8f9c2ba01",
   "metadata": {},
   "source": [
    "### RAG Evaluation with semantic search"
   ]
  },
  {
   "cell_type": "code",
   "execution_count": 153,
   "id": "4f131f28-3180-4f70-b8f1-e268801e4d44",
   "metadata": {},
   "outputs": [],
   "source": [
    "from openai import OpenAI\n",
    "client=OpenAI()"
   ]
  },
  {
   "cell_type": "code",
   "execution_count": 167,
   "id": "3707204e-0e1f-4af1-bb28-aeed39bffedf",
   "metadata": {},
   "outputs": [],
   "source": [
    "prompt2_template = \"\"\"\n",
    "You are an expert evaluator for a RAG system.\n",
    "Your task is to analyze the relevance of the generated answer to the given question.\n",
    "Based on the relevance of the generated answer, you will classify it\n",
    "as \"NON_RELEVANT\", \"PARTLY_RELEVANT\", or \"RELEVANT\".\n",
    "\n",
    "Here is the data for evaluation:\n",
    "\n",
    "Question: {question}\n",
    "Generated Answer: {answer_llm}\n",
    "\n",
    "Please analyze the content and context of the generated answer in relation to the question\n",
    "and provide your evaluation in parsable JSON without using code blocks:\n",
    "\n",
    "{{\n",
    "  \"Relevance\": \"NON_RELEVANT\" | \"PARTLY_RELEVANT\" | \"RELEVANT\",\n",
    "  \"Explanation\": \"[Provide a brief explanation for your evaluation]\"\n",
    "}}\n",
    "\"\"\".strip()"
   ]
  },
  {
   "cell_type": "code",
   "execution_count": 168,
   "id": "2c0bd2b3-cbe3-412c-8aec-5d12f5c94014",
   "metadata": {},
   "outputs": [],
   "source": [
    "def llm(prompt, model='gpt-4o-mini'):\n",
    "    response = client.chat.completions.create(\n",
    "        model=model,\n",
    "        messages=[{\"role\": \"user\", \"content\": prompt}]\n",
    "    )\n",
    "    \n",
    "    return response.choices[0].message.content"
   ]
  },
  {
   "cell_type": "code",
   "execution_count": 169,
   "id": "4e2bd8e8-000c-44a9-9d1b-8abf90511621",
   "metadata": {},
   "outputs": [],
   "source": [
    "query='How to lower blood pressure?'\n",
    "vector=model.encode(query)\n",
    "def rag(query, model='gpt-4o-mini'):\n",
    "    search_results = elastic_search_knn('text_vector', vector)\n",
    "    prompt = build_prompt(query, search_results)\n",
    "    answer = llm(prompt, model=model)\n",
    "    return answer\n"
   ]
  },
  {
   "cell_type": "code",
   "execution_count": 170,
   "id": "416aa876-0e70-4d8d-a92c-581023bd5e18",
   "metadata": {},
   "outputs": [],
   "source": [
    "def rag(query, model='gpt-4o-mini'):\n",
    "    search_results = question_vector_knn(query)\n",
    "    prompt = build_prompt(query, search_results)\n",
    "    answer = llm(prompt, model=model)\n",
    "    return answer"
   ]
  },
  {
   "cell_type": "code",
   "execution_count": null,
   "id": "f6de6d0c-216d-4293-9e18-0c3eaaf57591",
   "metadata": {},
   "outputs": [],
   "source": []
  },
  {
   "cell_type": "code",
   "execution_count": 171,
   "id": "67f4bfde-9614-46df-86e9-a6e5f1a2ce7a",
   "metadata": {},
   "outputs": [
    {
     "data": {
      "text/plain": [
       "1500"
      ]
     },
     "execution_count": 171,
     "metadata": {},
     "output_type": "execute_result"
    }
   ],
   "source": [
    "import json\n",
    "len(df)"
   ]
  },
  {
   "cell_type": "code",
   "execution_count": 161,
   "id": "65af6d6f-0383-489c-b716-856599d0460c",
   "metadata": {},
   "outputs": [],
   "source": [
    "df_sample = df.sample(n=200, random_state=1)"
   ]
  },
  {
   "cell_type": "code",
   "execution_count": 163,
   "id": "430c19e5-6cc4-462b-a58c-b600943896e2",
   "metadata": {},
   "outputs": [
    {
     "data": {
      "text/plain": [
       "[{'id': 2629,\n",
       "  'question': \"What should I look for at the farmer's market related to the eggs?\"},\n",
       " {'id': 5116,\n",
       "  'question': 'What led Aajonus to compare the appendix to a library?'},\n",
       " {'id': 4650,\n",
       "  'question': 'What made you decide to stop purchasing organic meat?'},\n",
       " {'id': 2331, 'question': 'Is it really feasible to avoid eating pizza?'},\n",
       " {'id': 2582,\n",
       "  'question': \"What did you mean by saying 'great to know' in response to the mention of mixed babies and Italy?\"}]"
      ]
     },
     "execution_count": 163,
     "metadata": {},
     "output_type": "execute_result"
    }
   ],
   "source": [
    "sample = df_sample.to_dict(orient='records')\n",
    "sample[:5]"
   ]
  },
  {
   "cell_type": "code",
   "execution_count": 172,
   "id": "ef4daf04-fca5-4cb6-857c-9cc073f23c32",
   "metadata": {},
   "outputs": [
    {
     "data": {
      "application/vnd.jupyter.widget-view+json": {
       "model_id": "ebf7fc3fdd384ea9908d4dfbdde904fb",
       "version_major": 2,
       "version_minor": 0
      },
      "text/plain": [
       "  0%|          | 0/200 [00:00<?, ?it/s]"
      ]
     },
     "metadata": {},
     "output_type": "display_data"
    }
   ],
   "source": [
    "evaluations_gpt4o = []\n",
    "\n",
    "for record in tqdm(sample):\n",
    "    question = record['question']\n",
    "    answer_llm = rag(record, model='gpt-4o') \n",
    "\n",
    "    prompt = prompt2_template.format(\n",
    "        question=question,\n",
    "        answer_llm=answer_llm\n",
    "    )\n",
    "\n",
    "    evaluation = llm(prompt)\n",
    "    evaluation = json.loads(evaluation)\n",
    "    \n",
    "    evaluations_gpt4o.append((record, answer_llm, evaluation))"
   ]
  },
  {
   "cell_type": "code",
   "execution_count": 173,
   "id": "53e99873-c37d-4723-b9c8-29306dc11200",
   "metadata": {},
   "outputs": [],
   "source": [
    "df_eval = pd.DataFrame(evaluations_gpt4o, columns=['record', 'answer', 'evaluation'])\n",
    "\n",
    "df_eval['id'] = df_eval.record.apply(lambda d: d['id'])\n",
    "df_eval['question'] = df_eval.record.apply(lambda d: d['question'])\n",
    "\n",
    "df_eval['relevance'] = df_eval.evaluation.apply(lambda d: d['Relevance'])\n",
    "df_eval['explanation'] = df_eval.evaluation.apply(lambda d: d['Explanation'])\n",
    "\n",
    "del df_eval['record']\n",
    "del df_eval['evaluation']"
   ]
  },
  {
   "cell_type": "code",
   "execution_count": 174,
   "id": "28d3b2f1-f2ec-46bc-89f0-3fbdc20c97cd",
   "metadata": {},
   "outputs": [
    {
     "data": {
      "text/plain": [
       "relevance\n",
       "RELEVANT           0.680\n",
       "PARTLY_RELEVANT    0.255\n",
       "NON_RELEVANT       0.065\n",
       "Name: proportion, dtype: float64"
      ]
     },
     "execution_count": 174,
     "metadata": {},
     "output_type": "execute_result"
    }
   ],
   "source": [
    "df_eval.relevance.value_counts(normalize=True)"
   ]
  },
  {
   "cell_type": "code",
   "execution_count": 175,
   "id": "a0ec3ba9-63f6-42c9-87a8-6481edc5ad81",
   "metadata": {},
   "outputs": [],
   "source": [
    "df_eval.to_csv('../data/clean_data/rag-eval-elastic vector search-gpt4o.csv', index=False)"
   ]
  },
  {
   "cell_type": "code",
   "execution_count": null,
   "id": "93f2106e-c4c0-4c4c-8caa-ee40897f4fe8",
   "metadata": {},
   "outputs": [],
   "source": []
  },
  {
   "cell_type": "code",
   "execution_count": null,
   "id": "1c54a662-9397-4f10-a5c5-9eca08d68fd5",
   "metadata": {},
   "outputs": [],
   "source": []
  }
 ],
 "metadata": {
  "kernelspec": {
   "display_name": "Python 3 (ipykernel)",
   "language": "python",
   "name": "python3"
  },
  "language_info": {
   "codemirror_mode": {
    "name": "ipython",
    "version": 3
   },
   "file_extension": ".py",
   "mimetype": "text/x-python",
   "name": "python",
   "nbconvert_exporter": "python",
   "pygments_lexer": "ipython3",
   "version": "3.12.4"
  }
 },
 "nbformat": 4,
 "nbformat_minor": 5
}
