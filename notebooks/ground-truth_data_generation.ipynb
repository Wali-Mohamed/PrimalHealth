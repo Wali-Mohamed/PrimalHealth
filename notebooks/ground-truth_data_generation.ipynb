{
 "cells": [
  {
   "cell_type": "code",
   "execution_count": 1,
   "id": "b450a265-d113-4780-aba7-05c31ef6e43a",
   "metadata": {},
   "outputs": [],
   "source": [
    "import pandas as pd\n",
    "import json\n",
    "import time\n"
   ]
  },
  {
   "cell_type": "code",
   "execution_count": 2,
   "id": "775a08e7-c22b-4143-aec9-9b3d57b07930",
   "metadata": {},
   "outputs": [],
   "source": [
    "from openai import OpenAI\n",
    "\n",
    "\n",
    "client = OpenAI()\n",
    "#from error import APIConnectionError"
   ]
  },
  {
   "cell_type": "code",
   "execution_count": 3,
   "id": "5bfde6da-e847-4214-881d-2c461712f24c",
   "metadata": {},
   "outputs": [],
   "source": [
    "df=pd.read_csv('../data/clean_data/Final_QandA_split_conversations_with_keywords.csv')"
   ]
  },
  {
   "cell_type": "code",
   "execution_count": 4,
   "id": "e97dcb3e-f104-4707-9fba-47f4d156231c",
   "metadata": {},
   "outputs": [
    {
     "data": {
      "text/html": [
       "<div>\n",
       "<style scoped>\n",
       "    .dataframe tbody tr th:only-of-type {\n",
       "        vertical-align: middle;\n",
       "    }\n",
       "\n",
       "    .dataframe tbody tr th {\n",
       "        vertical-align: top;\n",
       "    }\n",
       "\n",
       "    .dataframe thead th {\n",
       "        text-align: right;\n",
       "    }\n",
       "</style>\n",
       "<table border=\"1\" class=\"dataframe\">\n",
       "  <thead>\n",
       "    <tr style=\"text-align: right;\">\n",
       "      <th></th>\n",
       "      <th>Chunked_Content</th>\n",
       "      <th>number of sentences</th>\n",
       "      <th>number of words</th>\n",
       "      <th>Keywords</th>\n",
       "    </tr>\n",
       "  </thead>\n",
       "  <tbody>\n",
       "    <tr>\n",
       "      <th>0</th>\n",
       "      <td>when you eat it alone?. Good idea to eat it on...</td>\n",
       "      <td>2</td>\n",
       "      <td>69</td>\n",
       "      <td>['pass', 'meal', 'home', 'nausea', 'honey', 'w...</td>\n",
       "    </tr>\n",
       "    <tr>\n",
       "      <th>1</th>\n",
       "      <td>So they ate clay?. Act Charcoal will do the jo...</td>\n",
       "      <td>5</td>\n",
       "      <td>34</td>\n",
       "      <td>['pass', 'meal', 'job', 'cold', 'neutral', 'cl...</td>\n",
       "    </tr>\n",
       "    <tr>\n",
       "      <th>2</th>\n",
       "      <td>So when you have enough fat you feel nausea if...</td>\n",
       "      <td>1</td>\n",
       "      <td>13</td>\n",
       "      <td>['eat', 'nausea', 'fat', 'feel']</td>\n",
       "    </tr>\n",
       "    <tr>\n",
       "      <th>3</th>\n",
       "      <td>So guys, water=bad?. I have dry skin even if i...</td>\n",
       "      <td>2</td>\n",
       "      <td>14</td>\n",
       "      <td>['twice', 'water', '=', 'drink', 'skin', 'guy'...</td>\n",
       "    </tr>\n",
       "    <tr>\n",
       "      <th>4</th>\n",
       "      <td>@ubeats1 could you please advice any source/bo...</td>\n",
       "      <td>8</td>\n",
       "      <td>110</td>\n",
       "      <td>['detoxification', 'meal', 'trouble', 'literat...</td>\n",
       "    </tr>\n",
       "  </tbody>\n",
       "</table>\n",
       "</div>"
      ],
      "text/plain": [
       "                                     Chunked_Content  number of sentences  \\\n",
       "0  when you eat it alone?. Good idea to eat it on...                    2   \n",
       "1  So they ate clay?. Act Charcoal will do the jo...                    5   \n",
       "2  So when you have enough fat you feel nausea if...                    1   \n",
       "3  So guys, water=bad?. I have dry skin even if i...                    2   \n",
       "4  @ubeats1 could you please advice any source/bo...                    8   \n",
       "\n",
       "   number of words                                           Keywords  \n",
       "0               69  ['pass', 'meal', 'home', 'nausea', 'honey', 'w...  \n",
       "1               34  ['pass', 'meal', 'job', 'cold', 'neutral', 'cl...  \n",
       "2               13                   ['eat', 'nausea', 'fat', 'feel']  \n",
       "3               14  ['twice', 'water', '=', 'drink', 'skin', 'guy'...  \n",
       "4              110  ['detoxification', 'meal', 'trouble', 'literat...  "
      ]
     },
     "execution_count": 4,
     "metadata": {},
     "output_type": "execute_result"
    }
   ],
   "source": [
    "df.head()"
   ]
  },
  {
   "cell_type": "code",
   "execution_count": 5,
   "id": "b83ae0e0-9903-46aa-a514-c973c801f7d6",
   "metadata": {},
   "outputs": [],
   "source": [
    "df.reset_index(level=0, inplace=True) \n",
    "df.rename(columns={'index':'id'}, inplace=True)"
   ]
  },
  {
   "cell_type": "code",
   "execution_count": 9,
   "id": "f2dd324d-7612-4497-b495-fb553f7e82cb",
   "metadata": {},
   "outputs": [],
   "source": [
    "df.to_csv('../data/clean_data/final_data_with_IDs.csv', index=False)"
   ]
  },
  {
   "cell_type": "code",
   "execution_count": 6,
   "id": "d5deaa24-798f-4b17-9211-c317283a4de5",
   "metadata": {},
   "outputs": [
    {
     "data": {
      "text/plain": [
       "[{'id': 0,\n",
       "  'Chunked_Content': \"when you eat it alone?. Good idea to eat it once wuth honey and once alone My kids eat it with the meal.They aren't at home btw meals I will do it during week end Yesterday I had nausea after several hours passed from second meal.Today I had zero hunger until 20h+ passed after previous that meal Today I made only one typical meal enhanced with 4 egg yolks\",\n",
       "  'number of sentences': 2,\n",
       "  'number of words': 69,\n",
       "  'Keywords': \"['pass', 'meal', 'home', 'nausea', 'honey', 'week', 'hunger', 'second', 'previous', 'btw', '20h+', 'kid', 'good', 'typical', 'idea', 'enhance', 'zero', '4', 'today', 'eat', 'yolk', 'egg', 'yesterday', 'wuth', 'hour', 'end']\"},\n",
       " {'id': 1,\n",
       "  'Chunked_Content': 'So they ate clay?. Act Charcoal will do the job?. 4,5 h passed I feel neutral, zero hunger and body warmed itself to confort temperature.. Before meal I felt colder than normal.. Thx Ring',\n",
       "  'number of sentences': 5,\n",
       "  'number of words': 34,\n",
       "  'Keywords': \"['pass', 'meal', 'job', 'cold', 'neutral', 'clay', 'Thx', 'hunger', 'warm', 'temperature', 'Ring', 'h', 'feel', 'Charcoal', '4,5', 'zero', 'confort', 'Act', 'normal', 'eat', 'body']\"}]"
      ]
     },
     "execution_count": 6,
     "metadata": {},
     "output_type": "execute_result"
    }
   ],
   "source": [
    "documents = df.to_dict(orient='records')\n",
    "documents[0:2]"
   ]
  },
  {
   "cell_type": "code",
   "execution_count": 8,
   "id": "06d69ea9-22fd-476c-bd6a-d04f4af439f7",
   "metadata": {},
   "outputs": [],
   "source": [
    "prompt_template = \"\"\"\n",
    "You emulate a user of our health adviser application.\n",
    "Formulate 5 questions this user might ask based on chunked content of conversation.\n",
    "Make the questions specific to that chunk.\n",
    "The record should contain the answer to the questions, and the questions should\n",
    "be complete and not too short. Use as fewer words as possible from the record. \n",
    "\n",
    "The record:\n",
    "\n",
    "Chunked_Content: {Chunked_Content}\n",
    "\n",
    "\n",
    "Provide the output in parsable JSON without using code blocks:\n",
    "\n",
    "{{\"questions\": [\"question1\", \"question2\", ..., \"question5\"]}}\n",
    "\"\"\".strip()"
   ]
  },
  {
   "cell_type": "code",
   "execution_count": 9,
   "id": "64b33a94-2a4d-4bf9-9f7d-fe4426a2a19b",
   "metadata": {},
   "outputs": [],
   "source": [
    "prompt = prompt_template.format(**documents[0])"
   ]
  },
  {
   "cell_type": "code",
   "execution_count": 10,
   "id": "d9e8676f-785d-47fb-b512-757cb5970243",
   "metadata": {},
   "outputs": [
    {
     "data": {
      "text/plain": [
       "'You emulate a user of our health adviser application.\\nFormulate 5 questions this user might ask based on chunked content of conversation.\\nMake the questions specific to that chunk.\\nThe record should contain the answer to the questions, and the questions should\\nbe complete and not too short. Use as fewer words as possible from the record. \\n\\nThe record:\\n\\nChunked_Content: when you eat it alone?. Good idea to eat it once wuth honey and once alone My kids eat it with the meal.They aren\\'t at home btw meals I will do it during week end Yesterday I had nausea after several hours passed from second meal.Today I had zero hunger until 20h+ passed after previous that meal Today I made only one typical meal enhanced with 4 egg yolks\\n\\n\\nProvide the output in parsable JSON without using code blocks:\\n\\n{\"questions\": [\"question1\", \"question2\", ..., \"question5\"]}'"
      ]
     },
     "execution_count": 10,
     "metadata": {},
     "output_type": "execute_result"
    }
   ],
   "source": [
    "prompt"
   ]
  },
  {
   "cell_type": "code",
   "execution_count": 11,
   "id": "f3a53ca3-7820-4f08-9b43-04ea05b6ce5c",
   "metadata": {},
   "outputs": [
    {
     "name": "stdout",
     "output_type": "stream",
     "text": [
      "You emulate a user of our health adviser application.\n",
      "Formulate 5 questions this user might ask based on chunked content of conversation.\n",
      "Make the questions specific to that chunk.\n",
      "The record should contain the answer to the questions, and the questions should\n",
      "be complete and not too short. Use as fewer words as possible from the record. \n",
      "\n",
      "The record:\n",
      "\n",
      "Chunked_Content: when you eat it alone?. Good idea to eat it once wuth honey and once alone My kids eat it with the meal.They aren't at home btw meals I will do it during week end Yesterday I had nausea after several hours passed from second meal.Today I had zero hunger until 20h+ passed after previous that meal Today I made only one typical meal enhanced with 4 egg yolks\n",
      "\n",
      "\n",
      "Provide the output in parsable JSON without using code blocks:\n",
      "\n",
      "{\"questions\": [\"question1\", \"question2\", ..., \"question5\"]}\n"
     ]
    }
   ],
   "source": [
    "print(_)"
   ]
  },
  {
   "cell_type": "code",
   "execution_count": 12,
   "id": "80c374b6-cff5-4d5f-ba52-eab1cc799df5",
   "metadata": {},
   "outputs": [],
   "source": [
    "def llm(prompt):\n",
    "    response = client.chat.completions.create(\n",
    "        model='gpt-4o-mini',\n",
    "        messages=[{\"role\": \"user\", \"content\": prompt}]\n",
    "    )\n",
    "    \n",
    "    return response.choices[0].message.content"
   ]
  },
  {
   "cell_type": "code",
   "execution_count": 13,
   "id": "6be02253-a6cd-4296-a5aa-40dafdf031d0",
   "metadata": {},
   "outputs": [
    {
     "data": {
      "text/plain": [
       "'{\"questions\": [\"Is it a good idea to eat this food alone or with honey?\", \"How do your kids typically eat this food?\", \"Will you be trying this during the weekend?\", \"What symptoms did you experience after your meal yesterday?\", \"What did you do differently with your meal today?\"]}'"
      ]
     },
     "execution_count": 13,
     "metadata": {},
     "output_type": "execute_result"
    }
   ],
   "source": [
    "questions = llm(prompt)\n",
    "questions"
   ]
  },
  {
   "cell_type": "code",
   "execution_count": 14,
   "id": "0f3cfb51-9c14-4bfc-8c1d-5b08d121e2fc",
   "metadata": {},
   "outputs": [],
   "source": [
    "import json"
   ]
  },
  {
   "cell_type": "code",
   "execution_count": 15,
   "id": "d908738d-8d5f-4759-b5c5-3e18f0f9c334",
   "metadata": {},
   "outputs": [
    {
     "data": {
      "text/plain": [
       "{'questions': ['Is it a good idea to eat this food alone or with honey?',\n",
       "  'How do your kids typically eat this food?',\n",
       "  'Will you be trying this during the weekend?',\n",
       "  'What symptoms did you experience after your meal yesterday?',\n",
       "  'What did you do differently with your meal today?']}"
      ]
     },
     "execution_count": 15,
     "metadata": {},
     "output_type": "execute_result"
    }
   ],
   "source": [
    "json.loads(questions)"
   ]
  },
  {
   "cell_type": "code",
   "execution_count": 61,
   "id": "8d57160a-2d90-40cf-98eb-3ff23b951a81",
   "metadata": {},
   "outputs": [],
   "source": [
    "def generate_questions(doc):\n",
    "    prompt = prompt_template.format(**doc)\n",
    "\n",
    "    response = client.chat.completions.create(\n",
    "        model='gpt-3.5-turbo',\n",
    "        messages=[{\"role\": \"user\", \"content\": prompt}]\n",
    "    )\n",
    "\n",
    "    json_response = response.choices[0].message.content\n",
    "    return json_response"
   ]
  },
  {
   "cell_type": "code",
   "execution_count": 62,
   "id": "a7f8f6ca-9ff4-4967-9af2-56e98ade8121",
   "metadata": {},
   "outputs": [],
   "source": [
    "from tqdm.auto import tqdm"
   ]
  },
  {
   "cell_type": "code",
   "execution_count": 63,
   "id": "8f94a553-c893-429b-ad06-20345506b065",
   "metadata": {},
   "outputs": [],
   "source": [
    "results = {}\n"
   ]
  },
  {
   "cell_type": "code",
   "execution_count": 64,
   "id": "e9d351fd-95f9-48bb-842a-7f78aa735e4d",
   "metadata": {},
   "outputs": [
    {
     "data": {
      "text/plain": [
       "49006"
      ]
     },
     "execution_count": 64,
     "metadata": {},
     "output_type": "execute_result"
    }
   ],
   "source": [
    "len(documents)"
   ]
  },
  {
   "cell_type": "code",
   "execution_count": 20,
   "id": "5ae042e4-ec32-4e97-828a-55d0e107ca1e",
   "metadata": {},
   "outputs": [],
   "source": [
    "# Generationg questions for 49k documents was taking too long"
   ]
  },
  {
   "cell_type": "code",
   "execution_count": 21,
   "id": "4571a207-8254-466f-93ce-f6064ad7dfe0",
   "metadata": {},
   "outputs": [
    {
     "data": {
      "text/plain": [
       "3000"
      ]
     },
     "execution_count": 21,
     "metadata": {},
     "output_type": "execute_result"
    }
   ],
   "source": [
    "# get 3000 random documents out of 49006 documents for evaluation\n",
    "import random\n",
    "number = 3000                           # set the number to select here.\n",
    "random_docs = random.sample(documents,number)\n",
    "len(random_docs)\n"
   ]
  },
  {
   "cell_type": "markdown",
   "id": "f47311be-c6a9-45cf-899f-b7793189b8f5",
   "metadata": {},
   "source": [
    "## Parallelarization\n",
    "it did not work"
   ]
  },
  {
   "cell_type": "code",
   "execution_count": 59,
   "id": "f4b9b32a-cf34-491f-8b8e-d25084bf8d35",
   "metadata": {},
   "outputs": [
    {
     "data": {
      "text/plain": [
       "1000"
      ]
     },
     "execution_count": 59,
     "metadata": {},
     "output_type": "execute_result"
    }
   ],
   "source": [
    "len(random_docs[1000:2000])"
   ]
  },
  {
   "cell_type": "code",
   "execution_count": 71,
   "id": "62817207-ebd0-46d5-a1b2-e404b4881dbb",
   "metadata": {},
   "outputs": [
    {
     "data": {
      "application/vnd.jupyter.widget-view+json": {
       "model_id": "bff8003e75ce463ea2b197b8d5899ea2",
       "version_major": 2,
       "version_minor": 0
      },
      "text/plain": [
       "  0%|          | 0/1000 [00:00<?, ?it/s]"
      ]
     },
     "metadata": {},
     "output_type": "display_data"
    },
    {
     "data": {
      "application/vnd.jupyter.widget-view+json": {
       "model_id": "dead03ffc2ca4b179ca8a13699b045a5",
       "version_major": 2,
       "version_minor": 0
      },
      "text/plain": [
       "0it [00:00, ?it/s]"
      ]
     },
     "metadata": {},
     "output_type": "display_data"
    },
    {
     "name": "stdout",
     "output_type": "stream",
     "text": [
      "Error processing doc_id 1540: Expecting value: line 7 column 3 (char 243)\n",
      "Error processing doc_id 12526: Expecting value: line 5 column 3 (char 148)\n",
      "Time taken: 5.546072518825531 minutes\n"
     ]
    }
   ],
   "source": [
    "from concurrent.futures import ThreadPoolExecutor, as_completed\n",
    "def process_document(doc):\n",
    "    doc_id = doc['id']\n",
    "    if doc_id in results:\n",
    "        return None  # Skip this document if already processed\n",
    "    try:\n",
    "        questions_raw = generate_questions(doc)\n",
    "        questions = json.loads(questions_raw)\n",
    "        return (doc_id, questions['questions'])\n",
    "    except (json.JSONDecodeError, KeyError) as e:\n",
    "        print(f\"Error processing doc_id {doc_id}: {e}\")\n",
    "        return None\n",
    "\n",
    "# Track time\n",
    "t0 = time.time()\n",
    "\n",
    "# Create a ThreadPoolExecutor with a suitable number of workers\n",
    "with ThreadPoolExecutor(max_workers=5) as executor:\n",
    "    # Submit all tasks\n",
    "    \n",
    "    futures = {executor.submit(process_document, doc): doc for doc in tqdm(random_docs[1000:3000])}\n",
    "\n",
    "    total_tasks = len(futures)\n",
    "    # Collect results as they complete\n",
    "    for future in tqdm(as_completed(futures)):\n",
    "        result = future.result()\n",
    "        if result is not None:\n",
    "            doc_id, questions = result\n",
    "            results[doc_id] = questions\n",
    "\n",
    "# End time\n",
    "t1 = time.time()\n",
    "# Print time taken\n",
    "print(f\"Time taken: {(t1 - t0)/60} minutes\")\n"
   ]
  },
  {
   "cell_type": "code",
   "execution_count": 72,
   "id": "5d68ef80-8a02-44fd-813e-4fd74e4d5592",
   "metadata": {},
   "outputs": [
    {
     "data": {
      "text/plain": [
       "1993"
      ]
     },
     "execution_count": 72,
     "metadata": {},
     "output_type": "execute_result"
    }
   ],
   "source": [
    "len(results)\n"
   ]
  },
  {
   "cell_type": "code",
   "execution_count": null,
   "id": "1ab29daf-de00-4413-8a66-aea33a3d7389",
   "metadata": {},
   "outputs": [],
   "source": []
  },
  {
   "cell_type": "code",
   "execution_count": 25,
   "id": "ea6ca478-12c8-41f4-ba9a-dbf53b3375b9",
   "metadata": {},
   "outputs": [
    {
     "data": {
      "application/vnd.jupyter.widget-view+json": {
       "model_id": "75d81dd0264f4fd285a6dcd6b4b23b17",
       "version_major": 2,
       "version_minor": 0
      },
      "text/plain": [
       "  0%|          | 0/1000 [00:00<?, ?it/s]"
      ]
     },
     "metadata": {},
     "output_type": "display_data"
    },
    {
     "name": "stdout",
     "output_type": "stream",
     "text": [
      "-141.73016977707545\n"
     ]
    }
   ],
   "source": [
    "import time\n",
    "t0=time.time()\n",
    "for doc in tqdm(random_docs[:1000]): \n",
    "    doc_id = doc['id']\n",
    "    if doc_id in results:\n",
    "        continue\n",
    "    try:\n",
    "        questions_raw = generate_questions(doc)\n",
    "        questions = json.loads(questions_raw)  # If an error happens here, the next line will not run\n",
    "        results[doc_id] = questions['questions']  # This line will be skipped if there's an error in json.loads()\n",
    "    except (json.JSONDecodeError, KeyError) as e:\n",
    "        print(f\"Error processing doc_id {doc_id}: {e}\")\n",
    "    \n",
    "t1=time.time()\n",
    "print((t0-t1)/60)"
   ]
  },
  {
   "cell_type": "code",
   "execution_count": 67,
   "id": "72a258ab-c0fe-4a64-ae24-1be0944a685e",
   "metadata": {},
   "outputs": [
    {
     "data": {
      "text/plain": [
       "dict"
      ]
     },
     "execution_count": 67,
     "metadata": {},
     "output_type": "execute_result"
    }
   ],
   "source": [
    "len(results)\n",
    "type(results)"
   ]
  },
  {
   "cell_type": "code",
   "execution_count": 73,
   "id": "095fe029-21cf-4ee3-96d4-08487e5731ef",
   "metadata": {},
   "outputs": [],
   "source": [
    "final_results = []\n",
    "\n",
    "for doc_id, questions in results.items():\n",
    "    for q in questions:\n",
    "        final_results.append((doc_id, q))"
   ]
  },
  {
   "cell_type": "code",
   "execution_count": 74,
   "id": "17ddc4fe-4e3e-4634-bb4d-098802f20ae7",
   "metadata": {},
   "outputs": [
    {
     "data": {
      "text/plain": [
       "(13369, 'Does any kind of fermentation cause k2 to increase?')"
      ]
     },
     "execution_count": 74,
     "metadata": {},
     "output_type": "execute_result"
    }
   ],
   "source": [
    "final_results[0]"
   ]
  },
  {
   "cell_type": "code",
   "execution_count": 75,
   "id": "b04d139c-7d10-4a70-8a35-c831a8759e09",
   "metadata": {},
   "outputs": [],
   "source": [
    "df_results2 = pd.DataFrame(final_results, columns=['id', 'question'])"
   ]
  },
  {
   "cell_type": "code",
   "execution_count": 78,
   "id": "84298ad3-868c-4b5a-8300-89e594e05d90",
   "metadata": {},
   "outputs": [
    {
     "name": "stdout",
     "output_type": "stream",
     "text": [
      "<class 'pandas.core.frame.DataFrame'>\n",
      "RangeIndex: 9916 entries, 0 to 9915\n",
      "Data columns (total 2 columns):\n",
      " #   Column    Non-Null Count  Dtype \n",
      "---  ------    --------------  ----- \n",
      " 0   id        9916 non-null   int64 \n",
      " 1   question  9916 non-null   object\n",
      "dtypes: int64(1), object(1)\n",
      "memory usage: 155.1+ KB\n"
     ]
    }
   ],
   "source": [
    "df_results2.info()"
   ]
  },
  {
   "cell_type": "code",
   "execution_count": 80,
   "id": "7ab4af68-6547-45c4-b704-757efed9a0f1",
   "metadata": {},
   "outputs": [
    {
     "data": {
      "text/html": [
       "<div>\n",
       "<style scoped>\n",
       "    .dataframe tbody tr th:only-of-type {\n",
       "        vertical-align: middle;\n",
       "    }\n",
       "\n",
       "    .dataframe tbody tr th {\n",
       "        vertical-align: top;\n",
       "    }\n",
       "\n",
       "    .dataframe thead th {\n",
       "        text-align: right;\n",
       "    }\n",
       "</style>\n",
       "<table border=\"1\" class=\"dataframe\">\n",
       "  <thead>\n",
       "    <tr style=\"text-align: right;\">\n",
       "      <th></th>\n",
       "      <th>id</th>\n",
       "      <th>question</th>\n",
       "    </tr>\n",
       "  </thead>\n",
       "  <tbody>\n",
       "    <tr>\n",
       "      <th>0</th>\n",
       "      <td>8436</td>\n",
       "      <td>What are the two lube formulas you mentioned?</td>\n",
       "    </tr>\n",
       "    <tr>\n",
       "      <th>1</th>\n",
       "      <td>8436</td>\n",
       "      <td>What is the maximum amount of fat I should con...</td>\n",
       "    </tr>\n",
       "    <tr>\n",
       "      <th>2</th>\n",
       "      <td>8436</td>\n",
       "      <td>How many days did it take you to reach a weigh...</td>\n",
       "    </tr>\n",
       "    <tr>\n",
       "      <th>3</th>\n",
       "      <td>8436</td>\n",
       "      <td>Did you triple your intake of something, and w...</td>\n",
       "    </tr>\n",
       "    <tr>\n",
       "      <th>4</th>\n",
       "      <td>8436</td>\n",
       "      <td>Can you tell me more about what else you inclu...</td>\n",
       "    </tr>\n",
       "  </tbody>\n",
       "</table>\n",
       "</div>"
      ],
      "text/plain": [
       "     id                                           question\n",
       "0  8436      What are the two lube formulas you mentioned?\n",
       "1  8436  What is the maximum amount of fat I should con...\n",
       "2  8436  How many days did it take you to reach a weigh...\n",
       "3  8436  Did you triple your intake of something, and w...\n",
       "4  8436  Can you tell me more about what else you inclu..."
      ]
     },
     "execution_count": 80,
     "metadata": {},
     "output_type": "execute_result"
    }
   ],
   "source": [
    "df=pd.concat([df_results, df_results2], axis=0)\n",
    "df.head()"
   ]
  },
  {
   "cell_type": "code",
   "execution_count": 81,
   "id": "70c204eb-b77f-4329-916f-b6ac1be8914d",
   "metadata": {},
   "outputs": [
    {
     "name": "stdout",
     "output_type": "stream",
     "text": [
      "<class 'pandas.core.frame.DataFrame'>\n",
      "Index: 14910 entries, 0 to 9915\n",
      "Data columns (total 2 columns):\n",
      " #   Column    Non-Null Count  Dtype \n",
      "---  ------    --------------  ----- \n",
      " 0   id        14910 non-null  int64 \n",
      " 1   question  14910 non-null  object\n",
      "dtypes: int64(1), object(1)\n",
      "memory usage: 349.5+ KB\n"
     ]
    }
   ],
   "source": [
    "df.info()"
   ]
  },
  {
   "cell_type": "code",
   "execution_count": 77,
   "id": "019f252e-0e39-4ce8-8f0b-24eee8ab303d",
   "metadata": {},
   "outputs": [
    {
     "data": {
      "text/html": [
       "<div>\n",
       "<style scoped>\n",
       "    .dataframe tbody tr th:only-of-type {\n",
       "        vertical-align: middle;\n",
       "    }\n",
       "\n",
       "    .dataframe tbody tr th {\n",
       "        vertical-align: top;\n",
       "    }\n",
       "\n",
       "    .dataframe thead th {\n",
       "        text-align: right;\n",
       "    }\n",
       "</style>\n",
       "<table border=\"1\" class=\"dataframe\">\n",
       "  <thead>\n",
       "    <tr style=\"text-align: right;\">\n",
       "      <th></th>\n",
       "      <th>id</th>\n",
       "      <th>question</th>\n",
       "    </tr>\n",
       "  </thead>\n",
       "  <tbody>\n",
       "    <tr>\n",
       "      <th>0</th>\n",
       "      <td>8436</td>\n",
       "      <td>What are the two lube formulas you mentioned?</td>\n",
       "    </tr>\n",
       "    <tr>\n",
       "      <th>1</th>\n",
       "      <td>8436</td>\n",
       "      <td>What is the maximum amount of fat I should con...</td>\n",
       "    </tr>\n",
       "    <tr>\n",
       "      <th>2</th>\n",
       "      <td>8436</td>\n",
       "      <td>How many days did it take you to reach a weigh...</td>\n",
       "    </tr>\n",
       "    <tr>\n",
       "      <th>3</th>\n",
       "      <td>8436</td>\n",
       "      <td>Did you triple your intake of something, and w...</td>\n",
       "    </tr>\n",
       "    <tr>\n",
       "      <th>4</th>\n",
       "      <td>8436</td>\n",
       "      <td>Can you tell me more about what else you inclu...</td>\n",
       "    </tr>\n",
       "  </tbody>\n",
       "</table>\n",
       "</div>"
      ],
      "text/plain": [
       "     id                                           question\n",
       "0  8436      What are the two lube formulas you mentioned?\n",
       "1  8436  What is the maximum amount of fat I should con...\n",
       "2  8436  How many days did it take you to reach a weigh...\n",
       "3  8436  Did you triple your intake of something, and w...\n",
       "4  8436  Can you tell me more about what else you inclu..."
      ]
     },
     "execution_count": 77,
     "metadata": {},
     "output_type": "execute_result"
    }
   ],
   "source": [
    "#df_results = pd.DataFrame(final_results, columns=['id', 'question'])\n",
    "df_results.head()"
   ]
  },
  {
   "cell_type": "code",
   "execution_count": null,
   "id": "459d45f1-93f0-46a9-aaf5-e657fd30a343",
   "metadata": {},
   "outputs": [],
   "source": []
  },
  {
   "cell_type": "code",
   "execution_count": 83,
   "id": "bc8b56cd-b916-41a1-a3ba-71026e8cefbf",
   "metadata": {},
   "outputs": [],
   "source": [
    "df.to_csv('../data/clean_data/ground-truth-data.csv', index=False)"
   ]
  },
  {
   "cell_type": "code",
   "execution_count": 84,
   "id": "55735c93-4334-4e79-8388-274c98905dc0",
   "metadata": {},
   "outputs": [
    {
     "name": "stdout",
     "output_type": "stream",
     "text": [
      "id,question\n",
      "8436,What are the two lube formulas you mentioned?\n",
      "8436,What is the maximum amount of fat I should consume daily?\n",
      "8436,How many days did it take you to reach a weight of 66 kg?\n",
      "8436,\"Did you triple your intake of something, and what was it?\"\n",
      "8436,Can you tell me more about what else you included in your diet?\n",
      "23461,Are there additional resources available in AV books?\n",
      "23461,Can you find more information in the AV books?\n",
      "23461,Is there extensive reading material on this topic in AV books?\n",
      "23461,What specific AV books contain more information about this?\n"
     ]
    }
   ],
   "source": [
    "!head '../data/clean_data/ground-truth-data.csv'"
   ]
  },
  {
   "cell_type": "code",
   "execution_count": null,
   "id": "0b59f4b5-c318-4d62-ae3a-cf390df17160",
   "metadata": {},
   "outputs": [],
   "source": []
  }
 ],
 "metadata": {
  "kernelspec": {
   "display_name": "Python 3 (ipykernel)",
   "language": "python",
   "name": "python3"
  },
  "language_info": {
   "codemirror_mode": {
    "name": "ipython",
    "version": 3
   },
   "file_extension": ".py",
   "mimetype": "text/x-python",
   "name": "python",
   "nbconvert_exporter": "python",
   "pygments_lexer": "ipython3",
   "version": "3.12.4"
  }
 },
 "nbformat": 4,
 "nbformat_minor": 5
}
