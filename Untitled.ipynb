{
 "cells": [
  {
   "cell_type": "code",
   "execution_count": 4,
   "id": "f2d6aae2-b5c2-432f-901a-f4e1bc453f7c",
   "metadata": {},
   "outputs": [
    {
     "name": "stdout",
     "output_type": "stream",
     "text": [
      "c:/users/user/Documents/LLM Zoomcamp/Project\n"
     ]
    }
   ],
   "source": [
    "import os\n",
    "import pandas as pd\n",
    "\n",
    "\n",
    "\n",
    "project=os.getenv('Project_Path')\n",
    "print(project)\n"
   ]
  },
  {
   "cell_type": "code",
   "execution_count": 6,
   "id": "c97b3dde-7667-4d15-b338-1695200ee64e",
   "metadata": {},
   "outputs": [
    {
     "name": "stdout",
     "output_type": "stream",
     "text": [
      "c:/users/user/Documents/LLM Zoomcamp/Project\\data\\clean_data\\data_chunked_5s.csv\n"
     ]
    },
    {
     "name": "stderr",
     "output_type": "stream",
     "text": [
      "<>:1: SyntaxWarning: invalid escape sequence '\\c'\n",
      "<>:1: SyntaxWarning: invalid escape sequence '\\c'\n",
      "C:\\Users\\user\\AppData\\Local\\Temp\\ipykernel_29588\\559039669.py:1: SyntaxWarning: invalid escape sequence '\\c'\n",
      "  DATA_PATH = os.path.join(project, 'data\\clean_data\\data_chunked_5s.csv')  # use this line when running locally\n"
     ]
    }
   ],
   "source": [
    "DATA_PATH = os.path.join(project, 'data\\clean_data\\data_chunked_5s.csv')  # use this line when running locally\n",
    "# DATA_PATH='./data/data_chunked_5s.csv'\n",
    "print(DATA_PATH)"
   ]
  },
  {
   "cell_type": "code",
   "execution_count": 7,
   "id": "67723940-237c-4cc7-82c7-c84809af3ff5",
   "metadata": {},
   "outputs": [
    {
     "name": "stdout",
     "output_type": "stream",
     "text": [
      "c:\\users\\user\\Documents\\LLM Zoomcamp\\Project\\data\\clean_data\\data_chunked_5s.csv\n"
     ]
    }
   ],
   "source": [
    "from pathlib import Path\n",
    "\n",
    "base_path = Path(project)\n",
    "data_path = base_path / 'data/clean_data/data_chunked_5s.csv'\n",
    "print(data_path)"
   ]
  },
  {
   "cell_type": "code",
   "execution_count": null,
   "id": "3a5235e9-45c8-4d92-aef3-f876a9c16c44",
   "metadata": {},
   "outputs": [],
   "source": []
  }
 ],
 "metadata": {
  "kernelspec": {
   "display_name": "Python 3 (ipykernel)",
   "language": "python",
   "name": "python3"
  },
  "language_info": {
   "codemirror_mode": {
    "name": "ipython",
    "version": 3
   },
   "file_extension": ".py",
   "mimetype": "text/x-python",
   "name": "python",
   "nbconvert_exporter": "python",
   "pygments_lexer": "ipython3",
   "version": "3.12.4"
  },
  "widgets": {
   "application/vnd.jupyter.widget-state+json": {
    "state": {},
    "version_major": 2,
    "version_minor": 0
   }
  }
 },
 "nbformat": 4,
 "nbformat_minor": 5
}
